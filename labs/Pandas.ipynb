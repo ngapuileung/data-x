{
 "cells": [
  {
   "cell_type": "markdown",
   "metadata": {},
   "source": [
    "http://pandas.pydata.org/pandas-docs/stable/10min.html"
   ]
  },
  {
   "cell_type": "markdown",
   "metadata": {},
   "source": [
    "# 10 Minutes to pandas\n",
    "\n",
    "This is a short introduction to pandas, geared mainly for new users. You can see more complex recipes in the [Cookbook](http://pandas.pydata.org/pandas-docs/stable/cookbook.html#cookbook) \n",
    "\n",
    "\n",
    "#### This version is the same as the public availble version for getting started with pandas, but with edits, comments, and some small addions for the Data-X course at Berkeley.  Edited, Ikhlaq Sidhu, Jan 2017"
   ]
  },
  {
   "cell_type": "markdown",
   "metadata": {},
   "source": [
    "Customarily, we import as follows:"
   ]
  },
  {
   "cell_type": "code",
   "execution_count": 1,
   "metadata": {
    "collapsed": true
   },
   "outputs": [],
   "source": [
    "import pandas as pd\n",
    "import numpy as np\n",
    "import matplotlib.pyplot as plt"
   ]
  },
  {
   "cell_type": "code",
   "execution_count": 2,
   "metadata": {
    "collapsed": true
   },
   "outputs": [],
   "source": [
    "# this line makes plots/graphs appear within the notebook\n",
    "%matplotlib inline"
   ]
  },
  {
   "cell_type": "markdown",
   "metadata": {},
   "source": [
    "## Object Creation\n",
    "\n",
    "See the [Data Structure Intro section](http://pandas.pydata.org/pandas-docs/stable/dsintro.html#dsintro) "
   ]
  },
  {
   "cell_type": "markdown",
   "metadata": {},
   "source": [
    "Creating a Series by passing a list of values, letting pandas create a default integer index:"
   ]
  },
  {
   "cell_type": "code",
   "execution_count": 3,
   "metadata": {
    "collapsed": false
   },
   "outputs": [],
   "source": [
    "# This is a series, its like an array but with an index\n",
    "s = pd.Series([1,3,5,np.nan,6,8])"
   ]
  },
  {
   "cell_type": "code",
   "execution_count": 4,
   "metadata": {
    "collapsed": false
   },
   "outputs": [
    {
     "data": {
      "text/plain": [
       "0    1.0\n",
       "1    3.0\n",
       "2    5.0\n",
       "3    NaN\n",
       "4    6.0\n",
       "5    8.0\n",
       "dtype: float64"
      ]
     },
     "execution_count": 4,
     "metadata": {},
     "output_type": "execute_result"
    }
   ],
   "source": [
    "s"
   ]
  },
  {
   "cell_type": "markdown",
   "metadata": {},
   "source": [
    "Creating a DataFrame by passing a numpy array, with a datetime index and labeled columns:"
   ]
  },
  {
   "cell_type": "code",
   "execution_count": 5,
   "metadata": {
    "collapsed": false
   },
   "outputs": [],
   "source": [
    "# We will look at the time series index separately, but its also in this notebook.\n",
    "dates = pd.date_range('20130101', periods=6)"
   ]
  },
  {
   "cell_type": "code",
   "execution_count": 7,
   "metadata": {
    "collapsed": false
   },
   "outputs": [
    {
     "data": {
      "text/plain": [
       "DatetimeIndex(['2013-01-01', '2013-01-02', '2013-01-03', '2013-01-04',\n",
       "               '2013-01-05', '2013-01-06'],\n",
       "              dtype='datetime64[ns]', freq='D')"
      ]
     },
     "execution_count": 7,
     "metadata": {},
     "output_type": "execute_result"
    }
   ],
   "source": [
    "# dates is a time series object used as an index\n",
    "dates"
   ]
  },
  {
   "cell_type": "code",
   "execution_count": 8,
   "metadata": {
    "collapsed": false
   },
   "outputs": [],
   "source": [
    "# The DataFrame below is from an np.array and column list\n",
    "df = pd.DataFrame(np.random.randn(6,4), index=dates, columns=list('ABCD'))"
   ]
  },
  {
   "cell_type": "code",
   "execution_count": 9,
   "metadata": {
    "collapsed": false
   },
   "outputs": [
    {
     "data": {
      "text/html": [
       "<div>\n",
       "<table border=\"1\" class=\"dataframe\">\n",
       "  <thead>\n",
       "    <tr style=\"text-align: right;\">\n",
       "      <th></th>\n",
       "      <th>A</th>\n",
       "      <th>B</th>\n",
       "      <th>C</th>\n",
       "      <th>D</th>\n",
       "    </tr>\n",
       "  </thead>\n",
       "  <tbody>\n",
       "    <tr>\n",
       "      <th>2013-01-01</th>\n",
       "      <td>-0.056049</td>\n",
       "      <td>0.113105</td>\n",
       "      <td>1.806817</td>\n",
       "      <td>1.134625</td>\n",
       "    </tr>\n",
       "    <tr>\n",
       "      <th>2013-01-02</th>\n",
       "      <td>-1.611736</td>\n",
       "      <td>0.997774</td>\n",
       "      <td>0.784872</td>\n",
       "      <td>-0.940363</td>\n",
       "    </tr>\n",
       "    <tr>\n",
       "      <th>2013-01-03</th>\n",
       "      <td>1.257567</td>\n",
       "      <td>-0.381209</td>\n",
       "      <td>-0.226159</td>\n",
       "      <td>-0.329562</td>\n",
       "    </tr>\n",
       "    <tr>\n",
       "      <th>2013-01-04</th>\n",
       "      <td>0.446995</td>\n",
       "      <td>0.936141</td>\n",
       "      <td>0.098400</td>\n",
       "      <td>0.157782</td>\n",
       "    </tr>\n",
       "    <tr>\n",
       "      <th>2013-01-05</th>\n",
       "      <td>-1.196693</td>\n",
       "      <td>0.307608</td>\n",
       "      <td>0.502415</td>\n",
       "      <td>0.474626</td>\n",
       "    </tr>\n",
       "    <tr>\n",
       "      <th>2013-01-06</th>\n",
       "      <td>-1.201172</td>\n",
       "      <td>-0.977452</td>\n",
       "      <td>1.113112</td>\n",
       "      <td>-0.110576</td>\n",
       "    </tr>\n",
       "  </tbody>\n",
       "</table>\n",
       "</div>"
      ],
      "text/plain": [
       "                   A         B         C         D\n",
       "2013-01-01 -0.056049  0.113105  1.806817  1.134625\n",
       "2013-01-02 -1.611736  0.997774  0.784872 -0.940363\n",
       "2013-01-03  1.257567 -0.381209 -0.226159 -0.329562\n",
       "2013-01-04  0.446995  0.936141  0.098400  0.157782\n",
       "2013-01-05 -1.196693  0.307608  0.502415  0.474626\n",
       "2013-01-06 -1.201172 -0.977452  1.113112 -0.110576"
      ]
     },
     "execution_count": 9,
     "metadata": {},
     "output_type": "execute_result"
    }
   ],
   "source": [
    "df"
   ]
  },
  {
   "cell_type": "markdown",
   "metadata": {},
   "source": [
    "Creating a DataFrame by passing a dict of objects that can be converted to series-like."
   ]
  },
  {
   "cell_type": "code",
   "execution_count": 11,
   "metadata": {
    "collapsed": false
   },
   "outputs": [],
   "source": [
    "# See below that all the columns can be different types, created from a dictionary.\n",
    "df2 = pd.DataFrame({'A':1.,\n",
    "                   'B':pd.Timestamp('20130102'),\n",
    "                   'C':pd.Series(1,index=list(range(4)),dtype='float32'),\n",
    "                   'D':np.array([3]*4,dtype='int32'),\n",
    "                   'E':pd.Categorical([\"test\",\"train\",\"test\",\"train\"]),\n",
    "                   'F':'foo'})"
   ]
  },
  {
   "cell_type": "code",
   "execution_count": 12,
   "metadata": {
    "collapsed": false
   },
   "outputs": [
    {
     "data": {
      "text/html": [
       "<div>\n",
       "<table border=\"1\" class=\"dataframe\">\n",
       "  <thead>\n",
       "    <tr style=\"text-align: right;\">\n",
       "      <th></th>\n",
       "      <th>A</th>\n",
       "      <th>B</th>\n",
       "      <th>C</th>\n",
       "      <th>D</th>\n",
       "      <th>E</th>\n",
       "      <th>F</th>\n",
       "    </tr>\n",
       "  </thead>\n",
       "  <tbody>\n",
       "    <tr>\n",
       "      <th>0</th>\n",
       "      <td>1.0</td>\n",
       "      <td>2013-01-02</td>\n",
       "      <td>1.0</td>\n",
       "      <td>3</td>\n",
       "      <td>test</td>\n",
       "      <td>foo</td>\n",
       "    </tr>\n",
       "    <tr>\n",
       "      <th>1</th>\n",
       "      <td>1.0</td>\n",
       "      <td>2013-01-02</td>\n",
       "      <td>1.0</td>\n",
       "      <td>3</td>\n",
       "      <td>train</td>\n",
       "      <td>foo</td>\n",
       "    </tr>\n",
       "    <tr>\n",
       "      <th>2</th>\n",
       "      <td>1.0</td>\n",
       "      <td>2013-01-02</td>\n",
       "      <td>1.0</td>\n",
       "      <td>3</td>\n",
       "      <td>test</td>\n",
       "      <td>foo</td>\n",
       "    </tr>\n",
       "    <tr>\n",
       "      <th>3</th>\n",
       "      <td>1.0</td>\n",
       "      <td>2013-01-02</td>\n",
       "      <td>1.0</td>\n",
       "      <td>3</td>\n",
       "      <td>train</td>\n",
       "      <td>foo</td>\n",
       "    </tr>\n",
       "  </tbody>\n",
       "</table>\n",
       "</div>"
      ],
      "text/plain": [
       "     A          B    C  D      E    F\n",
       "0  1.0 2013-01-02  1.0  3   test  foo\n",
       "1  1.0 2013-01-02  1.0  3  train  foo\n",
       "2  1.0 2013-01-02  1.0  3   test  foo\n",
       "3  1.0 2013-01-02  1.0  3  train  foo"
      ]
     },
     "execution_count": 12,
     "metadata": {},
     "output_type": "execute_result"
    }
   ],
   "source": [
    "df2"
   ]
  },
  {
   "cell_type": "markdown",
   "metadata": {},
   "source": [
    "Having specific [dtypes](http://pandas.pydata.org/pandas-docs/stable/basics.html#basics-dtypes)"
   ]
  },
  {
   "cell_type": "code",
   "execution_count": 14,
   "metadata": {
    "collapsed": false
   },
   "outputs": [
    {
     "data": {
      "text/plain": [
       "A           float64\n",
       "B    datetime64[ns]\n",
       "C           float32\n",
       "D             int32\n",
       "E          category\n",
       "F            object\n",
       "dtype: object"
      ]
     },
     "execution_count": 14,
     "metadata": {},
     "output_type": "execute_result"
    }
   ],
   "source": [
    "# type for each column\n",
    "df2.dtypes"
   ]
  },
  {
   "cell_type": "markdown",
   "metadata": {},
   "source": [
    "If you’re using IPython, tab completion for column names (as well as public attributes) is automatically enabled. Here’s a subset of the attributes that will be completed:"
   ]
  },
  {
   "cell_type": "code",
   "execution_count": 15,
   "metadata": {
    "collapsed": false
   },
   "outputs": [],
   "source": [
    "# df2.<TAB>"
   ]
  },
  {
   "cell_type": "markdown",
   "metadata": {},
   "source": [
    "As you can see, the columns A, B, C, and D are automatically tab completed. E is there as well; the rest of the attributes have been truncated for brevity."
   ]
  },
  {
   "cell_type": "markdown",
   "metadata": {},
   "source": [
    "## Viewing Data\n",
    "\n",
    "See the [Basics section](http://pandas.pydata.org/pandas-docs/stable/basics.html#basics) "
   ]
  },
  {
   "cell_type": "markdown",
   "metadata": {},
   "source": [
    "See the top & bottom rows of the frame"
   ]
  },
  {
   "cell_type": "code",
   "execution_count": 17,
   "metadata": {
    "collapsed": false
   },
   "outputs": [
    {
     "data": {
      "text/html": [
       "<div>\n",
       "<table border=\"1\" class=\"dataframe\">\n",
       "  <thead>\n",
       "    <tr style=\"text-align: right;\">\n",
       "      <th></th>\n",
       "      <th>A</th>\n",
       "      <th>B</th>\n",
       "      <th>C</th>\n",
       "      <th>D</th>\n",
       "    </tr>\n",
       "  </thead>\n",
       "  <tbody>\n",
       "    <tr>\n",
       "      <th>2013-01-01</th>\n",
       "      <td>-0.056049</td>\n",
       "      <td>0.113105</td>\n",
       "      <td>1.806817</td>\n",
       "      <td>1.134625</td>\n",
       "    </tr>\n",
       "    <tr>\n",
       "      <th>2013-01-02</th>\n",
       "      <td>-1.611736</td>\n",
       "      <td>0.997774</td>\n",
       "      <td>0.784872</td>\n",
       "      <td>-0.940363</td>\n",
       "    </tr>\n",
       "    <tr>\n",
       "      <th>2013-01-03</th>\n",
       "      <td>1.257567</td>\n",
       "      <td>-0.381209</td>\n",
       "      <td>-0.226159</td>\n",
       "      <td>-0.329562</td>\n",
       "    </tr>\n",
       "    <tr>\n",
       "      <th>2013-01-04</th>\n",
       "      <td>0.446995</td>\n",
       "      <td>0.936141</td>\n",
       "      <td>0.098400</td>\n",
       "      <td>0.157782</td>\n",
       "    </tr>\n",
       "    <tr>\n",
       "      <th>2013-01-05</th>\n",
       "      <td>-1.196693</td>\n",
       "      <td>0.307608</td>\n",
       "      <td>0.502415</td>\n",
       "      <td>0.474626</td>\n",
       "    </tr>\n",
       "  </tbody>\n",
       "</table>\n",
       "</div>"
      ],
      "text/plain": [
       "                   A         B         C         D\n",
       "2013-01-01 -0.056049  0.113105  1.806817  1.134625\n",
       "2013-01-02 -1.611736  0.997774  0.784872 -0.940363\n",
       "2013-01-03  1.257567 -0.381209 -0.226159 -0.329562\n",
       "2013-01-04  0.446995  0.936141  0.098400  0.157782\n",
       "2013-01-05 -1.196693  0.307608  0.502415  0.474626"
      ]
     },
     "execution_count": 17,
     "metadata": {},
     "output_type": "execute_result"
    }
   ],
   "source": [
    "# as before, head(n) gives you the first n rows, defaults to 5\n",
    "df.head()"
   ]
  },
  {
   "cell_type": "code",
   "execution_count": 18,
   "metadata": {
    "collapsed": false
   },
   "outputs": [
    {
     "data": {
      "text/html": [
       "<div>\n",
       "<table border=\"1\" class=\"dataframe\">\n",
       "  <thead>\n",
       "    <tr style=\"text-align: right;\">\n",
       "      <th></th>\n",
       "      <th>A</th>\n",
       "      <th>B</th>\n",
       "      <th>C</th>\n",
       "      <th>D</th>\n",
       "    </tr>\n",
       "  </thead>\n",
       "  <tbody>\n",
       "    <tr>\n",
       "      <th>2013-01-04</th>\n",
       "      <td>0.446995</td>\n",
       "      <td>0.936141</td>\n",
       "      <td>0.098400</td>\n",
       "      <td>0.157782</td>\n",
       "    </tr>\n",
       "    <tr>\n",
       "      <th>2013-01-05</th>\n",
       "      <td>-1.196693</td>\n",
       "      <td>0.307608</td>\n",
       "      <td>0.502415</td>\n",
       "      <td>0.474626</td>\n",
       "    </tr>\n",
       "    <tr>\n",
       "      <th>2013-01-06</th>\n",
       "      <td>-1.201172</td>\n",
       "      <td>-0.977452</td>\n",
       "      <td>1.113112</td>\n",
       "      <td>-0.110576</td>\n",
       "    </tr>\n",
       "  </tbody>\n",
       "</table>\n",
       "</div>"
      ],
      "text/plain": [
       "                   A         B         C         D\n",
       "2013-01-04  0.446995  0.936141  0.098400  0.157782\n",
       "2013-01-05 -1.196693  0.307608  0.502415  0.474626\n",
       "2013-01-06 -1.201172 -0.977452  1.113112 -0.110576"
      ]
     },
     "execution_count": 18,
     "metadata": {},
     "output_type": "execute_result"
    }
   ],
   "source": [
    "df.tail(3)"
   ]
  },
  {
   "cell_type": "markdown",
   "metadata": {},
   "source": [
    "Display the index, columns, and the underlying numpy data"
   ]
  },
  {
   "cell_type": "code",
   "execution_count": 22,
   "metadata": {
    "collapsed": false
   },
   "outputs": [
    {
     "data": {
      "text/plain": [
       "DatetimeIndex(['2013-01-01', '2013-01-02', '2013-01-03', '2013-01-04',\n",
       "               '2013-01-05', '2013-01-06'],\n",
       "              dtype='datetime64[ns]', freq='D')"
      ]
     },
     "execution_count": 22,
     "metadata": {},
     "output_type": "execute_result"
    }
   ],
   "source": [
    "# if you want the index by itelf, use .index\n",
    "df.index\n",
    "# df.index[2:4]"
   ]
  },
  {
   "cell_type": "code",
   "execution_count": 30,
   "metadata": {
    "collapsed": false
   },
   "outputs": [
    {
     "data": {
      "text/plain": [
       "Index([u'A', u'B', u'C', u'D'], dtype='object')"
      ]
     },
     "execution_count": 30,
     "metadata": {},
     "output_type": "execute_result"
    }
   ],
   "source": [
    "# Here is a list of the columns\n",
    "df.columns\n",
    "#df.columns[2]\n",
    "#df.columns[2:4]"
   ]
  },
  {
   "cell_type": "code",
   "execution_count": 33,
   "metadata": {
    "collapsed": false,
    "scrolled": true
   },
   "outputs": [
    {
     "data": {
      "text/plain": [
       "array([[-0.05604925,  0.11310545,  1.80681672,  1.13462519],\n",
       "       [-1.61173602,  0.9977742 ,  0.78487201, -0.9403629 ],\n",
       "       [ 1.25756686, -0.38120917, -0.22615913, -0.32956158],\n",
       "       [ 0.44699525,  0.93614083,  0.09839975,  0.15778227],\n",
       "       [-1.19669263,  0.30760802,  0.50241478,  0.47462582],\n",
       "       [-1.20117164, -0.97745235,  1.11311156, -0.11057567]])"
      ]
     },
     "execution_count": 33,
     "metadata": {},
     "output_type": "execute_result"
    }
   ],
   "source": [
    "# df.values extracts only the data in np.array\n",
    "df.values"
   ]
  },
  {
   "cell_type": "markdown",
   "metadata": {},
   "source": [
    "Describe shows a quick statistic summary of your data"
   ]
  },
  {
   "cell_type": "code",
   "execution_count": 51,
   "metadata": {
    "collapsed": false
   },
   "outputs": [
    {
     "data": {
      "text/html": [
       "<div>\n",
       "<table border=\"1\" class=\"dataframe\">\n",
       "  <thead>\n",
       "    <tr style=\"text-align: right;\">\n",
       "      <th></th>\n",
       "      <th>A</th>\n",
       "      <th>B</th>\n",
       "      <th>C</th>\n",
       "      <th>D</th>\n",
       "    </tr>\n",
       "  </thead>\n",
       "  <tbody>\n",
       "    <tr>\n",
       "      <th>count</th>\n",
       "      <td>6.000000</td>\n",
       "      <td>6.000000</td>\n",
       "      <td>6.000000</td>\n",
       "      <td>6.000000</td>\n",
       "    </tr>\n",
       "    <tr>\n",
       "      <th>mean</th>\n",
       "      <td>-0.393515</td>\n",
       "      <td>0.165994</td>\n",
       "      <td>0.679909</td>\n",
       "      <td>0.064422</td>\n",
       "    </tr>\n",
       "    <tr>\n",
       "      <th>std</th>\n",
       "      <td>1.124978</td>\n",
       "      <td>0.763510</td>\n",
       "      <td>0.729276</td>\n",
       "      <td>0.709614</td>\n",
       "    </tr>\n",
       "    <tr>\n",
       "      <th>min</th>\n",
       "      <td>-1.611736</td>\n",
       "      <td>-0.977452</td>\n",
       "      <td>-0.226159</td>\n",
       "      <td>-0.940363</td>\n",
       "    </tr>\n",
       "    <tr>\n",
       "      <th>25%</th>\n",
       "      <td>-1.200052</td>\n",
       "      <td>-0.257631</td>\n",
       "      <td>0.199404</td>\n",
       "      <td>-0.274815</td>\n",
       "    </tr>\n",
       "    <tr>\n",
       "      <th>50%</th>\n",
       "      <td>-0.626371</td>\n",
       "      <td>0.210357</td>\n",
       "      <td>0.643643</td>\n",
       "      <td>0.023603</td>\n",
       "    </tr>\n",
       "    <tr>\n",
       "      <th>75%</th>\n",
       "      <td>0.321234</td>\n",
       "      <td>0.779008</td>\n",
       "      <td>1.031052</td>\n",
       "      <td>0.395415</td>\n",
       "    </tr>\n",
       "    <tr>\n",
       "      <th>max</th>\n",
       "      <td>1.257567</td>\n",
       "      <td>0.997774</td>\n",
       "      <td>1.806817</td>\n",
       "      <td>1.134625</td>\n",
       "    </tr>\n",
       "  </tbody>\n",
       "</table>\n",
       "</div>"
      ],
      "text/plain": [
       "              A         B         C         D\n",
       "count  6.000000  6.000000  6.000000  6.000000\n",
       "mean  -0.393515  0.165994  0.679909  0.064422\n",
       "std    1.124978  0.763510  0.729276  0.709614\n",
       "min   -1.611736 -0.977452 -0.226159 -0.940363\n",
       "25%   -1.200052 -0.257631  0.199404 -0.274815\n",
       "50%   -0.626371  0.210357  0.643643  0.023603\n",
       "75%    0.321234  0.779008  1.031052  0.395415\n",
       "max    1.257567  0.997774  1.806817  1.134625"
      ]
     },
     "execution_count": 51,
     "metadata": {},
     "output_type": "execute_result"
    }
   ],
   "source": [
    "# A quick way to get statistics\n",
    "df.describe()\n",
    "# df.describe()['A'][1]\n",
    "# df.describe()[2:3]"
   ]
  },
  {
   "cell_type": "markdown",
   "metadata": {},
   "source": [
    "Transposing your data"
   ]
  },
  {
   "cell_type": "code",
   "execution_count": 54,
   "metadata": {
    "collapsed": false
   },
   "outputs": [
    {
     "data": {
      "text/html": [
       "<div>\n",
       "<table border=\"1\" class=\"dataframe\">\n",
       "  <thead>\n",
       "    <tr style=\"text-align: right;\">\n",
       "      <th></th>\n",
       "      <th>2013-01-01 00:00:00</th>\n",
       "      <th>2013-01-02 00:00:00</th>\n",
       "      <th>2013-01-03 00:00:00</th>\n",
       "      <th>2013-01-04 00:00:00</th>\n",
       "      <th>2013-01-05 00:00:00</th>\n",
       "      <th>2013-01-06 00:00:00</th>\n",
       "    </tr>\n",
       "  </thead>\n",
       "  <tbody>\n",
       "    <tr>\n",
       "      <th>A</th>\n",
       "      <td>-0.056049</td>\n",
       "      <td>-1.611736</td>\n",
       "      <td>1.257567</td>\n",
       "      <td>0.446995</td>\n",
       "      <td>-1.196693</td>\n",
       "      <td>-1.201172</td>\n",
       "    </tr>\n",
       "    <tr>\n",
       "      <th>B</th>\n",
       "      <td>0.113105</td>\n",
       "      <td>0.997774</td>\n",
       "      <td>-0.381209</td>\n",
       "      <td>0.936141</td>\n",
       "      <td>0.307608</td>\n",
       "      <td>-0.977452</td>\n",
       "    </tr>\n",
       "    <tr>\n",
       "      <th>C</th>\n",
       "      <td>1.806817</td>\n",
       "      <td>0.784872</td>\n",
       "      <td>-0.226159</td>\n",
       "      <td>0.098400</td>\n",
       "      <td>0.502415</td>\n",
       "      <td>1.113112</td>\n",
       "    </tr>\n",
       "    <tr>\n",
       "      <th>D</th>\n",
       "      <td>1.134625</td>\n",
       "      <td>-0.940363</td>\n",
       "      <td>-0.329562</td>\n",
       "      <td>0.157782</td>\n",
       "      <td>0.474626</td>\n",
       "      <td>-0.110576</td>\n",
       "    </tr>\n",
       "  </tbody>\n",
       "</table>\n",
       "</div>"
      ],
      "text/plain": [
       "   2013-01-01  2013-01-02  2013-01-03  2013-01-04  2013-01-05  2013-01-06\n",
       "A   -0.056049   -1.611736    1.257567    0.446995   -1.196693   -1.201172\n",
       "B    0.113105    0.997774   -0.381209    0.936141    0.307608   -0.977452\n",
       "C    1.806817    0.784872   -0.226159    0.098400    0.502415    1.113112\n",
       "D    1.134625   -0.940363   -0.329562    0.157782    0.474626   -0.110576"
      ]
     },
     "execution_count": 54,
     "metadata": {},
     "output_type": "execute_result"
    }
   ],
   "source": [
    "# yes, this is the pandas method\n",
    "df.T"
   ]
  },
  {
   "cell_type": "markdown",
   "metadata": {},
   "source": [
    "Sorting by an axis"
   ]
  },
  {
   "cell_type": "code",
   "execution_count": 60,
   "metadata": {
    "collapsed": false
   },
   "outputs": [
    {
     "data": {
      "text/html": [
       "<div>\n",
       "<table border=\"1\" class=\"dataframe\">\n",
       "  <thead>\n",
       "    <tr style=\"text-align: right;\">\n",
       "      <th></th>\n",
       "      <th>A</th>\n",
       "      <th>B</th>\n",
       "      <th>C</th>\n",
       "      <th>D</th>\n",
       "    </tr>\n",
       "  </thead>\n",
       "  <tbody>\n",
       "    <tr>\n",
       "      <th>2013-01-01</th>\n",
       "      <td>-0.056049</td>\n",
       "      <td>0.113105</td>\n",
       "      <td>1.806817</td>\n",
       "      <td>1.134625</td>\n",
       "    </tr>\n",
       "    <tr>\n",
       "      <th>2013-01-02</th>\n",
       "      <td>-1.611736</td>\n",
       "      <td>0.997774</td>\n",
       "      <td>0.784872</td>\n",
       "      <td>-0.940363</td>\n",
       "    </tr>\n",
       "    <tr>\n",
       "      <th>2013-01-03</th>\n",
       "      <td>1.257567</td>\n",
       "      <td>-0.381209</td>\n",
       "      <td>-0.226159</td>\n",
       "      <td>-0.329562</td>\n",
       "    </tr>\n",
       "    <tr>\n",
       "      <th>2013-01-04</th>\n",
       "      <td>0.446995</td>\n",
       "      <td>0.936141</td>\n",
       "      <td>0.098400</td>\n",
       "      <td>0.157782</td>\n",
       "    </tr>\n",
       "    <tr>\n",
       "      <th>2013-01-05</th>\n",
       "      <td>-1.196693</td>\n",
       "      <td>0.307608</td>\n",
       "      <td>0.502415</td>\n",
       "      <td>0.474626</td>\n",
       "    </tr>\n",
       "    <tr>\n",
       "      <th>2013-01-06</th>\n",
       "      <td>-1.201172</td>\n",
       "      <td>-0.977452</td>\n",
       "      <td>1.113112</td>\n",
       "      <td>-0.110576</td>\n",
       "    </tr>\n",
       "  </tbody>\n",
       "</table>\n",
       "</div>"
      ],
      "text/plain": [
       "                   A         B         C         D\n",
       "2013-01-01 -0.056049  0.113105  1.806817  1.134625\n",
       "2013-01-02 -1.611736  0.997774  0.784872 -0.940363\n",
       "2013-01-03  1.257567 -0.381209 -0.226159 -0.329562\n",
       "2013-01-04  0.446995  0.936141  0.098400  0.157782\n",
       "2013-01-05 -1.196693  0.307608  0.502415  0.474626\n",
       "2013-01-06 -1.201172 -0.977452  1.113112 -0.110576"
      ]
     },
     "execution_count": 60,
     "metadata": {},
     "output_type": "execute_result"
    }
   ],
   "source": [
    "# recall df\n",
    "df"
   ]
  },
  {
   "cell_type": "code",
   "execution_count": 63,
   "metadata": {
    "collapsed": false
   },
   "outputs": [
    {
     "data": {
      "text/html": [
       "<div>\n",
       "<table border=\"1\" class=\"dataframe\">\n",
       "  <thead>\n",
       "    <tr style=\"text-align: right;\">\n",
       "      <th></th>\n",
       "      <th>D</th>\n",
       "      <th>C</th>\n",
       "      <th>B</th>\n",
       "      <th>A</th>\n",
       "    </tr>\n",
       "  </thead>\n",
       "  <tbody>\n",
       "    <tr>\n",
       "      <th>2013-01-01</th>\n",
       "      <td>1.134625</td>\n",
       "      <td>1.806817</td>\n",
       "      <td>0.113105</td>\n",
       "      <td>-0.056049</td>\n",
       "    </tr>\n",
       "    <tr>\n",
       "      <th>2013-01-02</th>\n",
       "      <td>-0.940363</td>\n",
       "      <td>0.784872</td>\n",
       "      <td>0.997774</td>\n",
       "      <td>-1.611736</td>\n",
       "    </tr>\n",
       "    <tr>\n",
       "      <th>2013-01-03</th>\n",
       "      <td>-0.329562</td>\n",
       "      <td>-0.226159</td>\n",
       "      <td>-0.381209</td>\n",
       "      <td>1.257567</td>\n",
       "    </tr>\n",
       "    <tr>\n",
       "      <th>2013-01-04</th>\n",
       "      <td>0.157782</td>\n",
       "      <td>0.098400</td>\n",
       "      <td>0.936141</td>\n",
       "      <td>0.446995</td>\n",
       "    </tr>\n",
       "    <tr>\n",
       "      <th>2013-01-05</th>\n",
       "      <td>0.474626</td>\n",
       "      <td>0.502415</td>\n",
       "      <td>0.307608</td>\n",
       "      <td>-1.196693</td>\n",
       "    </tr>\n",
       "    <tr>\n",
       "      <th>2013-01-06</th>\n",
       "      <td>-0.110576</td>\n",
       "      <td>1.113112</td>\n",
       "      <td>-0.977452</td>\n",
       "      <td>-1.201172</td>\n",
       "    </tr>\n",
       "  </tbody>\n",
       "</table>\n",
       "</div>"
      ],
      "text/plain": [
       "                   D         C         B         A\n",
       "2013-01-01  1.134625  1.806817  0.113105 -0.056049\n",
       "2013-01-02 -0.940363  0.784872  0.997774 -1.611736\n",
       "2013-01-03 -0.329562 -0.226159 -0.381209  1.257567\n",
       "2013-01-04  0.157782  0.098400  0.936141  0.446995\n",
       "2013-01-05  0.474626  0.502415  0.307608 -1.196693\n",
       "2013-01-06 -0.110576  1.113112 -0.977452 -1.201172"
      ]
     },
     "execution_count": 63,
     "metadata": {},
     "output_type": "execute_result"
    }
   ],
   "source": [
    "# See that its using the header to sort\n",
    "df.sort_index(axis=1, ascending=False)\n",
    "# try df[2:3].sort_index(axis=1, ascending=False)"
   ]
  },
  {
   "cell_type": "markdown",
   "metadata": {},
   "source": [
    "Sorting by value"
   ]
  },
  {
   "cell_type": "code",
   "execution_count": 64,
   "metadata": {
    "collapsed": false
   },
   "outputs": [
    {
     "data": {
      "text/html": [
       "<div>\n",
       "<table border=\"1\" class=\"dataframe\">\n",
       "  <thead>\n",
       "    <tr style=\"text-align: right;\">\n",
       "      <th></th>\n",
       "      <th>A</th>\n",
       "      <th>B</th>\n",
       "      <th>C</th>\n",
       "      <th>D</th>\n",
       "    </tr>\n",
       "  </thead>\n",
       "  <tbody>\n",
       "    <tr>\n",
       "      <th>2013-01-06</th>\n",
       "      <td>-1.201172</td>\n",
       "      <td>-0.977452</td>\n",
       "      <td>1.113112</td>\n",
       "      <td>-0.110576</td>\n",
       "    </tr>\n",
       "    <tr>\n",
       "      <th>2013-01-03</th>\n",
       "      <td>1.257567</td>\n",
       "      <td>-0.381209</td>\n",
       "      <td>-0.226159</td>\n",
       "      <td>-0.329562</td>\n",
       "    </tr>\n",
       "    <tr>\n",
       "      <th>2013-01-01</th>\n",
       "      <td>-0.056049</td>\n",
       "      <td>0.113105</td>\n",
       "      <td>1.806817</td>\n",
       "      <td>1.134625</td>\n",
       "    </tr>\n",
       "    <tr>\n",
       "      <th>2013-01-05</th>\n",
       "      <td>-1.196693</td>\n",
       "      <td>0.307608</td>\n",
       "      <td>0.502415</td>\n",
       "      <td>0.474626</td>\n",
       "    </tr>\n",
       "    <tr>\n",
       "      <th>2013-01-04</th>\n",
       "      <td>0.446995</td>\n",
       "      <td>0.936141</td>\n",
       "      <td>0.098400</td>\n",
       "      <td>0.157782</td>\n",
       "    </tr>\n",
       "    <tr>\n",
       "      <th>2013-01-02</th>\n",
       "      <td>-1.611736</td>\n",
       "      <td>0.997774</td>\n",
       "      <td>0.784872</td>\n",
       "      <td>-0.940363</td>\n",
       "    </tr>\n",
       "  </tbody>\n",
       "</table>\n",
       "</div>"
      ],
      "text/plain": [
       "                   A         B         C         D\n",
       "2013-01-06 -1.201172 -0.977452  1.113112 -0.110576\n",
       "2013-01-03  1.257567 -0.381209 -0.226159 -0.329562\n",
       "2013-01-01 -0.056049  0.113105  1.806817  1.134625\n",
       "2013-01-05 -1.196693  0.307608  0.502415  0.474626\n",
       "2013-01-04  0.446995  0.936141  0.098400  0.157782\n",
       "2013-01-02 -1.611736  0.997774  0.784872 -0.940363"
      ]
     },
     "execution_count": 64,
     "metadata": {},
     "output_type": "execute_result"
    }
   ],
   "source": [
    "df.sort_values(by='B')"
   ]
  },
  {
   "cell_type": "markdown",
   "metadata": {},
   "source": [
    "## Selection"
   ]
  },
  {
   "cell_type": "markdown",
   "metadata": {},
   "source": [
    "**Note:** While standard Python / Numpy expressions for selecting and setting are intuitive and come in handy for interactive work, for production code, we recommend the optimized pandas data access methods, .at, .iat, .loc, .iloc and .ix."
   ]
  },
  {
   "cell_type": "markdown",
   "metadata": {},
   "source": [
    "See the indexing documentation [Indexing and Selecting Data](http://pandas.pydata.org/pandas-docs/stable/indexing.html#indexing) and [MultiIndex / Advanced Indexing](http://pandas.pydata.org/pandas-docs/stable/advanced.html#advanced)"
   ]
  },
  {
   "cell_type": "markdown",
   "metadata": {},
   "source": [
    "### Getting"
   ]
  },
  {
   "cell_type": "markdown",
   "metadata": {},
   "source": [
    "Selecting a single column, which yields a Series, equivalent to df.A"
   ]
  },
  {
   "cell_type": "code",
   "execution_count": 65,
   "metadata": {
    "collapsed": false
   },
   "outputs": [
    {
     "data": {
      "text/plain": [
       "2013-01-01   -0.056049\n",
       "2013-01-02   -1.611736\n",
       "2013-01-03    1.257567\n",
       "2013-01-04    0.446995\n",
       "2013-01-05   -1.196693\n",
       "2013-01-06   -1.201172\n",
       "Freq: D, Name: A, dtype: float64"
      ]
     },
     "execution_count": 65,
     "metadata": {},
     "output_type": "execute_result"
    }
   ],
   "source": [
    "df['A']"
   ]
  },
  {
   "cell_type": "markdown",
   "metadata": {},
   "source": [
    "Selecting via [], which slices the rows."
   ]
  },
  {
   "cell_type": "code",
   "execution_count": 69,
   "metadata": {
    "collapsed": false
   },
   "outputs": [
    {
     "data": {
      "text/html": [
       "<div>\n",
       "<table border=\"1\" class=\"dataframe\">\n",
       "  <thead>\n",
       "    <tr style=\"text-align: right;\">\n",
       "      <th></th>\n",
       "      <th>A</th>\n",
       "      <th>B</th>\n",
       "      <th>C</th>\n",
       "      <th>D</th>\n",
       "    </tr>\n",
       "  </thead>\n",
       "  <tbody>\n",
       "    <tr>\n",
       "      <th>2013-01-02</th>\n",
       "      <td>-1.611736</td>\n",
       "      <td>0.997774</td>\n",
       "      <td>0.784872</td>\n",
       "      <td>-0.940363</td>\n",
       "    </tr>\n",
       "    <tr>\n",
       "      <th>2013-01-03</th>\n",
       "      <td>1.257567</td>\n",
       "      <td>-0.381209</td>\n",
       "      <td>-0.226159</td>\n",
       "      <td>-0.329562</td>\n",
       "    </tr>\n",
       "  </tbody>\n",
       "</table>\n",
       "</div>"
      ],
      "text/plain": [
       "                   A         B         C         D\n",
       "2013-01-02 -1.611736  0.997774  0.784872 -0.940363\n",
       "2013-01-03  1.257567 -0.381209 -0.226159 -0.329562"
      ]
     },
     "execution_count": 69,
     "metadata": {},
     "output_type": "execute_result"
    }
   ],
   "source": [
    "# A slice: by rows (row numbers)\n",
    "df[1:3]"
   ]
  },
  {
   "cell_type": "code",
   "execution_count": 68,
   "metadata": {
    "collapsed": false
   },
   "outputs": [
    {
     "data": {
      "text/html": [
       "<div>\n",
       "<table border=\"1\" class=\"dataframe\">\n",
       "  <thead>\n",
       "    <tr style=\"text-align: right;\">\n",
       "      <th></th>\n",
       "      <th>A</th>\n",
       "      <th>B</th>\n",
       "      <th>C</th>\n",
       "      <th>D</th>\n",
       "    </tr>\n",
       "  </thead>\n",
       "  <tbody>\n",
       "    <tr>\n",
       "      <th>2013-01-02</th>\n",
       "      <td>-1.611736</td>\n",
       "      <td>0.997774</td>\n",
       "      <td>0.784872</td>\n",
       "      <td>-0.940363</td>\n",
       "    </tr>\n",
       "    <tr>\n",
       "      <th>2013-01-03</th>\n",
       "      <td>1.257567</td>\n",
       "      <td>-0.381209</td>\n",
       "      <td>-0.226159</td>\n",
       "      <td>-0.329562</td>\n",
       "    </tr>\n",
       "    <tr>\n",
       "      <th>2013-01-04</th>\n",
       "      <td>0.446995</td>\n",
       "      <td>0.936141</td>\n",
       "      <td>0.098400</td>\n",
       "      <td>0.157782</td>\n",
       "    </tr>\n",
       "  </tbody>\n",
       "</table>\n",
       "</div>"
      ],
      "text/plain": [
       "                   A         B         C         D\n",
       "2013-01-02 -1.611736  0.997774  0.784872 -0.940363\n",
       "2013-01-03  1.257567 -0.381209 -0.226159 -0.329562\n",
       "2013-01-04  0.446995  0.936141  0.098400  0.157782"
      ]
     },
     "execution_count": 68,
     "metadata": {},
     "output_type": "execute_result"
    }
   ],
   "source": [
    "# A slice: by rows (by range of values in index)\n",
    "df['20130102':'20130104']"
   ]
  },
  {
   "cell_type": "markdown",
   "metadata": {},
   "source": [
    "### Selection by Label\n",
    "\n",
    "See more in [Selection by Label](Selection by Label)"
   ]
  },
  {
   "cell_type": "markdown",
   "metadata": {},
   "source": [
    "For getting a cross section using a label"
   ]
  },
  {
   "cell_type": "code",
   "execution_count": 74,
   "metadata": {
    "collapsed": false
   },
   "outputs": [
    {
     "data": {
      "text/html": [
       "<div>\n",
       "<table border=\"1\" class=\"dataframe\">\n",
       "  <thead>\n",
       "    <tr style=\"text-align: right;\">\n",
       "      <th></th>\n",
       "      <th>B</th>\n",
       "      <th>C</th>\n",
       "      <th>D</th>\n",
       "    </tr>\n",
       "  </thead>\n",
       "  <tbody>\n",
       "    <tr>\n",
       "      <th>2013-01-02</th>\n",
       "      <td>0.997774</td>\n",
       "      <td>0.784872</td>\n",
       "      <td>-0.940363</td>\n",
       "    </tr>\n",
       "    <tr>\n",
       "      <th>2013-01-03</th>\n",
       "      <td>-0.381209</td>\n",
       "      <td>-0.226159</td>\n",
       "      <td>-0.329562</td>\n",
       "    </tr>\n",
       "    <tr>\n",
       "      <th>2013-01-04</th>\n",
       "      <td>0.936141</td>\n",
       "      <td>0.098400</td>\n",
       "      <td>0.157782</td>\n",
       "    </tr>\n",
       "  </tbody>\n",
       "</table>\n",
       "</div>"
      ],
      "text/plain": [
       "                   B         C         D\n",
       "2013-01-02  0.997774  0.784872 -0.940363\n",
       "2013-01-03 -0.381209 -0.226159 -0.329562\n",
       "2013-01-04  0.936141  0.098400  0.157782"
      ]
     },
     "execution_count": 74,
     "metadata": {},
     "output_type": "execute_result"
    }
   ],
   "source": [
    "# Introduce loc: this will get you a cross section of the table by label ran\n",
    "# df.loc[a:b, x:y], by rows and column location\n",
    "\n",
    "df.loc['20130102':'20130104','B':'D']\n",
    "#df.loc[dates[0]]\n",
    "\n",
    "# df[0:1]\n",
    "# df[a:b] by rows\n",
    "# df[[col]] or df[[list of col]] by columns\n",
    "# df.loc[a:b, x:y], by rows and column location\n",
    "# df.iloc[3:5,0:2], by slicing by specific position"
   ]
  },
  {
   "cell_type": "markdown",
   "metadata": {},
   "source": [
    "Selection by Label"
   ]
  },
  {
   "cell_type": "code",
   "execution_count": 75,
   "metadata": {
    "collapsed": false
   },
   "outputs": [
    {
     "data": {
      "text/html": [
       "<div>\n",
       "<table border=\"1\" class=\"dataframe\">\n",
       "  <thead>\n",
       "    <tr style=\"text-align: right;\">\n",
       "      <th></th>\n",
       "      <th>A</th>\n",
       "      <th>B</th>\n",
       "    </tr>\n",
       "  </thead>\n",
       "  <tbody>\n",
       "    <tr>\n",
       "      <th>2013-01-01</th>\n",
       "      <td>-0.056049</td>\n",
       "      <td>0.113105</td>\n",
       "    </tr>\n",
       "    <tr>\n",
       "      <th>2013-01-02</th>\n",
       "      <td>-1.611736</td>\n",
       "      <td>0.997774</td>\n",
       "    </tr>\n",
       "    <tr>\n",
       "      <th>2013-01-03</th>\n",
       "      <td>1.257567</td>\n",
       "      <td>-0.381209</td>\n",
       "    </tr>\n",
       "    <tr>\n",
       "      <th>2013-01-04</th>\n",
       "      <td>0.446995</td>\n",
       "      <td>0.936141</td>\n",
       "    </tr>\n",
       "    <tr>\n",
       "      <th>2013-01-05</th>\n",
       "      <td>-1.196693</td>\n",
       "      <td>0.307608</td>\n",
       "    </tr>\n",
       "    <tr>\n",
       "      <th>2013-01-06</th>\n",
       "      <td>-1.201172</td>\n",
       "      <td>-0.977452</td>\n",
       "    </tr>\n",
       "  </tbody>\n",
       "</table>\n",
       "</div>"
      ],
      "text/plain": [
       "                   A         B\n",
       "2013-01-01 -0.056049  0.113105\n",
       "2013-01-02 -1.611736  0.997774\n",
       "2013-01-03  1.257567 -0.381209\n",
       "2013-01-04  0.446995  0.936141\n",
       "2013-01-05 -1.196693  0.307608\n",
       "2013-01-06 -1.201172 -0.977452"
      ]
     },
     "execution_count": 75,
     "metadata": {},
     "output_type": "execute_result"
    }
   ],
   "source": [
    "#In this case, the columns are in a list\n",
    "df.loc[:,['A','B']]"
   ]
  },
  {
   "cell_type": "markdown",
   "metadata": {},
   "source": [
    "Showing label slicing, both endpoints are included"
   ]
  },
  {
   "cell_type": "code",
   "execution_count": 77,
   "metadata": {
    "collapsed": false
   },
   "outputs": [
    {
     "data": {
      "text/html": [
       "<div>\n",
       "<table border=\"1\" class=\"dataframe\">\n",
       "  <thead>\n",
       "    <tr style=\"text-align: right;\">\n",
       "      <th></th>\n",
       "      <th>A</th>\n",
       "      <th>B</th>\n",
       "    </tr>\n",
       "  </thead>\n",
       "  <tbody>\n",
       "    <tr>\n",
       "      <th>2013-01-02</th>\n",
       "      <td>-1.611736</td>\n",
       "      <td>0.997774</td>\n",
       "    </tr>\n",
       "    <tr>\n",
       "      <th>2013-01-03</th>\n",
       "      <td>1.257567</td>\n",
       "      <td>-0.381209</td>\n",
       "    </tr>\n",
       "    <tr>\n",
       "      <th>2013-01-04</th>\n",
       "      <td>0.446995</td>\n",
       "      <td>0.936141</td>\n",
       "    </tr>\n",
       "  </tbody>\n",
       "</table>\n",
       "</div>"
      ],
      "text/plain": [
       "                   A         B\n",
       "2013-01-02 -1.611736  0.997774\n",
       "2013-01-03  1.257567 -0.381209\n",
       "2013-01-04  0.446995  0.936141"
      ]
     },
     "execution_count": 77,
     "metadata": {},
     "output_type": "execute_result"
    }
   ],
   "source": [
    "# more slicng with loc\n",
    "df.loc['20130102':'20130104',['A','B']]"
   ]
  },
  {
   "cell_type": "markdown",
   "metadata": {},
   "source": [
    "Reduction in the dimensions of the returned object"
   ]
  },
  {
   "cell_type": "code",
   "execution_count": 79,
   "metadata": {
    "collapsed": false
   },
   "outputs": [
    {
     "data": {
      "text/plain": [
       "A   -1.611736\n",
       "B    0.997774\n",
       "Name: 2013-01-02 00:00:00, dtype: float64"
      ]
     },
     "execution_count": 79,
     "metadata": {},
     "output_type": "execute_result"
    }
   ],
   "source": [
    "\n",
    "df.loc['20130102',['A','B']]"
   ]
  },
  {
   "cell_type": "markdown",
   "metadata": {},
   "source": [
    "For getting a scalar value"
   ]
  },
  {
   "cell_type": "code",
   "execution_count": 81,
   "metadata": {
    "collapsed": false
   },
   "outputs": [
    {
     "data": {
      "text/plain": [
       "-0.056049253863186148"
      ]
     },
     "execution_count": 81,
     "metadata": {},
     "output_type": "execute_result"
    }
   ],
   "source": [
    "# or get just one value\n",
    "df.loc[dates[0],'A']"
   ]
  },
  {
   "cell_type": "markdown",
   "metadata": {},
   "source": [
    "### Selection by Position\n",
    "\n",
    "See more in [Selection by Position](http://pandas.pydata.org/pandas-docs/stable/indexing.html#indexing-integer)"
   ]
  },
  {
   "cell_type": "markdown",
   "metadata": {},
   "source": [
    "Select via the position of the passed integers"
   ]
  },
  {
   "cell_type": "code",
   "execution_count": 84,
   "metadata": {
    "collapsed": false
   },
   "outputs": [
    {
     "data": {
      "text/html": [
       "<div>\n",
       "<table border=\"1\" class=\"dataframe\">\n",
       "  <thead>\n",
       "    <tr style=\"text-align: right;\">\n",
       "      <th></th>\n",
       "      <th>A</th>\n",
       "      <th>B</th>\n",
       "      <th>C</th>\n",
       "      <th>D</th>\n",
       "    </tr>\n",
       "  </thead>\n",
       "  <tbody>\n",
       "    <tr>\n",
       "      <th>2013-01-01</th>\n",
       "      <td>-0.056049</td>\n",
       "      <td>0.113105</td>\n",
       "      <td>1.806817</td>\n",
       "      <td>1.134625</td>\n",
       "    </tr>\n",
       "    <tr>\n",
       "      <th>2013-01-02</th>\n",
       "      <td>-1.611736</td>\n",
       "      <td>0.997774</td>\n",
       "      <td>0.784872</td>\n",
       "      <td>-0.940363</td>\n",
       "    </tr>\n",
       "    <tr>\n",
       "      <th>2013-01-03</th>\n",
       "      <td>1.257567</td>\n",
       "      <td>-0.381209</td>\n",
       "      <td>-0.226159</td>\n",
       "      <td>-0.329562</td>\n",
       "    </tr>\n",
       "    <tr>\n",
       "      <th>2013-01-04</th>\n",
       "      <td>0.446995</td>\n",
       "      <td>0.936141</td>\n",
       "      <td>0.098400</td>\n",
       "      <td>0.157782</td>\n",
       "    </tr>\n",
       "    <tr>\n",
       "      <th>2013-01-05</th>\n",
       "      <td>-1.196693</td>\n",
       "      <td>0.307608</td>\n",
       "      <td>0.502415</td>\n",
       "      <td>0.474626</td>\n",
       "    </tr>\n",
       "    <tr>\n",
       "      <th>2013-01-06</th>\n",
       "      <td>-1.201172</td>\n",
       "      <td>-0.977452</td>\n",
       "      <td>1.113112</td>\n",
       "      <td>-0.110576</td>\n",
       "    </tr>\n",
       "  </tbody>\n",
       "</table>\n",
       "</div>"
      ],
      "text/plain": [
       "                   A         B         C         D\n",
       "2013-01-01 -0.056049  0.113105  1.806817  1.134625\n",
       "2013-01-02 -1.611736  0.997774  0.784872 -0.940363\n",
       "2013-01-03  1.257567 -0.381209 -0.226159 -0.329562\n",
       "2013-01-04  0.446995  0.936141  0.098400  0.157782\n",
       "2013-01-05 -1.196693  0.307608  0.502415  0.474626\n",
       "2013-01-06 -1.201172 -0.977452  1.113112 -0.110576"
      ]
     },
     "execution_count": 84,
     "metadata": {},
     "output_type": "execute_result"
    }
   ],
   "source": [
    "# recall df\n",
    "df"
   ]
  },
  {
   "cell_type": "code",
   "execution_count": 85,
   "metadata": {
    "collapsed": false
   },
   "outputs": [
    {
     "data": {
      "text/plain": [
       "A    0.446995\n",
       "B    0.936141\n",
       "C    0.098400\n",
       "D    0.157782\n",
       "Name: 2013-01-04 00:00:00, dtype: float64"
      ]
     },
     "execution_count": 85,
     "metadata": {},
     "output_type": "execute_result"
    }
   ],
   "source": [
    "# Introduce iloc: its like loc, but uses index position instead\n",
    "df.iloc[3]"
   ]
  },
  {
   "cell_type": "markdown",
   "metadata": {},
   "source": [
    "By integer slices, acting similar to numpy/python"
   ]
  },
  {
   "cell_type": "code",
   "execution_count": 87,
   "metadata": {
    "collapsed": false
   },
   "outputs": [
    {
     "data": {
      "text/html": [
       "<div>\n",
       "<table border=\"1\" class=\"dataframe\">\n",
       "  <thead>\n",
       "    <tr style=\"text-align: right;\">\n",
       "      <th></th>\n",
       "      <th>A</th>\n",
       "      <th>B</th>\n",
       "    </tr>\n",
       "  </thead>\n",
       "  <tbody>\n",
       "    <tr>\n",
       "      <th>2013-01-04</th>\n",
       "      <td>0.446995</td>\n",
       "      <td>0.936141</td>\n",
       "    </tr>\n",
       "    <tr>\n",
       "      <th>2013-01-05</th>\n",
       "      <td>-1.196693</td>\n",
       "      <td>0.307608</td>\n",
       "    </tr>\n",
       "  </tbody>\n",
       "</table>\n",
       "</div>"
      ],
      "text/plain": [
       "                   A         B\n",
       "2013-01-04  0.446995  0.936141\n",
       "2013-01-05 -1.196693  0.307608"
      ]
     },
     "execution_count": 87,
     "metadata": {},
     "output_type": "execute_result"
    }
   ],
   "source": [
    "# Get a cross section by index positions\n",
    "df.iloc[3:5,0:2]"
   ]
  },
  {
   "cell_type": "markdown",
   "metadata": {},
   "source": [
    "By lists of integer position locations, similar to the numpy/python style"
   ]
  },
  {
   "cell_type": "code",
   "execution_count": 89,
   "metadata": {
    "collapsed": false
   },
   "outputs": [
    {
     "data": {
      "text/html": [
       "<div>\n",
       "<table border=\"1\" class=\"dataframe\">\n",
       "  <thead>\n",
       "    <tr style=\"text-align: right;\">\n",
       "      <th></th>\n",
       "      <th>A</th>\n",
       "      <th>C</th>\n",
       "    </tr>\n",
       "  </thead>\n",
       "  <tbody>\n",
       "    <tr>\n",
       "      <th>2013-01-02</th>\n",
       "      <td>-1.611736</td>\n",
       "      <td>0.784872</td>\n",
       "    </tr>\n",
       "    <tr>\n",
       "      <th>2013-01-03</th>\n",
       "      <td>1.257567</td>\n",
       "      <td>-0.226159</td>\n",
       "    </tr>\n",
       "    <tr>\n",
       "      <th>2013-01-05</th>\n",
       "      <td>-1.196693</td>\n",
       "      <td>0.502415</td>\n",
       "    </tr>\n",
       "  </tbody>\n",
       "</table>\n",
       "</div>"
      ],
      "text/plain": [
       "                   A         C\n",
       "2013-01-02 -1.611736  0.784872\n",
       "2013-01-03  1.257567 -0.226159\n",
       "2013-01-05 -1.196693  0.502415"
      ]
     },
     "execution_count": 89,
     "metadata": {},
     "output_type": "execute_result"
    }
   ],
   "source": [
    "# iloc will accept lists of position numbers\n",
    "df.iloc[[1,2,4],[0,2]]"
   ]
  },
  {
   "cell_type": "markdown",
   "metadata": {},
   "source": [
    "For slicing rows explicitly"
   ]
  },
  {
   "cell_type": "code",
   "execution_count": 90,
   "metadata": {
    "collapsed": false
   },
   "outputs": [
    {
     "data": {
      "text/html": [
       "<div>\n",
       "<table border=\"1\" class=\"dataframe\">\n",
       "  <thead>\n",
       "    <tr style=\"text-align: right;\">\n",
       "      <th></th>\n",
       "      <th>A</th>\n",
       "      <th>B</th>\n",
       "      <th>C</th>\n",
       "      <th>D</th>\n",
       "    </tr>\n",
       "  </thead>\n",
       "  <tbody>\n",
       "    <tr>\n",
       "      <th>2013-01-02</th>\n",
       "      <td>-1.611736</td>\n",
       "      <td>0.997774</td>\n",
       "      <td>0.784872</td>\n",
       "      <td>-0.940363</td>\n",
       "    </tr>\n",
       "    <tr>\n",
       "      <th>2013-01-03</th>\n",
       "      <td>1.257567</td>\n",
       "      <td>-0.381209</td>\n",
       "      <td>-0.226159</td>\n",
       "      <td>-0.329562</td>\n",
       "    </tr>\n",
       "  </tbody>\n",
       "</table>\n",
       "</div>"
      ],
      "text/plain": [
       "                   A         B         C         D\n",
       "2013-01-02 -1.611736  0.997774  0.784872 -0.940363\n",
       "2013-01-03  1.257567 -0.381209 -0.226159 -0.329562"
      ]
     },
     "execution_count": 90,
     "metadata": {},
     "output_type": "execute_result"
    }
   ],
   "source": [
    "df.iloc[1:3,:]"
   ]
  },
  {
   "cell_type": "markdown",
   "metadata": {},
   "source": [
    "For slicing columns explicitly"
   ]
  },
  {
   "cell_type": "code",
   "execution_count": 91,
   "metadata": {
    "collapsed": false
   },
   "outputs": [
    {
     "data": {
      "text/html": [
       "<div>\n",
       "<table border=\"1\" class=\"dataframe\">\n",
       "  <thead>\n",
       "    <tr style=\"text-align: right;\">\n",
       "      <th></th>\n",
       "      <th>B</th>\n",
       "      <th>C</th>\n",
       "    </tr>\n",
       "  </thead>\n",
       "  <tbody>\n",
       "    <tr>\n",
       "      <th>2013-01-01</th>\n",
       "      <td>0.113105</td>\n",
       "      <td>1.806817</td>\n",
       "    </tr>\n",
       "    <tr>\n",
       "      <th>2013-01-02</th>\n",
       "      <td>0.997774</td>\n",
       "      <td>0.784872</td>\n",
       "    </tr>\n",
       "    <tr>\n",
       "      <th>2013-01-03</th>\n",
       "      <td>-0.381209</td>\n",
       "      <td>-0.226159</td>\n",
       "    </tr>\n",
       "    <tr>\n",
       "      <th>2013-01-04</th>\n",
       "      <td>0.936141</td>\n",
       "      <td>0.098400</td>\n",
       "    </tr>\n",
       "    <tr>\n",
       "      <th>2013-01-05</th>\n",
       "      <td>0.307608</td>\n",
       "      <td>0.502415</td>\n",
       "    </tr>\n",
       "    <tr>\n",
       "      <th>2013-01-06</th>\n",
       "      <td>-0.977452</td>\n",
       "      <td>1.113112</td>\n",
       "    </tr>\n",
       "  </tbody>\n",
       "</table>\n",
       "</div>"
      ],
      "text/plain": [
       "                   B         C\n",
       "2013-01-01  0.113105  1.806817\n",
       "2013-01-02  0.997774  0.784872\n",
       "2013-01-03 -0.381209 -0.226159\n",
       "2013-01-04  0.936141  0.098400\n",
       "2013-01-05  0.307608  0.502415\n",
       "2013-01-06 -0.977452  1.113112"
      ]
     },
     "execution_count": 91,
     "metadata": {},
     "output_type": "execute_result"
    }
   ],
   "source": [
    "df.iloc[:,1:3]"
   ]
  },
  {
   "cell_type": "markdown",
   "metadata": {},
   "source": [
    "For getting a value explicitly"
   ]
  },
  {
   "cell_type": "code",
   "execution_count": 92,
   "metadata": {
    "collapsed": false
   },
   "outputs": [
    {
     "data": {
      "text/plain": [
       "0.99777420156629049"
      ]
     },
     "execution_count": 92,
     "metadata": {},
     "output_type": "execute_result"
    }
   ],
   "source": [
    "df.iloc[1,1]"
   ]
  },
  {
   "cell_type": "markdown",
   "metadata": {},
   "source": [
    "For getting fast access to a scalar (equiv to the prior method)"
   ]
  },
  {
   "cell_type": "code",
   "execution_count": 94,
   "metadata": {
    "collapsed": false
   },
   "outputs": [
    {
     "data": {
      "text/plain": [
       "0.99777420156629049"
      ]
     },
     "execution_count": 94,
     "metadata": {},
     "output_type": "execute_result"
    }
   ],
   "source": [
    "# same as above but faster for one single scaler value\n",
    "df.iat[1,1]"
   ]
  },
  {
   "cell_type": "markdown",
   "metadata": {},
   "source": [
    "## Boolean Indexing"
   ]
  },
  {
   "cell_type": "markdown",
   "metadata": {},
   "source": [
    "Using a single column’s values to select data."
   ]
  },
  {
   "cell_type": "code",
   "execution_count": 161,
   "metadata": {
    "collapsed": false,
    "scrolled": true
   },
   "outputs": [
    {
     "name": "stdout",
     "output_type": "stream",
     "text": [
      "                   A         B         C  D    F\n",
      "2013-01-01  0.000000  0.000000  1.806817  5  NaN\n",
      "2013-01-02 -1.611736  0.997774  0.784872  5  1.0\n",
      "2013-01-03  1.257567 -0.381209 -0.226159  5  2.0\n",
      "2013-01-04  0.446995  0.936141  0.098400  5  3.0\n",
      "2013-01-05 -1.196693  0.307608  0.502415  5  4.0\n",
      "2013-01-06 -1.201172 -0.977452  1.113112  5  5.0\n",
      "                   A         B         C  D    F\n",
      "2013-01-03  1.257567 -0.381209 -0.226159  5  2.0\n",
      "2013-01-04  0.446995  0.936141  0.098400  5  3.0\n",
      "\n",
      "2013-01-01    False\n",
      "2013-01-02    False\n",
      "2013-01-03     True\n",
      "2013-01-04     True\n",
      "2013-01-05    False\n",
      "2013-01-06    False\n",
      "Freq: D, Name: A, dtype: bool\n",
      "                   A         B         C  D    F\n",
      "2013-01-03  1.257567 -0.381209 -0.226159  5  2.0\n",
      "2013-01-04  0.446995  0.936141  0.098400  5  3.0\n"
     ]
    }
   ],
   "source": [
    "print df\n",
    "\n",
    "# this will be only the rows where the A column is > 0\n",
    "print df[df.A > 0]\n",
    "print\n",
    "\n",
    "# same result\n",
    "print df['A'] > 0\n",
    "print df[df['A'] > 0]"
   ]
  },
  {
   "cell_type": "markdown",
   "metadata": {},
   "source": [
    "A where operation for getting."
   ]
  },
  {
   "cell_type": "code",
   "execution_count": 102,
   "metadata": {
    "collapsed": false
   },
   "outputs": [
    {
     "name": "stdout",
     "output_type": "stream",
     "text": [
      "                A      B      C      D\n",
      "2013-01-01  False   True   True   True\n",
      "2013-01-02  False   True   True  False\n",
      "2013-01-03   True  False  False  False\n",
      "2013-01-04   True   True   True   True\n",
      "2013-01-05  False   True   True   True\n",
      "2013-01-06  False  False   True  False\n"
     ]
    },
    {
     "data": {
      "text/html": [
       "<div>\n",
       "<table border=\"1\" class=\"dataframe\">\n",
       "  <thead>\n",
       "    <tr style=\"text-align: right;\">\n",
       "      <th></th>\n",
       "      <th>A</th>\n",
       "      <th>B</th>\n",
       "      <th>C</th>\n",
       "      <th>D</th>\n",
       "    </tr>\n",
       "  </thead>\n",
       "  <tbody>\n",
       "    <tr>\n",
       "      <th>2013-01-01</th>\n",
       "      <td>NaN</td>\n",
       "      <td>0.113105</td>\n",
       "      <td>1.806817</td>\n",
       "      <td>1.134625</td>\n",
       "    </tr>\n",
       "    <tr>\n",
       "      <th>2013-01-02</th>\n",
       "      <td>NaN</td>\n",
       "      <td>0.997774</td>\n",
       "      <td>0.784872</td>\n",
       "      <td>NaN</td>\n",
       "    </tr>\n",
       "    <tr>\n",
       "      <th>2013-01-03</th>\n",
       "      <td>1.257567</td>\n",
       "      <td>NaN</td>\n",
       "      <td>NaN</td>\n",
       "      <td>NaN</td>\n",
       "    </tr>\n",
       "    <tr>\n",
       "      <th>2013-01-04</th>\n",
       "      <td>0.446995</td>\n",
       "      <td>0.936141</td>\n",
       "      <td>0.098400</td>\n",
       "      <td>0.157782</td>\n",
       "    </tr>\n",
       "    <tr>\n",
       "      <th>2013-01-05</th>\n",
       "      <td>NaN</td>\n",
       "      <td>0.307608</td>\n",
       "      <td>0.502415</td>\n",
       "      <td>0.474626</td>\n",
       "    </tr>\n",
       "    <tr>\n",
       "      <th>2013-01-06</th>\n",
       "      <td>NaN</td>\n",
       "      <td>NaN</td>\n",
       "      <td>1.113112</td>\n",
       "      <td>NaN</td>\n",
       "    </tr>\n",
       "  </tbody>\n",
       "</table>\n",
       "</div>"
      ],
      "text/plain": [
       "                   A         B         C         D\n",
       "2013-01-01       NaN  0.113105  1.806817  1.134625\n",
       "2013-01-02       NaN  0.997774  0.784872       NaN\n",
       "2013-01-03  1.257567       NaN       NaN       NaN\n",
       "2013-01-04  0.446995  0.936141  0.098400  0.157782\n",
       "2013-01-05       NaN  0.307608  0.502415  0.474626\n",
       "2013-01-06       NaN       NaN  1.113112       NaN"
      ]
     },
     "execution_count": 102,
     "metadata": {},
     "output_type": "execute_result"
    }
   ],
   "source": [
    "# Try this to see which elements are > 0\n",
    "print df > 0\n",
    "# The show only those values\n",
    "df[df > 0]"
   ]
  },
  {
   "cell_type": "markdown",
   "metadata": {},
   "source": [
    "Using the isin() method for filtering:"
   ]
  },
  {
   "cell_type": "code",
   "execution_count": 103,
   "metadata": {
    "collapsed": false,
    "scrolled": true
   },
   "outputs": [],
   "source": [
    "df2 = df.copy()"
   ]
  },
  {
   "cell_type": "code",
   "execution_count": 104,
   "metadata": {
    "collapsed": true
   },
   "outputs": [],
   "source": [
    "# We are about to add a new column to df2\n",
    "df2['E'] = ['one','one', 'two','three','four','three']"
   ]
  },
  {
   "cell_type": "code",
   "execution_count": 41,
   "metadata": {
    "collapsed": false
   },
   "outputs": [
    {
     "data": {
      "text/html": [
       "<div>\n",
       "<table border=\"1\" class=\"dataframe\">\n",
       "  <thead>\n",
       "    <tr style=\"text-align: right;\">\n",
       "      <th></th>\n",
       "      <th>A</th>\n",
       "      <th>B</th>\n",
       "      <th>C</th>\n",
       "      <th>D</th>\n",
       "      <th>E</th>\n",
       "    </tr>\n",
       "  </thead>\n",
       "  <tbody>\n",
       "    <tr>\n",
       "      <th>2013-01-01</th>\n",
       "      <td>-0.197263</td>\n",
       "      <td>-0.535292</td>\n",
       "      <td>-0.248497</td>\n",
       "      <td>1.265417</td>\n",
       "      <td>one</td>\n",
       "    </tr>\n",
       "    <tr>\n",
       "      <th>2013-01-02</th>\n",
       "      <td>0.701889</td>\n",
       "      <td>0.606479</td>\n",
       "      <td>-3.644729</td>\n",
       "      <td>1.751445</td>\n",
       "      <td>one</td>\n",
       "    </tr>\n",
       "    <tr>\n",
       "      <th>2013-01-03</th>\n",
       "      <td>-0.204518</td>\n",
       "      <td>2.126831</td>\n",
       "      <td>-0.632311</td>\n",
       "      <td>-0.435404</td>\n",
       "      <td>two</td>\n",
       "    </tr>\n",
       "    <tr>\n",
       "      <th>2013-01-04</th>\n",
       "      <td>-2.227587</td>\n",
       "      <td>-0.093817</td>\n",
       "      <td>0.277722</td>\n",
       "      <td>1.608733</td>\n",
       "      <td>three</td>\n",
       "    </tr>\n",
       "    <tr>\n",
       "      <th>2013-01-05</th>\n",
       "      <td>-0.522452</td>\n",
       "      <td>-1.765425</td>\n",
       "      <td>1.602216</td>\n",
       "      <td>0.023162</td>\n",
       "      <td>four</td>\n",
       "    </tr>\n",
       "    <tr>\n",
       "      <th>2013-01-06</th>\n",
       "      <td>-0.364047</td>\n",
       "      <td>0.413232</td>\n",
       "      <td>-0.469531</td>\n",
       "      <td>1.860893</td>\n",
       "      <td>three</td>\n",
       "    </tr>\n",
       "  </tbody>\n",
       "</table>\n",
       "</div>"
      ],
      "text/plain": [
       "                   A         B         C         D      E\n",
       "2013-01-01 -0.197263 -0.535292 -0.248497  1.265417    one\n",
       "2013-01-02  0.701889  0.606479 -3.644729  1.751445    one\n",
       "2013-01-03 -0.204518  2.126831 -0.632311 -0.435404    two\n",
       "2013-01-04 -2.227587 -0.093817  0.277722  1.608733  three\n",
       "2013-01-05 -0.522452 -1.765425  1.602216  0.023162   four\n",
       "2013-01-06 -0.364047  0.413232 -0.469531  1.860893  three"
      ]
     },
     "execution_count": 41,
     "metadata": {},
     "output_type": "execute_result"
    }
   ],
   "source": [
    "df2"
   ]
  },
  {
   "cell_type": "code",
   "execution_count": 110,
   "metadata": {
    "collapsed": false
   },
   "outputs": [
    {
     "name": "stdout",
     "output_type": "stream",
     "text": [
      "2013-01-01    False\n",
      "2013-01-02    False\n",
      "2013-01-03     True\n",
      "2013-01-04    False\n",
      "2013-01-05     True\n",
      "2013-01-06    False\n",
      "Freq: D, Name: E, dtype: bool\n"
     ]
    },
    {
     "data": {
      "text/html": [
       "<div>\n",
       "<table border=\"1\" class=\"dataframe\">\n",
       "  <thead>\n",
       "    <tr style=\"text-align: right;\">\n",
       "      <th></th>\n",
       "      <th>A</th>\n",
       "      <th>B</th>\n",
       "      <th>C</th>\n",
       "      <th>D</th>\n",
       "      <th>E</th>\n",
       "    </tr>\n",
       "  </thead>\n",
       "  <tbody>\n",
       "    <tr>\n",
       "      <th>2013-01-03</th>\n",
       "      <td>1.257567</td>\n",
       "      <td>-0.381209</td>\n",
       "      <td>-0.226159</td>\n",
       "      <td>-0.329562</td>\n",
       "      <td>two</td>\n",
       "    </tr>\n",
       "    <tr>\n",
       "      <th>2013-01-05</th>\n",
       "      <td>-1.196693</td>\n",
       "      <td>0.307608</td>\n",
       "      <td>0.502415</td>\n",
       "      <td>0.474626</td>\n",
       "      <td>four</td>\n",
       "    </tr>\n",
       "  </tbody>\n",
       "</table>\n",
       "</div>"
      ],
      "text/plain": [
       "                   A         B         C         D     E\n",
       "2013-01-03  1.257567 -0.381209 -0.226159 -0.329562   two\n",
       "2013-01-05 -1.196693  0.307608  0.502415  0.474626  four"
      ]
     },
     "execution_count": 110,
     "metadata": {},
     "output_type": "execute_result"
    }
   ],
   "source": [
    "# We use isin to get only the rows that have 'two' and 'four'\n",
    "print df2['E'].isin(['two','four'])\n",
    "\n",
    "df2[df2['E'].isin(['two','four'])]\n",
    "\n",
    "\n"
   ]
  },
  {
   "cell_type": "markdown",
   "metadata": {},
   "source": [
    "## Setting"
   ]
  },
  {
   "cell_type": "markdown",
   "metadata": {},
   "source": [
    "Setting a new column automatically aligns the data by the indexes"
   ]
  },
  {
   "cell_type": "code",
   "execution_count": 111,
   "metadata": {
    "collapsed": false
   },
   "outputs": [],
   "source": [
    "s1 = pd.Series([1,2,3,4,5,6], index=pd.date_range('20130102',periods=6))"
   ]
  },
  {
   "cell_type": "code",
   "execution_count": 44,
   "metadata": {
    "collapsed": false
   },
   "outputs": [
    {
     "data": {
      "text/plain": [
       "2013-01-02    1\n",
       "2013-01-03    2\n",
       "2013-01-04    3\n",
       "2013-01-05    4\n",
       "2013-01-06    5\n",
       "2013-01-07    6\n",
       "Freq: D, dtype: int64"
      ]
     },
     "execution_count": 44,
     "metadata": {},
     "output_type": "execute_result"
    }
   ],
   "source": [
    "s1"
   ]
  },
  {
   "cell_type": "code",
   "execution_count": 162,
   "metadata": {
    "collapsed": false
   },
   "outputs": [
    {
     "data": {
      "text/html": [
       "<div>\n",
       "<table border=\"1\" class=\"dataframe\">\n",
       "  <thead>\n",
       "    <tr style=\"text-align: right;\">\n",
       "      <th></th>\n",
       "      <th>A</th>\n",
       "      <th>B</th>\n",
       "      <th>C</th>\n",
       "      <th>D</th>\n",
       "      <th>F</th>\n",
       "    </tr>\n",
       "  </thead>\n",
       "  <tbody>\n",
       "    <tr>\n",
       "      <th>2013-01-01</th>\n",
       "      <td>0.000000</td>\n",
       "      <td>0.000000</td>\n",
       "      <td>1.806817</td>\n",
       "      <td>5</td>\n",
       "      <td>NaN</td>\n",
       "    </tr>\n",
       "    <tr>\n",
       "      <th>2013-01-02</th>\n",
       "      <td>-1.611736</td>\n",
       "      <td>0.997774</td>\n",
       "      <td>0.784872</td>\n",
       "      <td>5</td>\n",
       "      <td>1.0</td>\n",
       "    </tr>\n",
       "    <tr>\n",
       "      <th>2013-01-03</th>\n",
       "      <td>1.257567</td>\n",
       "      <td>-0.381209</td>\n",
       "      <td>-0.226159</td>\n",
       "      <td>5</td>\n",
       "      <td>2.0</td>\n",
       "    </tr>\n",
       "    <tr>\n",
       "      <th>2013-01-04</th>\n",
       "      <td>0.446995</td>\n",
       "      <td>0.936141</td>\n",
       "      <td>0.098400</td>\n",
       "      <td>5</td>\n",
       "      <td>3.0</td>\n",
       "    </tr>\n",
       "    <tr>\n",
       "      <th>2013-01-05</th>\n",
       "      <td>-1.196693</td>\n",
       "      <td>0.307608</td>\n",
       "      <td>0.502415</td>\n",
       "      <td>5</td>\n",
       "      <td>4.0</td>\n",
       "    </tr>\n",
       "    <tr>\n",
       "      <th>2013-01-06</th>\n",
       "      <td>-1.201172</td>\n",
       "      <td>-0.977452</td>\n",
       "      <td>1.113112</td>\n",
       "      <td>5</td>\n",
       "      <td>5.0</td>\n",
       "    </tr>\n",
       "  </tbody>\n",
       "</table>\n",
       "</div>"
      ],
      "text/plain": [
       "                   A         B         C  D    F\n",
       "2013-01-01  0.000000  0.000000  1.806817  5  NaN\n",
       "2013-01-02 -1.611736  0.997774  0.784872  5  1.0\n",
       "2013-01-03  1.257567 -0.381209 -0.226159  5  2.0\n",
       "2013-01-04  0.446995  0.936141  0.098400  5  3.0\n",
       "2013-01-05 -1.196693  0.307608  0.502415  5  4.0\n",
       "2013-01-06 -1.201172 -0.977452  1.113112  5  5.0"
      ]
     },
     "execution_count": 162,
     "metadata": {},
     "output_type": "execute_result"
    }
   ],
   "source": [
    "# Many of the same indexing and slicing methods can be used also to set data\n",
    "df['F'] = s1\n",
    "df"
   ]
  },
  {
   "cell_type": "markdown",
   "metadata": {},
   "source": [
    "Setting values by label"
   ]
  },
  {
   "cell_type": "code",
   "execution_count": 115,
   "metadata": {
    "collapsed": false
   },
   "outputs": [
    {
     "data": {
      "text/html": [
       "<div>\n",
       "<table border=\"1\" class=\"dataframe\">\n",
       "  <thead>\n",
       "    <tr style=\"text-align: right;\">\n",
       "      <th></th>\n",
       "      <th>A</th>\n",
       "      <th>B</th>\n",
       "      <th>C</th>\n",
       "      <th>D</th>\n",
       "      <th>F</th>\n",
       "    </tr>\n",
       "  </thead>\n",
       "  <tbody>\n",
       "    <tr>\n",
       "      <th>2013-01-01</th>\n",
       "      <td>0.000000</td>\n",
       "      <td>0.113105</td>\n",
       "      <td>1.806817</td>\n",
       "      <td>1.134625</td>\n",
       "      <td>NaN</td>\n",
       "    </tr>\n",
       "    <tr>\n",
       "      <th>2013-01-02</th>\n",
       "      <td>-1.611736</td>\n",
       "      <td>0.997774</td>\n",
       "      <td>0.784872</td>\n",
       "      <td>-0.940363</td>\n",
       "      <td>1.0</td>\n",
       "    </tr>\n",
       "    <tr>\n",
       "      <th>2013-01-03</th>\n",
       "      <td>1.257567</td>\n",
       "      <td>-0.381209</td>\n",
       "      <td>-0.226159</td>\n",
       "      <td>-0.329562</td>\n",
       "      <td>2.0</td>\n",
       "    </tr>\n",
       "    <tr>\n",
       "      <th>2013-01-04</th>\n",
       "      <td>0.446995</td>\n",
       "      <td>0.936141</td>\n",
       "      <td>0.098400</td>\n",
       "      <td>0.157782</td>\n",
       "      <td>3.0</td>\n",
       "    </tr>\n",
       "    <tr>\n",
       "      <th>2013-01-05</th>\n",
       "      <td>-1.196693</td>\n",
       "      <td>0.307608</td>\n",
       "      <td>0.502415</td>\n",
       "      <td>0.474626</td>\n",
       "      <td>4.0</td>\n",
       "    </tr>\n",
       "    <tr>\n",
       "      <th>2013-01-06</th>\n",
       "      <td>-1.201172</td>\n",
       "      <td>-0.977452</td>\n",
       "      <td>1.113112</td>\n",
       "      <td>-0.110576</td>\n",
       "      <td>5.0</td>\n",
       "    </tr>\n",
       "  </tbody>\n",
       "</table>\n",
       "</div>"
      ],
      "text/plain": [
       "                   A         B         C         D    F\n",
       "2013-01-01  0.000000  0.113105  1.806817  1.134625  NaN\n",
       "2013-01-02 -1.611736  0.997774  0.784872 -0.940363  1.0\n",
       "2013-01-03  1.257567 -0.381209 -0.226159 -0.329562  2.0\n",
       "2013-01-04  0.446995  0.936141  0.098400  0.157782  3.0\n",
       "2013-01-05 -1.196693  0.307608  0.502415  0.474626  4.0\n",
       "2013-01-06 -1.201172 -0.977452  1.113112 -0.110576  5.0"
      ]
     },
     "execution_count": 115,
     "metadata": {},
     "output_type": "execute_result"
    }
   ],
   "source": [
    "# look at the first row and column\n",
    "df.at[dates[0],'A'] = 0\n",
    "df"
   ]
  },
  {
   "cell_type": "markdown",
   "metadata": {},
   "source": [
    "Setting values by position"
   ]
  },
  {
   "cell_type": "code",
   "execution_count": 163,
   "metadata": {
    "collapsed": false
   },
   "outputs": [
    {
     "data": {
      "text/html": [
       "<div>\n",
       "<table border=\"1\" class=\"dataframe\">\n",
       "  <thead>\n",
       "    <tr style=\"text-align: right;\">\n",
       "      <th></th>\n",
       "      <th>A</th>\n",
       "      <th>B</th>\n",
       "      <th>C</th>\n",
       "      <th>D</th>\n",
       "      <th>F</th>\n",
       "    </tr>\n",
       "  </thead>\n",
       "  <tbody>\n",
       "    <tr>\n",
       "      <th>2013-01-01</th>\n",
       "      <td>0.000000</td>\n",
       "      <td>0.000000</td>\n",
       "      <td>1.806817</td>\n",
       "      <td>5</td>\n",
       "      <td>NaN</td>\n",
       "    </tr>\n",
       "    <tr>\n",
       "      <th>2013-01-02</th>\n",
       "      <td>-1.611736</td>\n",
       "      <td>0.997774</td>\n",
       "      <td>0.784872</td>\n",
       "      <td>5</td>\n",
       "      <td>1.0</td>\n",
       "    </tr>\n",
       "    <tr>\n",
       "      <th>2013-01-03</th>\n",
       "      <td>1.257567</td>\n",
       "      <td>-0.381209</td>\n",
       "      <td>-0.226159</td>\n",
       "      <td>5</td>\n",
       "      <td>2.0</td>\n",
       "    </tr>\n",
       "    <tr>\n",
       "      <th>2013-01-04</th>\n",
       "      <td>0.446995</td>\n",
       "      <td>0.936141</td>\n",
       "      <td>0.098400</td>\n",
       "      <td>5</td>\n",
       "      <td>3.0</td>\n",
       "    </tr>\n",
       "    <tr>\n",
       "      <th>2013-01-05</th>\n",
       "      <td>-1.196693</td>\n",
       "      <td>0.307608</td>\n",
       "      <td>0.502415</td>\n",
       "      <td>5</td>\n",
       "      <td>4.0</td>\n",
       "    </tr>\n",
       "    <tr>\n",
       "      <th>2013-01-06</th>\n",
       "      <td>-1.201172</td>\n",
       "      <td>-0.977452</td>\n",
       "      <td>1.113112</td>\n",
       "      <td>5</td>\n",
       "      <td>5.0</td>\n",
       "    </tr>\n",
       "  </tbody>\n",
       "</table>\n",
       "</div>"
      ],
      "text/plain": [
       "                   A         B         C  D    F\n",
       "2013-01-01  0.000000  0.000000  1.806817  5  NaN\n",
       "2013-01-02 -1.611736  0.997774  0.784872  5  1.0\n",
       "2013-01-03  1.257567 -0.381209 -0.226159  5  2.0\n",
       "2013-01-04  0.446995  0.936141  0.098400  5  3.0\n",
       "2013-01-05 -1.196693  0.307608  0.502415  5  4.0\n",
       "2013-01-06 -1.201172 -0.977452  1.113112  5  5.0"
      ]
     },
     "execution_count": 163,
     "metadata": {},
     "output_type": "execute_result"
    }
   ],
   "source": [
    "df.iat[0,1] = 0\n",
    "df"
   ]
  },
  {
   "cell_type": "markdown",
   "metadata": {},
   "source": [
    "Setting by assigning with a numpy array"
   ]
  },
  {
   "cell_type": "code",
   "execution_count": 118,
   "metadata": {
    "collapsed": false
   },
   "outputs": [
    {
     "data": {
      "text/html": [
       "<div>\n",
       "<table border=\"1\" class=\"dataframe\">\n",
       "  <thead>\n",
       "    <tr style=\"text-align: right;\">\n",
       "      <th></th>\n",
       "      <th>A</th>\n",
       "      <th>B</th>\n",
       "      <th>C</th>\n",
       "      <th>D</th>\n",
       "      <th>F</th>\n",
       "    </tr>\n",
       "  </thead>\n",
       "  <tbody>\n",
       "    <tr>\n",
       "      <th>2013-01-01</th>\n",
       "      <td>0.000000</td>\n",
       "      <td>0.000000</td>\n",
       "      <td>1.806817</td>\n",
       "      <td>5</td>\n",
       "      <td>NaN</td>\n",
       "    </tr>\n",
       "    <tr>\n",
       "      <th>2013-01-02</th>\n",
       "      <td>-1.611736</td>\n",
       "      <td>0.997774</td>\n",
       "      <td>0.784872</td>\n",
       "      <td>5</td>\n",
       "      <td>1.0</td>\n",
       "    </tr>\n",
       "    <tr>\n",
       "      <th>2013-01-03</th>\n",
       "      <td>1.257567</td>\n",
       "      <td>-0.381209</td>\n",
       "      <td>-0.226159</td>\n",
       "      <td>5</td>\n",
       "      <td>2.0</td>\n",
       "    </tr>\n",
       "    <tr>\n",
       "      <th>2013-01-04</th>\n",
       "      <td>0.446995</td>\n",
       "      <td>0.936141</td>\n",
       "      <td>0.098400</td>\n",
       "      <td>5</td>\n",
       "      <td>3.0</td>\n",
       "    </tr>\n",
       "    <tr>\n",
       "      <th>2013-01-05</th>\n",
       "      <td>-1.196693</td>\n",
       "      <td>0.307608</td>\n",
       "      <td>0.502415</td>\n",
       "      <td>5</td>\n",
       "      <td>4.0</td>\n",
       "    </tr>\n",
       "    <tr>\n",
       "      <th>2013-01-06</th>\n",
       "      <td>-1.201172</td>\n",
       "      <td>-0.977452</td>\n",
       "      <td>1.113112</td>\n",
       "      <td>5</td>\n",
       "      <td>5.0</td>\n",
       "    </tr>\n",
       "  </tbody>\n",
       "</table>\n",
       "</div>"
      ],
      "text/plain": [
       "                   A         B         C  D    F\n",
       "2013-01-01  0.000000  0.000000  1.806817  5  NaN\n",
       "2013-01-02 -1.611736  0.997774  0.784872  5  1.0\n",
       "2013-01-03  1.257567 -0.381209 -0.226159  5  2.0\n",
       "2013-01-04  0.446995  0.936141  0.098400  5  3.0\n",
       "2013-01-05 -1.196693  0.307608  0.502415  5  4.0\n",
       "2013-01-06 -1.201172 -0.977452  1.113112  5  5.0"
      ]
     },
     "execution_count": 118,
     "metadata": {},
     "output_type": "execute_result"
    }
   ],
   "source": [
    "df.loc[:,'D'] = np.array([5] * len(df))\n",
    "df"
   ]
  },
  {
   "cell_type": "markdown",
   "metadata": {},
   "source": [
    "The result of the prior setting operations"
   ]
  },
  {
   "cell_type": "code",
   "execution_count": 119,
   "metadata": {
    "collapsed": false
   },
   "outputs": [
    {
     "data": {
      "text/html": [
       "<div>\n",
       "<table border=\"1\" class=\"dataframe\">\n",
       "  <thead>\n",
       "    <tr style=\"text-align: right;\">\n",
       "      <th></th>\n",
       "      <th>A</th>\n",
       "      <th>B</th>\n",
       "      <th>C</th>\n",
       "      <th>D</th>\n",
       "      <th>F</th>\n",
       "    </tr>\n",
       "  </thead>\n",
       "  <tbody>\n",
       "    <tr>\n",
       "      <th>2013-01-01</th>\n",
       "      <td>0.000000</td>\n",
       "      <td>0.000000</td>\n",
       "      <td>1.806817</td>\n",
       "      <td>5</td>\n",
       "      <td>NaN</td>\n",
       "    </tr>\n",
       "    <tr>\n",
       "      <th>2013-01-02</th>\n",
       "      <td>-1.611736</td>\n",
       "      <td>0.997774</td>\n",
       "      <td>0.784872</td>\n",
       "      <td>5</td>\n",
       "      <td>1.0</td>\n",
       "    </tr>\n",
       "    <tr>\n",
       "      <th>2013-01-03</th>\n",
       "      <td>1.257567</td>\n",
       "      <td>-0.381209</td>\n",
       "      <td>-0.226159</td>\n",
       "      <td>5</td>\n",
       "      <td>2.0</td>\n",
       "    </tr>\n",
       "    <tr>\n",
       "      <th>2013-01-04</th>\n",
       "      <td>0.446995</td>\n",
       "      <td>0.936141</td>\n",
       "      <td>0.098400</td>\n",
       "      <td>5</td>\n",
       "      <td>3.0</td>\n",
       "    </tr>\n",
       "    <tr>\n",
       "      <th>2013-01-05</th>\n",
       "      <td>-1.196693</td>\n",
       "      <td>0.307608</td>\n",
       "      <td>0.502415</td>\n",
       "      <td>5</td>\n",
       "      <td>4.0</td>\n",
       "    </tr>\n",
       "    <tr>\n",
       "      <th>2013-01-06</th>\n",
       "      <td>-1.201172</td>\n",
       "      <td>-0.977452</td>\n",
       "      <td>1.113112</td>\n",
       "      <td>5</td>\n",
       "      <td>5.0</td>\n",
       "    </tr>\n",
       "  </tbody>\n",
       "</table>\n",
       "</div>"
      ],
      "text/plain": [
       "                   A         B         C  D    F\n",
       "2013-01-01  0.000000  0.000000  1.806817  5  NaN\n",
       "2013-01-02 -1.611736  0.997774  0.784872  5  1.0\n",
       "2013-01-03  1.257567 -0.381209 -0.226159  5  2.0\n",
       "2013-01-04  0.446995  0.936141  0.098400  5  3.0\n",
       "2013-01-05 -1.196693  0.307608  0.502415  5  4.0\n",
       "2013-01-06 -1.201172 -0.977452  1.113112  5  5.0"
      ]
     },
     "execution_count": 119,
     "metadata": {},
     "output_type": "execute_result"
    }
   ],
   "source": [
    "df"
   ]
  },
  {
   "cell_type": "markdown",
   "metadata": {},
   "source": [
    "A where operation with setting."
   ]
  },
  {
   "cell_type": "code",
   "execution_count": 129,
   "metadata": {
    "collapsed": false
   },
   "outputs": [
    {
     "data": {
      "text/html": [
       "<div>\n",
       "<table border=\"1\" class=\"dataframe\">\n",
       "  <thead>\n",
       "    <tr style=\"text-align: right;\">\n",
       "      <th></th>\n",
       "      <th>A</th>\n",
       "      <th>B</th>\n",
       "      <th>C</th>\n",
       "      <th>D</th>\n",
       "      <th>F</th>\n",
       "    </tr>\n",
       "  </thead>\n",
       "  <tbody>\n",
       "    <tr>\n",
       "      <th>2013-01-01</th>\n",
       "      <td>0.000000</td>\n",
       "      <td>0.000000</td>\n",
       "      <td>1.806817</td>\n",
       "      <td>5</td>\n",
       "      <td>NaN</td>\n",
       "    </tr>\n",
       "    <tr>\n",
       "      <th>2013-01-02</th>\n",
       "      <td>-1.611736</td>\n",
       "      <td>0.997774</td>\n",
       "      <td>0.784872</td>\n",
       "      <td>5</td>\n",
       "      <td>1.0</td>\n",
       "    </tr>\n",
       "    <tr>\n",
       "      <th>2013-01-03</th>\n",
       "      <td>1.257567</td>\n",
       "      <td>-0.381209</td>\n",
       "      <td>-0.226159</td>\n",
       "      <td>5</td>\n",
       "      <td>2.0</td>\n",
       "    </tr>\n",
       "    <tr>\n",
       "      <th>2013-01-04</th>\n",
       "      <td>0.446995</td>\n",
       "      <td>0.936141</td>\n",
       "      <td>0.098400</td>\n",
       "      <td>5</td>\n",
       "      <td>3.0</td>\n",
       "    </tr>\n",
       "    <tr>\n",
       "      <th>2013-01-05</th>\n",
       "      <td>-1.196693</td>\n",
       "      <td>0.307608</td>\n",
       "      <td>0.502415</td>\n",
       "      <td>5</td>\n",
       "      <td>4.0</td>\n",
       "    </tr>\n",
       "    <tr>\n",
       "      <th>2013-01-06</th>\n",
       "      <td>-1.201172</td>\n",
       "      <td>-0.977452</td>\n",
       "      <td>1.113112</td>\n",
       "      <td>5</td>\n",
       "      <td>5.0</td>\n",
       "    </tr>\n",
       "  </tbody>\n",
       "</table>\n",
       "</div>"
      ],
      "text/plain": [
       "                   A         B         C  D    F\n",
       "2013-01-01  0.000000  0.000000  1.806817  5  NaN\n",
       "2013-01-02 -1.611736  0.997774  0.784872  5  1.0\n",
       "2013-01-03  1.257567 -0.381209 -0.226159  5  2.0\n",
       "2013-01-04  0.446995  0.936141  0.098400  5  3.0\n",
       "2013-01-05 -1.196693  0.307608  0.502415  5  4.0\n",
       "2013-01-06 -1.201172 -0.977452  1.113112  5  5.0"
      ]
     },
     "execution_count": 129,
     "metadata": {},
     "output_type": "execute_result"
    }
   ],
   "source": [
    "# making a copy\n",
    "df2 = df.copy()\n",
    "df2"
   ]
  },
  {
   "cell_type": "code",
   "execution_count": 131,
   "metadata": {
    "collapsed": false
   },
   "outputs": [
    {
     "data": {
      "text/html": [
       "<div>\n",
       "<table border=\"1\" class=\"dataframe\">\n",
       "  <thead>\n",
       "    <tr style=\"text-align: right;\">\n",
       "      <th></th>\n",
       "      <th>A</th>\n",
       "      <th>B</th>\n",
       "      <th>C</th>\n",
       "      <th>D</th>\n",
       "      <th>F</th>\n",
       "    </tr>\n",
       "  </thead>\n",
       "  <tbody>\n",
       "    <tr>\n",
       "      <th>2013-01-01</th>\n",
       "      <td>-0.000000</td>\n",
       "      <td>-0.000000</td>\n",
       "      <td>1.806817</td>\n",
       "      <td>5.0</td>\n",
       "      <td>NaN</td>\n",
       "    </tr>\n",
       "    <tr>\n",
       "      <th>2013-01-02</th>\n",
       "      <td>1.611736</td>\n",
       "      <td>0.997774</td>\n",
       "      <td>0.784872</td>\n",
       "      <td>5.0</td>\n",
       "      <td>1.0</td>\n",
       "    </tr>\n",
       "    <tr>\n",
       "      <th>2013-01-03</th>\n",
       "      <td>1.257567</td>\n",
       "      <td>0.381209</td>\n",
       "      <td>0.226159</td>\n",
       "      <td>5.0</td>\n",
       "      <td>2.0</td>\n",
       "    </tr>\n",
       "    <tr>\n",
       "      <th>2013-01-04</th>\n",
       "      <td>0.446995</td>\n",
       "      <td>0.936141</td>\n",
       "      <td>0.098400</td>\n",
       "      <td>5.0</td>\n",
       "      <td>3.0</td>\n",
       "    </tr>\n",
       "    <tr>\n",
       "      <th>2013-01-05</th>\n",
       "      <td>1.196693</td>\n",
       "      <td>0.307608</td>\n",
       "      <td>0.502415</td>\n",
       "      <td>5.0</td>\n",
       "      <td>4.0</td>\n",
       "    </tr>\n",
       "    <tr>\n",
       "      <th>2013-01-06</th>\n",
       "      <td>1.201172</td>\n",
       "      <td>0.977452</td>\n",
       "      <td>1.113112</td>\n",
       "      <td>5.0</td>\n",
       "      <td>5.0</td>\n",
       "    </tr>\n",
       "  </tbody>\n",
       "</table>\n",
       "</div>"
      ],
      "text/plain": [
       "                   A         B         C    D    F\n",
       "2013-01-01 -0.000000 -0.000000  1.806817  5.0  NaN\n",
       "2013-01-02  1.611736  0.997774  0.784872  5.0  1.0\n",
       "2013-01-03  1.257567  0.381209  0.226159  5.0  2.0\n",
       "2013-01-04  0.446995  0.936141  0.098400  5.0  3.0\n",
       "2013-01-05  1.196693  0.307608  0.502415  5.0  4.0\n",
       "2013-01-06  1.201172  0.977452  1.113112  5.0  5.0"
      ]
     },
     "execution_count": 131,
     "metadata": {},
     "output_type": "execute_result"
    }
   ],
   "source": [
    "# change the sign of values where df<0\n",
    "dfx = df2[df2 < 0] = -df2\n",
    "dfx"
   ]
  },
  {
   "cell_type": "markdown",
   "metadata": {},
   "source": [
    "## Missing Data\n",
    "\n",
    "pandas primarily uses the value np.nan to represent missing data. It is by default not included in computations. See the Missing Data section"
   ]
  },
  {
   "cell_type": "markdown",
   "metadata": {
    "collapsed": true
   },
   "source": [
    "Reindexing allows you to change/add/delete the index on a specified axis. This returns a copy of the data."
   ]
  },
  {
   "cell_type": "code",
   "execution_count": 142,
   "metadata": {
    "collapsed": false
   },
   "outputs": [
    {
     "name": "stdout",
     "output_type": "stream",
     "text": [
      "                   A         B         C  D    F\n",
      "2013-01-01  0.000000  0.000000  1.806817  5  NaN\n",
      "2013-01-02 -1.611736  0.997774  0.784872  5  1.0\n",
      "2013-01-03  1.257567 -0.381209 -0.226159  5  2.0\n",
      "2013-01-04  0.446995  0.936141  0.098400  5  3.0\n",
      "2013-01-05 -1.196693  0.307608  0.502415  5  4.0\n",
      "2013-01-06 -1.201172 -0.977452  1.113112  5  5.0\n"
     ]
    },
    {
     "data": {
      "text/html": [
       "<div>\n",
       "<table border=\"1\" class=\"dataframe\">\n",
       "  <thead>\n",
       "    <tr style=\"text-align: right;\">\n",
       "      <th></th>\n",
       "      <th>A</th>\n",
       "      <th>B</th>\n",
       "      <th>C</th>\n",
       "      <th>D</th>\n",
       "      <th>F</th>\n",
       "      <th>E</th>\n",
       "    </tr>\n",
       "  </thead>\n",
       "  <tbody>\n",
       "    <tr>\n",
       "      <th>2013-01-01</th>\n",
       "      <td>0.000000</td>\n",
       "      <td>0.000000</td>\n",
       "      <td>1.806817</td>\n",
       "      <td>5</td>\n",
       "      <td>NaN</td>\n",
       "      <td>NaN</td>\n",
       "    </tr>\n",
       "    <tr>\n",
       "      <th>2013-01-02</th>\n",
       "      <td>-1.611736</td>\n",
       "      <td>0.997774</td>\n",
       "      <td>0.784872</td>\n",
       "      <td>5</td>\n",
       "      <td>1.0</td>\n",
       "      <td>NaN</td>\n",
       "    </tr>\n",
       "    <tr>\n",
       "      <th>2013-01-03</th>\n",
       "      <td>1.257567</td>\n",
       "      <td>-0.381209</td>\n",
       "      <td>-0.226159</td>\n",
       "      <td>5</td>\n",
       "      <td>2.0</td>\n",
       "      <td>NaN</td>\n",
       "    </tr>\n",
       "    <tr>\n",
       "      <th>2013-01-04</th>\n",
       "      <td>0.446995</td>\n",
       "      <td>0.936141</td>\n",
       "      <td>0.098400</td>\n",
       "      <td>5</td>\n",
       "      <td>3.0</td>\n",
       "      <td>NaN</td>\n",
       "    </tr>\n",
       "  </tbody>\n",
       "</table>\n",
       "</div>"
      ],
      "text/plain": [
       "                   A         B         C  D    F   E\n",
       "2013-01-01  0.000000  0.000000  1.806817  5  NaN NaN\n",
       "2013-01-02 -1.611736  0.997774  0.784872  5  1.0 NaN\n",
       "2013-01-03  1.257567 -0.381209 -0.226159  5  2.0 NaN\n",
       "2013-01-04  0.446995  0.936141  0.098400  5  3.0 NaN"
      ]
     },
     "execution_count": 142,
     "metadata": {},
     "output_type": "execute_result"
    }
   ],
   "source": [
    "# df1 will have a new index and a new column E\n",
    "print df\n",
    "df1 = df.reindex(index=dates[0:4], columns=list(df.columns) + ['E'])\n",
    "df1"
   ]
  },
  {
   "cell_type": "code",
   "execution_count": 146,
   "metadata": {
    "collapsed": false,
    "scrolled": true
   },
   "outputs": [
    {
     "data": {
      "text/html": [
       "<div>\n",
       "<table border=\"1\" class=\"dataframe\">\n",
       "  <thead>\n",
       "    <tr style=\"text-align: right;\">\n",
       "      <th></th>\n",
       "      <th>A</th>\n",
       "      <th>B</th>\n",
       "      <th>C</th>\n",
       "      <th>D</th>\n",
       "      <th>F</th>\n",
       "      <th>E</th>\n",
       "    </tr>\n",
       "  </thead>\n",
       "  <tbody>\n",
       "    <tr>\n",
       "      <th>2013-01-01</th>\n",
       "      <td>0.000000</td>\n",
       "      <td>0.000000</td>\n",
       "      <td>1.806817</td>\n",
       "      <td>5</td>\n",
       "      <td>NaN</td>\n",
       "      <td>1.0</td>\n",
       "    </tr>\n",
       "    <tr>\n",
       "      <th>2013-01-02</th>\n",
       "      <td>-1.611736</td>\n",
       "      <td>0.997774</td>\n",
       "      <td>0.784872</td>\n",
       "      <td>5</td>\n",
       "      <td>1.0</td>\n",
       "      <td>1.0</td>\n",
       "    </tr>\n",
       "    <tr>\n",
       "      <th>2013-01-03</th>\n",
       "      <td>1.257567</td>\n",
       "      <td>-0.381209</td>\n",
       "      <td>-0.226159</td>\n",
       "      <td>5</td>\n",
       "      <td>2.0</td>\n",
       "      <td>NaN</td>\n",
       "    </tr>\n",
       "    <tr>\n",
       "      <th>2013-01-04</th>\n",
       "      <td>0.446995</td>\n",
       "      <td>0.936141</td>\n",
       "      <td>0.098400</td>\n",
       "      <td>5</td>\n",
       "      <td>3.0</td>\n",
       "      <td>NaN</td>\n",
       "    </tr>\n",
       "  </tbody>\n",
       "</table>\n",
       "</div>"
      ],
      "text/plain": [
       "                   A         B         C  D    F    E\n",
       "2013-01-01  0.000000  0.000000  1.806817  5  NaN  1.0\n",
       "2013-01-02 -1.611736  0.997774  0.784872  5  1.0  1.0\n",
       "2013-01-03  1.257567 -0.381209 -0.226159  5  2.0  NaN\n",
       "2013-01-04  0.446995  0.936141  0.098400  5  3.0  NaN"
      ]
     },
     "execution_count": 146,
     "metadata": {},
     "output_type": "execute_result"
    }
   ],
   "source": [
    "# Set E in the first 2 rows\n",
    "df1.loc[dates[0]:dates[1],'E'] = 1\n",
    "df1"
   ]
  },
  {
   "cell_type": "markdown",
   "metadata": {},
   "source": [
    "To drop any rows that have missing data."
   ]
  },
  {
   "cell_type": "code",
   "execution_count": 147,
   "metadata": {
    "collapsed": false
   },
   "outputs": [
    {
     "data": {
      "text/html": [
       "<div>\n",
       "<table border=\"1\" class=\"dataframe\">\n",
       "  <thead>\n",
       "    <tr style=\"text-align: right;\">\n",
       "      <th></th>\n",
       "      <th>A</th>\n",
       "      <th>B</th>\n",
       "      <th>C</th>\n",
       "      <th>D</th>\n",
       "      <th>F</th>\n",
       "      <th>E</th>\n",
       "    </tr>\n",
       "  </thead>\n",
       "  <tbody>\n",
       "    <tr>\n",
       "      <th>2013-01-02</th>\n",
       "      <td>-1.611736</td>\n",
       "      <td>0.997774</td>\n",
       "      <td>0.784872</td>\n",
       "      <td>5</td>\n",
       "      <td>1.0</td>\n",
       "      <td>1.0</td>\n",
       "    </tr>\n",
       "  </tbody>\n",
       "</table>\n",
       "</div>"
      ],
      "text/plain": [
       "                   A         B         C  D    F    E\n",
       "2013-01-02 -1.611736  0.997774  0.784872  5  1.0  1.0"
      ]
     },
     "execution_count": 147,
     "metadata": {},
     "output_type": "execute_result"
    }
   ],
   "source": [
    "# A view where we drop any rows with value NnN\n",
    "df1.dropna(how='any')"
   ]
  },
  {
   "cell_type": "markdown",
   "metadata": {},
   "source": [
    "Filling missing data"
   ]
  },
  {
   "cell_type": "code",
   "execution_count": 148,
   "metadata": {
    "collapsed": false
   },
   "outputs": [
    {
     "data": {
      "text/html": [
       "<div>\n",
       "<table border=\"1\" class=\"dataframe\">\n",
       "  <thead>\n",
       "    <tr style=\"text-align: right;\">\n",
       "      <th></th>\n",
       "      <th>A</th>\n",
       "      <th>B</th>\n",
       "      <th>C</th>\n",
       "      <th>D</th>\n",
       "      <th>F</th>\n",
       "      <th>E</th>\n",
       "    </tr>\n",
       "  </thead>\n",
       "  <tbody>\n",
       "    <tr>\n",
       "      <th>2013-01-01</th>\n",
       "      <td>0.000000</td>\n",
       "      <td>0.000000</td>\n",
       "      <td>1.806817</td>\n",
       "      <td>5</td>\n",
       "      <td>5.0</td>\n",
       "      <td>1.0</td>\n",
       "    </tr>\n",
       "    <tr>\n",
       "      <th>2013-01-02</th>\n",
       "      <td>-1.611736</td>\n",
       "      <td>0.997774</td>\n",
       "      <td>0.784872</td>\n",
       "      <td>5</td>\n",
       "      <td>1.0</td>\n",
       "      <td>1.0</td>\n",
       "    </tr>\n",
       "    <tr>\n",
       "      <th>2013-01-03</th>\n",
       "      <td>1.257567</td>\n",
       "      <td>-0.381209</td>\n",
       "      <td>-0.226159</td>\n",
       "      <td>5</td>\n",
       "      <td>2.0</td>\n",
       "      <td>5.0</td>\n",
       "    </tr>\n",
       "    <tr>\n",
       "      <th>2013-01-04</th>\n",
       "      <td>0.446995</td>\n",
       "      <td>0.936141</td>\n",
       "      <td>0.098400</td>\n",
       "      <td>5</td>\n",
       "      <td>3.0</td>\n",
       "      <td>5.0</td>\n",
       "    </tr>\n",
       "  </tbody>\n",
       "</table>\n",
       "</div>"
      ],
      "text/plain": [
       "                   A         B         C  D    F    E\n",
       "2013-01-01  0.000000  0.000000  1.806817  5  5.0  1.0\n",
       "2013-01-02 -1.611736  0.997774  0.784872  5  1.0  1.0\n",
       "2013-01-03  1.257567 -0.381209 -0.226159  5  2.0  5.0\n",
       "2013-01-04  0.446995  0.936141  0.098400  5  3.0  5.0"
      ]
     },
     "execution_count": 148,
     "metadata": {},
     "output_type": "execute_result"
    }
   ],
   "source": [
    "# fill NaN values with 5\n",
    "df1.fillna(value=5)"
   ]
  },
  {
   "cell_type": "markdown",
   "metadata": {},
   "source": [
    "To get the boolean mask where values are nan"
   ]
  },
  {
   "cell_type": "code",
   "execution_count": 151,
   "metadata": {
    "collapsed": false
   },
   "outputs": [
    {
     "name": "stdout",
     "output_type": "stream",
     "text": [
      "                   A         B         C  D    F    E\n",
      "2013-01-01  0.000000  0.000000  1.806817  5  NaN  1.0\n",
      "2013-01-02 -1.611736  0.997774  0.784872  5  1.0  1.0\n",
      "2013-01-03  1.257567 -0.381209 -0.226159  5  2.0  NaN\n",
      "2013-01-04  0.446995  0.936141  0.098400  5  3.0  NaN\n"
     ]
    },
    {
     "data": {
      "text/html": [
       "<div>\n",
       "<table border=\"1\" class=\"dataframe\">\n",
       "  <thead>\n",
       "    <tr style=\"text-align: right;\">\n",
       "      <th></th>\n",
       "      <th>A</th>\n",
       "      <th>B</th>\n",
       "      <th>C</th>\n",
       "      <th>D</th>\n",
       "      <th>F</th>\n",
       "      <th>E</th>\n",
       "    </tr>\n",
       "  </thead>\n",
       "  <tbody>\n",
       "    <tr>\n",
       "      <th>2013-01-01</th>\n",
       "      <td>False</td>\n",
       "      <td>False</td>\n",
       "      <td>False</td>\n",
       "      <td>False</td>\n",
       "      <td>True</td>\n",
       "      <td>False</td>\n",
       "    </tr>\n",
       "    <tr>\n",
       "      <th>2013-01-02</th>\n",
       "      <td>False</td>\n",
       "      <td>False</td>\n",
       "      <td>False</td>\n",
       "      <td>False</td>\n",
       "      <td>False</td>\n",
       "      <td>False</td>\n",
       "    </tr>\n",
       "    <tr>\n",
       "      <th>2013-01-03</th>\n",
       "      <td>False</td>\n",
       "      <td>False</td>\n",
       "      <td>False</td>\n",
       "      <td>False</td>\n",
       "      <td>False</td>\n",
       "      <td>True</td>\n",
       "    </tr>\n",
       "    <tr>\n",
       "      <th>2013-01-04</th>\n",
       "      <td>False</td>\n",
       "      <td>False</td>\n",
       "      <td>False</td>\n",
       "      <td>False</td>\n",
       "      <td>False</td>\n",
       "      <td>True</td>\n",
       "    </tr>\n",
       "  </tbody>\n",
       "</table>\n",
       "</div>"
      ],
      "text/plain": [
       "                A      B      C      D      F      E\n",
       "2013-01-01  False  False  False  False   True  False\n",
       "2013-01-02  False  False  False  False  False  False\n",
       "2013-01-03  False  False  False  False  False   True\n",
       "2013-01-04  False  False  False  False  False   True"
      ]
     },
     "execution_count": 151,
     "metadata": {},
     "output_type": "execute_result"
    }
   ],
   "source": [
    "# returns a boolean mask for null entries\n",
    "print df1\n",
    "pd.isnull(df1)"
   ]
  },
  {
   "cell_type": "markdown",
   "metadata": {},
   "source": [
    "## Operations\n",
    "\n",
    "See the [Basic section on Binary Ops](http://pandas.pydata.org/pandas-docs/stable/basics.html#basics-binop)"
   ]
  },
  {
   "cell_type": "markdown",
   "metadata": {},
   "source": [
    "### Stats\n",
    "\n",
    "Operations in general exclude missing data."
   ]
  },
  {
   "cell_type": "markdown",
   "metadata": {},
   "source": [
    "Performing a descriptive statistic"
   ]
  },
  {
   "cell_type": "code",
   "execution_count": 152,
   "metadata": {
    "collapsed": false
   },
   "outputs": [
    {
     "data": {
      "text/plain": [
       "A   -0.384173\n",
       "B    0.147144\n",
       "C    0.679909\n",
       "D    5.000000\n",
       "F    3.000000\n",
       "dtype: float64"
      ]
     },
     "execution_count": 152,
     "metadata": {},
     "output_type": "execute_result"
    }
   ],
   "source": [
    "df.mean()"
   ]
  },
  {
   "cell_type": "markdown",
   "metadata": {},
   "source": [
    "Same operation on the other axis"
   ]
  },
  {
   "cell_type": "code",
   "execution_count": 153,
   "metadata": {
    "collapsed": false
   },
   "outputs": [
    {
     "data": {
      "text/plain": [
       "2013-01-01    1.701704\n",
       "2013-01-02    1.234182\n",
       "2013-01-03    1.530040\n",
       "2013-01-04    1.896307\n",
       "2013-01-05    1.722666\n",
       "2013-01-06    1.786898\n",
       "Freq: D, dtype: float64"
      ]
     },
     "execution_count": 153,
     "metadata": {},
     "output_type": "execute_result"
    }
   ],
   "source": [
    "df.mean(1)\n",
    "# df.mean(axis = 1)"
   ]
  },
  {
   "cell_type": "markdown",
   "metadata": {},
   "source": [
    "Operating with objects that have different dimensionality and need alignment. In addition, pandas automatically broadcasts along the specified dimension."
   ]
  },
  {
   "cell_type": "code",
   "execution_count": 155,
   "metadata": {
    "collapsed": false
   },
   "outputs": [],
   "source": [
    "# This Series has 2 rows shifted down with NaN inserted into the first positions\n",
    "s = pd.Series([1,3,5,np.nan,6,8], index=dates).shift(2)"
   ]
  },
  {
   "cell_type": "code",
   "execution_count": 62,
   "metadata": {
    "collapsed": false
   },
   "outputs": [
    {
     "data": {
      "text/plain": [
       "2013-01-01    NaN\n",
       "2013-01-02    NaN\n",
       "2013-01-03    1.0\n",
       "2013-01-04    3.0\n",
       "2013-01-05    5.0\n",
       "2013-01-06    NaN\n",
       "Freq: D, dtype: float64"
      ]
     },
     "execution_count": 62,
     "metadata": {},
     "output_type": "execute_result"
    }
   ],
   "source": [
    "s"
   ]
  },
  {
   "cell_type": "code",
   "execution_count": 156,
   "metadata": {
    "collapsed": false
   },
   "outputs": [
    {
     "name": "stdout",
     "output_type": "stream",
     "text": [
      "                   A         B         C  D    F\n",
      "2013-01-01  0.000000  0.000000  1.806817  5  NaN\n",
      "2013-01-02 -1.611736  0.997774  0.784872  5  1.0\n",
      "2013-01-03  1.257567 -0.381209 -0.226159  5  2.0\n",
      "2013-01-04  0.446995  0.936141  0.098400  5  3.0\n",
      "2013-01-05 -1.196693  0.307608  0.502415  5  4.0\n",
      "2013-01-06 -1.201172 -0.977452  1.113112  5  5.0\n"
     ]
    },
    {
     "data": {
      "text/html": [
       "<div>\n",
       "<table border=\"1\" class=\"dataframe\">\n",
       "  <thead>\n",
       "    <tr style=\"text-align: right;\">\n",
       "      <th></th>\n",
       "      <th>A</th>\n",
       "      <th>B</th>\n",
       "      <th>C</th>\n",
       "      <th>D</th>\n",
       "      <th>F</th>\n",
       "    </tr>\n",
       "  </thead>\n",
       "  <tbody>\n",
       "    <tr>\n",
       "      <th>2013-01-01</th>\n",
       "      <td>NaN</td>\n",
       "      <td>NaN</td>\n",
       "      <td>NaN</td>\n",
       "      <td>NaN</td>\n",
       "      <td>NaN</td>\n",
       "    </tr>\n",
       "    <tr>\n",
       "      <th>2013-01-02</th>\n",
       "      <td>NaN</td>\n",
       "      <td>NaN</td>\n",
       "      <td>NaN</td>\n",
       "      <td>NaN</td>\n",
       "      <td>NaN</td>\n",
       "    </tr>\n",
       "    <tr>\n",
       "      <th>2013-01-03</th>\n",
       "      <td>0.257567</td>\n",
       "      <td>-1.381209</td>\n",
       "      <td>-1.226159</td>\n",
       "      <td>4.0</td>\n",
       "      <td>1.0</td>\n",
       "    </tr>\n",
       "    <tr>\n",
       "      <th>2013-01-04</th>\n",
       "      <td>-2.553005</td>\n",
       "      <td>-2.063859</td>\n",
       "      <td>-2.901600</td>\n",
       "      <td>2.0</td>\n",
       "      <td>0.0</td>\n",
       "    </tr>\n",
       "    <tr>\n",
       "      <th>2013-01-05</th>\n",
       "      <td>-6.196693</td>\n",
       "      <td>-4.692392</td>\n",
       "      <td>-4.497585</td>\n",
       "      <td>0.0</td>\n",
       "      <td>-1.0</td>\n",
       "    </tr>\n",
       "    <tr>\n",
       "      <th>2013-01-06</th>\n",
       "      <td>NaN</td>\n",
       "      <td>NaN</td>\n",
       "      <td>NaN</td>\n",
       "      <td>NaN</td>\n",
       "      <td>NaN</td>\n",
       "    </tr>\n",
       "  </tbody>\n",
       "</table>\n",
       "</div>"
      ],
      "text/plain": [
       "                   A         B         C    D    F\n",
       "2013-01-01       NaN       NaN       NaN  NaN  NaN\n",
       "2013-01-02       NaN       NaN       NaN  NaN  NaN\n",
       "2013-01-03  0.257567 -1.381209 -1.226159  4.0  1.0\n",
       "2013-01-04 -2.553005 -2.063859 -2.901600  2.0  0.0\n",
       "2013-01-05 -6.196693 -4.692392 -4.497585  0.0 -1.0\n",
       "2013-01-06       NaN       NaN       NaN  NaN  NaN"
      ]
     },
     "execution_count": 156,
     "metadata": {},
     "output_type": "execute_result"
    }
   ],
   "source": [
    "print df\n",
    "df.sub(s, axis='index')"
   ]
  },
  {
   "cell_type": "markdown",
   "metadata": {},
   "source": [
    "### Apply"
   ]
  },
  {
   "cell_type": "markdown",
   "metadata": {},
   "source": [
    "Applying functions to the data"
   ]
  },
  {
   "cell_type": "code",
   "execution_count": 164,
   "metadata": {
    "collapsed": false
   },
   "outputs": [
    {
     "data": {
      "text/html": [
       "<div>\n",
       "<table border=\"1\" class=\"dataframe\">\n",
       "  <thead>\n",
       "    <tr style=\"text-align: right;\">\n",
       "      <th></th>\n",
       "      <th>A</th>\n",
       "      <th>B</th>\n",
       "      <th>C</th>\n",
       "      <th>D</th>\n",
       "      <th>F</th>\n",
       "    </tr>\n",
       "  </thead>\n",
       "  <tbody>\n",
       "    <tr>\n",
       "      <th>2013-01-01</th>\n",
       "      <td>0.000000</td>\n",
       "      <td>0.000000</td>\n",
       "      <td>1.806817</td>\n",
       "      <td>5</td>\n",
       "      <td>NaN</td>\n",
       "    </tr>\n",
       "    <tr>\n",
       "      <th>2013-01-02</th>\n",
       "      <td>-1.611736</td>\n",
       "      <td>0.997774</td>\n",
       "      <td>2.591689</td>\n",
       "      <td>10</td>\n",
       "      <td>1.0</td>\n",
       "    </tr>\n",
       "    <tr>\n",
       "      <th>2013-01-03</th>\n",
       "      <td>-0.354169</td>\n",
       "      <td>0.616565</td>\n",
       "      <td>2.365530</td>\n",
       "      <td>15</td>\n",
       "      <td>3.0</td>\n",
       "    </tr>\n",
       "    <tr>\n",
       "      <th>2013-01-04</th>\n",
       "      <td>0.092826</td>\n",
       "      <td>1.552706</td>\n",
       "      <td>2.463929</td>\n",
       "      <td>20</td>\n",
       "      <td>6.0</td>\n",
       "    </tr>\n",
       "    <tr>\n",
       "      <th>2013-01-05</th>\n",
       "      <td>-1.103867</td>\n",
       "      <td>1.860314</td>\n",
       "      <td>2.966344</td>\n",
       "      <td>25</td>\n",
       "      <td>10.0</td>\n",
       "    </tr>\n",
       "    <tr>\n",
       "      <th>2013-01-06</th>\n",
       "      <td>-2.305038</td>\n",
       "      <td>0.882862</td>\n",
       "      <td>4.079456</td>\n",
       "      <td>30</td>\n",
       "      <td>15.0</td>\n",
       "    </tr>\n",
       "  </tbody>\n",
       "</table>\n",
       "</div>"
      ],
      "text/plain": [
       "                   A         B         C   D     F\n",
       "2013-01-01  0.000000  0.000000  1.806817   5   NaN\n",
       "2013-01-02 -1.611736  0.997774  2.591689  10   1.0\n",
       "2013-01-03 -0.354169  0.616565  2.365530  15   3.0\n",
       "2013-01-04  0.092826  1.552706  2.463929  20   6.0\n",
       "2013-01-05 -1.103867  1.860314  2.966344  25  10.0\n",
       "2013-01-06 -2.305038  0.882862  4.079456  30  15.0"
      ]
     },
     "execution_count": 164,
     "metadata": {},
     "output_type": "execute_result"
    }
   ],
   "source": [
    "# apply below will operate on every column\n",
    "df.apply(np.cumsum)"
   ]
  },
  {
   "cell_type": "code",
   "execution_count": 165,
   "metadata": {
    "collapsed": false
   },
   "outputs": [
    {
     "data": {
      "text/plain": [
       "A    2.869303\n",
       "B    1.975227\n",
       "C    2.032976\n",
       "D    0.000000\n",
       "F    4.000000\n",
       "dtype: float64"
      ]
     },
     "execution_count": 165,
     "metadata": {},
     "output_type": "execute_result"
    }
   ],
   "source": [
    "df.apply(lambda x: x.max() - x.min())"
   ]
  },
  {
   "cell_type": "markdown",
   "metadata": {},
   "source": [
    "### Histogramming\n",
    "\n",
    "See more at [Histogramming and Discretization](http://pandas.pydata.org/pandas-docs/stable/basics.html#basics-discretization)"
   ]
  },
  {
   "cell_type": "code",
   "execution_count": 66,
   "metadata": {
    "collapsed": false
   },
   "outputs": [],
   "source": [
    "s = pd.Series(np.random.randint(0, 7, size=10))"
   ]
  },
  {
   "cell_type": "code",
   "execution_count": 67,
   "metadata": {
    "collapsed": false
   },
   "outputs": [
    {
     "data": {
      "text/plain": [
       "0    0\n",
       "1    5\n",
       "2    3\n",
       "3    3\n",
       "4    1\n",
       "5    1\n",
       "6    5\n",
       "7    2\n",
       "8    6\n",
       "9    6\n",
       "dtype: int64"
      ]
     },
     "execution_count": 67,
     "metadata": {},
     "output_type": "execute_result"
    }
   ],
   "source": [
    "s"
   ]
  },
  {
   "cell_type": "code",
   "execution_count": 68,
   "metadata": {
    "collapsed": false
   },
   "outputs": [
    {
     "data": {
      "text/plain": [
       "6    2\n",
       "5    2\n",
       "3    2\n",
       "1    2\n",
       "2    1\n",
       "0    1\n",
       "dtype: int64"
      ]
     },
     "execution_count": 68,
     "metadata": {},
     "output_type": "execute_result"
    }
   ],
   "source": [
    "s.value_counts()"
   ]
  },
  {
   "cell_type": "markdown",
   "metadata": {},
   "source": [
    "### String Methods\n",
    "\n",
    "Series is equipped with a set of string processing methods in the str attribute that make it easy to operate on each element of the array, as in the code snippet below. Note that pattern-matching in str generally uses [regular expressions](https://docs.python.org/2/library/re.html) by default (and in some cases always uses them). See more at [Vectorized String Methods](http://pandas.pydata.org/pandas-docs/stable/text.html#text-string-methods)."
   ]
  },
  {
   "cell_type": "code",
   "execution_count": 69,
   "metadata": {
    "collapsed": false
   },
   "outputs": [],
   "source": [
    "s = pd.Series(['A', 'B', 'C', 'Aaba', 'Baca', np.nan, 'CABA', 'dog', 'cat'])"
   ]
  },
  {
   "cell_type": "code",
   "execution_count": 70,
   "metadata": {
    "collapsed": false
   },
   "outputs": [
    {
     "data": {
      "text/plain": [
       "0       a\n",
       "1       b\n",
       "2       c\n",
       "3    aaba\n",
       "4    baca\n",
       "5     NaN\n",
       "6    caba\n",
       "7     dog\n",
       "8     cat\n",
       "dtype: object"
      ]
     },
     "execution_count": 70,
     "metadata": {},
     "output_type": "execute_result"
    }
   ],
   "source": [
    "s.str.lower()"
   ]
  },
  {
   "cell_type": "markdown",
   "metadata": {},
   "source": [
    "## Merge"
   ]
  },
  {
   "cell_type": "markdown",
   "metadata": {},
   "source": [
    "### Concat\n",
    "\n",
    "pandas provides various facilities for easily combining together Series, DataFrame, and Panel objects with various kinds of set logic for the indexes and relational algebra functionality in the case of join / merge-type operations.\n",
    "\n",
    "See the [Merging section](http://pandas.pydata.org/pandas-docs/stable/merging.html#merging)"
   ]
  },
  {
   "cell_type": "markdown",
   "metadata": {},
   "source": [
    "Concatenating pandas objects together with concat():"
   ]
  },
  {
   "cell_type": "code",
   "execution_count": 71,
   "metadata": {
    "collapsed": false
   },
   "outputs": [],
   "source": [
    "df = pd.DataFrame(np.random.randn(10, 4))"
   ]
  },
  {
   "cell_type": "code",
   "execution_count": 72,
   "metadata": {
    "collapsed": false
   },
   "outputs": [
    {
     "data": {
      "text/html": [
       "<div>\n",
       "<table border=\"1\" class=\"dataframe\">\n",
       "  <thead>\n",
       "    <tr style=\"text-align: right;\">\n",
       "      <th></th>\n",
       "      <th>0</th>\n",
       "      <th>1</th>\n",
       "      <th>2</th>\n",
       "      <th>3</th>\n",
       "    </tr>\n",
       "  </thead>\n",
       "  <tbody>\n",
       "    <tr>\n",
       "      <th>0</th>\n",
       "      <td>-0.912351</td>\n",
       "      <td>1.134999</td>\n",
       "      <td>1.570026</td>\n",
       "      <td>0.287990</td>\n",
       "    </tr>\n",
       "    <tr>\n",
       "      <th>1</th>\n",
       "      <td>0.589466</td>\n",
       "      <td>-0.190945</td>\n",
       "      <td>1.370336</td>\n",
       "      <td>-0.789849</td>\n",
       "    </tr>\n",
       "    <tr>\n",
       "      <th>2</th>\n",
       "      <td>0.592985</td>\n",
       "      <td>-0.202789</td>\n",
       "      <td>0.643666</td>\n",
       "      <td>1.369117</td>\n",
       "    </tr>\n",
       "    <tr>\n",
       "      <th>3</th>\n",
       "      <td>-1.089340</td>\n",
       "      <td>-0.149526</td>\n",
       "      <td>1.695424</td>\n",
       "      <td>0.333854</td>\n",
       "    </tr>\n",
       "    <tr>\n",
       "      <th>4</th>\n",
       "      <td>0.307840</td>\n",
       "      <td>-0.772779</td>\n",
       "      <td>1.033580</td>\n",
       "      <td>-0.294381</td>\n",
       "    </tr>\n",
       "    <tr>\n",
       "      <th>5</th>\n",
       "      <td>-1.760446</td>\n",
       "      <td>0.937543</td>\n",
       "      <td>-0.963478</td>\n",
       "      <td>-0.513696</td>\n",
       "    </tr>\n",
       "    <tr>\n",
       "      <th>6</th>\n",
       "      <td>-0.359911</td>\n",
       "      <td>1.071520</td>\n",
       "      <td>1.216297</td>\n",
       "      <td>0.180144</td>\n",
       "    </tr>\n",
       "    <tr>\n",
       "      <th>7</th>\n",
       "      <td>0.094108</td>\n",
       "      <td>-0.016260</td>\n",
       "      <td>0.056992</td>\n",
       "      <td>-0.982665</td>\n",
       "    </tr>\n",
       "    <tr>\n",
       "      <th>8</th>\n",
       "      <td>-0.566086</td>\n",
       "      <td>-0.068951</td>\n",
       "      <td>-0.877895</td>\n",
       "      <td>0.556712</td>\n",
       "    </tr>\n",
       "    <tr>\n",
       "      <th>9</th>\n",
       "      <td>2.620462</td>\n",
       "      <td>-0.908679</td>\n",
       "      <td>0.170727</td>\n",
       "      <td>-1.617794</td>\n",
       "    </tr>\n",
       "  </tbody>\n",
       "</table>\n",
       "</div>"
      ],
      "text/plain": [
       "          0         1         2         3\n",
       "0 -0.912351  1.134999  1.570026  0.287990\n",
       "1  0.589466 -0.190945  1.370336 -0.789849\n",
       "2  0.592985 -0.202789  0.643666  1.369117\n",
       "3 -1.089340 -0.149526  1.695424  0.333854\n",
       "4  0.307840 -0.772779  1.033580 -0.294381\n",
       "5 -1.760446  0.937543 -0.963478 -0.513696\n",
       "6 -0.359911  1.071520  1.216297  0.180144\n",
       "7  0.094108 -0.016260  0.056992 -0.982665\n",
       "8 -0.566086 -0.068951 -0.877895  0.556712\n",
       "9  2.620462 -0.908679  0.170727 -1.617794"
      ]
     },
     "execution_count": 72,
     "metadata": {},
     "output_type": "execute_result"
    }
   ],
   "source": [
    "df"
   ]
  },
  {
   "cell_type": "code",
   "execution_count": 73,
   "metadata": {
    "collapsed": false
   },
   "outputs": [],
   "source": [
    "# break it into pieces\n",
    "pieces = [df[:3], df[3:7], df[7:]]"
   ]
  },
  {
   "cell_type": "code",
   "execution_count": 74,
   "metadata": {
    "collapsed": false
   },
   "outputs": [
    {
     "data": {
      "text/html": [
       "<div>\n",
       "<table border=\"1\" class=\"dataframe\">\n",
       "  <thead>\n",
       "    <tr style=\"text-align: right;\">\n",
       "      <th></th>\n",
       "      <th>0</th>\n",
       "      <th>1</th>\n",
       "      <th>2</th>\n",
       "      <th>3</th>\n",
       "    </tr>\n",
       "  </thead>\n",
       "  <tbody>\n",
       "    <tr>\n",
       "      <th>0</th>\n",
       "      <td>-0.912351</td>\n",
       "      <td>1.134999</td>\n",
       "      <td>1.570026</td>\n",
       "      <td>0.287990</td>\n",
       "    </tr>\n",
       "    <tr>\n",
       "      <th>1</th>\n",
       "      <td>0.589466</td>\n",
       "      <td>-0.190945</td>\n",
       "      <td>1.370336</td>\n",
       "      <td>-0.789849</td>\n",
       "    </tr>\n",
       "    <tr>\n",
       "      <th>2</th>\n",
       "      <td>0.592985</td>\n",
       "      <td>-0.202789</td>\n",
       "      <td>0.643666</td>\n",
       "      <td>1.369117</td>\n",
       "    </tr>\n",
       "    <tr>\n",
       "      <th>3</th>\n",
       "      <td>-1.089340</td>\n",
       "      <td>-0.149526</td>\n",
       "      <td>1.695424</td>\n",
       "      <td>0.333854</td>\n",
       "    </tr>\n",
       "    <tr>\n",
       "      <th>4</th>\n",
       "      <td>0.307840</td>\n",
       "      <td>-0.772779</td>\n",
       "      <td>1.033580</td>\n",
       "      <td>-0.294381</td>\n",
       "    </tr>\n",
       "    <tr>\n",
       "      <th>5</th>\n",
       "      <td>-1.760446</td>\n",
       "      <td>0.937543</td>\n",
       "      <td>-0.963478</td>\n",
       "      <td>-0.513696</td>\n",
       "    </tr>\n",
       "    <tr>\n",
       "      <th>6</th>\n",
       "      <td>-0.359911</td>\n",
       "      <td>1.071520</td>\n",
       "      <td>1.216297</td>\n",
       "      <td>0.180144</td>\n",
       "    </tr>\n",
       "    <tr>\n",
       "      <th>7</th>\n",
       "      <td>0.094108</td>\n",
       "      <td>-0.016260</td>\n",
       "      <td>0.056992</td>\n",
       "      <td>-0.982665</td>\n",
       "    </tr>\n",
       "    <tr>\n",
       "      <th>8</th>\n",
       "      <td>-0.566086</td>\n",
       "      <td>-0.068951</td>\n",
       "      <td>-0.877895</td>\n",
       "      <td>0.556712</td>\n",
       "    </tr>\n",
       "    <tr>\n",
       "      <th>9</th>\n",
       "      <td>2.620462</td>\n",
       "      <td>-0.908679</td>\n",
       "      <td>0.170727</td>\n",
       "      <td>-1.617794</td>\n",
       "    </tr>\n",
       "  </tbody>\n",
       "</table>\n",
       "</div>"
      ],
      "text/plain": [
       "          0         1         2         3\n",
       "0 -0.912351  1.134999  1.570026  0.287990\n",
       "1  0.589466 -0.190945  1.370336 -0.789849\n",
       "2  0.592985 -0.202789  0.643666  1.369117\n",
       "3 -1.089340 -0.149526  1.695424  0.333854\n",
       "4  0.307840 -0.772779  1.033580 -0.294381\n",
       "5 -1.760446  0.937543 -0.963478 -0.513696\n",
       "6 -0.359911  1.071520  1.216297  0.180144\n",
       "7  0.094108 -0.016260  0.056992 -0.982665\n",
       "8 -0.566086 -0.068951 -0.877895  0.556712\n",
       "9  2.620462 -0.908679  0.170727 -1.617794"
      ]
     },
     "execution_count": 74,
     "metadata": {},
     "output_type": "execute_result"
    }
   ],
   "source": [
    "pd.concat(pieces)"
   ]
  },
  {
   "cell_type": "markdown",
   "metadata": {},
   "source": [
    "### Join\n",
    "\n",
    "SQL style merges. See the [Database style joining](http://pandas.pydata.org/pandas-docs/stable/merging.html#merging-join)"
   ]
  },
  {
   "cell_type": "code",
   "execution_count": 75,
   "metadata": {
    "collapsed": true
   },
   "outputs": [],
   "source": [
    "left = pd.DataFrame({'key': ['foo', 'foo'], 'lval': [1, 2]})"
   ]
  },
  {
   "cell_type": "code",
   "execution_count": 76,
   "metadata": {
    "collapsed": true
   },
   "outputs": [],
   "source": [
    "right = pd.DataFrame({'key': ['foo', 'foo'], 'rval': [4, 5]})"
   ]
  },
  {
   "cell_type": "code",
   "execution_count": 77,
   "metadata": {
    "collapsed": false
   },
   "outputs": [
    {
     "data": {
      "text/html": [
       "<div>\n",
       "<table border=\"1\" class=\"dataframe\">\n",
       "  <thead>\n",
       "    <tr style=\"text-align: right;\">\n",
       "      <th></th>\n",
       "      <th>key</th>\n",
       "      <th>lval</th>\n",
       "    </tr>\n",
       "  </thead>\n",
       "  <tbody>\n",
       "    <tr>\n",
       "      <th>0</th>\n",
       "      <td>foo</td>\n",
       "      <td>1</td>\n",
       "    </tr>\n",
       "    <tr>\n",
       "      <th>1</th>\n",
       "      <td>foo</td>\n",
       "      <td>2</td>\n",
       "    </tr>\n",
       "  </tbody>\n",
       "</table>\n",
       "</div>"
      ],
      "text/plain": [
       "   key  lval\n",
       "0  foo     1\n",
       "1  foo     2"
      ]
     },
     "execution_count": 77,
     "metadata": {},
     "output_type": "execute_result"
    }
   ],
   "source": [
    "left"
   ]
  },
  {
   "cell_type": "code",
   "execution_count": 78,
   "metadata": {
    "collapsed": false
   },
   "outputs": [
    {
     "data": {
      "text/html": [
       "<div>\n",
       "<table border=\"1\" class=\"dataframe\">\n",
       "  <thead>\n",
       "    <tr style=\"text-align: right;\">\n",
       "      <th></th>\n",
       "      <th>key</th>\n",
       "      <th>rval</th>\n",
       "    </tr>\n",
       "  </thead>\n",
       "  <tbody>\n",
       "    <tr>\n",
       "      <th>0</th>\n",
       "      <td>foo</td>\n",
       "      <td>4</td>\n",
       "    </tr>\n",
       "    <tr>\n",
       "      <th>1</th>\n",
       "      <td>foo</td>\n",
       "      <td>5</td>\n",
       "    </tr>\n",
       "  </tbody>\n",
       "</table>\n",
       "</div>"
      ],
      "text/plain": [
       "   key  rval\n",
       "0  foo     4\n",
       "1  foo     5"
      ]
     },
     "execution_count": 78,
     "metadata": {},
     "output_type": "execute_result"
    }
   ],
   "source": [
    "right"
   ]
  },
  {
   "cell_type": "code",
   "execution_count": 79,
   "metadata": {
    "collapsed": false
   },
   "outputs": [
    {
     "data": {
      "text/html": [
       "<div>\n",
       "<table border=\"1\" class=\"dataframe\">\n",
       "  <thead>\n",
       "    <tr style=\"text-align: right;\">\n",
       "      <th></th>\n",
       "      <th>key</th>\n",
       "      <th>lval</th>\n",
       "      <th>rval</th>\n",
       "    </tr>\n",
       "  </thead>\n",
       "  <tbody>\n",
       "    <tr>\n",
       "      <th>0</th>\n",
       "      <td>foo</td>\n",
       "      <td>1</td>\n",
       "      <td>4</td>\n",
       "    </tr>\n",
       "    <tr>\n",
       "      <th>1</th>\n",
       "      <td>foo</td>\n",
       "      <td>1</td>\n",
       "      <td>5</td>\n",
       "    </tr>\n",
       "    <tr>\n",
       "      <th>2</th>\n",
       "      <td>foo</td>\n",
       "      <td>2</td>\n",
       "      <td>4</td>\n",
       "    </tr>\n",
       "    <tr>\n",
       "      <th>3</th>\n",
       "      <td>foo</td>\n",
       "      <td>2</td>\n",
       "      <td>5</td>\n",
       "    </tr>\n",
       "  </tbody>\n",
       "</table>\n",
       "</div>"
      ],
      "text/plain": [
       "   key  lval  rval\n",
       "0  foo     1     4\n",
       "1  foo     1     5\n",
       "2  foo     2     4\n",
       "3  foo     2     5"
      ]
     },
     "execution_count": 79,
     "metadata": {},
     "output_type": "execute_result"
    }
   ],
   "source": [
    "pd.merge(left, right, on='key')"
   ]
  },
  {
   "cell_type": "markdown",
   "metadata": {},
   "source": [
    "### Append\n",
    "\n",
    "Append rows to a dataframe. See the [Appending](http://pandas.pydata.org/pandas-docs/stable/merging.html#merging-concatenation)"
   ]
  },
  {
   "cell_type": "code",
   "execution_count": 80,
   "metadata": {
    "collapsed": false
   },
   "outputs": [],
   "source": [
    "df = pd.DataFrame(np.random.randn(8, 4), columns=['A','B','C','D'])"
   ]
  },
  {
   "cell_type": "code",
   "execution_count": 81,
   "metadata": {
    "collapsed": false
   },
   "outputs": [
    {
     "data": {
      "text/html": [
       "<div>\n",
       "<table border=\"1\" class=\"dataframe\">\n",
       "  <thead>\n",
       "    <tr style=\"text-align: right;\">\n",
       "      <th></th>\n",
       "      <th>A</th>\n",
       "      <th>B</th>\n",
       "      <th>C</th>\n",
       "      <th>D</th>\n",
       "    </tr>\n",
       "  </thead>\n",
       "  <tbody>\n",
       "    <tr>\n",
       "      <th>0</th>\n",
       "      <td>-2.338760</td>\n",
       "      <td>-1.018224</td>\n",
       "      <td>-0.611879</td>\n",
       "      <td>-0.587383</td>\n",
       "    </tr>\n",
       "    <tr>\n",
       "      <th>1</th>\n",
       "      <td>-0.039695</td>\n",
       "      <td>-0.154699</td>\n",
       "      <td>0.079205</td>\n",
       "      <td>-0.035886</td>\n",
       "    </tr>\n",
       "    <tr>\n",
       "      <th>2</th>\n",
       "      <td>-0.283191</td>\n",
       "      <td>0.285702</td>\n",
       "      <td>-0.177071</td>\n",
       "      <td>-1.004003</td>\n",
       "    </tr>\n",
       "    <tr>\n",
       "      <th>3</th>\n",
       "      <td>0.191278</td>\n",
       "      <td>1.461646</td>\n",
       "      <td>0.483298</td>\n",
       "      <td>-0.950242</td>\n",
       "    </tr>\n",
       "    <tr>\n",
       "      <th>4</th>\n",
       "      <td>0.881973</td>\n",
       "      <td>0.185000</td>\n",
       "      <td>0.830654</td>\n",
       "      <td>0.745786</td>\n",
       "    </tr>\n",
       "    <tr>\n",
       "      <th>5</th>\n",
       "      <td>0.830493</td>\n",
       "      <td>-0.869381</td>\n",
       "      <td>-2.375939</td>\n",
       "      <td>0.190431</td>\n",
       "    </tr>\n",
       "    <tr>\n",
       "      <th>6</th>\n",
       "      <td>-0.540258</td>\n",
       "      <td>1.032857</td>\n",
       "      <td>-1.230487</td>\n",
       "      <td>1.655093</td>\n",
       "    </tr>\n",
       "    <tr>\n",
       "      <th>7</th>\n",
       "      <td>-1.403527</td>\n",
       "      <td>-0.962164</td>\n",
       "      <td>0.405885</td>\n",
       "      <td>-0.782047</td>\n",
       "    </tr>\n",
       "  </tbody>\n",
       "</table>\n",
       "</div>"
      ],
      "text/plain": [
       "          A         B         C         D\n",
       "0 -2.338760 -1.018224 -0.611879 -0.587383\n",
       "1 -0.039695 -0.154699  0.079205 -0.035886\n",
       "2 -0.283191  0.285702 -0.177071 -1.004003\n",
       "3  0.191278  1.461646  0.483298 -0.950242\n",
       "4  0.881973  0.185000  0.830654  0.745786\n",
       "5  0.830493 -0.869381 -2.375939  0.190431\n",
       "6 -0.540258  1.032857 -1.230487  1.655093\n",
       "7 -1.403527 -0.962164  0.405885 -0.782047"
      ]
     },
     "execution_count": 81,
     "metadata": {},
     "output_type": "execute_result"
    }
   ],
   "source": [
    "df"
   ]
  },
  {
   "cell_type": "code",
   "execution_count": 82,
   "metadata": {
    "collapsed": false
   },
   "outputs": [],
   "source": [
    "s = df.iloc[3]"
   ]
  },
  {
   "cell_type": "code",
   "execution_count": 83,
   "metadata": {
    "collapsed": false
   },
   "outputs": [
    {
     "data": {
      "text/html": [
       "<div>\n",
       "<table border=\"1\" class=\"dataframe\">\n",
       "  <thead>\n",
       "    <tr style=\"text-align: right;\">\n",
       "      <th></th>\n",
       "      <th>A</th>\n",
       "      <th>B</th>\n",
       "      <th>C</th>\n",
       "      <th>D</th>\n",
       "    </tr>\n",
       "  </thead>\n",
       "  <tbody>\n",
       "    <tr>\n",
       "      <th>0</th>\n",
       "      <td>-2.338760</td>\n",
       "      <td>-1.018224</td>\n",
       "      <td>-0.611879</td>\n",
       "      <td>-0.587383</td>\n",
       "    </tr>\n",
       "    <tr>\n",
       "      <th>1</th>\n",
       "      <td>-0.039695</td>\n",
       "      <td>-0.154699</td>\n",
       "      <td>0.079205</td>\n",
       "      <td>-0.035886</td>\n",
       "    </tr>\n",
       "    <tr>\n",
       "      <th>2</th>\n",
       "      <td>-0.283191</td>\n",
       "      <td>0.285702</td>\n",
       "      <td>-0.177071</td>\n",
       "      <td>-1.004003</td>\n",
       "    </tr>\n",
       "    <tr>\n",
       "      <th>3</th>\n",
       "      <td>0.191278</td>\n",
       "      <td>1.461646</td>\n",
       "      <td>0.483298</td>\n",
       "      <td>-0.950242</td>\n",
       "    </tr>\n",
       "    <tr>\n",
       "      <th>4</th>\n",
       "      <td>0.881973</td>\n",
       "      <td>0.185000</td>\n",
       "      <td>0.830654</td>\n",
       "      <td>0.745786</td>\n",
       "    </tr>\n",
       "    <tr>\n",
       "      <th>5</th>\n",
       "      <td>0.830493</td>\n",
       "      <td>-0.869381</td>\n",
       "      <td>-2.375939</td>\n",
       "      <td>0.190431</td>\n",
       "    </tr>\n",
       "    <tr>\n",
       "      <th>6</th>\n",
       "      <td>-0.540258</td>\n",
       "      <td>1.032857</td>\n",
       "      <td>-1.230487</td>\n",
       "      <td>1.655093</td>\n",
       "    </tr>\n",
       "    <tr>\n",
       "      <th>7</th>\n",
       "      <td>-1.403527</td>\n",
       "      <td>-0.962164</td>\n",
       "      <td>0.405885</td>\n",
       "      <td>-0.782047</td>\n",
       "    </tr>\n",
       "    <tr>\n",
       "      <th>8</th>\n",
       "      <td>0.191278</td>\n",
       "      <td>1.461646</td>\n",
       "      <td>0.483298</td>\n",
       "      <td>-0.950242</td>\n",
       "    </tr>\n",
       "  </tbody>\n",
       "</table>\n",
       "</div>"
      ],
      "text/plain": [
       "          A         B         C         D\n",
       "0 -2.338760 -1.018224 -0.611879 -0.587383\n",
       "1 -0.039695 -0.154699  0.079205 -0.035886\n",
       "2 -0.283191  0.285702 -0.177071 -1.004003\n",
       "3  0.191278  1.461646  0.483298 -0.950242\n",
       "4  0.881973  0.185000  0.830654  0.745786\n",
       "5  0.830493 -0.869381 -2.375939  0.190431\n",
       "6 -0.540258  1.032857 -1.230487  1.655093\n",
       "7 -1.403527 -0.962164  0.405885 -0.782047\n",
       "8  0.191278  1.461646  0.483298 -0.950242"
      ]
     },
     "execution_count": 83,
     "metadata": {},
     "output_type": "execute_result"
    }
   ],
   "source": [
    "df.append(s, ignore_index=True)"
   ]
  },
  {
   "cell_type": "markdown",
   "metadata": {},
   "source": [
    "## Grouping\n",
    "\n",
    "By “group by” we are referring to a process involving one or more of the following steps\n",
    "\n",
    "* **Splitting** the data into groups based on some criteria\n",
    "* **Applying** a function to each group independently\n",
    "* **Combining** the results into a data structure\n",
    "\n",
    "See the [Grouping section](http://pandas.pydata.org/pandas-docs/stable/groupby.html#groupby)"
   ]
  },
  {
   "cell_type": "code",
   "execution_count": 84,
   "metadata": {
    "collapsed": false
   },
   "outputs": [],
   "source": [
    "df = pd.DataFrame({'A' : ['foo', 'bar', 'foo', 'bar', 'foo', 'bar', 'foo', 'foo'],\n",
    "                                    'B' : ['one', 'one', 'two', 'three','two', 'two', 'one', 'three'],\n",
    "                                    'C' : np.random.randn(8),\n",
    "                                     'D' : np.random.randn(8)})"
   ]
  },
  {
   "cell_type": "code",
   "execution_count": 85,
   "metadata": {
    "collapsed": false
   },
   "outputs": [
    {
     "data": {
      "text/html": [
       "<div>\n",
       "<table border=\"1\" class=\"dataframe\">\n",
       "  <thead>\n",
       "    <tr style=\"text-align: right;\">\n",
       "      <th></th>\n",
       "      <th>A</th>\n",
       "      <th>B</th>\n",
       "      <th>C</th>\n",
       "      <th>D</th>\n",
       "    </tr>\n",
       "  </thead>\n",
       "  <tbody>\n",
       "    <tr>\n",
       "      <th>0</th>\n",
       "      <td>foo</td>\n",
       "      <td>one</td>\n",
       "      <td>0.852804</td>\n",
       "      <td>-1.187662</td>\n",
       "    </tr>\n",
       "    <tr>\n",
       "      <th>1</th>\n",
       "      <td>bar</td>\n",
       "      <td>one</td>\n",
       "      <td>-0.068201</td>\n",
       "      <td>-0.222735</td>\n",
       "    </tr>\n",
       "    <tr>\n",
       "      <th>2</th>\n",
       "      <td>foo</td>\n",
       "      <td>two</td>\n",
       "      <td>-1.766846</td>\n",
       "      <td>1.140940</td>\n",
       "    </tr>\n",
       "    <tr>\n",
       "      <th>3</th>\n",
       "      <td>bar</td>\n",
       "      <td>three</td>\n",
       "      <td>0.579536</td>\n",
       "      <td>0.053216</td>\n",
       "    </tr>\n",
       "    <tr>\n",
       "      <th>4</th>\n",
       "      <td>foo</td>\n",
       "      <td>two</td>\n",
       "      <td>0.262989</td>\n",
       "      <td>0.140463</td>\n",
       "    </tr>\n",
       "    <tr>\n",
       "      <th>5</th>\n",
       "      <td>bar</td>\n",
       "      <td>two</td>\n",
       "      <td>-1.194355</td>\n",
       "      <td>-0.796773</td>\n",
       "    </tr>\n",
       "    <tr>\n",
       "      <th>6</th>\n",
       "      <td>foo</td>\n",
       "      <td>one</td>\n",
       "      <td>-1.108675</td>\n",
       "      <td>1.148208</td>\n",
       "    </tr>\n",
       "    <tr>\n",
       "      <th>7</th>\n",
       "      <td>foo</td>\n",
       "      <td>three</td>\n",
       "      <td>1.576263</td>\n",
       "      <td>-0.451736</td>\n",
       "    </tr>\n",
       "  </tbody>\n",
       "</table>\n",
       "</div>"
      ],
      "text/plain": [
       "     A      B         C         D\n",
       "0  foo    one  0.852804 -1.187662\n",
       "1  bar    one -0.068201 -0.222735\n",
       "2  foo    two -1.766846  1.140940\n",
       "3  bar  three  0.579536  0.053216\n",
       "4  foo    two  0.262989  0.140463\n",
       "5  bar    two -1.194355 -0.796773\n",
       "6  foo    one -1.108675  1.148208\n",
       "7  foo  three  1.576263 -0.451736"
      ]
     },
     "execution_count": 85,
     "metadata": {},
     "output_type": "execute_result"
    }
   ],
   "source": [
    "df"
   ]
  },
  {
   "cell_type": "markdown",
   "metadata": {},
   "source": [
    "Grouping and then applying a function sum to the resulting groups."
   ]
  },
  {
   "cell_type": "code",
   "execution_count": 86,
   "metadata": {
    "collapsed": false
   },
   "outputs": [
    {
     "data": {
      "text/html": [
       "<div>\n",
       "<table border=\"1\" class=\"dataframe\">\n",
       "  <thead>\n",
       "    <tr style=\"text-align: right;\">\n",
       "      <th></th>\n",
       "      <th>C</th>\n",
       "      <th>D</th>\n",
       "    </tr>\n",
       "    <tr>\n",
       "      <th>A</th>\n",
       "      <th></th>\n",
       "      <th></th>\n",
       "    </tr>\n",
       "  </thead>\n",
       "  <tbody>\n",
       "    <tr>\n",
       "      <th>bar</th>\n",
       "      <td>-0.683021</td>\n",
       "      <td>-0.966293</td>\n",
       "    </tr>\n",
       "    <tr>\n",
       "      <th>foo</th>\n",
       "      <td>-0.183464</td>\n",
       "      <td>0.790213</td>\n",
       "    </tr>\n",
       "  </tbody>\n",
       "</table>\n",
       "</div>"
      ],
      "text/plain": [
       "            C         D\n",
       "A                      \n",
       "bar -0.683021 -0.966293\n",
       "foo -0.183464  0.790213"
      ]
     },
     "execution_count": 86,
     "metadata": {},
     "output_type": "execute_result"
    }
   ],
   "source": [
    "df.groupby('A').sum()"
   ]
  },
  {
   "cell_type": "code",
   "execution_count": 87,
   "metadata": {
    "collapsed": false
   },
   "outputs": [
    {
     "data": {
      "text/html": [
       "<div>\n",
       "<table border=\"1\" class=\"dataframe\">\n",
       "  <thead>\n",
       "    <tr style=\"text-align: right;\">\n",
       "      <th></th>\n",
       "      <th></th>\n",
       "      <th>C</th>\n",
       "      <th>D</th>\n",
       "    </tr>\n",
       "    <tr>\n",
       "      <th>A</th>\n",
       "      <th>B</th>\n",
       "      <th></th>\n",
       "      <th></th>\n",
       "    </tr>\n",
       "  </thead>\n",
       "  <tbody>\n",
       "    <tr>\n",
       "      <th rowspan=\"3\" valign=\"top\">bar</th>\n",
       "      <th>one</th>\n",
       "      <td>-0.068201</td>\n",
       "      <td>-0.222735</td>\n",
       "    </tr>\n",
       "    <tr>\n",
       "      <th>three</th>\n",
       "      <td>0.579536</td>\n",
       "      <td>0.053216</td>\n",
       "    </tr>\n",
       "    <tr>\n",
       "      <th>two</th>\n",
       "      <td>-1.194355</td>\n",
       "      <td>-0.796773</td>\n",
       "    </tr>\n",
       "    <tr>\n",
       "      <th rowspan=\"3\" valign=\"top\">foo</th>\n",
       "      <th>one</th>\n",
       "      <td>-0.255870</td>\n",
       "      <td>-0.039454</td>\n",
       "    </tr>\n",
       "    <tr>\n",
       "      <th>three</th>\n",
       "      <td>1.576263</td>\n",
       "      <td>-0.451736</td>\n",
       "    </tr>\n",
       "    <tr>\n",
       "      <th>two</th>\n",
       "      <td>-1.503857</td>\n",
       "      <td>1.281403</td>\n",
       "    </tr>\n",
       "  </tbody>\n",
       "</table>\n",
       "</div>"
      ],
      "text/plain": [
       "                  C         D\n",
       "A   B                        \n",
       "bar one   -0.068201 -0.222735\n",
       "    three  0.579536  0.053216\n",
       "    two   -1.194355 -0.796773\n",
       "foo one   -0.255870 -0.039454\n",
       "    three  1.576263 -0.451736\n",
       "    two   -1.503857  1.281403"
      ]
     },
     "execution_count": 87,
     "metadata": {},
     "output_type": "execute_result"
    }
   ],
   "source": [
    "df.groupby(['A','B']).sum()"
   ]
  },
  {
   "cell_type": "markdown",
   "metadata": {},
   "source": [
    "## Reshaping\n",
    "\n",
    "See the sections on [Hierarchical Indexing](http://pandas.pydata.org/pandas-docs/stable/advanced.html#advanced-hierarchical) and [Reshaping](http://pandas.pydata.org/pandas-docs/stable/reshaping.html#reshaping-stacking)."
   ]
  },
  {
   "cell_type": "markdown",
   "metadata": {},
   "source": [
    "### Stack"
   ]
  },
  {
   "cell_type": "code",
   "execution_count": 88,
   "metadata": {
    "collapsed": false
   },
   "outputs": [],
   "source": [
    "tuples = list(zip(*[['bar', 'bar', 'baz', 'baz', 'foo', 'foo', 'qux', 'qux'],\n",
    "                                ['one', 'two', 'one', 'two', 'one', 'two', 'one', 'two']]))"
   ]
  },
  {
   "cell_type": "code",
   "execution_count": 89,
   "metadata": {
    "collapsed": true
   },
   "outputs": [],
   "source": [
    "index = pd.MultiIndex.from_tuples(tuples, names=['first', 'second'])"
   ]
  },
  {
   "cell_type": "code",
   "execution_count": 90,
   "metadata": {
    "collapsed": true
   },
   "outputs": [],
   "source": [
    "df = pd.DataFrame(np.random.randn(8, 2), index=index, columns=['A', 'B'])"
   ]
  },
  {
   "cell_type": "code",
   "execution_count": 91,
   "metadata": {
    "collapsed": true
   },
   "outputs": [],
   "source": [
    "df2 = df[:4]"
   ]
  },
  {
   "cell_type": "code",
   "execution_count": 92,
   "metadata": {
    "collapsed": false
   },
   "outputs": [
    {
     "data": {
      "text/html": [
       "<div>\n",
       "<table border=\"1\" class=\"dataframe\">\n",
       "  <thead>\n",
       "    <tr style=\"text-align: right;\">\n",
       "      <th></th>\n",
       "      <th></th>\n",
       "      <th>A</th>\n",
       "      <th>B</th>\n",
       "    </tr>\n",
       "    <tr>\n",
       "      <th>first</th>\n",
       "      <th>second</th>\n",
       "      <th></th>\n",
       "      <th></th>\n",
       "    </tr>\n",
       "  </thead>\n",
       "  <tbody>\n",
       "    <tr>\n",
       "      <th rowspan=\"2\" valign=\"top\">bar</th>\n",
       "      <th>one</th>\n",
       "      <td>-0.115464</td>\n",
       "      <td>0.546322</td>\n",
       "    </tr>\n",
       "    <tr>\n",
       "      <th>two</th>\n",
       "      <td>-0.424864</td>\n",
       "      <td>-1.090883</td>\n",
       "    </tr>\n",
       "    <tr>\n",
       "      <th rowspan=\"2\" valign=\"top\">baz</th>\n",
       "      <th>one</th>\n",
       "      <td>1.046604</td>\n",
       "      <td>2.379343</td>\n",
       "    </tr>\n",
       "    <tr>\n",
       "      <th>two</th>\n",
       "      <td>-0.369638</td>\n",
       "      <td>-0.318320</td>\n",
       "    </tr>\n",
       "  </tbody>\n",
       "</table>\n",
       "</div>"
      ],
      "text/plain": [
       "                     A         B\n",
       "first second                    \n",
       "bar   one    -0.115464  0.546322\n",
       "      two    -0.424864 -1.090883\n",
       "baz   one     1.046604  2.379343\n",
       "      two    -0.369638 -0.318320"
      ]
     },
     "execution_count": 92,
     "metadata": {},
     "output_type": "execute_result"
    }
   ],
   "source": [
    "df2"
   ]
  },
  {
   "cell_type": "markdown",
   "metadata": {},
   "source": [
    "The stack() method “compresses” a level in the DataFrame’s columns."
   ]
  },
  {
   "cell_type": "code",
   "execution_count": 93,
   "metadata": {
    "collapsed": true
   },
   "outputs": [],
   "source": [
    "stacked = df2.stack()"
   ]
  },
  {
   "cell_type": "code",
   "execution_count": 94,
   "metadata": {
    "collapsed": false
   },
   "outputs": [
    {
     "data": {
      "text/plain": [
       "first  second   \n",
       "bar    one     A   -0.115464\n",
       "               B    0.546322\n",
       "       two     A   -0.424864\n",
       "               B   -1.090883\n",
       "baz    one     A    1.046604\n",
       "               B    2.379343\n",
       "       two     A   -0.369638\n",
       "               B   -0.318320\n",
       "dtype: float64"
      ]
     },
     "execution_count": 94,
     "metadata": {},
     "output_type": "execute_result"
    }
   ],
   "source": [
    "stacked"
   ]
  },
  {
   "cell_type": "markdown",
   "metadata": {},
   "source": [
    "With a “stacked” DataFrame or Series (having a MultiIndex as the index), the inverse operation of stack() is unstack(), which by default unstacks the **last level**:"
   ]
  },
  {
   "cell_type": "code",
   "execution_count": 95,
   "metadata": {
    "collapsed": false
   },
   "outputs": [
    {
     "data": {
      "text/html": [
       "<div>\n",
       "<table border=\"1\" class=\"dataframe\">\n",
       "  <thead>\n",
       "    <tr style=\"text-align: right;\">\n",
       "      <th></th>\n",
       "      <th></th>\n",
       "      <th>A</th>\n",
       "      <th>B</th>\n",
       "    </tr>\n",
       "    <tr>\n",
       "      <th>first</th>\n",
       "      <th>second</th>\n",
       "      <th></th>\n",
       "      <th></th>\n",
       "    </tr>\n",
       "  </thead>\n",
       "  <tbody>\n",
       "    <tr>\n",
       "      <th rowspan=\"2\" valign=\"top\">bar</th>\n",
       "      <th>one</th>\n",
       "      <td>-0.115464</td>\n",
       "      <td>0.546322</td>\n",
       "    </tr>\n",
       "    <tr>\n",
       "      <th>two</th>\n",
       "      <td>-0.424864</td>\n",
       "      <td>-1.090883</td>\n",
       "    </tr>\n",
       "    <tr>\n",
       "      <th rowspan=\"2\" valign=\"top\">baz</th>\n",
       "      <th>one</th>\n",
       "      <td>1.046604</td>\n",
       "      <td>2.379343</td>\n",
       "    </tr>\n",
       "    <tr>\n",
       "      <th>two</th>\n",
       "      <td>-0.369638</td>\n",
       "      <td>-0.318320</td>\n",
       "    </tr>\n",
       "  </tbody>\n",
       "</table>\n",
       "</div>"
      ],
      "text/plain": [
       "                     A         B\n",
       "first second                    \n",
       "bar   one    -0.115464  0.546322\n",
       "      two    -0.424864 -1.090883\n",
       "baz   one     1.046604  2.379343\n",
       "      two    -0.369638 -0.318320"
      ]
     },
     "execution_count": 95,
     "metadata": {},
     "output_type": "execute_result"
    }
   ],
   "source": [
    "stacked.unstack()"
   ]
  },
  {
   "cell_type": "code",
   "execution_count": 96,
   "metadata": {
    "collapsed": false
   },
   "outputs": [
    {
     "data": {
      "text/html": [
       "<div>\n",
       "<table border=\"1\" class=\"dataframe\">\n",
       "  <thead>\n",
       "    <tr style=\"text-align: right;\">\n",
       "      <th></th>\n",
       "      <th>second</th>\n",
       "      <th>one</th>\n",
       "      <th>two</th>\n",
       "    </tr>\n",
       "    <tr>\n",
       "      <th>first</th>\n",
       "      <th></th>\n",
       "      <th></th>\n",
       "      <th></th>\n",
       "    </tr>\n",
       "  </thead>\n",
       "  <tbody>\n",
       "    <tr>\n",
       "      <th rowspan=\"2\" valign=\"top\">bar</th>\n",
       "      <th>A</th>\n",
       "      <td>-0.115464</td>\n",
       "      <td>-0.424864</td>\n",
       "    </tr>\n",
       "    <tr>\n",
       "      <th>B</th>\n",
       "      <td>0.546322</td>\n",
       "      <td>-1.090883</td>\n",
       "    </tr>\n",
       "    <tr>\n",
       "      <th rowspan=\"2\" valign=\"top\">baz</th>\n",
       "      <th>A</th>\n",
       "      <td>1.046604</td>\n",
       "      <td>-0.369638</td>\n",
       "    </tr>\n",
       "    <tr>\n",
       "      <th>B</th>\n",
       "      <td>2.379343</td>\n",
       "      <td>-0.318320</td>\n",
       "    </tr>\n",
       "  </tbody>\n",
       "</table>\n",
       "</div>"
      ],
      "text/plain": [
       "second        one       two\n",
       "first                      \n",
       "bar   A -0.115464 -0.424864\n",
       "      B  0.546322 -1.090883\n",
       "baz   A  1.046604 -0.369638\n",
       "      B  2.379343 -0.318320"
      ]
     },
     "execution_count": 96,
     "metadata": {},
     "output_type": "execute_result"
    }
   ],
   "source": [
    "stacked.unstack(1)"
   ]
  },
  {
   "cell_type": "code",
   "execution_count": 97,
   "metadata": {
    "collapsed": false
   },
   "outputs": [
    {
     "data": {
      "text/html": [
       "<div>\n",
       "<table border=\"1\" class=\"dataframe\">\n",
       "  <thead>\n",
       "    <tr style=\"text-align: right;\">\n",
       "      <th></th>\n",
       "      <th>first</th>\n",
       "      <th>bar</th>\n",
       "      <th>baz</th>\n",
       "    </tr>\n",
       "    <tr>\n",
       "      <th>second</th>\n",
       "      <th></th>\n",
       "      <th></th>\n",
       "      <th></th>\n",
       "    </tr>\n",
       "  </thead>\n",
       "  <tbody>\n",
       "    <tr>\n",
       "      <th rowspan=\"2\" valign=\"top\">one</th>\n",
       "      <th>A</th>\n",
       "      <td>-0.115464</td>\n",
       "      <td>1.046604</td>\n",
       "    </tr>\n",
       "    <tr>\n",
       "      <th>B</th>\n",
       "      <td>0.546322</td>\n",
       "      <td>2.379343</td>\n",
       "    </tr>\n",
       "    <tr>\n",
       "      <th rowspan=\"2\" valign=\"top\">two</th>\n",
       "      <th>A</th>\n",
       "      <td>-0.424864</td>\n",
       "      <td>-0.369638</td>\n",
       "    </tr>\n",
       "    <tr>\n",
       "      <th>B</th>\n",
       "      <td>-1.090883</td>\n",
       "      <td>-0.318320</td>\n",
       "    </tr>\n",
       "  </tbody>\n",
       "</table>\n",
       "</div>"
      ],
      "text/plain": [
       "first          bar       baz\n",
       "second                      \n",
       "one    A -0.115464  1.046604\n",
       "       B  0.546322  2.379343\n",
       "two    A -0.424864 -0.369638\n",
       "       B -1.090883 -0.318320"
      ]
     },
     "execution_count": 97,
     "metadata": {},
     "output_type": "execute_result"
    }
   ],
   "source": [
    "stacked.unstack(0)"
   ]
  },
  {
   "cell_type": "markdown",
   "metadata": {},
   "source": [
    "### Pivot Tables\n",
    "\n",
    "See the section on [Pivot Tables](http://pandas.pydata.org/pandas-docs/stable/reshaping.html#reshaping-pivot)."
   ]
  },
  {
   "cell_type": "code",
   "execution_count": 168,
   "metadata": {
    "collapsed": true
   },
   "outputs": [],
   "source": [
    "df = pd.DataFrame({'A' : ['one', 'one', 'two', 'three'] * 3,\n",
    "                                    'B' : ['A', 'B', 'C'] * 4,\n",
    "                                    'C' : ['foo', 'foo', 'foo', 'bar', 'bar', 'bar'] * 2,\n",
    "                                    'D' : np.random.randn(12),\n",
    "                                    'E' : np.random.randn(12)})"
   ]
  },
  {
   "cell_type": "code",
   "execution_count": 169,
   "metadata": {
    "collapsed": false
   },
   "outputs": [
    {
     "data": {
      "text/html": [
       "<div>\n",
       "<table border=\"1\" class=\"dataframe\">\n",
       "  <thead>\n",
       "    <tr style=\"text-align: right;\">\n",
       "      <th></th>\n",
       "      <th>A</th>\n",
       "      <th>B</th>\n",
       "      <th>C</th>\n",
       "      <th>D</th>\n",
       "      <th>E</th>\n",
       "    </tr>\n",
       "  </thead>\n",
       "  <tbody>\n",
       "    <tr>\n",
       "      <th>0</th>\n",
       "      <td>one</td>\n",
       "      <td>A</td>\n",
       "      <td>foo</td>\n",
       "      <td>0.433237</td>\n",
       "      <td>0.687019</td>\n",
       "    </tr>\n",
       "    <tr>\n",
       "      <th>1</th>\n",
       "      <td>one</td>\n",
       "      <td>B</td>\n",
       "      <td>foo</td>\n",
       "      <td>-0.525811</td>\n",
       "      <td>-0.826010</td>\n",
       "    </tr>\n",
       "    <tr>\n",
       "      <th>2</th>\n",
       "      <td>two</td>\n",
       "      <td>C</td>\n",
       "      <td>foo</td>\n",
       "      <td>-0.439642</td>\n",
       "      <td>0.007635</td>\n",
       "    </tr>\n",
       "    <tr>\n",
       "      <th>3</th>\n",
       "      <td>three</td>\n",
       "      <td>A</td>\n",
       "      <td>bar</td>\n",
       "      <td>-0.067626</td>\n",
       "      <td>-0.502727</td>\n",
       "    </tr>\n",
       "    <tr>\n",
       "      <th>4</th>\n",
       "      <td>one</td>\n",
       "      <td>B</td>\n",
       "      <td>bar</td>\n",
       "      <td>2.724485</td>\n",
       "      <td>0.252883</td>\n",
       "    </tr>\n",
       "    <tr>\n",
       "      <th>5</th>\n",
       "      <td>one</td>\n",
       "      <td>C</td>\n",
       "      <td>bar</td>\n",
       "      <td>-0.187220</td>\n",
       "      <td>-0.151659</td>\n",
       "    </tr>\n",
       "    <tr>\n",
       "      <th>6</th>\n",
       "      <td>two</td>\n",
       "      <td>A</td>\n",
       "      <td>foo</td>\n",
       "      <td>0.503259</td>\n",
       "      <td>0.039821</td>\n",
       "    </tr>\n",
       "    <tr>\n",
       "      <th>7</th>\n",
       "      <td>three</td>\n",
       "      <td>B</td>\n",
       "      <td>foo</td>\n",
       "      <td>-1.316848</td>\n",
       "      <td>0.315566</td>\n",
       "    </tr>\n",
       "    <tr>\n",
       "      <th>8</th>\n",
       "      <td>one</td>\n",
       "      <td>C</td>\n",
       "      <td>foo</td>\n",
       "      <td>3.073317</td>\n",
       "      <td>-1.366196</td>\n",
       "    </tr>\n",
       "    <tr>\n",
       "      <th>9</th>\n",
       "      <td>one</td>\n",
       "      <td>A</td>\n",
       "      <td>bar</td>\n",
       "      <td>-2.109088</td>\n",
       "      <td>-1.187493</td>\n",
       "    </tr>\n",
       "    <tr>\n",
       "      <th>10</th>\n",
       "      <td>two</td>\n",
       "      <td>B</td>\n",
       "      <td>bar</td>\n",
       "      <td>1.624533</td>\n",
       "      <td>0.086189</td>\n",
       "    </tr>\n",
       "    <tr>\n",
       "      <th>11</th>\n",
       "      <td>three</td>\n",
       "      <td>C</td>\n",
       "      <td>bar</td>\n",
       "      <td>0.191688</td>\n",
       "      <td>-1.142373</td>\n",
       "    </tr>\n",
       "  </tbody>\n",
       "</table>\n",
       "</div>"
      ],
      "text/plain": [
       "        A  B    C         D         E\n",
       "0     one  A  foo  0.433237  0.687019\n",
       "1     one  B  foo -0.525811 -0.826010\n",
       "2     two  C  foo -0.439642  0.007635\n",
       "3   three  A  bar -0.067626 -0.502727\n",
       "4     one  B  bar  2.724485  0.252883\n",
       "5     one  C  bar -0.187220 -0.151659\n",
       "6     two  A  foo  0.503259  0.039821\n",
       "7   three  B  foo -1.316848  0.315566\n",
       "8     one  C  foo  3.073317 -1.366196\n",
       "9     one  A  bar -2.109088 -1.187493\n",
       "10    two  B  bar  1.624533  0.086189\n",
       "11  three  C  bar  0.191688 -1.142373"
      ]
     },
     "execution_count": 169,
     "metadata": {},
     "output_type": "execute_result"
    }
   ],
   "source": [
    "df"
   ]
  },
  {
   "cell_type": "markdown",
   "metadata": {},
   "source": [
    "We can produce pivot tables from this data very easily:"
   ]
  },
  {
   "cell_type": "code",
   "execution_count": 170,
   "metadata": {
    "collapsed": false
   },
   "outputs": [
    {
     "data": {
      "text/html": [
       "<div>\n",
       "<table border=\"1\" class=\"dataframe\">\n",
       "  <thead>\n",
       "    <tr style=\"text-align: right;\">\n",
       "      <th></th>\n",
       "      <th>C</th>\n",
       "      <th>bar</th>\n",
       "      <th>foo</th>\n",
       "    </tr>\n",
       "    <tr>\n",
       "      <th>A</th>\n",
       "      <th>B</th>\n",
       "      <th></th>\n",
       "      <th></th>\n",
       "    </tr>\n",
       "  </thead>\n",
       "  <tbody>\n",
       "    <tr>\n",
       "      <th rowspan=\"3\" valign=\"top\">one</th>\n",
       "      <th>A</th>\n",
       "      <td>-2.109088</td>\n",
       "      <td>0.433237</td>\n",
       "    </tr>\n",
       "    <tr>\n",
       "      <th>B</th>\n",
       "      <td>2.724485</td>\n",
       "      <td>-0.525811</td>\n",
       "    </tr>\n",
       "    <tr>\n",
       "      <th>C</th>\n",
       "      <td>-0.187220</td>\n",
       "      <td>3.073317</td>\n",
       "    </tr>\n",
       "    <tr>\n",
       "      <th rowspan=\"3\" valign=\"top\">three</th>\n",
       "      <th>A</th>\n",
       "      <td>-0.067626</td>\n",
       "      <td>NaN</td>\n",
       "    </tr>\n",
       "    <tr>\n",
       "      <th>B</th>\n",
       "      <td>NaN</td>\n",
       "      <td>-1.316848</td>\n",
       "    </tr>\n",
       "    <tr>\n",
       "      <th>C</th>\n",
       "      <td>0.191688</td>\n",
       "      <td>NaN</td>\n",
       "    </tr>\n",
       "    <tr>\n",
       "      <th rowspan=\"3\" valign=\"top\">two</th>\n",
       "      <th>A</th>\n",
       "      <td>NaN</td>\n",
       "      <td>0.503259</td>\n",
       "    </tr>\n",
       "    <tr>\n",
       "      <th>B</th>\n",
       "      <td>1.624533</td>\n",
       "      <td>NaN</td>\n",
       "    </tr>\n",
       "    <tr>\n",
       "      <th>C</th>\n",
       "      <td>NaN</td>\n",
       "      <td>-0.439642</td>\n",
       "    </tr>\n",
       "  </tbody>\n",
       "</table>\n",
       "</div>"
      ],
      "text/plain": [
       "C             bar       foo\n",
       "A     B                    \n",
       "one   A -2.109088  0.433237\n",
       "      B  2.724485 -0.525811\n",
       "      C -0.187220  3.073317\n",
       "three A -0.067626       NaN\n",
       "      B       NaN -1.316848\n",
       "      C  0.191688       NaN\n",
       "two   A       NaN  0.503259\n",
       "      B  1.624533       NaN\n",
       "      C       NaN -0.439642"
      ]
     },
     "execution_count": 170,
     "metadata": {},
     "output_type": "execute_result"
    }
   ],
   "source": [
    "pd.pivot_table(df, values='D', index=['A', 'B'], columns=['C'])"
   ]
  },
  {
   "cell_type": "markdown",
   "metadata": {},
   "source": [
    "## Time Series\n",
    "\n",
    "pandas has simple, powerful, and efficient functionality for performing resampling operations during frequency conversion (e.g., converting secondly data into 5-minutely data). This is extremely common in, but not limited to, financial applications. See the [Time Series section](http://pandas.pydata.org/pandas-docs/stable/timeseries.html#timeseries)"
   ]
  },
  {
   "cell_type": "code",
   "execution_count": 101,
   "metadata": {
    "collapsed": true
   },
   "outputs": [],
   "source": [
    "rng = pd.date_range('1/1/2012', periods=100, freq='S')"
   ]
  },
  {
   "cell_type": "code",
   "execution_count": 102,
   "metadata": {
    "collapsed": true
   },
   "outputs": [],
   "source": [
    "ts = pd.Series(np.random.randint(0, 500, len(rng)), index=rng)"
   ]
  },
  {
   "cell_type": "code",
   "execution_count": 103,
   "metadata": {
    "collapsed": false
   },
   "outputs": [
    {
     "data": {
      "text/plain": [
       "2012-01-01    27385\n",
       "Freq: 5T, dtype: int64"
      ]
     },
     "execution_count": 103,
     "metadata": {},
     "output_type": "execute_result"
    }
   ],
   "source": [
    "ts.resample('5Min').sum()"
   ]
  },
  {
   "cell_type": "markdown",
   "metadata": {},
   "source": [
    "Time zone representation"
   ]
  },
  {
   "cell_type": "code",
   "execution_count": 104,
   "metadata": {
    "collapsed": true
   },
   "outputs": [],
   "source": [
    "rng = pd.date_range('3/6/2012 00:00', periods=5, freq='D')"
   ]
  },
  {
   "cell_type": "code",
   "execution_count": 105,
   "metadata": {
    "collapsed": true
   },
   "outputs": [],
   "source": [
    "ts = pd.Series(np.random.randn(len(rng)), rng)"
   ]
  },
  {
   "cell_type": "code",
   "execution_count": 106,
   "metadata": {
    "collapsed": false
   },
   "outputs": [
    {
     "data": {
      "text/plain": [
       "2012-03-06    0.292464\n",
       "2012-03-07    1.056956\n",
       "2012-03-08    0.596228\n",
       "2012-03-09   -0.139904\n",
       "2012-03-10    0.633394\n",
       "Freq: D, dtype: float64"
      ]
     },
     "execution_count": 106,
     "metadata": {},
     "output_type": "execute_result"
    }
   ],
   "source": [
    "ts"
   ]
  },
  {
   "cell_type": "code",
   "execution_count": 107,
   "metadata": {
    "collapsed": true
   },
   "outputs": [],
   "source": [
    "ts_utc = ts.tz_localize('UTC')"
   ]
  },
  {
   "cell_type": "code",
   "execution_count": 108,
   "metadata": {
    "collapsed": false
   },
   "outputs": [
    {
     "data": {
      "text/plain": [
       "2012-03-06 00:00:00+00:00    0.292464\n",
       "2012-03-07 00:00:00+00:00    1.056956\n",
       "2012-03-08 00:00:00+00:00    0.596228\n",
       "2012-03-09 00:00:00+00:00   -0.139904\n",
       "2012-03-10 00:00:00+00:00    0.633394\n",
       "Freq: D, dtype: float64"
      ]
     },
     "execution_count": 108,
     "metadata": {},
     "output_type": "execute_result"
    }
   ],
   "source": [
    "ts_utc"
   ]
  },
  {
   "cell_type": "markdown",
   "metadata": {},
   "source": [
    "\n",
    "Convert to another time zone"
   ]
  },
  {
   "cell_type": "code",
   "execution_count": 109,
   "metadata": {
    "collapsed": false
   },
   "outputs": [
    {
     "data": {
      "text/plain": [
       "2012-03-05 19:00:00-05:00    0.292464\n",
       "2012-03-06 19:00:00-05:00    1.056956\n",
       "2012-03-07 19:00:00-05:00    0.596228\n",
       "2012-03-08 19:00:00-05:00   -0.139904\n",
       "2012-03-09 19:00:00-05:00    0.633394\n",
       "Freq: D, dtype: float64"
      ]
     },
     "execution_count": 109,
     "metadata": {},
     "output_type": "execute_result"
    }
   ],
   "source": [
    "ts_utc.tz_convert('US/Eastern')"
   ]
  },
  {
   "cell_type": "markdown",
   "metadata": {},
   "source": [
    "\n",
    "Converting between time span representations"
   ]
  },
  {
   "cell_type": "code",
   "execution_count": 110,
   "metadata": {
    "collapsed": true
   },
   "outputs": [],
   "source": [
    "rng = pd.date_range('1/1/2012', periods=5, freq='M')"
   ]
  },
  {
   "cell_type": "code",
   "execution_count": 111,
   "metadata": {
    "collapsed": true
   },
   "outputs": [],
   "source": [
    "ts = pd.Series(np.random.randn(len(rng)), index=rng)"
   ]
  },
  {
   "cell_type": "code",
   "execution_count": 112,
   "metadata": {
    "collapsed": false
   },
   "outputs": [
    {
     "data": {
      "text/plain": [
       "2012-01-31   -0.691981\n",
       "2012-02-29   -0.371446\n",
       "2012-03-31    0.435391\n",
       "2012-04-30   -0.259256\n",
       "2012-05-31    0.310345\n",
       "Freq: M, dtype: float64"
      ]
     },
     "execution_count": 112,
     "metadata": {},
     "output_type": "execute_result"
    }
   ],
   "source": [
    "ts"
   ]
  },
  {
   "cell_type": "code",
   "execution_count": 113,
   "metadata": {
    "collapsed": true
   },
   "outputs": [],
   "source": [
    "ps = ts.to_period()"
   ]
  },
  {
   "cell_type": "code",
   "execution_count": 114,
   "metadata": {
    "collapsed": false
   },
   "outputs": [
    {
     "data": {
      "text/plain": [
       "2012-01   -0.691981\n",
       "2012-02   -0.371446\n",
       "2012-03    0.435391\n",
       "2012-04   -0.259256\n",
       "2012-05    0.310345\n",
       "Freq: M, dtype: float64"
      ]
     },
     "execution_count": 114,
     "metadata": {},
     "output_type": "execute_result"
    }
   ],
   "source": [
    "ps"
   ]
  },
  {
   "cell_type": "code",
   "execution_count": 115,
   "metadata": {
    "collapsed": false
   },
   "outputs": [
    {
     "data": {
      "text/plain": [
       "2012-01-01   -0.691981\n",
       "2012-02-01   -0.371446\n",
       "2012-03-01    0.435391\n",
       "2012-04-01   -0.259256\n",
       "2012-05-01    0.310345\n",
       "Freq: MS, dtype: float64"
      ]
     },
     "execution_count": 115,
     "metadata": {},
     "output_type": "execute_result"
    }
   ],
   "source": [
    "ps.to_timestamp()"
   ]
  },
  {
   "cell_type": "markdown",
   "metadata": {},
   "source": [
    "Converting between period and timestamp enables some convenient arithmetic functions to be used. In the following example, we convert a quarterly frequency with year ending in November to 9am of the end of the month following the quarter end:"
   ]
  },
  {
   "cell_type": "code",
   "execution_count": 116,
   "metadata": {
    "collapsed": true
   },
   "outputs": [],
   "source": [
    "prng = pd.period_range('1990Q1', '2000Q4', freq='Q-NOV')"
   ]
  },
  {
   "cell_type": "code",
   "execution_count": 117,
   "metadata": {
    "collapsed": true
   },
   "outputs": [],
   "source": [
    "ts = pd.Series(np.random.randn(len(prng)), prng)"
   ]
  },
  {
   "cell_type": "code",
   "execution_count": 118,
   "metadata": {
    "collapsed": true
   },
   "outputs": [],
   "source": [
    "ts.index = (prng.asfreq('M', 'e') + 1).asfreq('H', 's') + 9"
   ]
  },
  {
   "cell_type": "code",
   "execution_count": 119,
   "metadata": {
    "collapsed": false
   },
   "outputs": [
    {
     "data": {
      "text/plain": [
       "1990-03-01 09:00   -0.424504\n",
       "1990-06-01 09:00    1.353002\n",
       "1990-09-01 09:00    0.057702\n",
       "1990-12-01 09:00   -1.289890\n",
       "1991-03-01 09:00   -1.637750\n",
       "Freq: H, dtype: float64"
      ]
     },
     "execution_count": 119,
     "metadata": {},
     "output_type": "execute_result"
    }
   ],
   "source": [
    "ts.head()"
   ]
  },
  {
   "cell_type": "markdown",
   "metadata": {},
   "source": [
    "## Categoricals"
   ]
  },
  {
   "cell_type": "markdown",
   "metadata": {},
   "source": [
    "Since version 0.15, pandas can include categorical data in a DataFrame. For full docs, see the [categorical introduction](http://pandas.pydata.org/pandas-docs/stable/categorical.html#categorical) and the [API documentation](http://pandas.pydata.org/pandas-docs/stable/api.html#api-categorical)."
   ]
  },
  {
   "cell_type": "code",
   "execution_count": 120,
   "metadata": {
    "collapsed": true
   },
   "outputs": [],
   "source": [
    "df = pd.DataFrame({\"id\":[1,2,3,4,5,6], \"raw_grade\":['a', 'b', 'b', 'a', 'a', 'e']})"
   ]
  },
  {
   "cell_type": "markdown",
   "metadata": {},
   "source": [
    "Convert the raw grades to a categorical data type."
   ]
  },
  {
   "cell_type": "code",
   "execution_count": 121,
   "metadata": {
    "collapsed": true
   },
   "outputs": [],
   "source": [
    "df[\"grade\"] = df[\"raw_grade\"].astype(\"category\")"
   ]
  },
  {
   "cell_type": "code",
   "execution_count": 122,
   "metadata": {
    "collapsed": false
   },
   "outputs": [
    {
     "data": {
      "text/plain": [
       "0    a\n",
       "1    b\n",
       "2    b\n",
       "3    a\n",
       "4    a\n",
       "5    e\n",
       "Name: grade, dtype: category\n",
       "Categories (3, object): [a, b, e]"
      ]
     },
     "execution_count": 122,
     "metadata": {},
     "output_type": "execute_result"
    }
   ],
   "source": [
    "df[\"grade\"]"
   ]
  },
  {
   "cell_type": "markdown",
   "metadata": {},
   "source": [
    "Rename the categories to more meaningful names (assigning to Series.cat.categories is inplace!)"
   ]
  },
  {
   "cell_type": "code",
   "execution_count": 123,
   "metadata": {
    "collapsed": true
   },
   "outputs": [],
   "source": [
    "df[\"grade\"].cat.categories = [\"very good\", \"good\", \"very bad\"]"
   ]
  },
  {
   "cell_type": "markdown",
   "metadata": {},
   "source": [
    "Reorder the categories and simultaneously add the missing categories (methods under Series .cat return a new Series per default)."
   ]
  },
  {
   "cell_type": "code",
   "execution_count": 124,
   "metadata": {
    "collapsed": true
   },
   "outputs": [],
   "source": [
    "df[\"grade\"] = df[\"grade\"].cat.set_categories([\"very bad\", \"bad\", \"medium\", \"good\", \"very good\"])"
   ]
  },
  {
   "cell_type": "code",
   "execution_count": 125,
   "metadata": {
    "collapsed": false
   },
   "outputs": [
    {
     "data": {
      "text/plain": [
       "0    very good\n",
       "1         good\n",
       "2         good\n",
       "3    very good\n",
       "4    very good\n",
       "5     very bad\n",
       "Name: grade, dtype: category\n",
       "Categories (5, object): [very bad, bad, medium, good, very good]"
      ]
     },
     "execution_count": 125,
     "metadata": {},
     "output_type": "execute_result"
    }
   ],
   "source": [
    "df[\"grade\"]"
   ]
  },
  {
   "cell_type": "markdown",
   "metadata": {},
   "source": [
    "Sorting is per order in the categories, not lexical order."
   ]
  },
  {
   "cell_type": "code",
   "execution_count": 126,
   "metadata": {
    "collapsed": false
   },
   "outputs": [
    {
     "data": {
      "text/html": [
       "<div>\n",
       "<table border=\"1\" class=\"dataframe\">\n",
       "  <thead>\n",
       "    <tr style=\"text-align: right;\">\n",
       "      <th></th>\n",
       "      <th>id</th>\n",
       "      <th>raw_grade</th>\n",
       "      <th>grade</th>\n",
       "    </tr>\n",
       "  </thead>\n",
       "  <tbody>\n",
       "    <tr>\n",
       "      <th>5</th>\n",
       "      <td>6</td>\n",
       "      <td>e</td>\n",
       "      <td>very bad</td>\n",
       "    </tr>\n",
       "    <tr>\n",
       "      <th>1</th>\n",
       "      <td>2</td>\n",
       "      <td>b</td>\n",
       "      <td>good</td>\n",
       "    </tr>\n",
       "    <tr>\n",
       "      <th>2</th>\n",
       "      <td>3</td>\n",
       "      <td>b</td>\n",
       "      <td>good</td>\n",
       "    </tr>\n",
       "    <tr>\n",
       "      <th>0</th>\n",
       "      <td>1</td>\n",
       "      <td>a</td>\n",
       "      <td>very good</td>\n",
       "    </tr>\n",
       "    <tr>\n",
       "      <th>3</th>\n",
       "      <td>4</td>\n",
       "      <td>a</td>\n",
       "      <td>very good</td>\n",
       "    </tr>\n",
       "    <tr>\n",
       "      <th>4</th>\n",
       "      <td>5</td>\n",
       "      <td>a</td>\n",
       "      <td>very good</td>\n",
       "    </tr>\n",
       "  </tbody>\n",
       "</table>\n",
       "</div>"
      ],
      "text/plain": [
       "   id raw_grade      grade\n",
       "5   6         e   very bad\n",
       "1   2         b       good\n",
       "2   3         b       good\n",
       "0   1         a  very good\n",
       "3   4         a  very good\n",
       "4   5         a  very good"
      ]
     },
     "execution_count": 126,
     "metadata": {},
     "output_type": "execute_result"
    }
   ],
   "source": [
    "df.sort_values(by=\"grade\")"
   ]
  },
  {
   "cell_type": "markdown",
   "metadata": {},
   "source": [
    "Grouping by a categorical column shows also empty categories."
   ]
  },
  {
   "cell_type": "code",
   "execution_count": 127,
   "metadata": {
    "collapsed": false
   },
   "outputs": [
    {
     "data": {
      "text/plain": [
       "grade\n",
       "very bad     1\n",
       "bad          0\n",
       "medium       0\n",
       "good         2\n",
       "very good    3\n",
       "dtype: int64"
      ]
     },
     "execution_count": 127,
     "metadata": {},
     "output_type": "execute_result"
    }
   ],
   "source": [
    "df.groupby(\"grade\").size()"
   ]
  },
  {
   "cell_type": "markdown",
   "metadata": {},
   "source": [
    "## Plotting\n",
    "[Plotting](http://pandas.pydata.org/pandas-docs/stable/visualization.html#visualization) docs."
   ]
  },
  {
   "cell_type": "code",
   "execution_count": 128,
   "metadata": {
    "collapsed": true
   },
   "outputs": [],
   "source": [
    "ts = pd.Series(np.random.randn(1000), index=pd.date_range('1/1/2000', periods=1000))"
   ]
  },
  {
   "cell_type": "code",
   "execution_count": 129,
   "metadata": {
    "collapsed": true
   },
   "outputs": [],
   "source": [
    "ts = ts.cumsum()"
   ]
  },
  {
   "cell_type": "code",
   "execution_count": 130,
   "metadata": {
    "collapsed": false
   },
   "outputs": [
    {
     "data": {
      "text/plain": [
       "<matplotlib.axes._subplots.AxesSubplot at 0x113931190>"
      ]
     },
     "execution_count": 130,
     "metadata": {},
     "output_type": "execute_result"
    },
    {
     "data": {
      "image/png": "[encoded data removed]",
      "text/plain": [
       "<matplotlib.figure.Figure at 0x1138eb4d0>"
      ]
     },
     "metadata": {},
     "output_type": "display_data"
    }
   ],
   "source": [
    "# plot a series almost automatically\n",
    "ts.plot()"
   ]
  },
  {
   "cell_type": "markdown",
   "metadata": {},
   "source": [
    "On DataFrame, plot() is a convenience to plot all of the columns with labels:"
   ]
  },
  {
   "cell_type": "code",
   "execution_count": 131,
   "metadata": {
    "collapsed": true
   },
   "outputs": [],
   "source": [
    "df = pd.DataFrame(np.random.randn(1000, 4), index=ts.index,\n",
    "                  columns=['A', 'B', 'C', 'D'])"
   ]
  },
  {
   "cell_type": "code",
   "execution_count": 132,
   "metadata": {
    "collapsed": true
   },
   "outputs": [],
   "source": [
    "df = df.cumsum()"
   ]
  },
  {
   "cell_type": "code",
   "execution_count": 133,
   "metadata": {
    "collapsed": false
   },
   "outputs": [
    {
     "data": {
      "text/plain": [
       "<matplotlib.legend.Legend at 0x115dd9a50>"
      ]
     },
     "execution_count": 133,
     "metadata": {},
     "output_type": "execute_result"
    },
    {
     "data": {
      "text/plain": [
       "<matplotlib.figure.Figure at 0x115e64b90>"
      ]
     },
     "metadata": {},
     "output_type": "display_data"
    },
    {
     "data": {
      "image/png": "[encoded data removed]",
      "text/plain": [
       "<matplotlib.figure.Figure at 0x1163141d0>"
      ]
     },
     "metadata": {},
     "output_type": "display_data"
    }
   ],
   "source": [
    "plt.figure(); df.plot(); plt.legend(loc='best')"
   ]
  },
  {
   "cell_type": "markdown",
   "metadata": {},
   "source": [
    "## Getting Data In/Out"
   ]
  },
  {
   "cell_type": "markdown",
   "metadata": {},
   "source": [
    "### CSV\n",
    "[Writing to a csv file](http://pandas.pydata.org/pandas-docs/stable/io.html#io-store-in-csv)"
   ]
  },
  {
   "cell_type": "code",
   "execution_count": 134,
   "metadata": {
    "collapsed": true
   },
   "outputs": [],
   "source": [
    "df.to_csv('foo.csv')"
   ]
  },
  {
   "cell_type": "markdown",
   "metadata": {},
   "source": [
    "[Reading from a csv file](http://pandas.pydata.org/pandas-docs/stable/io.html#io-read-csv-table)"
   ]
  },
  {
   "cell_type": "code",
   "execution_count": 135,
   "metadata": {
    "collapsed": false
   },
   "outputs": [
    {
     "data": {
      "text/html": [
       "<div>\n",
       "<table border=\"1\" class=\"dataframe\">\n",
       "  <thead>\n",
       "    <tr style=\"text-align: right;\">\n",
       "      <th></th>\n",
       "      <th>Unnamed: 0</th>\n",
       "      <th>A</th>\n",
       "      <th>B</th>\n",
       "      <th>C</th>\n",
       "      <th>D</th>\n",
       "    </tr>\n",
       "  </thead>\n",
       "  <tbody>\n",
       "    <tr>\n",
       "      <th>0</th>\n",
       "      <td>2000-01-01</td>\n",
       "      <td>-0.854547</td>\n",
       "      <td>0.447559</td>\n",
       "      <td>-0.134912</td>\n",
       "      <td>-0.164443</td>\n",
       "    </tr>\n",
       "    <tr>\n",
       "      <th>1</th>\n",
       "      <td>2000-01-02</td>\n",
       "      <td>-1.630824</td>\n",
       "      <td>-0.383058</td>\n",
       "      <td>1.006201</td>\n",
       "      <td>1.122183</td>\n",
       "    </tr>\n",
       "    <tr>\n",
       "      <th>2</th>\n",
       "      <td>2000-01-03</td>\n",
       "      <td>-2.030085</td>\n",
       "      <td>-1.832851</td>\n",
       "      <td>0.239369</td>\n",
       "      <td>1.364488</td>\n",
       "    </tr>\n",
       "    <tr>\n",
       "      <th>3</th>\n",
       "      <td>2000-01-04</td>\n",
       "      <td>-3.082157</td>\n",
       "      <td>-2.137121</td>\n",
       "      <td>-1.961715</td>\n",
       "      <td>2.013433</td>\n",
       "    </tr>\n",
       "    <tr>\n",
       "      <th>4</th>\n",
       "      <td>2000-01-05</td>\n",
       "      <td>-3.239785</td>\n",
       "      <td>-3.980219</td>\n",
       "      <td>-2.905007</td>\n",
       "      <td>1.037357</td>\n",
       "    </tr>\n",
       "    <tr>\n",
       "      <th>5</th>\n",
       "      <td>2000-01-06</td>\n",
       "      <td>-3.684050</td>\n",
       "      <td>-4.555034</td>\n",
       "      <td>-2.868334</td>\n",
       "      <td>2.616164</td>\n",
       "    </tr>\n",
       "    <tr>\n",
       "      <th>6</th>\n",
       "      <td>2000-01-07</td>\n",
       "      <td>-5.745733</td>\n",
       "      <td>-3.731251</td>\n",
       "      <td>-1.738356</td>\n",
       "      <td>3.536241</td>\n",
       "    </tr>\n",
       "    <tr>\n",
       "      <th>7</th>\n",
       "      <td>2000-01-08</td>\n",
       "      <td>-5.934340</td>\n",
       "      <td>-5.602300</td>\n",
       "      <td>-2.664696</td>\n",
       "      <td>4.892142</td>\n",
       "    </tr>\n",
       "    <tr>\n",
       "      <th>8</th>\n",
       "      <td>2000-01-09</td>\n",
       "      <td>-7.364158</td>\n",
       "      <td>-5.526932</td>\n",
       "      <td>-3.064157</td>\n",
       "      <td>4.203635</td>\n",
       "    </tr>\n",
       "    <tr>\n",
       "      <th>9</th>\n",
       "      <td>2000-01-10</td>\n",
       "      <td>-8.090153</td>\n",
       "      <td>-6.366834</td>\n",
       "      <td>-2.731236</td>\n",
       "      <td>3.558414</td>\n",
       "    </tr>\n",
       "    <tr>\n",
       "      <th>10</th>\n",
       "      <td>2000-01-11</td>\n",
       "      <td>-6.427611</td>\n",
       "      <td>-6.104159</td>\n",
       "      <td>-2.541128</td>\n",
       "      <td>3.767054</td>\n",
       "    </tr>\n",
       "    <tr>\n",
       "      <th>11</th>\n",
       "      <td>2000-01-12</td>\n",
       "      <td>-6.450433</td>\n",
       "      <td>-5.078341</td>\n",
       "      <td>-2.118071</td>\n",
       "      <td>4.003487</td>\n",
       "    </tr>\n",
       "    <tr>\n",
       "      <th>12</th>\n",
       "      <td>2000-01-13</td>\n",
       "      <td>-7.022586</td>\n",
       "      <td>-3.745470</td>\n",
       "      <td>-4.014209</td>\n",
       "      <td>5.113928</td>\n",
       "    </tr>\n",
       "    <tr>\n",
       "      <th>13</th>\n",
       "      <td>2000-01-14</td>\n",
       "      <td>-6.907896</td>\n",
       "      <td>-4.739820</td>\n",
       "      <td>-3.579858</td>\n",
       "      <td>5.790983</td>\n",
       "    </tr>\n",
       "    <tr>\n",
       "      <th>14</th>\n",
       "      <td>2000-01-15</td>\n",
       "      <td>-7.178632</td>\n",
       "      <td>-5.341799</td>\n",
       "      <td>-5.015415</td>\n",
       "      <td>4.749756</td>\n",
       "    </tr>\n",
       "    <tr>\n",
       "      <th>15</th>\n",
       "      <td>2000-01-16</td>\n",
       "      <td>-7.027158</td>\n",
       "      <td>-6.150856</td>\n",
       "      <td>-4.197501</td>\n",
       "      <td>2.770540</td>\n",
       "    </tr>\n",
       "    <tr>\n",
       "      <th>16</th>\n",
       "      <td>2000-01-17</td>\n",
       "      <td>-6.362781</td>\n",
       "      <td>-7.057951</td>\n",
       "      <td>-3.195980</td>\n",
       "      <td>2.273959</td>\n",
       "    </tr>\n",
       "    <tr>\n",
       "      <th>17</th>\n",
       "      <td>2000-01-18</td>\n",
       "      <td>-6.450209</td>\n",
       "      <td>-8.977658</td>\n",
       "      <td>-2.023839</td>\n",
       "      <td>1.108708</td>\n",
       "    </tr>\n",
       "    <tr>\n",
       "      <th>18</th>\n",
       "      <td>2000-01-19</td>\n",
       "      <td>-7.010542</td>\n",
       "      <td>-7.279340</td>\n",
       "      <td>-2.323073</td>\n",
       "      <td>2.692668</td>\n",
       "    </tr>\n",
       "    <tr>\n",
       "      <th>19</th>\n",
       "      <td>2000-01-20</td>\n",
       "      <td>-6.419620</td>\n",
       "      <td>-6.922908</td>\n",
       "      <td>-2.829157</td>\n",
       "      <td>2.325162</td>\n",
       "    </tr>\n",
       "    <tr>\n",
       "      <th>20</th>\n",
       "      <td>2000-01-21</td>\n",
       "      <td>-5.563802</td>\n",
       "      <td>-8.070750</td>\n",
       "      <td>-4.243624</td>\n",
       "      <td>3.421211</td>\n",
       "    </tr>\n",
       "    <tr>\n",
       "      <th>21</th>\n",
       "      <td>2000-01-22</td>\n",
       "      <td>-5.064129</td>\n",
       "      <td>-8.695474</td>\n",
       "      <td>-3.500657</td>\n",
       "      <td>2.463827</td>\n",
       "    </tr>\n",
       "    <tr>\n",
       "      <th>22</th>\n",
       "      <td>2000-01-23</td>\n",
       "      <td>-6.619479</td>\n",
       "      <td>-10.547755</td>\n",
       "      <td>-2.103950</td>\n",
       "      <td>2.164248</td>\n",
       "    </tr>\n",
       "    <tr>\n",
       "      <th>23</th>\n",
       "      <td>2000-01-24</td>\n",
       "      <td>-5.874051</td>\n",
       "      <td>-10.630213</td>\n",
       "      <td>-3.734154</td>\n",
       "      <td>3.220041</td>\n",
       "    </tr>\n",
       "    <tr>\n",
       "      <th>24</th>\n",
       "      <td>2000-01-25</td>\n",
       "      <td>-5.537214</td>\n",
       "      <td>-10.041074</td>\n",
       "      <td>-1.446452</td>\n",
       "      <td>4.926237</td>\n",
       "    </tr>\n",
       "    <tr>\n",
       "      <th>25</th>\n",
       "      <td>2000-01-26</td>\n",
       "      <td>-6.148916</td>\n",
       "      <td>-10.547810</td>\n",
       "      <td>-2.070346</td>\n",
       "      <td>4.100011</td>\n",
       "    </tr>\n",
       "    <tr>\n",
       "      <th>26</th>\n",
       "      <td>2000-01-27</td>\n",
       "      <td>-5.438043</td>\n",
       "      <td>-11.205767</td>\n",
       "      <td>-2.914173</td>\n",
       "      <td>3.863679</td>\n",
       "    </tr>\n",
       "    <tr>\n",
       "      <th>27</th>\n",
       "      <td>2000-01-28</td>\n",
       "      <td>-4.488879</td>\n",
       "      <td>-12.202574</td>\n",
       "      <td>-0.752146</td>\n",
       "      <td>2.661338</td>\n",
       "    </tr>\n",
       "    <tr>\n",
       "      <th>28</th>\n",
       "      <td>2000-01-29</td>\n",
       "      <td>-4.529922</td>\n",
       "      <td>-13.013400</td>\n",
       "      <td>-0.585408</td>\n",
       "      <td>3.056847</td>\n",
       "    </tr>\n",
       "    <tr>\n",
       "      <th>29</th>\n",
       "      <td>2000-01-30</td>\n",
       "      <td>-4.541327</td>\n",
       "      <td>-11.446199</td>\n",
       "      <td>-1.315170</td>\n",
       "      <td>4.534232</td>\n",
       "    </tr>\n",
       "    <tr>\n",
       "      <th>...</th>\n",
       "      <td>...</td>\n",
       "      <td>...</td>\n",
       "      <td>...</td>\n",
       "      <td>...</td>\n",
       "      <td>...</td>\n",
       "    </tr>\n",
       "    <tr>\n",
       "      <th>970</th>\n",
       "      <td>2002-08-28</td>\n",
       "      <td>30.822312</td>\n",
       "      <td>-8.907036</td>\n",
       "      <td>-39.581217</td>\n",
       "      <td>-27.334975</td>\n",
       "    </tr>\n",
       "    <tr>\n",
       "      <th>971</th>\n",
       "      <td>2002-08-29</td>\n",
       "      <td>29.706458</td>\n",
       "      <td>-7.615553</td>\n",
       "      <td>-38.381409</td>\n",
       "      <td>-26.210694</td>\n",
       "    </tr>\n",
       "    <tr>\n",
       "      <th>972</th>\n",
       "      <td>2002-08-30</td>\n",
       "      <td>28.474452</td>\n",
       "      <td>-7.917203</td>\n",
       "      <td>-37.089797</td>\n",
       "      <td>-27.242746</td>\n",
       "    </tr>\n",
       "    <tr>\n",
       "      <th>973</th>\n",
       "      <td>2002-08-31</td>\n",
       "      <td>28.515609</td>\n",
       "      <td>-6.391711</td>\n",
       "      <td>-37.035474</td>\n",
       "      <td>-25.676694</td>\n",
       "    </tr>\n",
       "    <tr>\n",
       "      <th>974</th>\n",
       "      <td>2002-09-01</td>\n",
       "      <td>27.636847</td>\n",
       "      <td>-6.105889</td>\n",
       "      <td>-37.036313</td>\n",
       "      <td>-25.016128</td>\n",
       "    </tr>\n",
       "    <tr>\n",
       "      <th>975</th>\n",
       "      <td>2002-09-02</td>\n",
       "      <td>28.460085</td>\n",
       "      <td>-6.398346</td>\n",
       "      <td>-36.182030</td>\n",
       "      <td>-26.134646</td>\n",
       "    </tr>\n",
       "    <tr>\n",
       "      <th>976</th>\n",
       "      <td>2002-09-03</td>\n",
       "      <td>28.454351</td>\n",
       "      <td>-6.102474</td>\n",
       "      <td>-37.618810</td>\n",
       "      <td>-26.247820</td>\n",
       "    </tr>\n",
       "    <tr>\n",
       "      <th>977</th>\n",
       "      <td>2002-09-04</td>\n",
       "      <td>28.994606</td>\n",
       "      <td>-6.762339</td>\n",
       "      <td>-37.872071</td>\n",
       "      <td>-25.315721</td>\n",
       "    </tr>\n",
       "    <tr>\n",
       "      <th>978</th>\n",
       "      <td>2002-09-05</td>\n",
       "      <td>28.242018</td>\n",
       "      <td>-6.099497</td>\n",
       "      <td>-37.301942</td>\n",
       "      <td>-23.505841</td>\n",
       "    </tr>\n",
       "    <tr>\n",
       "      <th>979</th>\n",
       "      <td>2002-09-06</td>\n",
       "      <td>27.714165</td>\n",
       "      <td>-5.308782</td>\n",
       "      <td>-37.122693</td>\n",
       "      <td>-25.937770</td>\n",
       "    </tr>\n",
       "    <tr>\n",
       "      <th>980</th>\n",
       "      <td>2002-09-07</td>\n",
       "      <td>28.678901</td>\n",
       "      <td>-5.218797</td>\n",
       "      <td>-36.850858</td>\n",
       "      <td>-24.962191</td>\n",
       "    </tr>\n",
       "    <tr>\n",
       "      <th>981</th>\n",
       "      <td>2002-09-08</td>\n",
       "      <td>28.713904</td>\n",
       "      <td>-5.163404</td>\n",
       "      <td>-37.671409</td>\n",
       "      <td>-25.155018</td>\n",
       "    </tr>\n",
       "    <tr>\n",
       "      <th>982</th>\n",
       "      <td>2002-09-09</td>\n",
       "      <td>28.963767</td>\n",
       "      <td>-6.103999</td>\n",
       "      <td>-35.939157</td>\n",
       "      <td>-24.641628</td>\n",
       "    </tr>\n",
       "    <tr>\n",
       "      <th>983</th>\n",
       "      <td>2002-09-10</td>\n",
       "      <td>27.230703</td>\n",
       "      <td>-6.417995</td>\n",
       "      <td>-36.242141</td>\n",
       "      <td>-26.351060</td>\n",
       "    </tr>\n",
       "    <tr>\n",
       "      <th>984</th>\n",
       "      <td>2002-09-11</td>\n",
       "      <td>26.021968</td>\n",
       "      <td>-6.253301</td>\n",
       "      <td>-37.835103</td>\n",
       "      <td>-26.641635</td>\n",
       "    </tr>\n",
       "    <tr>\n",
       "      <th>985</th>\n",
       "      <td>2002-09-12</td>\n",
       "      <td>26.758338</td>\n",
       "      <td>-7.668560</td>\n",
       "      <td>-37.912365</td>\n",
       "      <td>-26.722423</td>\n",
       "    </tr>\n",
       "    <tr>\n",
       "      <th>986</th>\n",
       "      <td>2002-09-13</td>\n",
       "      <td>25.466434</td>\n",
       "      <td>-7.249205</td>\n",
       "      <td>-38.482902</td>\n",
       "      <td>-26.156040</td>\n",
       "    </tr>\n",
       "    <tr>\n",
       "      <th>987</th>\n",
       "      <td>2002-09-14</td>\n",
       "      <td>25.565090</td>\n",
       "      <td>-7.562557</td>\n",
       "      <td>-39.036052</td>\n",
       "      <td>-26.715930</td>\n",
       "    </tr>\n",
       "    <tr>\n",
       "      <th>988</th>\n",
       "      <td>2002-09-15</td>\n",
       "      <td>24.983878</td>\n",
       "      <td>-6.395173</td>\n",
       "      <td>-37.986632</td>\n",
       "      <td>-27.043622</td>\n",
       "    </tr>\n",
       "    <tr>\n",
       "      <th>989</th>\n",
       "      <td>2002-09-16</td>\n",
       "      <td>26.476912</td>\n",
       "      <td>-3.126435</td>\n",
       "      <td>-37.788537</td>\n",
       "      <td>-27.389491</td>\n",
       "    </tr>\n",
       "    <tr>\n",
       "      <th>990</th>\n",
       "      <td>2002-09-17</td>\n",
       "      <td>26.752412</td>\n",
       "      <td>-2.600207</td>\n",
       "      <td>-39.291096</td>\n",
       "      <td>-27.123962</td>\n",
       "    </tr>\n",
       "    <tr>\n",
       "      <th>991</th>\n",
       "      <td>2002-09-18</td>\n",
       "      <td>26.089312</td>\n",
       "      <td>-2.382579</td>\n",
       "      <td>-39.657133</td>\n",
       "      <td>-27.366118</td>\n",
       "    </tr>\n",
       "    <tr>\n",
       "      <th>992</th>\n",
       "      <td>2002-09-19</td>\n",
       "      <td>27.044531</td>\n",
       "      <td>-2.016140</td>\n",
       "      <td>-40.825877</td>\n",
       "      <td>-26.532852</td>\n",
       "    </tr>\n",
       "    <tr>\n",
       "      <th>993</th>\n",
       "      <td>2002-09-20</td>\n",
       "      <td>27.031169</td>\n",
       "      <td>-3.620759</td>\n",
       "      <td>-40.751100</td>\n",
       "      <td>-25.678704</td>\n",
       "    </tr>\n",
       "    <tr>\n",
       "      <th>994</th>\n",
       "      <td>2002-09-21</td>\n",
       "      <td>27.783198</td>\n",
       "      <td>-4.877700</td>\n",
       "      <td>-40.627454</td>\n",
       "      <td>-26.427602</td>\n",
       "    </tr>\n",
       "    <tr>\n",
       "      <th>995</th>\n",
       "      <td>2002-09-22</td>\n",
       "      <td>26.972071</td>\n",
       "      <td>-5.274108</td>\n",
       "      <td>-40.039801</td>\n",
       "      <td>-25.518557</td>\n",
       "    </tr>\n",
       "    <tr>\n",
       "      <th>996</th>\n",
       "      <td>2002-09-23</td>\n",
       "      <td>27.652985</td>\n",
       "      <td>-3.540503</td>\n",
       "      <td>-40.006192</td>\n",
       "      <td>-25.465327</td>\n",
       "    </tr>\n",
       "    <tr>\n",
       "      <th>997</th>\n",
       "      <td>2002-09-24</td>\n",
       "      <td>26.966758</td>\n",
       "      <td>-2.542754</td>\n",
       "      <td>-40.994354</td>\n",
       "      <td>-24.867937</td>\n",
       "    </tr>\n",
       "    <tr>\n",
       "      <th>998</th>\n",
       "      <td>2002-09-25</td>\n",
       "      <td>27.229414</td>\n",
       "      <td>-1.478856</td>\n",
       "      <td>-42.053739</td>\n",
       "      <td>-26.259860</td>\n",
       "    </tr>\n",
       "    <tr>\n",
       "      <th>999</th>\n",
       "      <td>2002-09-26</td>\n",
       "      <td>25.575542</td>\n",
       "      <td>-1.161997</td>\n",
       "      <td>-41.988262</td>\n",
       "      <td>-26.246348</td>\n",
       "    </tr>\n",
       "  </tbody>\n",
       "</table>\n",
       "<p>1000 rows × 5 columns</p>\n",
       "</div>"
      ],
      "text/plain": [
       "     Unnamed: 0          A          B          C          D\n",
       "0    2000-01-01  -0.854547   0.447559  -0.134912  -0.164443\n",
       "1    2000-01-02  -1.630824  -0.383058   1.006201   1.122183\n",
       "2    2000-01-03  -2.030085  -1.832851   0.239369   1.364488\n",
       "3    2000-01-04  -3.082157  -2.137121  -1.961715   2.013433\n",
       "4    2000-01-05  -3.239785  -3.980219  -2.905007   1.037357\n",
       "5    2000-01-06  -3.684050  -4.555034  -2.868334   2.616164\n",
       "6    2000-01-07  -5.745733  -3.731251  -1.738356   3.536241\n",
       "7    2000-01-08  -5.934340  -5.602300  -2.664696   4.892142\n",
       "8    2000-01-09  -7.364158  -5.526932  -3.064157   4.203635\n",
       "9    2000-01-10  -8.090153  -6.366834  -2.731236   3.558414\n",
       "10   2000-01-11  -6.427611  -6.104159  -2.541128   3.767054\n",
       "11   2000-01-12  -6.450433  -5.078341  -2.118071   4.003487\n",
       "12   2000-01-13  -7.022586  -3.745470  -4.014209   5.113928\n",
       "13   2000-01-14  -6.907896  -4.739820  -3.579858   5.790983\n",
       "14   2000-01-15  -7.178632  -5.341799  -5.015415   4.749756\n",
       "15   2000-01-16  -7.027158  -6.150856  -4.197501   2.770540\n",
       "16   2000-01-17  -6.362781  -7.057951  -3.195980   2.273959\n",
       "17   2000-01-18  -6.450209  -8.977658  -2.023839   1.108708\n",
       "18   2000-01-19  -7.010542  -7.279340  -2.323073   2.692668\n",
       "19   2000-01-20  -6.419620  -6.922908  -2.829157   2.325162\n",
       "20   2000-01-21  -5.563802  -8.070750  -4.243624   3.421211\n",
       "21   2000-01-22  -5.064129  -8.695474  -3.500657   2.463827\n",
       "22   2000-01-23  -6.619479 -10.547755  -2.103950   2.164248\n",
       "23   2000-01-24  -5.874051 -10.630213  -3.734154   3.220041\n",
       "24   2000-01-25  -5.537214 -10.041074  -1.446452   4.926237\n",
       "25   2000-01-26  -6.148916 -10.547810  -2.070346   4.100011\n",
       "26   2000-01-27  -5.438043 -11.205767  -2.914173   3.863679\n",
       "27   2000-01-28  -4.488879 -12.202574  -0.752146   2.661338\n",
       "28   2000-01-29  -4.529922 -13.013400  -0.585408   3.056847\n",
       "29   2000-01-30  -4.541327 -11.446199  -1.315170   4.534232\n",
       "..          ...        ...        ...        ...        ...\n",
       "970  2002-08-28  30.822312  -8.907036 -39.581217 -27.334975\n",
       "971  2002-08-29  29.706458  -7.615553 -38.381409 -26.210694\n",
       "972  2002-08-30  28.474452  -7.917203 -37.089797 -27.242746\n",
       "973  2002-08-31  28.515609  -6.391711 -37.035474 -25.676694\n",
       "974  2002-09-01  27.636847  -6.105889 -37.036313 -25.016128\n",
       "975  2002-09-02  28.460085  -6.398346 -36.182030 -26.134646\n",
       "976  2002-09-03  28.454351  -6.102474 -37.618810 -26.247820\n",
       "977  2002-09-04  28.994606  -6.762339 -37.872071 -25.315721\n",
       "978  2002-09-05  28.242018  -6.099497 -37.301942 -23.505841\n",
       "979  2002-09-06  27.714165  -5.308782 -37.122693 -25.937770\n",
       "980  2002-09-07  28.678901  -5.218797 -36.850858 -24.962191\n",
       "981  2002-09-08  28.713904  -5.163404 -37.671409 -25.155018\n",
       "982  2002-09-09  28.963767  -6.103999 -35.939157 -24.641628\n",
       "983  2002-09-10  27.230703  -6.417995 -36.242141 -26.351060\n",
       "984  2002-09-11  26.021968  -6.253301 -37.835103 -26.641635\n",
       "985  2002-09-12  26.758338  -7.668560 -37.912365 -26.722423\n",
       "986  2002-09-13  25.466434  -7.249205 -38.482902 -26.156040\n",
       "987  2002-09-14  25.565090  -7.562557 -39.036052 -26.715930\n",
       "988  2002-09-15  24.983878  -6.395173 -37.986632 -27.043622\n",
       "989  2002-09-16  26.476912  -3.126435 -37.788537 -27.389491\n",
       "990  2002-09-17  26.752412  -2.600207 -39.291096 -27.123962\n",
       "991  2002-09-18  26.089312  -2.382579 -39.657133 -27.366118\n",
       "992  2002-09-19  27.044531  -2.016140 -40.825877 -26.532852\n",
       "993  2002-09-20  27.031169  -3.620759 -40.751100 -25.678704\n",
       "994  2002-09-21  27.783198  -4.877700 -40.627454 -26.427602\n",
       "995  2002-09-22  26.972071  -5.274108 -40.039801 -25.518557\n",
       "996  2002-09-23  27.652985  -3.540503 -40.006192 -25.465327\n",
       "997  2002-09-24  26.966758  -2.542754 -40.994354 -24.867937\n",
       "998  2002-09-25  27.229414  -1.478856 -42.053739 -26.259860\n",
       "999  2002-09-26  25.575542  -1.161997 -41.988262 -26.246348\n",
       "\n",
       "[1000 rows x 5 columns]"
      ]
     },
     "execution_count": 135,
     "metadata": {},
     "output_type": "execute_result"
    }
   ],
   "source": [
    "pd.read_csv('foo.csv')"
   ]
  },
  {
   "cell_type": "markdown",
   "metadata": {},
   "source": [
    "### HDF5\n",
    "Reading and writing to [HDFStores](http://pandas.pydata.org/pandas-docs/stable/io.html#io-hdf5)\n",
    "\n",
    "Writing to a HDF5 Store"
   ]
  },
  {
   "cell_type": "code",
   "execution_count": 136,
   "metadata": {
    "collapsed": true
   },
   "outputs": [],
   "source": [
    "df.to_hdf('foo.h5','df')"
   ]
  },
  {
   "cell_type": "markdown",
   "metadata": {},
   "source": [
    "Reading from a HDF5 Store"
   ]
  },
  {
   "cell_type": "code",
   "execution_count": 137,
   "metadata": {
    "collapsed": false
   },
   "outputs": [
    {
     "data": {
      "text/html": [
       "<div>\n",
       "<table border=\"1\" class=\"dataframe\">\n",
       "  <thead>\n",
       "    <tr style=\"text-align: right;\">\n",
       "      <th></th>\n",
       "      <th>A</th>\n",
       "      <th>B</th>\n",
       "      <th>C</th>\n",
       "      <th>D</th>\n",
       "    </tr>\n",
       "  </thead>\n",
       "  <tbody>\n",
       "    <tr>\n",
       "      <th>2000-01-01</th>\n",
       "      <td>-0.854547</td>\n",
       "      <td>0.447559</td>\n",
       "      <td>-0.134912</td>\n",
       "      <td>-0.164443</td>\n",
       "    </tr>\n",
       "    <tr>\n",
       "      <th>2000-01-02</th>\n",
       "      <td>-1.630824</td>\n",
       "      <td>-0.383058</td>\n",
       "      <td>1.006201</td>\n",
       "      <td>1.122183</td>\n",
       "    </tr>\n",
       "    <tr>\n",
       "      <th>2000-01-03</th>\n",
       "      <td>-2.030085</td>\n",
       "      <td>-1.832851</td>\n",
       "      <td>0.239369</td>\n",
       "      <td>1.364488</td>\n",
       "    </tr>\n",
       "    <tr>\n",
       "      <th>2000-01-04</th>\n",
       "      <td>-3.082157</td>\n",
       "      <td>-2.137121</td>\n",
       "      <td>-1.961715</td>\n",
       "      <td>2.013433</td>\n",
       "    </tr>\n",
       "    <tr>\n",
       "      <th>2000-01-05</th>\n",
       "      <td>-3.239785</td>\n",
       "      <td>-3.980219</td>\n",
       "      <td>-2.905007</td>\n",
       "      <td>1.037357</td>\n",
       "    </tr>\n",
       "    <tr>\n",
       "      <th>2000-01-06</th>\n",
       "      <td>-3.684050</td>\n",
       "      <td>-4.555034</td>\n",
       "      <td>-2.868334</td>\n",
       "      <td>2.616164</td>\n",
       "    </tr>\n",
       "    <tr>\n",
       "      <th>2000-01-07</th>\n",
       "      <td>-5.745733</td>\n",
       "      <td>-3.731251</td>\n",
       "      <td>-1.738356</td>\n",
       "      <td>3.536241</td>\n",
       "    </tr>\n",
       "    <tr>\n",
       "      <th>2000-01-08</th>\n",
       "      <td>-5.934340</td>\n",
       "      <td>-5.602300</td>\n",
       "      <td>-2.664696</td>\n",
       "      <td>4.892142</td>\n",
       "    </tr>\n",
       "    <tr>\n",
       "      <th>2000-01-09</th>\n",
       "      <td>-7.364158</td>\n",
       "      <td>-5.526932</td>\n",
       "      <td>-3.064157</td>\n",
       "      <td>4.203635</td>\n",
       "    </tr>\n",
       "    <tr>\n",
       "      <th>2000-01-10</th>\n",
       "      <td>-8.090153</td>\n",
       "      <td>-6.366834</td>\n",
       "      <td>-2.731236</td>\n",
       "      <td>3.558414</td>\n",
       "    </tr>\n",
       "    <tr>\n",
       "      <th>2000-01-11</th>\n",
       "      <td>-6.427611</td>\n",
       "      <td>-6.104159</td>\n",
       "      <td>-2.541128</td>\n",
       "      <td>3.767054</td>\n",
       "    </tr>\n",
       "    <tr>\n",
       "      <th>2000-01-12</th>\n",
       "      <td>-6.450433</td>\n",
       "      <td>-5.078341</td>\n",
       "      <td>-2.118071</td>\n",
       "      <td>4.003487</td>\n",
       "    </tr>\n",
       "    <tr>\n",
       "      <th>2000-01-13</th>\n",
       "      <td>-7.022586</td>\n",
       "      <td>-3.745470</td>\n",
       "      <td>-4.014209</td>\n",
       "      <td>5.113928</td>\n",
       "    </tr>\n",
       "    <tr>\n",
       "      <th>2000-01-14</th>\n",
       "      <td>-6.907896</td>\n",
       "      <td>-4.739820</td>\n",
       "      <td>-3.579858</td>\n",
       "      <td>5.790983</td>\n",
       "    </tr>\n",
       "    <tr>\n",
       "      <th>2000-01-15</th>\n",
       "      <td>-7.178632</td>\n",
       "      <td>-5.341799</td>\n",
       "      <td>-5.015415</td>\n",
       "      <td>4.749756</td>\n",
       "    </tr>\n",
       "    <tr>\n",
       "      <th>2000-01-16</th>\n",
       "      <td>-7.027158</td>\n",
       "      <td>-6.150856</td>\n",
       "      <td>-4.197501</td>\n",
       "      <td>2.770540</td>\n",
       "    </tr>\n",
       "    <tr>\n",
       "      <th>2000-01-17</th>\n",
       "      <td>-6.362781</td>\n",
       "      <td>-7.057951</td>\n",
       "      <td>-3.195980</td>\n",
       "      <td>2.273959</td>\n",
       "    </tr>\n",
       "    <tr>\n",
       "      <th>2000-01-18</th>\n",
       "      <td>-6.450209</td>\n",
       "      <td>-8.977658</td>\n",
       "      <td>-2.023839</td>\n",
       "      <td>1.108708</td>\n",
       "    </tr>\n",
       "    <tr>\n",
       "      <th>2000-01-19</th>\n",
       "      <td>-7.010542</td>\n",
       "      <td>-7.279340</td>\n",
       "      <td>-2.323073</td>\n",
       "      <td>2.692668</td>\n",
       "    </tr>\n",
       "    <tr>\n",
       "      <th>2000-01-20</th>\n",
       "      <td>-6.419620</td>\n",
       "      <td>-6.922908</td>\n",
       "      <td>-2.829157</td>\n",
       "      <td>2.325162</td>\n",
       "    </tr>\n",
       "    <tr>\n",
       "      <th>2000-01-21</th>\n",
       "      <td>-5.563802</td>\n",
       "      <td>-8.070750</td>\n",
       "      <td>-4.243624</td>\n",
       "      <td>3.421211</td>\n",
       "    </tr>\n",
       "    <tr>\n",
       "      <th>2000-01-22</th>\n",
       "      <td>-5.064129</td>\n",
       "      <td>-8.695474</td>\n",
       "      <td>-3.500657</td>\n",
       "      <td>2.463827</td>\n",
       "    </tr>\n",
       "    <tr>\n",
       "      <th>2000-01-23</th>\n",
       "      <td>-6.619479</td>\n",
       "      <td>-10.547755</td>\n",
       "      <td>-2.103950</td>\n",
       "      <td>2.164248</td>\n",
       "    </tr>\n",
       "    <tr>\n",
       "      <th>2000-01-24</th>\n",
       "      <td>-5.874051</td>\n",
       "      <td>-10.630213</td>\n",
       "      <td>-3.734154</td>\n",
       "      <td>3.220041</td>\n",
       "    </tr>\n",
       "    <tr>\n",
       "      <th>2000-01-25</th>\n",
       "      <td>-5.537214</td>\n",
       "      <td>-10.041074</td>\n",
       "      <td>-1.446452</td>\n",
       "      <td>4.926237</td>\n",
       "    </tr>\n",
       "    <tr>\n",
       "      <th>2000-01-26</th>\n",
       "      <td>-6.148916</td>\n",
       "      <td>-10.547810</td>\n",
       "      <td>-2.070346</td>\n",
       "      <td>4.100011</td>\n",
       "    </tr>\n",
       "    <tr>\n",
       "      <th>2000-01-27</th>\n",
       "      <td>-5.438043</td>\n",
       "      <td>-11.205767</td>\n",
       "      <td>-2.914173</td>\n",
       "      <td>3.863679</td>\n",
       "    </tr>\n",
       "    <tr>\n",
       "      <th>2000-01-28</th>\n",
       "      <td>-4.488879</td>\n",
       "      <td>-12.202574</td>\n",
       "      <td>-0.752146</td>\n",
       "      <td>2.661338</td>\n",
       "    </tr>\n",
       "    <tr>\n",
       "      <th>2000-01-29</th>\n",
       "      <td>-4.529922</td>\n",
       "      <td>-13.013400</td>\n",
       "      <td>-0.585408</td>\n",
       "      <td>3.056847</td>\n",
       "    </tr>\n",
       "    <tr>\n",
       "      <th>2000-01-30</th>\n",
       "      <td>-4.541327</td>\n",
       "      <td>-11.446199</td>\n",
       "      <td>-1.315170</td>\n",
       "      <td>4.534232</td>\n",
       "    </tr>\n",
       "    <tr>\n",
       "      <th>...</th>\n",
       "      <td>...</td>\n",
       "      <td>...</td>\n",
       "      <td>...</td>\n",
       "      <td>...</td>\n",
       "    </tr>\n",
       "    <tr>\n",
       "      <th>2002-08-28</th>\n",
       "      <td>30.822312</td>\n",
       "      <td>-8.907036</td>\n",
       "      <td>-39.581217</td>\n",
       "      <td>-27.334975</td>\n",
       "    </tr>\n",
       "    <tr>\n",
       "      <th>2002-08-29</th>\n",
       "      <td>29.706458</td>\n",
       "      <td>-7.615553</td>\n",
       "      <td>-38.381409</td>\n",
       "      <td>-26.210694</td>\n",
       "    </tr>\n",
       "    <tr>\n",
       "      <th>2002-08-30</th>\n",
       "      <td>28.474452</td>\n",
       "      <td>-7.917203</td>\n",
       "      <td>-37.089797</td>\n",
       "      <td>-27.242746</td>\n",
       "    </tr>\n",
       "    <tr>\n",
       "      <th>2002-08-31</th>\n",
       "      <td>28.515609</td>\n",
       "      <td>-6.391711</td>\n",
       "      <td>-37.035474</td>\n",
       "      <td>-25.676694</td>\n",
       "    </tr>\n",
       "    <tr>\n",
       "      <th>2002-09-01</th>\n",
       "      <td>27.636847</td>\n",
       "      <td>-6.105889</td>\n",
       "      <td>-37.036313</td>\n",
       "      <td>-25.016128</td>\n",
       "    </tr>\n",
       "    <tr>\n",
       "      <th>2002-09-02</th>\n",
       "      <td>28.460085</td>\n",
       "      <td>-6.398346</td>\n",
       "      <td>-36.182030</td>\n",
       "      <td>-26.134646</td>\n",
       "    </tr>\n",
       "    <tr>\n",
       "      <th>2002-09-03</th>\n",
       "      <td>28.454351</td>\n",
       "      <td>-6.102474</td>\n",
       "      <td>-37.618810</td>\n",
       "      <td>-26.247820</td>\n",
       "    </tr>\n",
       "    <tr>\n",
       "      <th>2002-09-04</th>\n",
       "      <td>28.994606</td>\n",
       "      <td>-6.762339</td>\n",
       "      <td>-37.872071</td>\n",
       "      <td>-25.315721</td>\n",
       "    </tr>\n",
       "    <tr>\n",
       "      <th>2002-09-05</th>\n",
       "      <td>28.242018</td>\n",
       "      <td>-6.099497</td>\n",
       "      <td>-37.301942</td>\n",
       "      <td>-23.505841</td>\n",
       "    </tr>\n",
       "    <tr>\n",
       "      <th>2002-09-06</th>\n",
       "      <td>27.714165</td>\n",
       "      <td>-5.308782</td>\n",
       "      <td>-37.122693</td>\n",
       "      <td>-25.937770</td>\n",
       "    </tr>\n",
       "    <tr>\n",
       "      <th>2002-09-07</th>\n",
       "      <td>28.678901</td>\n",
       "      <td>-5.218797</td>\n",
       "      <td>-36.850858</td>\n",
       "      <td>-24.962191</td>\n",
       "    </tr>\n",
       "    <tr>\n",
       "      <th>2002-09-08</th>\n",
       "      <td>28.713904</td>\n",
       "      <td>-5.163404</td>\n",
       "      <td>-37.671409</td>\n",
       "      <td>-25.155018</td>\n",
       "    </tr>\n",
       "    <tr>\n",
       "      <th>2002-09-09</th>\n",
       "      <td>28.963767</td>\n",
       "      <td>-6.103999</td>\n",
       "      <td>-35.939157</td>\n",
       "      <td>-24.641628</td>\n",
       "    </tr>\n",
       "    <tr>\n",
       "      <th>2002-09-10</th>\n",
       "      <td>27.230703</td>\n",
       "      <td>-6.417995</td>\n",
       "      <td>-36.242141</td>\n",
       "      <td>-26.351060</td>\n",
       "    </tr>\n",
       "    <tr>\n",
       "      <th>2002-09-11</th>\n",
       "      <td>26.021968</td>\n",
       "      <td>-6.253301</td>\n",
       "      <td>-37.835103</td>\n",
       "      <td>-26.641635</td>\n",
       "    </tr>\n",
       "    <tr>\n",
       "      <th>2002-09-12</th>\n",
       "      <td>26.758338</td>\n",
       "      <td>-7.668560</td>\n",
       "      <td>-37.912365</td>\n",
       "      <td>-26.722423</td>\n",
       "    </tr>\n",
       "    <tr>\n",
       "      <th>2002-09-13</th>\n",
       "      <td>25.466434</td>\n",
       "      <td>-7.249205</td>\n",
       "      <td>-38.482902</td>\n",
       "      <td>-26.156040</td>\n",
       "    </tr>\n",
       "    <tr>\n",
       "      <th>2002-09-14</th>\n",
       "      <td>25.565090</td>\n",
       "      <td>-7.562557</td>\n",
       "      <td>-39.036052</td>\n",
       "      <td>-26.715930</td>\n",
       "    </tr>\n",
       "    <tr>\n",
       "      <th>2002-09-15</th>\n",
       "      <td>24.983878</td>\n",
       "      <td>-6.395173</td>\n",
       "      <td>-37.986632</td>\n",
       "      <td>-27.043622</td>\n",
       "    </tr>\n",
       "    <tr>\n",
       "      <th>2002-09-16</th>\n",
       "      <td>26.476912</td>\n",
       "      <td>-3.126435</td>\n",
       "      <td>-37.788537</td>\n",
       "      <td>-27.389491</td>\n",
       "    </tr>\n",
       "    <tr>\n",
       "      <th>2002-09-17</th>\n",
       "      <td>26.752412</td>\n",
       "      <td>-2.600207</td>\n",
       "      <td>-39.291096</td>\n",
       "      <td>-27.123962</td>\n",
       "    </tr>\n",
       "    <tr>\n",
       "      <th>2002-09-18</th>\n",
       "      <td>26.089312</td>\n",
       "      <td>-2.382579</td>\n",
       "      <td>-39.657133</td>\n",
       "      <td>-27.366118</td>\n",
       "    </tr>\n",
       "    <tr>\n",
       "      <th>2002-09-19</th>\n",
       "      <td>27.044531</td>\n",
       "      <td>-2.016140</td>\n",
       "      <td>-40.825877</td>\n",
       "      <td>-26.532852</td>\n",
       "    </tr>\n",
       "    <tr>\n",
       "      <th>2002-09-20</th>\n",
       "      <td>27.031169</td>\n",
       "      <td>-3.620759</td>\n",
       "      <td>-40.751100</td>\n",
       "      <td>-25.678704</td>\n",
       "    </tr>\n",
       "    <tr>\n",
       "      <th>2002-09-21</th>\n",
       "      <td>27.783198</td>\n",
       "      <td>-4.877700</td>\n",
       "      <td>-40.627454</td>\n",
       "      <td>-26.427602</td>\n",
       "    </tr>\n",
       "    <tr>\n",
       "      <th>2002-09-22</th>\n",
       "      <td>26.972071</td>\n",
       "      <td>-5.274108</td>\n",
       "      <td>-40.039801</td>\n",
       "      <td>-25.518557</td>\n",
       "    </tr>\n",
       "    <tr>\n",
       "      <th>2002-09-23</th>\n",
       "      <td>27.652985</td>\n",
       "      <td>-3.540503</td>\n",
       "      <td>-40.006192</td>\n",
       "      <td>-25.465327</td>\n",
       "    </tr>\n",
       "    <tr>\n",
       "      <th>2002-09-24</th>\n",
       "      <td>26.966758</td>\n",
       "      <td>-2.542754</td>\n",
       "      <td>-40.994354</td>\n",
       "      <td>-24.867937</td>\n",
       "    </tr>\n",
       "    <tr>\n",
       "      <th>2002-09-25</th>\n",
       "      <td>27.229414</td>\n",
       "      <td>-1.478856</td>\n",
       "      <td>-42.053739</td>\n",
       "      <td>-26.259860</td>\n",
       "    </tr>\n",
       "    <tr>\n",
       "      <th>2002-09-26</th>\n",
       "      <td>25.575542</td>\n",
       "      <td>-1.161997</td>\n",
       "      <td>-41.988262</td>\n",
       "      <td>-26.246348</td>\n",
       "    </tr>\n",
       "  </tbody>\n",
       "</table>\n",
       "<p>1000 rows × 4 columns</p>\n",
       "</div>"
      ],
      "text/plain": [
       "                    A          B          C          D\n",
       "2000-01-01  -0.854547   0.447559  -0.134912  -0.164443\n",
       "2000-01-02  -1.630824  -0.383058   1.006201   1.122183\n",
       "2000-01-03  -2.030085  -1.832851   0.239369   1.364488\n",
       "2000-01-04  -3.082157  -2.137121  -1.961715   2.013433\n",
       "2000-01-05  -3.239785  -3.980219  -2.905007   1.037357\n",
       "2000-01-06  -3.684050  -4.555034  -2.868334   2.616164\n",
       "2000-01-07  -5.745733  -3.731251  -1.738356   3.536241\n",
       "2000-01-08  -5.934340  -5.602300  -2.664696   4.892142\n",
       "2000-01-09  -7.364158  -5.526932  -3.064157   4.203635\n",
       "2000-01-10  -8.090153  -6.366834  -2.731236   3.558414\n",
       "2000-01-11  -6.427611  -6.104159  -2.541128   3.767054\n",
       "2000-01-12  -6.450433  -5.078341  -2.118071   4.003487\n",
       "2000-01-13  -7.022586  -3.745470  -4.014209   5.113928\n",
       "2000-01-14  -6.907896  -4.739820  -3.579858   5.790983\n",
       "2000-01-15  -7.178632  -5.341799  -5.015415   4.749756\n",
       "2000-01-16  -7.027158  -6.150856  -4.197501   2.770540\n",
       "2000-01-17  -6.362781  -7.057951  -3.195980   2.273959\n",
       "2000-01-18  -6.450209  -8.977658  -2.023839   1.108708\n",
       "2000-01-19  -7.010542  -7.279340  -2.323073   2.692668\n",
       "2000-01-20  -6.419620  -6.922908  -2.829157   2.325162\n",
       "2000-01-21  -5.563802  -8.070750  -4.243624   3.421211\n",
       "2000-01-22  -5.064129  -8.695474  -3.500657   2.463827\n",
       "2000-01-23  -6.619479 -10.547755  -2.103950   2.164248\n",
       "2000-01-24  -5.874051 -10.630213  -3.734154   3.220041\n",
       "2000-01-25  -5.537214 -10.041074  -1.446452   4.926237\n",
       "2000-01-26  -6.148916 -10.547810  -2.070346   4.100011\n",
       "2000-01-27  -5.438043 -11.205767  -2.914173   3.863679\n",
       "2000-01-28  -4.488879 -12.202574  -0.752146   2.661338\n",
       "2000-01-29  -4.529922 -13.013400  -0.585408   3.056847\n",
       "2000-01-30  -4.541327 -11.446199  -1.315170   4.534232\n",
       "...               ...        ...        ...        ...\n",
       "2002-08-28  30.822312  -8.907036 -39.581217 -27.334975\n",
       "2002-08-29  29.706458  -7.615553 -38.381409 -26.210694\n",
       "2002-08-30  28.474452  -7.917203 -37.089797 -27.242746\n",
       "2002-08-31  28.515609  -6.391711 -37.035474 -25.676694\n",
       "2002-09-01  27.636847  -6.105889 -37.036313 -25.016128\n",
       "2002-09-02  28.460085  -6.398346 -36.182030 -26.134646\n",
       "2002-09-03  28.454351  -6.102474 -37.618810 -26.247820\n",
       "2002-09-04  28.994606  -6.762339 -37.872071 -25.315721\n",
       "2002-09-05  28.242018  -6.099497 -37.301942 -23.505841\n",
       "2002-09-06  27.714165  -5.308782 -37.122693 -25.937770\n",
       "2002-09-07  28.678901  -5.218797 -36.850858 -24.962191\n",
       "2002-09-08  28.713904  -5.163404 -37.671409 -25.155018\n",
       "2002-09-09  28.963767  -6.103999 -35.939157 -24.641628\n",
       "2002-09-10  27.230703  -6.417995 -36.242141 -26.351060\n",
       "2002-09-11  26.021968  -6.253301 -37.835103 -26.641635\n",
       "2002-09-12  26.758338  -7.668560 -37.912365 -26.722423\n",
       "2002-09-13  25.466434  -7.249205 -38.482902 -26.156040\n",
       "2002-09-14  25.565090  -7.562557 -39.036052 -26.715930\n",
       "2002-09-15  24.983878  -6.395173 -37.986632 -27.043622\n",
       "2002-09-16  26.476912  -3.126435 -37.788537 -27.389491\n",
       "2002-09-17  26.752412  -2.600207 -39.291096 -27.123962\n",
       "2002-09-18  26.089312  -2.382579 -39.657133 -27.366118\n",
       "2002-09-19  27.044531  -2.016140 -40.825877 -26.532852\n",
       "2002-09-20  27.031169  -3.620759 -40.751100 -25.678704\n",
       "2002-09-21  27.783198  -4.877700 -40.627454 -26.427602\n",
       "2002-09-22  26.972071  -5.274108 -40.039801 -25.518557\n",
       "2002-09-23  27.652985  -3.540503 -40.006192 -25.465327\n",
       "2002-09-24  26.966758  -2.542754 -40.994354 -24.867937\n",
       "2002-09-25  27.229414  -1.478856 -42.053739 -26.259860\n",
       "2002-09-26  25.575542  -1.161997 -41.988262 -26.246348\n",
       "\n",
       "[1000 rows x 4 columns]"
      ]
     },
     "execution_count": 137,
     "metadata": {},
     "output_type": "execute_result"
    }
   ],
   "source": [
    "pd.read_hdf('foo.h5','df')"
   ]
  },
  {
   "cell_type": "markdown",
   "metadata": {},
   "source": [
    "### Excel\n",
    "\n",
    "Reading and writing to [MS Excel](http://pandas.pydata.org/pandas-docs/stable/io.html#io-excel)\n",
    "\n",
    "Writing to an excel file"
   ]
  },
  {
   "cell_type": "code",
   "execution_count": 138,
   "metadata": {
    "collapsed": true
   },
   "outputs": [],
   "source": [
    "df.to_excel('foo.xlsx', sheet_name='Sheet1')"
   ]
  },
  {
   "cell_type": "markdown",
   "metadata": {},
   "source": [
    "Reading from an excel file"
   ]
  },
  {
   "cell_type": "code",
   "execution_count": 139,
   "metadata": {
    "collapsed": false
   },
   "outputs": [
    {
     "data": {
      "text/html": [
       "<div>\n",
       "<table border=\"1\" class=\"dataframe\">\n",
       "  <thead>\n",
       "    <tr style=\"text-align: right;\">\n",
       "      <th></th>\n",
       "      <th>A</th>\n",
       "      <th>B</th>\n",
       "      <th>C</th>\n",
       "      <th>D</th>\n",
       "    </tr>\n",
       "  </thead>\n",
       "  <tbody>\n",
       "    <tr>\n",
       "      <th>2000-01-01</th>\n",
       "      <td>-0.854547</td>\n",
       "      <td>0.447559</td>\n",
       "      <td>-0.134912</td>\n",
       "      <td>-0.164443</td>\n",
       "    </tr>\n",
       "    <tr>\n",
       "      <th>2000-01-02</th>\n",
       "      <td>-1.630824</td>\n",
       "      <td>-0.383058</td>\n",
       "      <td>1.006201</td>\n",
       "      <td>1.122183</td>\n",
       "    </tr>\n",
       "    <tr>\n",
       "      <th>2000-01-03</th>\n",
       "      <td>-2.030085</td>\n",
       "      <td>-1.832851</td>\n",
       "      <td>0.239369</td>\n",
       "      <td>1.364488</td>\n",
       "    </tr>\n",
       "    <tr>\n",
       "      <th>2000-01-04</th>\n",
       "      <td>-3.082157</td>\n",
       "      <td>-2.137121</td>\n",
       "      <td>-1.961715</td>\n",
       "      <td>2.013433</td>\n",
       "    </tr>\n",
       "    <tr>\n",
       "      <th>2000-01-05</th>\n",
       "      <td>-3.239785</td>\n",
       "      <td>-3.980219</td>\n",
       "      <td>-2.905007</td>\n",
       "      <td>1.037357</td>\n",
       "    </tr>\n",
       "    <tr>\n",
       "      <th>2000-01-06</th>\n",
       "      <td>-3.684050</td>\n",
       "      <td>-4.555034</td>\n",
       "      <td>-2.868334</td>\n",
       "      <td>2.616164</td>\n",
       "    </tr>\n",
       "    <tr>\n",
       "      <th>2000-01-07</th>\n",
       "      <td>-5.745733</td>\n",
       "      <td>-3.731251</td>\n",
       "      <td>-1.738356</td>\n",
       "      <td>3.536241</td>\n",
       "    </tr>\n",
       "    <tr>\n",
       "      <th>2000-01-08</th>\n",
       "      <td>-5.934340</td>\n",
       "      <td>-5.602300</td>\n",
       "      <td>-2.664696</td>\n",
       "      <td>4.892142</td>\n",
       "    </tr>\n",
       "    <tr>\n",
       "      <th>2000-01-09</th>\n",
       "      <td>-7.364158</td>\n",
       "      <td>-5.526932</td>\n",
       "      <td>-3.064157</td>\n",
       "      <td>4.203635</td>\n",
       "    </tr>\n",
       "    <tr>\n",
       "      <th>2000-01-10</th>\n",
       "      <td>-8.090153</td>\n",
       "      <td>-6.366834</td>\n",
       "      <td>-2.731236</td>\n",
       "      <td>3.558414</td>\n",
       "    </tr>\n",
       "    <tr>\n",
       "      <th>2000-01-11</th>\n",
       "      <td>-6.427611</td>\n",
       "      <td>-6.104159</td>\n",
       "      <td>-2.541128</td>\n",
       "      <td>3.767054</td>\n",
       "    </tr>\n",
       "    <tr>\n",
       "      <th>2000-01-12</th>\n",
       "      <td>-6.450433</td>\n",
       "      <td>-5.078341</td>\n",
       "      <td>-2.118071</td>\n",
       "      <td>4.003487</td>\n",
       "    </tr>\n",
       "    <tr>\n",
       "      <th>2000-01-13</th>\n",
       "      <td>-7.022586</td>\n",
       "      <td>-3.745470</td>\n",
       "      <td>-4.014209</td>\n",
       "      <td>5.113928</td>\n",
       "    </tr>\n",
       "    <tr>\n",
       "      <th>2000-01-14</th>\n",
       "      <td>-6.907896</td>\n",
       "      <td>-4.739820</td>\n",
       "      <td>-3.579858</td>\n",
       "      <td>5.790983</td>\n",
       "    </tr>\n",
       "    <tr>\n",
       "      <th>2000-01-15</th>\n",
       "      <td>-7.178632</td>\n",
       "      <td>-5.341799</td>\n",
       "      <td>-5.015415</td>\n",
       "      <td>4.749756</td>\n",
       "    </tr>\n",
       "    <tr>\n",
       "      <th>2000-01-16</th>\n",
       "      <td>-7.027158</td>\n",
       "      <td>-6.150856</td>\n",
       "      <td>-4.197501</td>\n",
       "      <td>2.770540</td>\n",
       "    </tr>\n",
       "    <tr>\n",
       "      <th>2000-01-17</th>\n",
       "      <td>-6.362781</td>\n",
       "      <td>-7.057951</td>\n",
       "      <td>-3.195980</td>\n",
       "      <td>2.273959</td>\n",
       "    </tr>\n",
       "    <tr>\n",
       "      <th>2000-01-18</th>\n",
       "      <td>-6.450209</td>\n",
       "      <td>-8.977658</td>\n",
       "      <td>-2.023839</td>\n",
       "      <td>1.108708</td>\n",
       "    </tr>\n",
       "    <tr>\n",
       "      <th>2000-01-19</th>\n",
       "      <td>-7.010542</td>\n",
       "      <td>-7.279340</td>\n",
       "      <td>-2.323073</td>\n",
       "      <td>2.692668</td>\n",
       "    </tr>\n",
       "    <tr>\n",
       "      <th>2000-01-20</th>\n",
       "      <td>-6.419620</td>\n",
       "      <td>-6.922908</td>\n",
       "      <td>-2.829157</td>\n",
       "      <td>2.325162</td>\n",
       "    </tr>\n",
       "    <tr>\n",
       "      <th>2000-01-21</th>\n",
       "      <td>-5.563802</td>\n",
       "      <td>-8.070750</td>\n",
       "      <td>-4.243624</td>\n",
       "      <td>3.421211</td>\n",
       "    </tr>\n",
       "    <tr>\n",
       "      <th>2000-01-22</th>\n",
       "      <td>-5.064129</td>\n",
       "      <td>-8.695474</td>\n",
       "      <td>-3.500657</td>\n",
       "      <td>2.463827</td>\n",
       "    </tr>\n",
       "    <tr>\n",
       "      <th>2000-01-23</th>\n",
       "      <td>-6.619479</td>\n",
       "      <td>-10.547755</td>\n",
       "      <td>-2.103950</td>\n",
       "      <td>2.164248</td>\n",
       "    </tr>\n",
       "    <tr>\n",
       "      <th>2000-01-24</th>\n",
       "      <td>-5.874051</td>\n",
       "      <td>-10.630213</td>\n",
       "      <td>-3.734154</td>\n",
       "      <td>3.220041</td>\n",
       "    </tr>\n",
       "    <tr>\n",
       "      <th>2000-01-25</th>\n",
       "      <td>-5.537214</td>\n",
       "      <td>-10.041074</td>\n",
       "      <td>-1.446452</td>\n",
       "      <td>4.926237</td>\n",
       "    </tr>\n",
       "    <tr>\n",
       "      <th>2000-01-26</th>\n",
       "      <td>-6.148916</td>\n",
       "      <td>-10.547810</td>\n",
       "      <td>-2.070346</td>\n",
       "      <td>4.100011</td>\n",
       "    </tr>\n",
       "    <tr>\n",
       "      <th>2000-01-27</th>\n",
       "      <td>-5.438043</td>\n",
       "      <td>-11.205767</td>\n",
       "      <td>-2.914173</td>\n",
       "      <td>3.863679</td>\n",
       "    </tr>\n",
       "    <tr>\n",
       "      <th>2000-01-28</th>\n",
       "      <td>-4.488879</td>\n",
       "      <td>-12.202574</td>\n",
       "      <td>-0.752146</td>\n",
       "      <td>2.661338</td>\n",
       "    </tr>\n",
       "    <tr>\n",
       "      <th>2000-01-29</th>\n",
       "      <td>-4.529922</td>\n",
       "      <td>-13.013400</td>\n",
       "      <td>-0.585408</td>\n",
       "      <td>3.056847</td>\n",
       "    </tr>\n",
       "    <tr>\n",
       "      <th>2000-01-30</th>\n",
       "      <td>-4.541327</td>\n",
       "      <td>-11.446199</td>\n",
       "      <td>-1.315170</td>\n",
       "      <td>4.534232</td>\n",
       "    </tr>\n",
       "    <tr>\n",
       "      <th>...</th>\n",
       "      <td>...</td>\n",
       "      <td>...</td>\n",
       "      <td>...</td>\n",
       "      <td>...</td>\n",
       "    </tr>\n",
       "    <tr>\n",
       "      <th>2002-08-28</th>\n",
       "      <td>30.822312</td>\n",
       "      <td>-8.907036</td>\n",
       "      <td>-39.581217</td>\n",
       "      <td>-27.334975</td>\n",
       "    </tr>\n",
       "    <tr>\n",
       "      <th>2002-08-29</th>\n",
       "      <td>29.706458</td>\n",
       "      <td>-7.615553</td>\n",
       "      <td>-38.381409</td>\n",
       "      <td>-26.210694</td>\n",
       "    </tr>\n",
       "    <tr>\n",
       "      <th>2002-08-30</th>\n",
       "      <td>28.474452</td>\n",
       "      <td>-7.917203</td>\n",
       "      <td>-37.089797</td>\n",
       "      <td>-27.242746</td>\n",
       "    </tr>\n",
       "    <tr>\n",
       "      <th>2002-08-31</th>\n",
       "      <td>28.515609</td>\n",
       "      <td>-6.391711</td>\n",
       "      <td>-37.035474</td>\n",
       "      <td>-25.676694</td>\n",
       "    </tr>\n",
       "    <tr>\n",
       "      <th>2002-09-01</th>\n",
       "      <td>27.636847</td>\n",
       "      <td>-6.105889</td>\n",
       "      <td>-37.036313</td>\n",
       "      <td>-25.016128</td>\n",
       "    </tr>\n",
       "    <tr>\n",
       "      <th>2002-09-02</th>\n",
       "      <td>28.460085</td>\n",
       "      <td>-6.398346</td>\n",
       "      <td>-36.182030</td>\n",
       "      <td>-26.134646</td>\n",
       "    </tr>\n",
       "    <tr>\n",
       "      <th>2002-09-03</th>\n",
       "      <td>28.454351</td>\n",
       "      <td>-6.102474</td>\n",
       "      <td>-37.618810</td>\n",
       "      <td>-26.247820</td>\n",
       "    </tr>\n",
       "    <tr>\n",
       "      <th>2002-09-04</th>\n",
       "      <td>28.994606</td>\n",
       "      <td>-6.762339</td>\n",
       "      <td>-37.872071</td>\n",
       "      <td>-25.315721</td>\n",
       "    </tr>\n",
       "    <tr>\n",
       "      <th>2002-09-05</th>\n",
       "      <td>28.242018</td>\n",
       "      <td>-6.099497</td>\n",
       "      <td>-37.301942</td>\n",
       "      <td>-23.505841</td>\n",
       "    </tr>\n",
       "    <tr>\n",
       "      <th>2002-09-06</th>\n",
       "      <td>27.714165</td>\n",
       "      <td>-5.308782</td>\n",
       "      <td>-37.122693</td>\n",
       "      <td>-25.937770</td>\n",
       "    </tr>\n",
       "    <tr>\n",
       "      <th>2002-09-07</th>\n",
       "      <td>28.678901</td>\n",
       "      <td>-5.218797</td>\n",
       "      <td>-36.850858</td>\n",
       "      <td>-24.962191</td>\n",
       "    </tr>\n",
       "    <tr>\n",
       "      <th>2002-09-08</th>\n",
       "      <td>28.713904</td>\n",
       "      <td>-5.163404</td>\n",
       "      <td>-37.671409</td>\n",
       "      <td>-25.155018</td>\n",
       "    </tr>\n",
       "    <tr>\n",
       "      <th>2002-09-09</th>\n",
       "      <td>28.963767</td>\n",
       "      <td>-6.103999</td>\n",
       "      <td>-35.939157</td>\n",
       "      <td>-24.641628</td>\n",
       "    </tr>\n",
       "    <tr>\n",
       "      <th>2002-09-10</th>\n",
       "      <td>27.230703</td>\n",
       "      <td>-6.417995</td>\n",
       "      <td>-36.242141</td>\n",
       "      <td>-26.351060</td>\n",
       "    </tr>\n",
       "    <tr>\n",
       "      <th>2002-09-11</th>\n",
       "      <td>26.021968</td>\n",
       "      <td>-6.253301</td>\n",
       "      <td>-37.835103</td>\n",
       "      <td>-26.641635</td>\n",
       "    </tr>\n",
       "    <tr>\n",
       "      <th>2002-09-12</th>\n",
       "      <td>26.758338</td>\n",
       "      <td>-7.668560</td>\n",
       "      <td>-37.912365</td>\n",
       "      <td>-26.722423</td>\n",
       "    </tr>\n",
       "    <tr>\n",
       "      <th>2002-09-13</th>\n",
       "      <td>25.466434</td>\n",
       "      <td>-7.249205</td>\n",
       "      <td>-38.482902</td>\n",
       "      <td>-26.156040</td>\n",
       "    </tr>\n",
       "    <tr>\n",
       "      <th>2002-09-14</th>\n",
       "      <td>25.565090</td>\n",
       "      <td>-7.562557</td>\n",
       "      <td>-39.036052</td>\n",
       "      <td>-26.715930</td>\n",
       "    </tr>\n",
       "    <tr>\n",
       "      <th>2002-09-15</th>\n",
       "      <td>24.983878</td>\n",
       "      <td>-6.395173</td>\n",
       "      <td>-37.986632</td>\n",
       "      <td>-27.043622</td>\n",
       "    </tr>\n",
       "    <tr>\n",
       "      <th>2002-09-16</th>\n",
       "      <td>26.476912</td>\n",
       "      <td>-3.126435</td>\n",
       "      <td>-37.788537</td>\n",
       "      <td>-27.389491</td>\n",
       "    </tr>\n",
       "    <tr>\n",
       "      <th>2002-09-17</th>\n",
       "      <td>26.752412</td>\n",
       "      <td>-2.600207</td>\n",
       "      <td>-39.291096</td>\n",
       "      <td>-27.123962</td>\n",
       "    </tr>\n",
       "    <tr>\n",
       "      <th>2002-09-18</th>\n",
       "      <td>26.089312</td>\n",
       "      <td>-2.382579</td>\n",
       "      <td>-39.657133</td>\n",
       "      <td>-27.366118</td>\n",
       "    </tr>\n",
       "    <tr>\n",
       "      <th>2002-09-19</th>\n",
       "      <td>27.044531</td>\n",
       "      <td>-2.016140</td>\n",
       "      <td>-40.825877</td>\n",
       "      <td>-26.532852</td>\n",
       "    </tr>\n",
       "    <tr>\n",
       "      <th>2002-09-20</th>\n",
       "      <td>27.031169</td>\n",
       "      <td>-3.620759</td>\n",
       "      <td>-40.751100</td>\n",
       "      <td>-25.678704</td>\n",
       "    </tr>\n",
       "    <tr>\n",
       "      <th>2002-09-21</th>\n",
       "      <td>27.783198</td>\n",
       "      <td>-4.877700</td>\n",
       "      <td>-40.627454</td>\n",
       "      <td>-26.427602</td>\n",
       "    </tr>\n",
       "    <tr>\n",
       "      <th>2002-09-22</th>\n",
       "      <td>26.972071</td>\n",
       "      <td>-5.274108</td>\n",
       "      <td>-40.039801</td>\n",
       "      <td>-25.518557</td>\n",
       "    </tr>\n",
       "    <tr>\n",
       "      <th>2002-09-23</th>\n",
       "      <td>27.652985</td>\n",
       "      <td>-3.540503</td>\n",
       "      <td>-40.006192</td>\n",
       "      <td>-25.465327</td>\n",
       "    </tr>\n",
       "    <tr>\n",
       "      <th>2002-09-24</th>\n",
       "      <td>26.966758</td>\n",
       "      <td>-2.542754</td>\n",
       "      <td>-40.994354</td>\n",
       "      <td>-24.867937</td>\n",
       "    </tr>\n",
       "    <tr>\n",
       "      <th>2002-09-25</th>\n",
       "      <td>27.229414</td>\n",
       "      <td>-1.478856</td>\n",
       "      <td>-42.053739</td>\n",
       "      <td>-26.259860</td>\n",
       "    </tr>\n",
       "    <tr>\n",
       "      <th>2002-09-26</th>\n",
       "      <td>25.575542</td>\n",
       "      <td>-1.161997</td>\n",
       "      <td>-41.988262</td>\n",
       "      <td>-26.246348</td>\n",
       "    </tr>\n",
       "  </tbody>\n",
       "</table>\n",
       "<p>1000 rows × 4 columns</p>\n",
       "</div>"
      ],
      "text/plain": [
       "                    A          B          C          D\n",
       "2000-01-01  -0.854547   0.447559  -0.134912  -0.164443\n",
       "2000-01-02  -1.630824  -0.383058   1.006201   1.122183\n",
       "2000-01-03  -2.030085  -1.832851   0.239369   1.364488\n",
       "2000-01-04  -3.082157  -2.137121  -1.961715   2.013433\n",
       "2000-01-05  -3.239785  -3.980219  -2.905007   1.037357\n",
       "2000-01-06  -3.684050  -4.555034  -2.868334   2.616164\n",
       "2000-01-07  -5.745733  -3.731251  -1.738356   3.536241\n",
       "2000-01-08  -5.934340  -5.602300  -2.664696   4.892142\n",
       "2000-01-09  -7.364158  -5.526932  -3.064157   4.203635\n",
       "2000-01-10  -8.090153  -6.366834  -2.731236   3.558414\n",
       "2000-01-11  -6.427611  -6.104159  -2.541128   3.767054\n",
       "2000-01-12  -6.450433  -5.078341  -2.118071   4.003487\n",
       "2000-01-13  -7.022586  -3.745470  -4.014209   5.113928\n",
       "2000-01-14  -6.907896  -4.739820  -3.579858   5.790983\n",
       "2000-01-15  -7.178632  -5.341799  -5.015415   4.749756\n",
       "2000-01-16  -7.027158  -6.150856  -4.197501   2.770540\n",
       "2000-01-17  -6.362781  -7.057951  -3.195980   2.273959\n",
       "2000-01-18  -6.450209  -8.977658  -2.023839   1.108708\n",
       "2000-01-19  -7.010542  -7.279340  -2.323073   2.692668\n",
       "2000-01-20  -6.419620  -6.922908  -2.829157   2.325162\n",
       "2000-01-21  -5.563802  -8.070750  -4.243624   3.421211\n",
       "2000-01-22  -5.064129  -8.695474  -3.500657   2.463827\n",
       "2000-01-23  -6.619479 -10.547755  -2.103950   2.164248\n",
       "2000-01-24  -5.874051 -10.630213  -3.734154   3.220041\n",
       "2000-01-25  -5.537214 -10.041074  -1.446452   4.926237\n",
       "2000-01-26  -6.148916 -10.547810  -2.070346   4.100011\n",
       "2000-01-27  -5.438043 -11.205767  -2.914173   3.863679\n",
       "2000-01-28  -4.488879 -12.202574  -0.752146   2.661338\n",
       "2000-01-29  -4.529922 -13.013400  -0.585408   3.056847\n",
       "2000-01-30  -4.541327 -11.446199  -1.315170   4.534232\n",
       "...               ...        ...        ...        ...\n",
       "2002-08-28  30.822312  -8.907036 -39.581217 -27.334975\n",
       "2002-08-29  29.706458  -7.615553 -38.381409 -26.210694\n",
       "2002-08-30  28.474452  -7.917203 -37.089797 -27.242746\n",
       "2002-08-31  28.515609  -6.391711 -37.035474 -25.676694\n",
       "2002-09-01  27.636847  -6.105889 -37.036313 -25.016128\n",
       "2002-09-02  28.460085  -6.398346 -36.182030 -26.134646\n",
       "2002-09-03  28.454351  -6.102474 -37.618810 -26.247820\n",
       "2002-09-04  28.994606  -6.762339 -37.872071 -25.315721\n",
       "2002-09-05  28.242018  -6.099497 -37.301942 -23.505841\n",
       "2002-09-06  27.714165  -5.308782 -37.122693 -25.937770\n",
       "2002-09-07  28.678901  -5.218797 -36.850858 -24.962191\n",
       "2002-09-08  28.713904  -5.163404 -37.671409 -25.155018\n",
       "2002-09-09  28.963767  -6.103999 -35.939157 -24.641628\n",
       "2002-09-10  27.230703  -6.417995 -36.242141 -26.351060\n",
       "2002-09-11  26.021968  -6.253301 -37.835103 -26.641635\n",
       "2002-09-12  26.758338  -7.668560 -37.912365 -26.722423\n",
       "2002-09-13  25.466434  -7.249205 -38.482902 -26.156040\n",
       "2002-09-14  25.565090  -7.562557 -39.036052 -26.715930\n",
       "2002-09-15  24.983878  -6.395173 -37.986632 -27.043622\n",
       "2002-09-16  26.476912  -3.126435 -37.788537 -27.389491\n",
       "2002-09-17  26.752412  -2.600207 -39.291096 -27.123962\n",
       "2002-09-18  26.089312  -2.382579 -39.657133 -27.366118\n",
       "2002-09-19  27.044531  -2.016140 -40.825877 -26.532852\n",
       "2002-09-20  27.031169  -3.620759 -40.751100 -25.678704\n",
       "2002-09-21  27.783198  -4.877700 -40.627454 -26.427602\n",
       "2002-09-22  26.972071  -5.274108 -40.039801 -25.518557\n",
       "2002-09-23  27.652985  -3.540503 -40.006192 -25.465327\n",
       "2002-09-24  26.966758  -2.542754 -40.994354 -24.867937\n",
       "2002-09-25  27.229414  -1.478856 -42.053739 -26.259860\n",
       "2002-09-26  25.575542  -1.161997 -41.988262 -26.246348\n",
       "\n",
       "[1000 rows x 4 columns]"
      ]
     },
     "execution_count": 139,
     "metadata": {},
     "output_type": "execute_result"
    }
   ],
   "source": [
    "pd.read_excel('foo.xlsx', 'Sheet1', index_col=None, na_values=['NA'])"
   ]
  },
  {
   "cell_type": "markdown",
   "metadata": {},
   "source": [
    "### Gotchas\n",
    "If you are trying an operation and you see an exception like:"
   ]
  },
  {
   "cell_type": "code",
   "execution_count": 140,
   "metadata": {
    "collapsed": false
   },
   "outputs": [
    {
     "ename": "ValueError",
     "evalue": "The truth value of a Series is ambiguous. Use a.empty, a.bool(), a.item(), a.any() or a.all().",
     "output_type": "error",
     "traceback": [
      "\u001b[0;31m---------------------------------------------------------------------------\u001b[0m",
      "\u001b[0;31mValueError\u001b[0m                                Traceback (most recent call last)",
      "\u001b[0;32m<ipython-input-140-9cae3ab0f79f>\u001b[0m in \u001b[0;36m<module>\u001b[0;34m()\u001b[0m\n\u001b[0;32m----> 1\u001b[0;31m \u001b[0;32mif\u001b[0m \u001b[0mpd\u001b[0m\u001b[0;34m.\u001b[0m\u001b[0mSeries\u001b[0m\u001b[0;34m(\u001b[0m\u001b[0;34m[\u001b[0m\u001b[0mFalse\u001b[0m\u001b[0;34m,\u001b[0m \u001b[0mTrue\u001b[0m\u001b[0;34m,\u001b[0m \u001b[0mFalse\u001b[0m\u001b[0;34m]\u001b[0m\u001b[0;34m)\u001b[0m\u001b[0;34m:\u001b[0m\u001b[0;34m\u001b[0m\u001b[0m\n\u001b[0m\u001b[1;32m      2\u001b[0m     \u001b[0;32mprint\u001b[0m\u001b[0;34m(\u001b[0m\u001b[0;34m\"I was true\"\u001b[0m\u001b[0;34m)\u001b[0m\u001b[0;34m\u001b[0m\u001b[0m\n",
      "\u001b[0;32m//anaconda/lib/python2.7/site-packages/pandas/core/generic.pyc\u001b[0m in \u001b[0;36m__nonzero__\u001b[0;34m(self)\u001b[0m\n\u001b[1;32m    890\u001b[0m         raise ValueError(\"The truth value of a {0} is ambiguous. \"\n\u001b[1;32m    891\u001b[0m                          \u001b[0;34m\"Use a.empty, a.bool(), a.item(), a.any() or a.all().\"\u001b[0m\u001b[0;34m\u001b[0m\u001b[0m\n\u001b[0;32m--> 892\u001b[0;31m                          .format(self.__class__.__name__))\n\u001b[0m\u001b[1;32m    893\u001b[0m \u001b[0;34m\u001b[0m\u001b[0m\n\u001b[1;32m    894\u001b[0m     \u001b[0m__bool__\u001b[0m \u001b[0;34m=\u001b[0m \u001b[0m__nonzero__\u001b[0m\u001b[0;34m\u001b[0m\u001b[0m\n",
      "\u001b[0;31mValueError\u001b[0m: The truth value of a Series is ambiguous. Use a.empty, a.bool(), a.item(), a.any() or a.all()."
     ]
    }
   ],
   "source": [
    "if pd.Series([False, True, False]):\n",
    "    print(\"I was true\")"
   ]
  },
  {
   "cell_type": "markdown",
   "metadata": {},
   "source": [
    "See [Comparisons](http://pandas.pydata.org/pandas-docs/stable/basics.html#basics-compare) for an explanation and what to do.\n",
    "\n",
    "See [Gotchas](http://pandas.pydata.org/pandas-docs/stable/gotchas.html#gotchas) as well."
   ]
  }
 ],
 "metadata": {
  "anaconda-cloud": {},
  "kernelspec": {
   "display_name": "Python [conda env:ds100]",
   "language": "python",
   "name": "conda-env-ds100-py"
  },
  "language_info": {
   "codemirror_mode": {
    "name": "ipython",
    "version": 3
   },
   "file_extension": ".py",
   "mimetype": "text/x-python",
   "name": "python",
   "nbconvert_exporter": "python",
   "pygments_lexer": "ipython3",
   "version": "3.5.2"
  }
 },
 "nbformat": 4,
 "nbformat_minor": 0
}
