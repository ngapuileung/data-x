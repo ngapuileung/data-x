{
 "cells": [
  {
   "cell_type": "markdown",
   "metadata": {},
   "source": [
    "![data-x](http://oi64.tinypic.com/o858n4.jpg)\n",
    "\n",
    "---\n",
    "# Breakout 2 - Plotting w Matplotlib\n",
    "\n",
    "**Author list:** Alexander Fred Ojala\n",
    "\n",
    "**Source:** AY250, UC Berkeley\n",
    "\n",
    "**License Agreement:** Feel free to do whatever you want with this code"
   ]
  },
  {
   "cell_type": "code",
   "execution_count": 1,
   "metadata": {
    "collapsed": false
   },
   "outputs": [],
   "source": [
    "'''\n",
    "Download data from the link at https://data-x.blog/breakouts\n",
    "The data files are called: google_data.txt, ny_temps.txt & yahoo_data.txt, place them in your working directory.\n",
    "Then replicate plot below\n",
    "\n",
    "In order to obtain all the files directly you can clone the directory by opening the Terminal and running:\n",
    "\n",
    "git clone https://github.com/alexanderfo/data-x_public\n",
    "\n",
    "'''\n",
    "import pandas as pd\n",
    "import numpy as np\n",
    "import matplotlib.pyplot as plt\n",
    "google_data = pd.read_csv('google_data.txt',sep=\"\\t\") # Note data seperator is a tab character (\\t)\n",
    "yahoo_data = pd.read_csv('yahoo_data.txt',sep=\"\\t\")\n",
    "ny_temps = pd.read_csv('ny_temps.txt',sep='\\t')"
   ]
  },
  {
   "cell_type": "markdown",
   "metadata": {},
   "source": [
    "<img src=\"stocks.png\">"
   ]
  }
 ],
 "metadata": {
  "anaconda-cloud": {},
  "kernelspec": {
   "display_name": "Python [default]",
   "language": "python",
   "name": "python3"
  },
  "language_info": {
   "codemirror_mode": {
    "name": "ipython",
    "version": 3
   },
   "file_extension": ".py",
   "mimetype": "text/x-python",
   "name": "python",
   "nbconvert_exporter": "python",
   "pygments_lexer": "ipython3",
   "version": "3.5.2"
  }
 },
 "nbformat": 4,
 "nbformat_minor": 1
}
