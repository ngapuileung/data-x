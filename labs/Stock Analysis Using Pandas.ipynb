{
 "cells": [
  {
   "cell_type": "markdown",
   "metadata": {},
   "source": [
    "![data-x](http://oi64.tinypic.com/o858n4.jpg)\n",
    "\n",
    "---\n",
    "# Cookbook 2: Pandas Introduction with Stock Data\n",
    "\n",
    "**Author list:** Ikhlaq Sidhu\n",
    "\n",
    "**References / Sources:** \n",
    "\n",
    "\n",
    "**License Agreement:** Feel free to do whatever you want with this code\n",
    "\n",
    "___"
   ]
  },
  {
   "cell_type": "markdown",
   "metadata": {},
   "source": [
    "*This notebook is an introduction to Pandas with connections to Numpy*"
   ]
  },
  {
   "cell_type": "markdown",
   "metadata": {},
   "source": [
    "## Pandas Intro\n",
    "### Creating a Data Frame"
   ]
  },
  {
   "cell_type": "markdown",
   "metadata": {
    "collapsed": true
   },
   "source": [
    "\n",
    "**Key Points:** Pandas has Series (like Arrays), DataFrames (like Tables), and Panels (3D version=.  \n"
   ]
  },
  {
   "cell_type": "code",
   "execution_count": 1,
   "metadata": {
    "collapsed": true
   },
   "outputs": [],
   "source": [
    "import pandas as pd\n",
    "import numpy as np"
   ]
  },
  {
   "cell_type": "markdown",
   "metadata": {},
   "source": [
    "### Goal: Learn that it is easy to create a data frame\n",
    "\n",
    "#### We use pandas.DataFrame and put in just about anything data type as an argument\n",
    "\n",
    "class pandas.DataFrame(data=None, index=None, columns=None, dtype=None, copy=False)[source]\n",
    "\n",
    "data : numpy ndarray (structured or homogeneous), dict, or DataFrame. \n",
    "Dict can contain Series, arrays, constants, or list-like objects"
   ]
  },
  {
   "cell_type": "code",
   "execution_count": 4,
   "metadata": {
    "collapsed": false
   },
   "outputs": [
    {
     "name": "stdout",
     "output_type": "stream",
     "text": [
      "[-0.30437842  1.14829195  0.39404276] <class 'numpy.ndarray'>\n",
      "[ 0.33998399 -0.99659453  1.13465078]\n",
      "[-0.09532637 -1.07659722 -0.44835838]\n",
      "This is a dataframe\n"
     ]
    },
    {
     "data": {
      "text/html": [
       "<div>\n",
       "<table border=\"1\" class=\"dataframe\">\n",
       "  <thead>\n",
       "    <tr style=\"text-align: right;\">\n",
       "      <th></th>\n",
       "      <th>0</th>\n",
       "    </tr>\n",
       "  </thead>\n",
       "  <tbody>\n",
       "    <tr>\n",
       "      <th>0</th>\n",
       "      <td>-0.304378</td>\n",
       "    </tr>\n",
       "    <tr>\n",
       "      <th>1</th>\n",
       "      <td>1.148292</td>\n",
       "    </tr>\n",
       "    <tr>\n",
       "      <th>2</th>\n",
       "      <td>0.394043</td>\n",
       "    </tr>\n",
       "  </tbody>\n",
       "</table>\n",
       "</div>"
      ],
      "text/plain": [
       "          0\n",
       "0 -0.304378\n",
       "1  1.148292\n",
       "2  0.394043"
      ]
     },
     "execution_count": 4,
     "metadata": {},
     "output_type": "execute_result"
    }
   ],
   "source": [
    "# Try it with an array\n",
    "a1 = np.array(np.random.randn(3))\n",
    "a2 = np.array(np.random.randn(3))\n",
    "a3 = np.array(np.random.randn(3))\n",
    "\n",
    "print(a1, type(a1))\n",
    "print(a2)\n",
    "print(a3)\n",
    "\n",
    "df0 = pd.DataFrame(a1)\n",
    "print(\"This is a dataframe\")\n",
    "df0\n"
   ]
  },
  {
   "cell_type": "code",
   "execution_count": 5,
   "metadata": {
    "collapsed": false
   },
   "outputs": [
    {
     "name": "stdout",
     "output_type": "stream",
     "text": [
      "<class 'pandas.core.frame.DataFrame'>\n"
     ]
    },
    {
     "data": {
      "text/html": [
       "<div>\n",
       "<table border=\"1\" class=\"dataframe\">\n",
       "  <thead>\n",
       "    <tr style=\"text-align: right;\">\n",
       "      <th></th>\n",
       "      <th>0</th>\n",
       "      <th>1</th>\n",
       "      <th>2</th>\n",
       "    </tr>\n",
       "  </thead>\n",
       "  <tbody>\n",
       "    <tr>\n",
       "      <th>0</th>\n",
       "      <td>-0.304378</td>\n",
       "      <td>1.148292</td>\n",
       "      <td>0.394043</td>\n",
       "    </tr>\n",
       "    <tr>\n",
       "      <th>1</th>\n",
       "      <td>0.339984</td>\n",
       "      <td>-0.996595</td>\n",
       "      <td>1.134651</td>\n",
       "    </tr>\n",
       "    <tr>\n",
       "      <th>2</th>\n",
       "      <td>-0.095326</td>\n",
       "      <td>-1.076597</td>\n",
       "      <td>-0.448358</td>\n",
       "    </tr>\n",
       "  </tbody>\n",
       "</table>\n",
       "</div>"
      ],
      "text/plain": [
       "          0         1         2\n",
       "0 -0.304378  1.148292  0.394043\n",
       "1  0.339984 -0.996595  1.134651\n",
       "2 -0.095326 -1.076597 -0.448358"
      ]
     },
     "execution_count": 5,
     "metadata": {},
     "output_type": "execute_result"
    }
   ],
   "source": [
    "# What if I give it a list of np arrays?\n",
    "df0 = pd.DataFrame([a1, a2, a3])\n",
    "print(type(df0))\n",
    "df0\n",
    "# notice that there is no column label and the index is set automatically"
   ]
  },
  {
   "cell_type": "code",
   "execution_count": 6,
   "metadata": {
    "collapsed": false
   },
   "outputs": [
    {
     "name": "stdout",
     "output_type": "stream",
     "text": [
      "[[-0.55511805 -0.57345526  2.25590239]\n",
      " [ 0.78258254  0.57170543  0.14355255]\n",
      " [ 0.01997603 -1.28884413  0.49411364]]\n"
     ]
    },
    {
     "data": {
      "text/html": [
       "<div>\n",
       "<table border=\"1\" class=\"dataframe\">\n",
       "  <thead>\n",
       "    <tr style=\"text-align: right;\">\n",
       "      <th></th>\n",
       "      <th>0</th>\n",
       "      <th>1</th>\n",
       "      <th>2</th>\n",
       "    </tr>\n",
       "  </thead>\n",
       "  <tbody>\n",
       "    <tr>\n",
       "      <th>0</th>\n",
       "      <td>-0.555118</td>\n",
       "      <td>-0.573455</td>\n",
       "      <td>2.255902</td>\n",
       "    </tr>\n",
       "    <tr>\n",
       "      <th>1</th>\n",
       "      <td>0.782583</td>\n",
       "      <td>0.571705</td>\n",
       "      <td>0.143553</td>\n",
       "    </tr>\n",
       "    <tr>\n",
       "      <th>2</th>\n",
       "      <td>0.019976</td>\n",
       "      <td>-1.288844</td>\n",
       "      <td>0.494114</td>\n",
       "    </tr>\n",
       "  </tbody>\n",
       "</table>\n",
       "</div>"
      ],
      "text/plain": [
       "          0         1         2\n",
       "0 -0.555118 -0.573455  2.255902\n",
       "1  0.782583  0.571705  0.143553\n",
       "2  0.019976 -1.288844  0.494114"
      ]
     },
     "execution_count": 6,
     "metadata": {},
     "output_type": "execute_result"
    }
   ],
   "source": [
    "# Let use a 2-D arrays?\n",
    "ax = np.array(np.random.randn(9)).reshape(3,3)\n",
    "print(ax)\n",
    "df0 = pd.DataFrame(ax)\n",
    "df0"
   ]
  },
  {
   "cell_type": "code",
   "execution_count": 8,
   "metadata": {
    "collapsed": false
   },
   "outputs": [
    {
     "data": {
      "text/html": [
       "<div>\n",
       "<table border=\"1\" class=\"dataframe\">\n",
       "  <thead>\n",
       "    <tr style=\"text-align: right;\">\n",
       "      <th></th>\n",
       "      <th>A</th>\n",
       "      <th>B</th>\n",
       "    </tr>\n",
       "  </thead>\n",
       "  <tbody>\n",
       "    <tr>\n",
       "      <th>0</th>\n",
       "      <td>-0.304378</td>\n",
       "      <td>0.339984</td>\n",
       "    </tr>\n",
       "    <tr>\n",
       "      <th>1</th>\n",
       "      <td>1.148292</td>\n",
       "      <td>-0.996595</td>\n",
       "    </tr>\n",
       "    <tr>\n",
       "      <th>2</th>\n",
       "      <td>0.394043</td>\n",
       "      <td>1.134651</td>\n",
       "    </tr>\n",
       "  </tbody>\n",
       "</table>\n",
       "</div>"
      ],
      "text/plain": [
       "          A         B\n",
       "0 -0.304378  0.339984\n",
       "1  1.148292 -0.996595\n",
       "2  0.394043  1.134651"
      ]
     },
     "execution_count": 8,
     "metadata": {},
     "output_type": "execute_result"
    }
   ],
   "source": [
    "# And now, lets use a dictionary as input\n",
    "\n",
    "dict1 = {'A':a1, 'B':a2}\n",
    "df1 = pd.DataFrame(dict1) \n",
    "\n",
    "df1\n",
    "# note headings\n",
    "\n"
   ]
  },
  {
   "cell_type": "code",
   "execution_count": 10,
   "metadata": {
    "collapsed": false
   },
   "outputs": [
    {
     "data": {
      "text/html": [
       "<div>\n",
       "<table border=\"1\" class=\"dataframe\">\n",
       "  <thead>\n",
       "    <tr style=\"text-align: right;\">\n",
       "      <th></th>\n",
       "      <th>A</th>\n",
       "      <th>B</th>\n",
       "      <th>C</th>\n",
       "    </tr>\n",
       "  </thead>\n",
       "  <tbody>\n",
       "    <tr>\n",
       "      <th>0</th>\n",
       "      <td>-0.304378</td>\n",
       "      <td>0.339984</td>\n",
       "      <td>-0.095326</td>\n",
       "    </tr>\n",
       "    <tr>\n",
       "      <th>1</th>\n",
       "      <td>1.148292</td>\n",
       "      <td>-0.996595</td>\n",
       "      <td>-1.076597</td>\n",
       "    </tr>\n",
       "    <tr>\n",
       "      <th>2</th>\n",
       "      <td>0.394043</td>\n",
       "      <td>1.134651</td>\n",
       "      <td>-0.448358</td>\n",
       "    </tr>\n",
       "  </tbody>\n",
       "</table>\n",
       "</div>"
      ],
      "text/plain": [
       "          A         B         C\n",
       "0 -0.304378  0.339984 -0.095326\n",
       "1  1.148292 -0.996595 -1.076597\n",
       "2  0.394043  1.134651 -0.448358"
      ]
     },
     "execution_count": 10,
     "metadata": {},
     "output_type": "execute_result"
    }
   ],
   "source": [
    "# Lets add another column\n",
    "df1['C']=a3\n",
    "df1"
   ]
  },
  {
   "cell_type": "code",
   "execution_count": 12,
   "metadata": {
    "collapsed": false
   },
   "outputs": [
    {
     "name": "stdout",
     "output_type": "stream",
     "text": [
      "The column L is a  <class 'pandas.core.series.Series'>\n"
     ]
    },
    {
     "data": {
      "text/html": [
       "<div>\n",
       "<table border=\"1\" class=\"dataframe\">\n",
       "  <thead>\n",
       "    <tr style=\"text-align: right;\">\n",
       "      <th></th>\n",
       "      <th>A</th>\n",
       "      <th>B</th>\n",
       "      <th>C</th>\n",
       "      <th>L</th>\n",
       "    </tr>\n",
       "  </thead>\n",
       "  <tbody>\n",
       "    <tr>\n",
       "      <th>0</th>\n",
       "      <td>-0.304378</td>\n",
       "      <td>0.339984</td>\n",
       "      <td>-0.095326</td>\n",
       "      <td>List</td>\n",
       "    </tr>\n",
       "    <tr>\n",
       "      <th>1</th>\n",
       "      <td>1.148292</td>\n",
       "      <td>-0.996595</td>\n",
       "      <td>-1.076597</td>\n",
       "      <td>of</td>\n",
       "    </tr>\n",
       "    <tr>\n",
       "      <th>2</th>\n",
       "      <td>0.394043</td>\n",
       "      <td>1.134651</td>\n",
       "      <td>-0.448358</td>\n",
       "      <td>words</td>\n",
       "    </tr>\n",
       "  </tbody>\n",
       "</table>\n",
       "</div>"
      ],
      "text/plain": [
       "          A         B         C      L\n",
       "0 -0.304378  0.339984 -0.095326   List\n",
       "1  1.148292 -0.996595 -1.076597     of\n",
       "2  0.394043  1.134651 -0.448358  words"
      ]
     },
     "execution_count": 12,
     "metadata": {},
     "output_type": "execute_result"
    }
   ],
   "source": [
    "# What is we assign a list instead of numpy array?\n",
    "df1['L'] = [\"List\", \"of\", \"words\"]\n",
    "print(\"The column L is a \",type (df1['L']))\n",
    "df1"
   ]
  },
  {
   "cell_type": "code",
   "execution_count": 13,
   "metadata": {
    "collapsed": false
   },
   "outputs": [
    {
     "name": "stdout",
     "output_type": "stream",
     "text": [
      "0    1.0\n",
      "1    NaN\n",
      "2    3.0\n",
      "dtype: float64\n",
      "a    2\n",
      "b    3\n",
      "c    4\n",
      "dtype: int64\n"
     ]
    }
   ],
   "source": [
    "# Introducing a pandas.Series\n",
    "# Its like an np.array but it has its own index\n",
    "s = pd.Series([1,np.nan,3])\n",
    "s2 = pd.Series([2, 3, 4], index = ['a','b','c'])\n",
    "print(s)\n",
    "print(s2)"
   ]
  },
  {
   "cell_type": "code",
   "execution_count": 14,
   "metadata": {
    "collapsed": false
   },
   "outputs": [
    {
     "data": {
      "text/html": [
       "<div>\n",
       "<table border=\"1\" class=\"dataframe\">\n",
       "  <thead>\n",
       "    <tr style=\"text-align: right;\">\n",
       "      <th></th>\n",
       "      <th>A</th>\n",
       "      <th>B</th>\n",
       "      <th>C</th>\n",
       "      <th>L</th>\n",
       "      <th>S</th>\n",
       "    </tr>\n",
       "  </thead>\n",
       "  <tbody>\n",
       "    <tr>\n",
       "      <th>0</th>\n",
       "      <td>-0.304378</td>\n",
       "      <td>0.339984</td>\n",
       "      <td>-0.095326</td>\n",
       "      <td>List</td>\n",
       "      <td>1.0</td>\n",
       "    </tr>\n",
       "    <tr>\n",
       "      <th>1</th>\n",
       "      <td>1.148292</td>\n",
       "      <td>-0.996595</td>\n",
       "      <td>-1.076597</td>\n",
       "      <td>of</td>\n",
       "      <td>NaN</td>\n",
       "    </tr>\n",
       "    <tr>\n",
       "      <th>2</th>\n",
       "      <td>0.394043</td>\n",
       "      <td>1.134651</td>\n",
       "      <td>-0.448358</td>\n",
       "      <td>words</td>\n",
       "      <td>3.0</td>\n",
       "    </tr>\n",
       "  </tbody>\n",
       "</table>\n",
       "</div>"
      ],
      "text/plain": [
       "          A         B         C      L    S\n",
       "0 -0.304378  0.339984 -0.095326   List  1.0\n",
       "1  1.148292 -0.996595 -1.076597     of  NaN\n",
       "2  0.394043  1.134651 -0.448358  words  3.0"
      ]
     },
     "execution_count": 14,
     "metadata": {},
     "output_type": "execute_result"
    }
   ],
   "source": [
    "# We will add the Series s to the table as column S\n",
    "df1['S'] = s\n",
    "df1"
   ]
  },
  {
   "cell_type": "code",
   "execution_count": 15,
   "metadata": {
    "collapsed": false
   },
   "outputs": [
    {
     "name": "stdout",
     "output_type": "stream",
     "text": [
      "          A         B         C      L    S  S2\n",
      "0 -0.304378  0.339984 -0.095326   List  1.0 NaN\n",
      "1  1.148292 -0.996595 -1.076597     of  NaN NaN\n",
      "2  0.394043  1.134651 -0.448358  words  3.0 NaN\n",
      "   0         A         B         C\n",
      "a  2 -0.304378  0.339984 -0.095326\n",
      "b  3  1.148292 -0.996595 -1.076597\n",
      "c  4  0.394043  1.134651 -0.448358\n"
     ]
    }
   ],
   "source": [
    "# This time, we will Series s2, which has a different index\n",
    "df1['S2']=s2\n",
    "print(df1)\n",
    "\n",
    "# But if we create a new dataframe, we can add the data but with the new index\n",
    "df2 = pd.DataFrame(s2)\n",
    "df2['A']= a1\n",
    "df2['B']=a2\n",
    "df2['C']=a3\n",
    "print(df2)"
   ]
  },
  {
   "cell_type": "code",
   "execution_count": 16,
   "metadata": {
    "collapsed": false
   },
   "outputs": [
    {
     "name": "stdout",
     "output_type": "stream",
     "text": [
      "   0         A         B         C\n",
      "b  3  1.148292 -0.996595 -1.076597\n",
      "c  4  0.394043  1.134651 -0.448358\n",
      "   0         A         B         C\n",
      "a  2 -0.304378  0.339984 -0.095326\n",
      "b  3  1.148292 -0.996595 -1.076597\n"
     ]
    }
   ],
   "source": [
    "# You can then extract rows by position or label\n",
    "print(df2[1:3])\n",
    "print(df2['a':'b'])"
   ]
  },
  {
   "cell_type": "code",
   "execution_count": 17,
   "metadata": {
    "collapsed": false
   },
   "outputs": [
    {
     "data": {
      "text/html": [
       "<div>\n",
       "<table border=\"1\" class=\"dataframe\">\n",
       "  <thead>\n",
       "    <tr style=\"text-align: right;\">\n",
       "      <th></th>\n",
       "      <th>A</th>\n",
       "      <th>B</th>\n",
       "      <th>C</th>\n",
       "      <th>L</th>\n",
       "      <th>S</th>\n",
       "      <th>S2</th>\n",
       "    </tr>\n",
       "  </thead>\n",
       "  <tbody>\n",
       "    <tr>\n",
       "      <th>0</th>\n",
       "      <td>-0.304378</td>\n",
       "      <td>0.339984</td>\n",
       "      <td>-0.095326</td>\n",
       "      <td>List</td>\n",
       "      <td>1.0</td>\n",
       "      <td>NaN</td>\n",
       "    </tr>\n",
       "    <tr>\n",
       "      <th>1</th>\n",
       "      <td>1.148292</td>\n",
       "      <td>-0.996595</td>\n",
       "      <td>-1.076597</td>\n",
       "      <td>of</td>\n",
       "      <td>NaN</td>\n",
       "      <td>NaN</td>\n",
       "    </tr>\n",
       "    <tr>\n",
       "      <th>2</th>\n",
       "      <td>0.394043</td>\n",
       "      <td>1.134651</td>\n",
       "      <td>-0.448358</td>\n",
       "      <td>words</td>\n",
       "      <td>3.0</td>\n",
       "      <td>NaN</td>\n",
       "    </tr>\n",
       "  </tbody>\n",
       "</table>\n",
       "</div>"
      ],
      "text/plain": [
       "          A         B         C      L    S  S2\n",
       "0 -0.304378  0.339984 -0.095326   List  1.0 NaN\n",
       "1  1.148292 -0.996595 -1.076597     of  NaN NaN\n",
       "2  0.394043  1.134651 -0.448358  words  3.0 NaN"
      ]
     },
     "execution_count": 17,
     "metadata": {},
     "output_type": "execute_result"
    }
   ],
   "source": [
    "# recall\n",
    "df1"
   ]
  },
  {
   "cell_type": "code",
   "execution_count": 18,
   "metadata": {
    "collapsed": false
   },
   "outputs": [
    {
     "data": {
      "text/html": [
       "<div>\n",
       "<table border=\"1\" class=\"dataframe\">\n",
       "  <thead>\n",
       "    <tr style=\"text-align: right;\">\n",
       "      <th></th>\n",
       "      <th>A</th>\n",
       "      <th>B</th>\n",
       "      <th>C</th>\n",
       "      <th>D</th>\n",
       "      <th>S</th>\n",
       "      <th>S2</th>\n",
       "    </tr>\n",
       "  </thead>\n",
       "  <tbody>\n",
       "    <tr>\n",
       "      <th>0</th>\n",
       "      <td>-0.304378</td>\n",
       "      <td>0.339984</td>\n",
       "      <td>-0.095326</td>\n",
       "      <td>List</td>\n",
       "      <td>1.0</td>\n",
       "      <td>NaN</td>\n",
       "    </tr>\n",
       "    <tr>\n",
       "      <th>1</th>\n",
       "      <td>1.148292</td>\n",
       "      <td>-0.996595</td>\n",
       "      <td>-1.076597</td>\n",
       "      <td>of</td>\n",
       "      <td>NaN</td>\n",
       "      <td>NaN</td>\n",
       "    </tr>\n",
       "    <tr>\n",
       "      <th>2</th>\n",
       "      <td>0.394043</td>\n",
       "      <td>1.134651</td>\n",
       "      <td>-0.448358</td>\n",
       "      <td>words</td>\n",
       "      <td>3.0</td>\n",
       "      <td>NaN</td>\n",
       "    </tr>\n",
       "  </tbody>\n",
       "</table>\n",
       "</div>"
      ],
      "text/plain": [
       "          A         B         C      D    S  S2\n",
       "0 -0.304378  0.339984 -0.095326   List  1.0 NaN\n",
       "1  1.148292 -0.996595 -1.076597     of  NaN NaN\n",
       "2  0.394043  1.134651 -0.448358  words  3.0 NaN"
      ]
     },
     "execution_count": 18,
     "metadata": {},
     "output_type": "execute_result"
    }
   ],
   "source": [
    "# Renaming a column\n",
    "df1 = df1.rename(columns = {'L':'D'})\n",
    "df1"
   ]
  },
  {
   "cell_type": "code",
   "execution_count": 19,
   "metadata": {
    "collapsed": false
   },
   "outputs": [
    {
     "data": {
      "text/html": [
       "<div>\n",
       "<table border=\"1\" class=\"dataframe\">\n",
       "  <thead>\n",
       "    <tr style=\"text-align: right;\">\n",
       "      <th></th>\n",
       "      <th>A</th>\n",
       "      <th>B</th>\n",
       "      <th>C</th>\n",
       "      <th>D</th>\n",
       "      <th>S</th>\n",
       "    </tr>\n",
       "  </thead>\n",
       "  <tbody>\n",
       "    <tr>\n",
       "      <th>0</th>\n",
       "      <td>-0.304378</td>\n",
       "      <td>0.339984</td>\n",
       "      <td>-0.095326</td>\n",
       "      <td>List</td>\n",
       "      <td>1.0</td>\n",
       "    </tr>\n",
       "    <tr>\n",
       "      <th>1</th>\n",
       "      <td>1.148292</td>\n",
       "      <td>-0.996595</td>\n",
       "      <td>-1.076597</td>\n",
       "      <td>of</td>\n",
       "      <td>NaN</td>\n",
       "    </tr>\n",
       "    <tr>\n",
       "      <th>2</th>\n",
       "      <td>0.394043</td>\n",
       "      <td>1.134651</td>\n",
       "      <td>-0.448358</td>\n",
       "      <td>words</td>\n",
       "      <td>3.0</td>\n",
       "    </tr>\n",
       "  </tbody>\n",
       "</table>\n",
       "</div>"
      ],
      "text/plain": [
       "          A         B         C      D    S\n",
       "0 -0.304378  0.339984 -0.095326   List  1.0\n",
       "1  1.148292 -0.996595 -1.076597     of  NaN\n",
       "2  0.394043  1.134651 -0.448358  words  3.0"
      ]
     },
     "execution_count": 19,
     "metadata": {},
     "output_type": "execute_result"
    }
   ],
   "source": [
    "# And delete column\n",
    "del df1['S2']\n",
    "df1"
   ]
  },
  {
   "cell_type": "code",
   "execution_count": 20,
   "metadata": {
    "collapsed": false
   },
   "outputs": [
    {
     "name": "stdout",
     "output_type": "stream",
     "text": [
      "0   -0.304378\n",
      "1    1.148292\n",
      "2    0.394043\n",
      "Name: A, dtype: float64\n",
      "          A      D\n",
      "0 -0.304378   List\n",
      "1  1.148292     of\n",
      "2  0.394043  words\n",
      "<class 'pandas.core.series.Series'>\n"
     ]
    }
   ],
   "source": [
    "# Example: view only a column\n",
    "print(df1['A'])\n",
    "print\n",
    "# A list of colums\n",
    "print(df1[['A','D']])\n",
    "print \n",
    "print(type(df1['A']))\n",
    "\n",
    "# Notice the data structure of the column is a Series, not an array\n"
   ]
  },
  {
   "cell_type": "markdown",
   "metadata": {},
   "source": [
    "In the 10 min Pandas Guide, you will see many ways to view, slice a dataframe\n",
    "\n",
    "* view/slice by rows, eg df[1:3], etc.\n",
    "\n",
    "* view by index location, see df.iloc (iloc)\n",
    "\n",
    "* view by ranges of labels, ie index label 2 to 5, or dates feb 3 to feb 25, see df.loc (loc)\n",
    " \n",
    "* view a single row by the index df.xs (xs)\n",
    "\n",
    "* filtering rows that have certain conditions\n",
    "* add column\n",
    "* add row\n",
    "\n",
    "* How to change the index\n",
    "\n",
    "and more..."
   ]
  },
  {
   "cell_type": "code",
   "execution_count": 21,
   "metadata": {
    "collapsed": false
   },
   "outputs": [
    {
     "data": {
      "text/html": [
       "<div>\n",
       "<table border=\"1\" class=\"dataframe\">\n",
       "  <thead>\n",
       "    <tr style=\"text-align: right;\">\n",
       "      <th></th>\n",
       "      <th>A</th>\n",
       "      <th>B</th>\n",
       "      <th>C</th>\n",
       "      <th>D</th>\n",
       "      <th>S</th>\n",
       "    </tr>\n",
       "  </thead>\n",
       "  <tbody>\n",
       "    <tr>\n",
       "      <th>0</th>\n",
       "      <td>-0.304378</td>\n",
       "      <td>0.339984</td>\n",
       "      <td>-0.095326</td>\n",
       "      <td>List</td>\n",
       "      <td>1.0</td>\n",
       "    </tr>\n",
       "    <tr>\n",
       "      <th>1</th>\n",
       "      <td>1.148292</td>\n",
       "      <td>-0.996595</td>\n",
       "      <td>-1.076597</td>\n",
       "      <td>of</td>\n",
       "      <td>NaN</td>\n",
       "    </tr>\n",
       "  </tbody>\n",
       "</table>\n",
       "</div>"
      ],
      "text/plain": [
       "          A         B         C     D    S\n",
       "0 -0.304378  0.339984 -0.095326  List  1.0\n",
       "1  1.148292 -0.996595 -1.076597    of  NaN"
      ]
     },
     "execution_count": 21,
     "metadata": {},
     "output_type": "execute_result"
    }
   ],
   "source": [
    "df1[0:2]  # ok\n",
    "# df1[1]  # not ok\n",
    "\n",
    "#What will this do?\n",
    "# print df1[0:2]\n",
    "# print df1[0:2][0:1]\n",
    "\n",
    "\n"
   ]
  },
  {
   "cell_type": "markdown",
   "metadata": {},
   "source": [
    "## Finance example\n",
    "\n",
    "### Now, lets get some data from Yahoo finance.  One format to get a CSV file is like this:\n",
    "\n",
    "http://chart.finance.yahoo.com/table.csv?s=YHOO&a=8&b=21&c=2015&d=8&e=21&f=2016&g=d&ignore=.csv\n",
    "\n",
    "#### Notes:\n",
    "#### s = stock symbol\n",
    "#### a= from month\n",
    "#### b = from date\n",
    "#### c = from year\n",
    "#### d = to month\n",
    "#### e = to date\n",
    "#### f = to year\n"
   ]
  },
  {
   "cell_type": "code",
   "execution_count": null,
   "metadata": {
    "collapsed": true
   },
   "outputs": [],
   "source": [
    "# Lets download Yahoo historic stock prices, one year back from 8/21/2016\n",
    "# See https://www.quantshare.com/sa-43-10-ways-to-download-historical-stock-quotes-data-for-free"
   ]
  },
  {
   "cell_type": "code",
   "execution_count": 22,
   "metadata": {
    "collapsed": false
   },
   "outputs": [],
   "source": [
    "# We can use this 'pd.read_csv' method with the yahoo url\n",
    "df0_yhoo = pd.read_csv('http://chart.finance.yahoo.com/table.csv?s=YHOO&a=8&b=21&c=2015&d=8&e=21&f=2016&g=d&ignore=.csv')"
   ]
  },
  {
   "cell_type": "code",
   "execution_count": 23,
   "metadata": {
    "collapsed": false
   },
   "outputs": [
    {
     "data": {
      "text/html": [
       "<div>\n",
       "<table border=\"1\" class=\"dataframe\">\n",
       "  <thead>\n",
       "    <tr style=\"text-align: right;\">\n",
       "      <th></th>\n",
       "      <th>Date</th>\n",
       "      <th>Open</th>\n",
       "      <th>High</th>\n",
       "      <th>Low</th>\n",
       "      <th>Close</th>\n",
       "      <th>Volume</th>\n",
       "      <th>Adj Close</th>\n",
       "    </tr>\n",
       "  </thead>\n",
       "  <tbody>\n",
       "    <tr>\n",
       "      <th>0</th>\n",
       "      <td>2016-09-21</td>\n",
       "      <td>42.889999</td>\n",
       "      <td>44.220001</td>\n",
       "      <td>42.889999</td>\n",
       "      <td>44.139999</td>\n",
       "      <td>12313700</td>\n",
       "      <td>44.139999</td>\n",
       "    </tr>\n",
       "    <tr>\n",
       "      <th>1</th>\n",
       "      <td>2016-09-20</td>\n",
       "      <td>43.240002</td>\n",
       "      <td>43.389999</td>\n",
       "      <td>42.660000</td>\n",
       "      <td>42.790001</td>\n",
       "      <td>9788900</td>\n",
       "      <td>42.790001</td>\n",
       "    </tr>\n",
       "    <tr>\n",
       "      <th>2</th>\n",
       "      <td>2016-09-19</td>\n",
       "      <td>43.919998</td>\n",
       "      <td>43.950001</td>\n",
       "      <td>43.000000</td>\n",
       "      <td>43.189999</td>\n",
       "      <td>7887400</td>\n",
       "      <td>43.189999</td>\n",
       "    </tr>\n",
       "    <tr>\n",
       "      <th>3</th>\n",
       "      <td>2016-09-16</td>\n",
       "      <td>43.939999</td>\n",
       "      <td>44.020000</td>\n",
       "      <td>43.470001</td>\n",
       "      <td>43.669998</td>\n",
       "      <td>19093900</td>\n",
       "      <td>43.669998</td>\n",
       "    </tr>\n",
       "    <tr>\n",
       "      <th>4</th>\n",
       "      <td>2016-09-15</td>\n",
       "      <td>43.410000</td>\n",
       "      <td>44.049999</td>\n",
       "      <td>43.220001</td>\n",
       "      <td>43.990002</td>\n",
       "      <td>12533900</td>\n",
       "      <td>43.990002</td>\n",
       "    </tr>\n",
       "    <tr>\n",
       "      <th>5</th>\n",
       "      <td>2016-09-14</td>\n",
       "      <td>42.910000</td>\n",
       "      <td>43.619999</td>\n",
       "      <td>42.860001</td>\n",
       "      <td>43.459999</td>\n",
       "      <td>11617300</td>\n",
       "      <td>43.459999</td>\n",
       "    </tr>\n",
       "    <tr>\n",
       "      <th>6</th>\n",
       "      <td>2016-09-13</td>\n",
       "      <td>43.189999</td>\n",
       "      <td>43.520000</td>\n",
       "      <td>42.689999</td>\n",
       "      <td>43.040001</td>\n",
       "      <td>10132000</td>\n",
       "      <td>43.040001</td>\n",
       "    </tr>\n",
       "    <tr>\n",
       "      <th>7</th>\n",
       "      <td>2016-09-12</td>\n",
       "      <td>42.279999</td>\n",
       "      <td>43.650002</td>\n",
       "      <td>42.180000</td>\n",
       "      <td>43.459999</td>\n",
       "      <td>10808800</td>\n",
       "      <td>43.459999</td>\n",
       "    </tr>\n",
       "    <tr>\n",
       "      <th>8</th>\n",
       "      <td>2016-09-09</td>\n",
       "      <td>43.919998</td>\n",
       "      <td>44.150002</td>\n",
       "      <td>42.820000</td>\n",
       "      <td>42.919998</td>\n",
       "      <td>12060700</td>\n",
       "      <td>42.919998</td>\n",
       "    </tr>\n",
       "    <tr>\n",
       "      <th>9</th>\n",
       "      <td>2016-09-08</td>\n",
       "      <td>44.070000</td>\n",
       "      <td>44.720001</td>\n",
       "      <td>44.029999</td>\n",
       "      <td>44.360001</td>\n",
       "      <td>7882600</td>\n",
       "      <td>44.360001</td>\n",
       "    </tr>\n",
       "  </tbody>\n",
       "</table>\n",
       "</div>"
      ],
      "text/plain": [
       "         Date       Open       High        Low      Close    Volume  Adj Close\n",
       "0  2016-09-21  42.889999  44.220001  42.889999  44.139999  12313700  44.139999\n",
       "1  2016-09-20  43.240002  43.389999  42.660000  42.790001   9788900  42.790001\n",
       "2  2016-09-19  43.919998  43.950001  43.000000  43.189999   7887400  43.189999\n",
       "3  2016-09-16  43.939999  44.020000  43.470001  43.669998  19093900  43.669998\n",
       "4  2016-09-15  43.410000  44.049999  43.220001  43.990002  12533900  43.990002\n",
       "5  2016-09-14  42.910000  43.619999  42.860001  43.459999  11617300  43.459999\n",
       "6  2016-09-13  43.189999  43.520000  42.689999  43.040001  10132000  43.040001\n",
       "7  2016-09-12  42.279999  43.650002  42.180000  43.459999  10808800  43.459999\n",
       "8  2016-09-09  43.919998  44.150002  42.820000  42.919998  12060700  42.919998\n",
       "9  2016-09-08  44.070000  44.720001  44.029999  44.360001   7882600  44.360001"
      ]
     },
     "execution_count": 23,
     "metadata": {},
     "output_type": "execute_result"
    }
   ],
   "source": [
    "# print df0_yhoo.head(10)\n",
    "df0_yhoo[0:10]"
   ]
  },
  {
   "cell_type": "code",
   "execution_count": 24,
   "metadata": {
    "collapsed": true
   },
   "outputs": [],
   "source": [
    "# We can do the same for Google, Apple, and Facebook\n",
    "df0_goog = pd.read_csv('http://chart.finance.yahoo.com/table.csv?s=GOOG&a=8&b=21&c=2015&d=8&e=21&f=2016&g=d&ignore=.csv')\n",
    "df0_aapl = pd.read_csv('http://chart.finance.yahoo.com/table.csv?s=AAPL&a=8&b=21&c=2015&d=8&e=21&f=2016&g=d&ignore=.csv')\n",
    "df0_fb = pd.read_csv('http://chart.finance.yahoo.com/table.csv?s=FB&a=8&b=21&c=2015&d=8&e=21&f=2016&g=d&ignore=.csv')"
   ]
  },
  {
   "cell_type": "code",
   "execution_count": 25,
   "metadata": {
    "collapsed": false
   },
   "outputs": [
    {
     "data": {
      "text/plain": [
       "0      776.219971\n",
       "1      771.409973\n",
       "2      765.700012\n",
       "3      768.880005\n",
       "4      771.760010\n",
       "5      762.489990\n",
       "6      759.690002\n",
       "7      769.020020\n",
       "8      759.659973\n",
       "9      775.320007\n",
       "10     780.349976\n",
       "11     780.080017\n",
       "12     771.460022\n",
       "13     768.780029\n",
       "14     767.049988\n",
       "15     769.090027\n",
       "16     772.150024\n",
       "17     769.539978\n",
       "18     769.409973\n",
       "19     769.640015\n",
       "20     772.080017\n",
       "21     772.150024\n",
       "22     775.419983\n",
       "23     777.500000\n",
       "24     779.909973\n",
       "25     777.140015\n",
       "26     782.440002\n",
       "27     783.219971\n",
       "28     784.849976\n",
       "29     784.679993\n",
       "          ...    \n",
       "224    710.809998\n",
       "225    716.919983\n",
       "226    712.950012\n",
       "227    708.489990\n",
       "228    712.780029\n",
       "229    702.000000\n",
       "230    651.789978\n",
       "231    642.609985\n",
       "232    650.280029\n",
       "233    666.099976\n",
       "234    662.200012\n",
       "235    661.739990\n",
       "236    651.159973\n",
       "237    652.299988\n",
       "238    646.669983\n",
       "239    643.609985\n",
       "240    639.159973\n",
       "241    642.359985\n",
       "242    645.440002\n",
       "243    641.469971\n",
       "244    626.909973\n",
       "245    611.289978\n",
       "246    608.419983\n",
       "247    594.969971\n",
       "248    594.890015\n",
       "249    611.969971\n",
       "250    625.799988\n",
       "251    622.359985\n",
       "252    622.690002\n",
       "253    635.440002\n",
       "Name: Close, dtype: float64"
      ]
     },
     "execution_count": 25,
     "metadata": {},
     "output_type": "execute_result"
    }
   ],
   "source": [
    "# Lets print the 1 column, which show close prices of Google\n",
    "# This is a new data frame (like a new table)\n",
    "df0_goog['Close']"
   ]
  },
  {
   "cell_type": "code",
   "execution_count": 26,
   "metadata": {
    "collapsed": false
   },
   "outputs": [
    {
     "data": {
      "text/html": [
       "<div>\n",
       "<table border=\"1\" class=\"dataframe\">\n",
       "  <thead>\n",
       "    <tr style=\"text-align: right;\">\n",
       "      <th></th>\n",
       "      <th>Date</th>\n",
       "      <th>Close</th>\n",
       "    </tr>\n",
       "  </thead>\n",
       "  <tbody>\n",
       "    <tr>\n",
       "      <th>0</th>\n",
       "      <td>2016-09-21</td>\n",
       "      <td>776.219971</td>\n",
       "    </tr>\n",
       "    <tr>\n",
       "      <th>1</th>\n",
       "      <td>2016-09-20</td>\n",
       "      <td>771.409973</td>\n",
       "    </tr>\n",
       "    <tr>\n",
       "      <th>2</th>\n",
       "      <td>2016-09-19</td>\n",
       "      <td>765.700012</td>\n",
       "    </tr>\n",
       "    <tr>\n",
       "      <th>3</th>\n",
       "      <td>2016-09-16</td>\n",
       "      <td>768.880005</td>\n",
       "    </tr>\n",
       "    <tr>\n",
       "      <th>4</th>\n",
       "      <td>2016-09-15</td>\n",
       "      <td>771.760010</td>\n",
       "    </tr>\n",
       "    <tr>\n",
       "      <th>5</th>\n",
       "      <td>2016-09-14</td>\n",
       "      <td>762.489990</td>\n",
       "    </tr>\n",
       "    <tr>\n",
       "      <th>6</th>\n",
       "      <td>2016-09-13</td>\n",
       "      <td>759.690002</td>\n",
       "    </tr>\n",
       "    <tr>\n",
       "      <th>7</th>\n",
       "      <td>2016-09-12</td>\n",
       "      <td>769.020020</td>\n",
       "    </tr>\n",
       "    <tr>\n",
       "      <th>8</th>\n",
       "      <td>2016-09-09</td>\n",
       "      <td>759.659973</td>\n",
       "    </tr>\n",
       "    <tr>\n",
       "      <th>9</th>\n",
       "      <td>2016-09-08</td>\n",
       "      <td>775.320007</td>\n",
       "    </tr>\n",
       "  </tbody>\n",
       "</table>\n",
       "</div>"
      ],
      "text/plain": [
       "         Date       Close\n",
       "0  2016-09-21  776.219971\n",
       "1  2016-09-20  771.409973\n",
       "2  2016-09-19  765.700012\n",
       "3  2016-09-16  768.880005\n",
       "4  2016-09-15  771.760010\n",
       "5  2016-09-14  762.489990\n",
       "6  2016-09-13  759.690002\n",
       "7  2016-09-12  769.020020\n",
       "8  2016-09-09  759.659973\n",
       "9  2016-09-08  775.320007"
      ]
     },
     "execution_count": 26,
     "metadata": {},
     "output_type": "execute_result"
    }
   ],
   "source": [
    "# Lets print the 2 column, and only 10 down, which show close prices of Google\n",
    "# Instead of one column name, we have a python list ['Date',Close']\n",
    "df0_goog[['Date','Close']][0:10]"
   ]
  },
  {
   "cell_type": "code",
   "execution_count": 27,
   "metadata": {
    "collapsed": false
   },
   "outputs": [
    {
     "data": {
      "text/html": [
       "<div>\n",
       "<table border=\"1\" class=\"dataframe\">\n",
       "  <thead>\n",
       "    <tr style=\"text-align: right;\">\n",
       "      <th></th>\n",
       "      <th>Date</th>\n",
       "      <th>Close</th>\n",
       "    </tr>\n",
       "  </thead>\n",
       "  <tbody>\n",
       "    <tr>\n",
       "      <th>0</th>\n",
       "      <td>2016-09-21</td>\n",
       "      <td>113.550003</td>\n",
       "    </tr>\n",
       "    <tr>\n",
       "      <th>1</th>\n",
       "      <td>2016-09-20</td>\n",
       "      <td>113.570000</td>\n",
       "    </tr>\n",
       "    <tr>\n",
       "      <th>2</th>\n",
       "      <td>2016-09-19</td>\n",
       "      <td>113.580002</td>\n",
       "    </tr>\n",
       "    <tr>\n",
       "      <th>3</th>\n",
       "      <td>2016-09-16</td>\n",
       "      <td>114.919998</td>\n",
       "    </tr>\n",
       "    <tr>\n",
       "      <th>4</th>\n",
       "      <td>2016-09-15</td>\n",
       "      <td>115.570000</td>\n",
       "    </tr>\n",
       "    <tr>\n",
       "      <th>5</th>\n",
       "      <td>2016-09-14</td>\n",
       "      <td>111.769997</td>\n",
       "    </tr>\n",
       "    <tr>\n",
       "      <th>6</th>\n",
       "      <td>2016-09-13</td>\n",
       "      <td>107.949997</td>\n",
       "    </tr>\n",
       "    <tr>\n",
       "      <th>7</th>\n",
       "      <td>2016-09-12</td>\n",
       "      <td>105.440002</td>\n",
       "    </tr>\n",
       "    <tr>\n",
       "      <th>8</th>\n",
       "      <td>2016-09-09</td>\n",
       "      <td>103.129997</td>\n",
       "    </tr>\n",
       "    <tr>\n",
       "      <th>9</th>\n",
       "      <td>2016-09-08</td>\n",
       "      <td>105.519997</td>\n",
       "    </tr>\n",
       "  </tbody>\n",
       "</table>\n",
       "</div>"
      ],
      "text/plain": [
       "         Date       Close\n",
       "0  2016-09-21  113.550003\n",
       "1  2016-09-20  113.570000\n",
       "2  2016-09-19  113.580002\n",
       "3  2016-09-16  114.919998\n",
       "4  2016-09-15  115.570000\n",
       "5  2016-09-14  111.769997\n",
       "6  2016-09-13  107.949997\n",
       "7  2016-09-12  105.440002\n",
       "8  2016-09-09  103.129997\n",
       "9  2016-09-08  105.519997"
      ]
     },
     "execution_count": 27,
     "metadata": {},
     "output_type": "execute_result"
    }
   ],
   "source": [
    "# Same thing, but this time with Apple, we have each in its own dataframe\n",
    "df0_aapl[['Date','Close']][0:10]"
   ]
  },
  {
   "cell_type": "code",
   "execution_count": 28,
   "metadata": {
    "collapsed": false
   },
   "outputs": [
    {
     "name": "stdout",
     "output_type": "stream",
     "text": [
      "[['2016-09-21' 113.550003]\n",
      " ['2016-09-20' 113.57]\n",
      " ['2016-09-19' 113.58000200000001]\n",
      " ['2016-09-16' 114.91999799999999]\n",
      " ['2016-09-15' 115.57]\n",
      " ['2016-09-14' 111.769997]\n",
      " ['2016-09-13' 107.949997]\n",
      " ['2016-09-12' 105.440002]\n",
      " ['2016-09-09' 103.129997]\n",
      " ['2016-09-08' 105.519997]]\n"
     ]
    },
    {
     "data": {
      "text/plain": [
       "numpy.ndarray"
      ]
     },
     "execution_count": 28,
     "metadata": {},
     "output_type": "execute_result"
    }
   ],
   "source": [
    "# But what if we want to use it the data as a Numpy Array?\n",
    "# We can do that with this pandas method: df.as.martix()\n",
    "# this will be an n x 2 matrix (axis 0 is long, axis 1 = 2)\n",
    "# and then slice to show only 10 rows\n",
    "\n",
    "print(df0_aapl[['Date','Close']].as_matrix()[0:10])\n",
    "type(df0_aapl[['Date','Close']].as_matrix()[0:10])"
   ]
  },
  {
   "cell_type": "code",
   "execution_count": 29,
   "metadata": {
    "collapsed": false
   },
   "outputs": [
    {
     "data": {
      "text/plain": [
       "array([ 113.550003,  113.57    ,  113.580002,  114.919998,  115.57    ,\n",
       "        111.769997,  107.949997,  105.440002,  103.129997,  105.519997])"
      ]
     },
     "execution_count": 29,
     "metadata": {},
     "output_type": "execute_result"
    }
   ],
   "source": [
    "# And what if we only want to have a single column as a vector, a nump array with dimension 1 x n\n",
    "df0_aapl['Close'][0:10].as_matrix()"
   ]
  },
  {
   "cell_type": "code",
   "execution_count": 30,
   "metadata": {
    "collapsed": false
   },
   "outputs": [],
   "source": [
    "# Lets get the all the last closing prices of each of the stocks into NumPy arrays:\n",
    "\n",
    "a = df0_aapl['Close'].as_matrix()\n",
    "g = df0_goog['Close'].as_matrix()\n",
    "f = df0_fb['Close'].as_matrix()\n",
    "\n",
    "# Lets get the last 20 closing prices of each of the stocks into NumPy arrays:\n",
    "a20 = df0_aapl['Close'][0:20].as_matrix()\n",
    "g20 = df0_goog['Close'][0:20].as_matrix()\n",
    "f20 = df0_fb['Close'][0:20].as_matrix()\n"
   ]
  },
  {
   "cell_type": "code",
   "execution_count": 32,
   "metadata": {
    "collapsed": false
   },
   "outputs": [
    {
     "name": "stdout",
     "output_type": "stream",
     "text": [
      "[ 113.550003  113.57      113.580002  114.919998  115.57      111.769997\n",
      "  107.949997  105.440002  103.129997  105.519997  108.360001  107.699997\n",
      "  107.730003  106.730003  106.099998  106.        106.82      106.940002\n",
      "  107.57      108.029999] [ 776.219971  771.409973  765.700012  768.880005  771.76001   762.48999\n",
      "  759.690002  769.02002   759.659973  775.320007  780.349976  780.080017\n",
      "  771.460022  768.780029  767.049988  769.090027  772.150024  769.539978\n",
      "  769.409973  769.640015] [ 129.940002  128.639999  128.649994  129.070007  128.350006  127.769997\n",
      "  127.209999  128.690002  127.099998  130.270004  131.050003  129.729996\n",
      "  126.510002  126.169998  126.120003  125.839996  126.540001  124.959999\n",
      "  123.889999  123.480003]\n"
     ]
    }
   ],
   "source": [
    "print(a20, g20, f20)"
   ]
  },
  {
   "cell_type": "code",
   "execution_count": 33,
   "metadata": {
    "collapsed": false
   },
   "outputs": [
    {
     "name": "stdout",
     "output_type": "stream",
     "text": [
      "[ 339.90332533  337.873324    335.97666933  337.62333667  338.56000533\n",
      "  334.00999467  331.616666    334.38334133  329.96332267  337.03666933\n",
      "  339.91999333  339.17000333  335.23334233  333.89334333  333.08999633\n",
      "  333.643341    335.17000833  333.81332633  333.623324    333.71667233]\n"
     ]
    }
   ],
   "source": [
    "# Manipulating stock prices in Numpy Arrays:\n",
    "mi = (a+g+f)/3   # mean_instantaneous average value on every day\n",
    "print(mi[0:20])"
   ]
  },
  {
   "cell_type": "code",
   "execution_count": 35,
   "metadata": {
    "collapsed": false
   },
   "outputs": [
    {
     "name": "stdout",
     "output_type": "stream",
     "text": [
      "         Date     Close_x     Close_y       Close\n",
      "0  2016-09-21  113.550003  776.219971  129.940002\n",
      "1  2016-09-20  113.570000  771.409973  128.639999\n",
      "2  2016-09-19  113.580002  765.700012  128.649994\n",
      "3  2016-09-16  114.919998  768.880005  129.070007\n",
      "4  2016-09-15  115.570000  771.760010  128.350006\n",
      "5  2016-09-14  111.769997  762.489990  127.769997\n",
      "6  2016-09-13  107.949997  759.690002  127.209999\n",
      "7  2016-09-12  105.440002  769.020020  128.690002\n",
      "8  2016-09-09  103.129997  759.659973  127.099998\n",
      "9  2016-09-08  105.519997  775.320007  130.270004\n"
     ]
    }
   ],
   "source": [
    "# And now the same thing, but using Pandas and not NumPy\n",
    "# Lets merge some tables\n",
    "df_all = df0_aapl[['Date','Close']].merge(df0_goog[['Date','Close']], on = 'Date' )\n",
    "df_all = df_all.merge(df0_fb[['Date','Close']], on = 'Date' )\n",
    "print(df_all[0:10])"
   ]
  },
  {
   "cell_type": "code",
   "execution_count": 36,
   "metadata": {
    "collapsed": false
   },
   "outputs": [
    {
     "name": "stdout",
     "output_type": "stream",
     "text": [
      "         Date        AAPL        GOOG          FB\n",
      "0  2016-09-21  113.550003  776.219971  129.940002\n",
      "1  2016-09-20  113.570000  771.409973  128.639999\n",
      "2  2016-09-19  113.580002  765.700012  128.649994\n",
      "3  2016-09-16  114.919998  768.880005  129.070007\n",
      "4  2016-09-15  115.570000  771.760010  128.350006\n",
      "5  2016-09-14  111.769997  762.489990  127.769997\n",
      "6  2016-09-13  107.949997  759.690002  127.209999\n",
      "7  2016-09-12  105.440002  769.020020  128.690002\n",
      "8  2016-09-09  103.129997  759.659973  127.099998\n",
      "9  2016-09-08  105.519997  775.320007  130.270004\n"
     ]
    }
   ],
   "source": [
    "# Renaming Columns\n",
    "# df.rename(columns={'Leader': 'Commander'}, inplace=True)\n",
    "\n",
    "df_all = df_all.rename(columns = {'Close_x':'AAPL'})\n",
    "df_all = df_all.rename(columns = {'Close_y':'GOOG'})\n",
    "df_all = df_all.rename(columns = {'Close':'FB'})\n",
    "print(df_all[0:10])"
   ]
  },
  {
   "cell_type": "code",
   "execution_count": 37,
   "metadata": {
    "collapsed": false
   },
   "outputs": [
    {
     "name": "stdout",
     "output_type": "stream",
     "text": [
      "         Date        AAPL        GOOG          FB         Ave\n",
      "0  2016-09-21  113.550003  776.219971  129.940002  339.903325\n",
      "1  2016-09-20  113.570000  771.409973  128.639999  337.873324\n",
      "2  2016-09-19  113.580002  765.700012  128.649994  335.976669\n",
      "3  2016-09-16  114.919998  768.880005  129.070007  337.623337\n",
      "4  2016-09-15  115.570000  771.760010  128.350006  338.560005\n",
      "5  2016-09-14  111.769997  762.489990  127.769997  334.009995\n",
      "6  2016-09-13  107.949997  759.690002  127.209999  331.616666\n",
      "7  2016-09-12  105.440002  769.020020  128.690002  334.383341\n",
      "8  2016-09-09  103.129997  759.659973  127.099998  329.963323\n",
      "9  2016-09-08  105.519997  775.320007  130.270004  337.036669\n"
     ]
    }
   ],
   "source": [
    "# And now for the average\n",
    "df_all['Ave'] = (df_all['AAPL'] + df_all['GOOG'] + df_all['FB'])/3\n",
    "print(df_all[0:10])"
   ]
  },
  {
   "cell_type": "code",
   "execution_count": 38,
   "metadata": {
    "collapsed": false
   },
   "outputs": [
    {
     "data": {
      "text/plain": [
       "<matplotlib.axes._subplots.AxesSubplot at 0x1f34a94fd68>"
      ]
     },
     "execution_count": 38,
     "metadata": {},
     "output_type": "execute_result"
    },
    {
     "data": {
      "image/png": "[encoded data removed]",
      "text/plain": [
       "<matplotlib.figure.Figure at 0x1f34a919b70>"
      ]
     },
     "metadata": {},
     "output_type": "display_data"
    }
   ],
   "source": [
    "%matplotlib inline\n",
    "import matplotlib\n",
    "df_all.plot()"
   ]
  },
  {
   "cell_type": "code",
   "execution_count": null,
   "metadata": {
    "collapsed": true
   },
   "outputs": [],
   "source": []
  }
 ],
 "metadata": {
  "anaconda-cloud": {},
  "kernelspec": {
   "display_name": "Python [conda root]",
   "language": "python",
   "name": "conda-root-py"
  },
  "language_info": {
   "codemirror_mode": {
    "name": "ipython",
    "version": 3
   },
   "file_extension": ".py",
   "mimetype": "text/x-python",
   "name": "python",
   "nbconvert_exporter": "python",
   "pygments_lexer": "ipython3",
   "version": "3.5.2"
  }
 },
 "nbformat": 4,
 "nbformat_minor": 0
}
