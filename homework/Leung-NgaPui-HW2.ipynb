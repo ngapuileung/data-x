{
 "cells": [
  {
   "cell_type": "markdown",
   "metadata": {},
   "source": [
    "## Data-X (IEOR 190D/290): HW 2\n",
    "### Nga Pui Leung\n",
    "#### SID: 25237110"
   ]
  },
  {
   "cell_type": "markdown",
   "metadata": {},
   "source": [
    "## Problem 1\n",
    "\n",
    "1. Create two numpy arrays (a and b). a should be all integers between 10-19 (inclusive), and\n",
    "b should be ten evenly spaced numbers between 1-7. Print all the results below:\n",
    "    1. Square all the elements in both arrays (element-wise)\n",
    "    2. Add both the squared arrays\n",
    "    3. Sum the even elements of the added array.\n",
    "    4. Take the square root of the added array (element-wise square root)\n",
    "2. Append b to a, reshape the appended array so that it is a 5x4, 2d array and store the results in a variable called m. Print m.\n",
    "3. Extract the second and the third column of the m matrix. Store the resulting 5x2 matrix in a new variable called m2. Print m2.\n",
    "4. Take the dot product of m2T and m store the results in a matrix called m3. Print m3.\n",
    "5. Round the m3 matrix to two decimal points. Store the result in place and print the new m3.\n",
    "6. Sort the m3 array so that the highest value is at the top left, the next highest value to the right of the highest, and the lowest value is at the bottom right. Print the sorted m3 array."
   ]
  },
  {
   "cell_type": "code",
   "execution_count": 1,
   "metadata": {
    "collapsed": true
   },
   "outputs": [],
   "source": [
    "import numpy as np"
   ]
  },
  {
   "cell_type": "code",
   "execution_count": 26,
   "metadata": {
    "collapsed": false
   },
   "outputs": [
    {
     "data": {
      "text/plain": [
       "(array([10, 11, 12, 13, 14, 15, 16, 17, 18, 19]),\n",
       " array([ 1.        ,  1.66666667,  2.33333333,  3.        ,  3.66666667,\n",
       "         4.33333333,  5.        ,  5.66666667,  6.33333333,  7.        ]))"
      ]
     },
     "execution_count": 26,
     "metadata": {},
     "output_type": "execute_result"
    }
   ],
   "source": [
    "#Create two numpy arrays (a and b). a should be all integers between 10-19 (inclusive), and b should be ten evenly \n",
    "#spaced numbers between 1-7.\n",
    "a = np.array(range(10, 20))\n",
    "b = np.linspace(1, 7, 10)\n",
    "a, b"
   ]
  },
  {
   "cell_type": "code",
   "execution_count": 27,
   "metadata": {
    "collapsed": false
   },
   "outputs": [
    {
     "data": {
      "text/plain": [
       "(array([100, 121, 144, 169, 196, 225, 256, 289, 324, 361]),\n",
       " array([  1.        ,   2.77777778,   5.44444444,   9.        ,\n",
       "         13.44444444,  18.77777778,  25.        ,  32.11111111,\n",
       "         40.11111111,  49.        ]))"
      ]
     },
     "execution_count": 27,
     "metadata": {},
     "output_type": "execute_result"
    }
   ],
   "source": [
    "#Square all the elements in both arrays (element-wise).\n",
    "squares_a = a**2\n",
    "squares_b = b**2\n",
    "squares_a, squares_b"
   ]
  },
  {
   "cell_type": "code",
   "execution_count": 28,
   "metadata": {
    "collapsed": false
   },
   "outputs": [
    {
     "data": {
      "text/plain": [
       "array([ 101.        ,  123.77777778,  149.44444444,  178.        ,\n",
       "        209.44444444,  243.77777778,  281.        ,  321.11111111,\n",
       "        364.11111111,  410.        ])"
      ]
     },
     "execution_count": 28,
     "metadata": {},
     "output_type": "execute_result"
    }
   ],
   "source": [
    "#Add both the squared arrays\n",
    "sum_of_squares = squares_a + squares_b\n",
    "sum_of_squares"
   ]
  },
  {
   "cell_type": "code",
   "execution_count": 29,
   "metadata": {
    "collapsed": false
   },
   "outputs": [
    {
     "data": {
      "text/plain": [
       "1105.0"
      ]
     },
     "execution_count": 29,
     "metadata": {},
     "output_type": "execute_result"
    }
   ],
   "source": [
    "#Sum the even elements (indexes) of the added array.\n",
    "sum(sum_of_squares[::2])"
   ]
  },
  {
   "cell_type": "code",
   "execution_count": 30,
   "metadata": {
    "collapsed": false
   },
   "outputs": [
    {
     "data": {
      "text/plain": [
       "array([ 10.04987562,  11.12554618,  12.22474721,  13.34166406,\n",
       "        14.47219556,  15.61338457,  16.76305461,  17.91957341,\n",
       "        19.08169571,  20.24845673])"
      ]
     },
     "execution_count": 30,
     "metadata": {},
     "output_type": "execute_result"
    }
   ],
   "source": [
    "#Take the square root of the added array (element-wise square root)\n",
    "sum_of_squares**0.5"
   ]
  },
  {
   "cell_type": "code",
   "execution_count": 33,
   "metadata": {
    "collapsed": false
   },
   "outputs": [
    {
     "data": {
      "text/plain": [
       "array([[ 10.        ,  11.        ,  12.        ,  13.        ],\n",
       "       [ 14.        ,  15.        ,  16.        ,  17.        ],\n",
       "       [ 18.        ,  19.        ,   1.        ,   1.66666667],\n",
       "       [  2.33333333,   3.        ,   3.66666667,   4.33333333],\n",
       "       [  5.        ,   5.66666667,   6.33333333,   7.        ]])"
      ]
     },
     "execution_count": 33,
     "metadata": {},
     "output_type": "execute_result"
    }
   ],
   "source": [
    "#Append b to a, reshape the appended array so that it is a 5x4, 2d array and store the results in a variable called m.\n",
    "appended = np.append(a, b)\n",
    "m = appended.reshape((5, 4))\n",
    "m"
   ]
  },
  {
   "cell_type": "code",
   "execution_count": 39,
   "metadata": {
    "collapsed": false
   },
   "outputs": [
    {
     "data": {
      "text/plain": [
       "array([[ 12.        ,  16.        ,   1.        ,   3.66666667,\n",
       "          6.33333333],\n",
       "       [ 13.        ,  17.        ,   1.66666667,   4.33333333,   7.        ]])"
      ]
     },
     "execution_count": 39,
     "metadata": {},
     "output_type": "execute_result"
    }
   ],
   "source": [
    "#Extract the second and the third column of the m matrix. Store the resulting 5x2 matrix in a new variable called m2.\n",
    "m2 = m[:, 2:4]\n",
    "m2"
   ]
  },
  {
   "cell_type": "code",
   "execution_count": 40,
   "metadata": {
    "collapsed": false
   },
   "outputs": [
    {
     "data": {
      "text/plain": [
       "array([[ 402.22222222,  437.88888889,  454.55555556,  489.88888889],\n",
       "       [ 443.11111111,  482.33333333,  489.88888889,  528.55555556]])"
      ]
     },
     "execution_count": 40,
     "metadata": {},
     "output_type": "execute_result"
    }
   ],
   "source": [
    "#Take the dot product of m2T and m store the results in a matrix called m3.\n",
    "m3 = np.dot(m2.T, m)\n",
    "m3"
   ]
  },
  {
   "cell_type": "code",
   "execution_count": 46,
   "metadata": {
    "collapsed": false
   },
   "outputs": [
    {
     "data": {
      "text/plain": [
       "array([[ 402.22,  437.89,  454.56,  489.89],\n",
       "       [ 443.11,  482.33,  489.89,  528.56]])"
      ]
     },
     "execution_count": 46,
     "metadata": {},
     "output_type": "execute_result"
    }
   ],
   "source": [
    "#Round the m3 matrix to two decimal points. Store the result in place and print the new m3.\n",
    "m3 = np.round(m3, decimals=2)\n",
    "m3"
   ]
  },
  {
   "cell_type": "code",
   "execution_count": 59,
   "metadata": {
    "collapsed": false
   },
   "outputs": [
    {
     "data": {
      "text/plain": [
       "array([[ 402.22,  437.89,  443.11,  454.56],\n",
       "       [ 482.33,  489.89,  489.89,  528.56]])"
      ]
     },
     "execution_count": 59,
     "metadata": {},
     "output_type": "execute_result"
    }
   ],
   "source": [
    "#Sort the m3 array so that the highest value is at the top left, the next highest value to the right of the highest, \n",
    "#and the lowest value is at the bottom right. Print the sorted m3 arrays.\n",
    "sorted_m3 = np.sort(m3, axis=None)\n",
    "m3 = sorted_m3.reshape((2, 4))\n",
    "m3"
   ]
  }
 ],
 "metadata": {
  "anaconda-cloud": {},
  "kernelspec": {
   "display_name": "Python [default]",
   "language": "python",
   "name": "python3"
  },
  "language_info": {
   "codemirror_mode": {
    "name": "ipython",
    "version": 3
   },
   "file_extension": ".py",
   "mimetype": "text/x-python",
   "name": "python",
   "nbconvert_exporter": "python",
   "pygments_lexer": "ipython3",
   "version": "3.5.2"
  }
 },
 "nbformat": 4,
 "nbformat_minor": 1
}
