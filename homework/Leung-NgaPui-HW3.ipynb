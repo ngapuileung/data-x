{
 "cells": [
  {
   "cell_type": "markdown",
   "metadata": {},
   "source": [
    "![data-x](http://oi64.tinypic.com/o858n4.jpg)\n",
    "\n",
    "\n",
    "# Homework 3: Pandas & Visualization\n",
    "\n",
    "**Author: ** Alexander Fred Ojala\n",
    "\n",
    "**Questions: ** Post them on the class Piazza *IEOR 190D & 290 Data-X* (https://piazza.com/class/iy6i5458rva2ud) or email afo@berkeley.edu\n",
    "\n",
    "___"
   ]
  },
  {
   "cell_type": "markdown",
   "metadata": {},
   "source": [
    "## Q1 Read in the data\n",
    "\n",
    "* 1: Read in the data stored in the CSV file at this URL https://www.dropbox.com/s/cz2kpe1oklwif3j/data3.csv?dl=1 to a Pandas DataFrame called `df`. \n",
    "\n",
    "**Note:** Use pandas method `pd.read_csv('URL')` or download the file, place it in the same folder as the notebook and use `pd.read_csv('file_name')`.\n",
    "\n",
    "Please run `df.head()`, it should produce the following output:\n",
    "\n",
    "<img src=\"https://www.dropbox.com/s/m19qu65cb5g2dci/hw3.1.df.head.png?dl=1\" width=\"600\" height=\"200\" />"
   ]
  },
  {
   "cell_type": "markdown",
   "metadata": {},
   "source": [
    "### Data description\n",
    "**Data source:** http://www.fao.org/nr/water/aquastat/data/query/index.html?lang=en\n",
    "\n",
    "**Data, units:** \n",
    "- GDP, current USD (CPI adjusted)\n",
    "- NRI, mm/yr\n",
    "- Population density, inhab/km^2\n",
    "- Total area of the country, 10 ha = 0.1km^2\n",
    "- Total Population, unit 1000 inhabitants"
   ]
  },
  {
   "cell_type": "code",
   "execution_count": 1,
   "metadata": {
    "collapsed": false
   },
   "outputs": [
    {
     "data": {
      "text/html": [
       "<div>\n",
       "<table border=\"1\" class=\"dataframe\">\n",
       "  <thead>\n",
       "    <tr style=\"text-align: right;\">\n",
       "      <th></th>\n",
       "      <th>Area</th>\n",
       "      <th>Area Id</th>\n",
       "      <th>Variable Name</th>\n",
       "      <th>Variable Id</th>\n",
       "      <th>Year</th>\n",
       "      <th>Value</th>\n",
       "      <th>Symbol</th>\n",
       "      <th>Md</th>\n",
       "    </tr>\n",
       "  </thead>\n",
       "  <tbody>\n",
       "    <tr>\n",
       "      <th>0</th>\n",
       "      <td>Argentina</td>\n",
       "      <td>9.0</td>\n",
       "      <td>Total area of the country</td>\n",
       "      <td>4100.0</td>\n",
       "      <td>1962.0</td>\n",
       "      <td>278040.0</td>\n",
       "      <td>E</td>\n",
       "      <td>NaN</td>\n",
       "    </tr>\n",
       "    <tr>\n",
       "      <th>1</th>\n",
       "      <td>Argentina</td>\n",
       "      <td>9.0</td>\n",
       "      <td>Total area of the country</td>\n",
       "      <td>4100.0</td>\n",
       "      <td>1967.0</td>\n",
       "      <td>278040.0</td>\n",
       "      <td>E</td>\n",
       "      <td>NaN</td>\n",
       "    </tr>\n",
       "    <tr>\n",
       "      <th>2</th>\n",
       "      <td>Argentina</td>\n",
       "      <td>9.0</td>\n",
       "      <td>Total area of the country</td>\n",
       "      <td>4100.0</td>\n",
       "      <td>1972.0</td>\n",
       "      <td>278040.0</td>\n",
       "      <td>E</td>\n",
       "      <td>NaN</td>\n",
       "    </tr>\n",
       "    <tr>\n",
       "      <th>3</th>\n",
       "      <td>Argentina</td>\n",
       "      <td>9.0</td>\n",
       "      <td>Total area of the country</td>\n",
       "      <td>4100.0</td>\n",
       "      <td>1977.0</td>\n",
       "      <td>278040.0</td>\n",
       "      <td>E</td>\n",
       "      <td>NaN</td>\n",
       "    </tr>\n",
       "    <tr>\n",
       "      <th>4</th>\n",
       "      <td>Argentina</td>\n",
       "      <td>9.0</td>\n",
       "      <td>Total area of the country</td>\n",
       "      <td>4100.0</td>\n",
       "      <td>1982.0</td>\n",
       "      <td>278040.0</td>\n",
       "      <td>E</td>\n",
       "      <td>NaN</td>\n",
       "    </tr>\n",
       "  </tbody>\n",
       "</table>\n",
       "</div>"
      ],
      "text/plain": [
       "        Area  Area Id              Variable Name  Variable Id    Year  \\\n",
       "0  Argentina      9.0  Total area of the country       4100.0  1962.0   \n",
       "1  Argentina      9.0  Total area of the country       4100.0  1967.0   \n",
       "2  Argentina      9.0  Total area of the country       4100.0  1972.0   \n",
       "3  Argentina      9.0  Total area of the country       4100.0  1977.0   \n",
       "4  Argentina      9.0  Total area of the country       4100.0  1982.0   \n",
       "\n",
       "      Value Symbol  Md  \n",
       "0  278040.0      E NaN  \n",
       "1  278040.0      E NaN  \n",
       "2  278040.0      E NaN  \n",
       "3  278040.0      E NaN  \n",
       "4  278040.0      E NaN  "
      ]
     },
     "execution_count": 1,
     "metadata": {},
     "output_type": "execute_result"
    }
   ],
   "source": [
    "# Load required modules\n",
    "import pandas as pd\n",
    "import numpy as np\n",
    "import matplotlib.pyplot as plt\n",
    "\n",
    "df = pd.read_csv('https://www.dropbox.com/s/cz2kpe1oklwif3j/data3.csv?dl=1')\n",
    "df.head()"
   ]
  },
  {
   "cell_type": "markdown",
   "metadata": {},
   "source": [
    "## Q2 Data preprocessing / Clean up the data\n",
    "\n",
    "* 1: **Drop rows**: First get rid of all the unnecessary bottom rows in `df` that do not have any country information the Area column. (Hint: Inspect the CSV file in order to find out which rows to get rid of)\n",
    "\n",
    "* 2: **Drop columns**: drop the columns **Area Id, Variable Id, Symbol**, and **Md**.\n",
    "\n",
    "* 3: **Convert the 'Year' column string values** to pandas datetime objects, where only the year is specified. To do this, simply run the code below (please review it carefully and make sure you understand what happens):\n",
    "    \n",
    "    `df['Year'] = pd.to_datetime(pd.Series(df['Year']).astype(int),format='%Y').dt.year`\n",
    "\n",
    "\n",
    "\n",
    "Run `df.tail()`, it should produce the following output:\n",
    "\n",
    "\n",
    "<img src=\"https://www.dropbox.com/s/706luf5z492psnv/hw3.1.df_tail.png?dl=1&1\" width=\"600\" height=\"200\" />"
   ]
  },
  {
   "cell_type": "code",
   "execution_count": 2,
   "metadata": {
    "collapsed": false
   },
   "outputs": [
    {
     "data": {
      "text/html": [
       "<div>\n",
       "<table border=\"1\" class=\"dataframe\">\n",
       "  <thead>\n",
       "    <tr style=\"text-align: right;\">\n",
       "      <th></th>\n",
       "      <th>Area</th>\n",
       "      <th>Area Id</th>\n",
       "      <th>Variable Name</th>\n",
       "      <th>Variable Id</th>\n",
       "      <th>Year</th>\n",
       "      <th>Value</th>\n",
       "      <th>Symbol</th>\n",
       "      <th>Md</th>\n",
       "    </tr>\n",
       "  </thead>\n",
       "  <tbody>\n",
       "    <tr>\n",
       "      <th>385</th>\n",
       "      <td>United States of America</td>\n",
       "      <td>231.0</td>\n",
       "      <td>National Rainfall Index (NRI)</td>\n",
       "      <td>4472.0</td>\n",
       "      <td>1981.0</td>\n",
       "      <td>949.2</td>\n",
       "      <td>E</td>\n",
       "      <td>NaN</td>\n",
       "    </tr>\n",
       "    <tr>\n",
       "      <th>386</th>\n",
       "      <td>United States of America</td>\n",
       "      <td>231.0</td>\n",
       "      <td>National Rainfall Index (NRI)</td>\n",
       "      <td>4472.0</td>\n",
       "      <td>1984.0</td>\n",
       "      <td>974.6</td>\n",
       "      <td>E</td>\n",
       "      <td>NaN</td>\n",
       "    </tr>\n",
       "    <tr>\n",
       "      <th>387</th>\n",
       "      <td>United States of America</td>\n",
       "      <td>231.0</td>\n",
       "      <td>National Rainfall Index (NRI)</td>\n",
       "      <td>4472.0</td>\n",
       "      <td>1992.0</td>\n",
       "      <td>1020.0</td>\n",
       "      <td>E</td>\n",
       "      <td>NaN</td>\n",
       "    </tr>\n",
       "    <tr>\n",
       "      <th>388</th>\n",
       "      <td>United States of America</td>\n",
       "      <td>231.0</td>\n",
       "      <td>National Rainfall Index (NRI)</td>\n",
       "      <td>4472.0</td>\n",
       "      <td>1996.0</td>\n",
       "      <td>1005.0</td>\n",
       "      <td>E</td>\n",
       "      <td>NaN</td>\n",
       "    </tr>\n",
       "    <tr>\n",
       "      <th>389</th>\n",
       "      <td>United States of America</td>\n",
       "      <td>231.0</td>\n",
       "      <td>National Rainfall Index (NRI)</td>\n",
       "      <td>4472.0</td>\n",
       "      <td>2002.0</td>\n",
       "      <td>938.7</td>\n",
       "      <td>E</td>\n",
       "      <td>NaN</td>\n",
       "    </tr>\n",
       "  </tbody>\n",
       "</table>\n",
       "</div>"
      ],
      "text/plain": [
       "                         Area  Area Id                  Variable Name  \\\n",
       "385  United States of America    231.0  National Rainfall Index (NRI)   \n",
       "386  United States of America    231.0  National Rainfall Index (NRI)   \n",
       "387  United States of America    231.0  National Rainfall Index (NRI)   \n",
       "388  United States of America    231.0  National Rainfall Index (NRI)   \n",
       "389  United States of America    231.0  National Rainfall Index (NRI)   \n",
       "\n",
       "     Variable Id    Year   Value Symbol  Md  \n",
       "385       4472.0  1981.0   949.2      E NaN  \n",
       "386       4472.0  1984.0   974.6      E NaN  \n",
       "387       4472.0  1992.0  1020.0      E NaN  \n",
       "388       4472.0  1996.0  1005.0      E NaN  \n",
       "389       4472.0  2002.0   938.7      E NaN  "
      ]
     },
     "execution_count": 2,
     "metadata": {},
     "output_type": "execute_result"
    }
   ],
   "source": [
    "df = df.drop(df.index[390:])\n",
    "df.tail()"
   ]
  },
  {
   "cell_type": "code",
   "execution_count": 3,
   "metadata": {
    "collapsed": false
   },
   "outputs": [
    {
     "data": {
      "text/html": [
       "<div>\n",
       "<table border=\"1\" class=\"dataframe\">\n",
       "  <thead>\n",
       "    <tr style=\"text-align: right;\">\n",
       "      <th></th>\n",
       "      <th>Area</th>\n",
       "      <th>Variable Name</th>\n",
       "      <th>Year</th>\n",
       "      <th>Value</th>\n",
       "    </tr>\n",
       "  </thead>\n",
       "  <tbody>\n",
       "    <tr>\n",
       "      <th>0</th>\n",
       "      <td>Argentina</td>\n",
       "      <td>Total area of the country</td>\n",
       "      <td>1962.0</td>\n",
       "      <td>278040.0</td>\n",
       "    </tr>\n",
       "    <tr>\n",
       "      <th>1</th>\n",
       "      <td>Argentina</td>\n",
       "      <td>Total area of the country</td>\n",
       "      <td>1967.0</td>\n",
       "      <td>278040.0</td>\n",
       "    </tr>\n",
       "    <tr>\n",
       "      <th>2</th>\n",
       "      <td>Argentina</td>\n",
       "      <td>Total area of the country</td>\n",
       "      <td>1972.0</td>\n",
       "      <td>278040.0</td>\n",
       "    </tr>\n",
       "    <tr>\n",
       "      <th>3</th>\n",
       "      <td>Argentina</td>\n",
       "      <td>Total area of the country</td>\n",
       "      <td>1977.0</td>\n",
       "      <td>278040.0</td>\n",
       "    </tr>\n",
       "    <tr>\n",
       "      <th>4</th>\n",
       "      <td>Argentina</td>\n",
       "      <td>Total area of the country</td>\n",
       "      <td>1982.0</td>\n",
       "      <td>278040.0</td>\n",
       "    </tr>\n",
       "  </tbody>\n",
       "</table>\n",
       "</div>"
      ],
      "text/plain": [
       "        Area              Variable Name    Year     Value\n",
       "0  Argentina  Total area of the country  1962.0  278040.0\n",
       "1  Argentina  Total area of the country  1967.0  278040.0\n",
       "2  Argentina  Total area of the country  1972.0  278040.0\n",
       "3  Argentina  Total area of the country  1977.0  278040.0\n",
       "4  Argentina  Total area of the country  1982.0  278040.0"
      ]
     },
     "execution_count": 3,
     "metadata": {},
     "output_type": "execute_result"
    }
   ],
   "source": [
    "df = df.drop(df.columns[[1, 3, 6, 7]], axis = 1)\n",
    "df.head()"
   ]
  },
  {
   "cell_type": "code",
   "execution_count": 4,
   "metadata": {
    "collapsed": false
   },
   "outputs": [
    {
     "data": {
      "text/html": [
       "<div>\n",
       "<table border=\"1\" class=\"dataframe\">\n",
       "  <thead>\n",
       "    <tr style=\"text-align: right;\">\n",
       "      <th></th>\n",
       "      <th>Area</th>\n",
       "      <th>Variable Name</th>\n",
       "      <th>Year</th>\n",
       "      <th>Value</th>\n",
       "    </tr>\n",
       "  </thead>\n",
       "  <tbody>\n",
       "    <tr>\n",
       "      <th>0</th>\n",
       "      <td>Argentina</td>\n",
       "      <td>Total area of the country</td>\n",
       "      <td>1962</td>\n",
       "      <td>278040.0</td>\n",
       "    </tr>\n",
       "    <tr>\n",
       "      <th>1</th>\n",
       "      <td>Argentina</td>\n",
       "      <td>Total area of the country</td>\n",
       "      <td>1967</td>\n",
       "      <td>278040.0</td>\n",
       "    </tr>\n",
       "    <tr>\n",
       "      <th>2</th>\n",
       "      <td>Argentina</td>\n",
       "      <td>Total area of the country</td>\n",
       "      <td>1972</td>\n",
       "      <td>278040.0</td>\n",
       "    </tr>\n",
       "    <tr>\n",
       "      <th>3</th>\n",
       "      <td>Argentina</td>\n",
       "      <td>Total area of the country</td>\n",
       "      <td>1977</td>\n",
       "      <td>278040.0</td>\n",
       "    </tr>\n",
       "    <tr>\n",
       "      <th>4</th>\n",
       "      <td>Argentina</td>\n",
       "      <td>Total area of the country</td>\n",
       "      <td>1982</td>\n",
       "      <td>278040.0</td>\n",
       "    </tr>\n",
       "  </tbody>\n",
       "</table>\n",
       "</div>"
      ],
      "text/plain": [
       "        Area              Variable Name  Year     Value\n",
       "0  Argentina  Total area of the country  1962  278040.0\n",
       "1  Argentina  Total area of the country  1967  278040.0\n",
       "2  Argentina  Total area of the country  1972  278040.0\n",
       "3  Argentina  Total area of the country  1977  278040.0\n",
       "4  Argentina  Total area of the country  1982  278040.0"
      ]
     },
     "execution_count": 4,
     "metadata": {},
     "output_type": "execute_result"
    }
   ],
   "source": [
    "df['Year'] = pd.to_datetime(pd.Series(df['Year']).astype(int),format='%Y').dt.year\n",
    "df.head()"
   ]
  },
  {
   "cell_type": "markdown",
   "metadata": {},
   "source": [
    "## Q3 Extract specific statistics\n",
    "* 1: Print the years when the National Rainfall Index (NRI) was greater than 950 or less than 900 in Iceland, by using this code:\n",
    "\n",
    "\n",
    "`df[(df['Area']=='Iceland') & (df['Variable Name']=='National Rainfall Index (NRI)') & ( (df['Value']>950) | (df['Value']<900) )]['Year']`\n",
    "    \n",
    "    \n",
    "* 2: Print the countries where 'Total area of the country' has a Value > 40000 (hint: when you have extracted the results you can use the `.unique()` method to only print the unique countries).\n",
    "\n",
    "* 3: Print the rows where 'Population density' has a Value > 65"
   ]
  },
  {
   "cell_type": "code",
   "execution_count": 5,
   "metadata": {
    "collapsed": false
   },
   "outputs": [
    {
     "data": {
      "text/plain": [
       "214    1967\n",
       "215    1971\n",
       "216    1975\n",
       "218    1986\n",
       "219    1991\n",
       "220    1997\n",
       "Name: Year, dtype: int64"
      ]
     },
     "execution_count": 5,
     "metadata": {},
     "output_type": "execute_result"
    }
   ],
   "source": [
    "df[(df['Area']=='Iceland') & (df['Variable Name']=='National Rainfall Index (NRI)') & ( (df['Value']>950) | \n",
    "                                                                                       (df['Value']<900) )]['Year']"
   ]
  },
  {
   "cell_type": "code",
   "execution_count": 6,
   "metadata": {
    "collapsed": false
   },
   "outputs": [
    {
     "data": {
      "text/plain": [
       "array(['Argentina', 'Australia', 'Sweden', 'United States of America'], dtype=object)"
      ]
     },
     "execution_count": 6,
     "metadata": {},
     "output_type": "execute_result"
    }
   ],
   "source": [
    "df[(df['Variable Name'] == 'Total area of the country') & (df['Value'] > 40000)]['Area'].unique()"
   ]
  },
  {
   "cell_type": "code",
   "execution_count": 7,
   "metadata": {
    "collapsed": false
   },
   "outputs": [
    {
     "data": {
      "text/html": [
       "<div>\n",
       "<table border=\"1\" class=\"dataframe\">\n",
       "  <thead>\n",
       "    <tr style=\"text-align: right;\">\n",
       "      <th></th>\n",
       "      <th>Area</th>\n",
       "      <th>Variable Name</th>\n",
       "      <th>Year</th>\n",
       "      <th>Value</th>\n",
       "    </tr>\n",
       "  </thead>\n",
       "  <tbody>\n",
       "    <tr>\n",
       "      <th>136</th>\n",
       "      <td>Germany</td>\n",
       "      <td>Population density</td>\n",
       "      <td>1962</td>\n",
       "      <td>208.00</td>\n",
       "    </tr>\n",
       "    <tr>\n",
       "      <th>137</th>\n",
       "      <td>Germany</td>\n",
       "      <td>Population density</td>\n",
       "      <td>1967</td>\n",
       "      <td>216.00</td>\n",
       "    </tr>\n",
       "    <tr>\n",
       "      <th>138</th>\n",
       "      <td>Germany</td>\n",
       "      <td>Population density</td>\n",
       "      <td>1972</td>\n",
       "      <td>220.50</td>\n",
       "    </tr>\n",
       "    <tr>\n",
       "      <th>139</th>\n",
       "      <td>Germany</td>\n",
       "      <td>Population density</td>\n",
       "      <td>1977</td>\n",
       "      <td>220.00</td>\n",
       "    </tr>\n",
       "    <tr>\n",
       "      <th>140</th>\n",
       "      <td>Germany</td>\n",
       "      <td>Population density</td>\n",
       "      <td>1982</td>\n",
       "      <td>218.00</td>\n",
       "    </tr>\n",
       "    <tr>\n",
       "      <th>141</th>\n",
       "      <td>Germany</td>\n",
       "      <td>Population density</td>\n",
       "      <td>1987</td>\n",
       "      <td>218.10</td>\n",
       "    </tr>\n",
       "    <tr>\n",
       "      <th>142</th>\n",
       "      <td>Germany</td>\n",
       "      <td>Population density</td>\n",
       "      <td>1992</td>\n",
       "      <td>224.30</td>\n",
       "    </tr>\n",
       "    <tr>\n",
       "      <th>143</th>\n",
       "      <td>Germany</td>\n",
       "      <td>Population density</td>\n",
       "      <td>1997</td>\n",
       "      <td>229.70</td>\n",
       "    </tr>\n",
       "    <tr>\n",
       "      <th>144</th>\n",
       "      <td>Germany</td>\n",
       "      <td>Population density</td>\n",
       "      <td>2002</td>\n",
       "      <td>228.80</td>\n",
       "    </tr>\n",
       "    <tr>\n",
       "      <th>145</th>\n",
       "      <td>Germany</td>\n",
       "      <td>Population density</td>\n",
       "      <td>2007</td>\n",
       "      <td>226.40</td>\n",
       "    </tr>\n",
       "    <tr>\n",
       "      <th>146</th>\n",
       "      <td>Germany</td>\n",
       "      <td>Population density</td>\n",
       "      <td>2012</td>\n",
       "      <td>225.30</td>\n",
       "    </tr>\n",
       "    <tr>\n",
       "      <th>147</th>\n",
       "      <td>Germany</td>\n",
       "      <td>Population density</td>\n",
       "      <td>2015</td>\n",
       "      <td>225.80</td>\n",
       "    </tr>\n",
       "    <tr>\n",
       "      <th>256</th>\n",
       "      <td>Ireland</td>\n",
       "      <td>Population density</td>\n",
       "      <td>2012</td>\n",
       "      <td>66.42</td>\n",
       "    </tr>\n",
       "    <tr>\n",
       "      <th>257</th>\n",
       "      <td>Ireland</td>\n",
       "      <td>Population density</td>\n",
       "      <td>2015</td>\n",
       "      <td>66.70</td>\n",
       "    </tr>\n",
       "  </tbody>\n",
       "</table>\n",
       "</div>"
      ],
      "text/plain": [
       "        Area       Variable Name  Year   Value\n",
       "136  Germany  Population density  1962  208.00\n",
       "137  Germany  Population density  1967  216.00\n",
       "138  Germany  Population density  1972  220.50\n",
       "139  Germany  Population density  1977  220.00\n",
       "140  Germany  Population density  1982  218.00\n",
       "141  Germany  Population density  1987  218.10\n",
       "142  Germany  Population density  1992  224.30\n",
       "143  Germany  Population density  1997  229.70\n",
       "144  Germany  Population density  2002  228.80\n",
       "145  Germany  Population density  2007  226.40\n",
       "146  Germany  Population density  2012  225.30\n",
       "147  Germany  Population density  2015  225.80\n",
       "256  Ireland  Population density  2012   66.42\n",
       "257  Ireland  Population density  2015   66.70"
      ]
     },
     "execution_count": 7,
     "metadata": {},
     "output_type": "execute_result"
    }
   ],
   "source": [
    "df[(df['Variable Name'] == 'Population density') & (df['Value'] > 65)]"
   ]
  },
  {
   "cell_type": "markdown",
   "metadata": {},
   "source": [
    "# Q4 US Data Exploration\n",
    "* 1: Create a new DataFrame called **`df_us`** that only contains values where 'Area' is equal to 'United States of America'. Set the indices to be the 'Year' column and pivot the DataFrame so that the unique 'Variable Name' entries becomes the column entries. The DataFrame values should be the ones in the the 'Value' column. Do this by running the three lines of code below:\n",
    "\n",
    "        1. df_us = df[df['Area']=='United States of America']\n",
    "        2. df_us.set_index('Year',inplace=True)\n",
    "        3. df_us=df_us.pivot(columns='Variable Name',values='Value')\n",
    "        \n",
    "        \n",
    "* 2: Rename the columns to `['GDP','NRI','PD','Area','Population']`.\n",
    "\n",
    "\n",
    "* 3: Multiply the Area for all countries by 10 (so instead of 10 ha, the unit becomes 100 ha = 1km^2)\n",
    "\n",
    "\n",
    "* 4: Create a new column in df_us called 'GDP/capita' and populate it with the calculated GDP per capita. Round the results to two decimal points.\n",
    "\n",
    "\n",
    "* 5: Create a new column called 'PD2' (i.e. Population density 2). Calculate the Population density. **Note: the units should be inhab/km^2** (see Data description above). Round the reults to two decimal point.\n",
    "\n",
    "\n",
    "**Running `df_head()`** should produce:\n",
    "\n",
    "<img src=\"https://www.dropbox.com/s/0bwrca41cmc5w09/hw3.1.df_head_2.png?dl=1&2\" width=\"600\" height=\"200\" />"
   ]
  },
  {
   "cell_type": "code",
   "execution_count": 73,
   "metadata": {
    "collapsed": true
   },
   "outputs": [],
   "source": [
    "df_us = df[df['Area'] == 'United States of America']\n",
    "df_us.set_index('Year', inplace = True)\n",
    "df_us = df_us.pivot(columns = 'Variable Name', values = 'Value')"
   ]
  },
  {
   "cell_type": "code",
   "execution_count": 74,
   "metadata": {
    "collapsed": false
   },
   "outputs": [],
   "source": [
    "df_us.columns = ['GDP', 'NRI', 'PD', 'Area', 'Population']"
   ]
  },
  {
   "cell_type": "code",
   "execution_count": 75,
   "metadata": {
    "collapsed": false
   },
   "outputs": [],
   "source": [
    "df_us['Area'] = df_us['Area'] * 10"
   ]
  },
  {
   "cell_type": "code",
   "execution_count": 76,
   "metadata": {
    "collapsed": false
   },
   "outputs": [],
   "source": [
    "df_us['GDP/capita'] = df_us['GDP']/df_us['Population']\n",
    "df_us['GDP/capita'] = (df_us['GDP/capita']/1000).round(decimals = 2)"
   ]
  },
  {
   "cell_type": "code",
   "execution_count": 87,
   "metadata": {
    "collapsed": false
   },
   "outputs": [
    {
     "data": {
      "text/html": [
       "<div>\n",
       "<table border=\"1\" class=\"dataframe\">\n",
       "  <thead>\n",
       "    <tr style=\"text-align: right;\">\n",
       "      <th></th>\n",
       "      <th>GDP</th>\n",
       "      <th>NRI</th>\n",
       "      <th>PD</th>\n",
       "      <th>Area</th>\n",
       "      <th>Population</th>\n",
       "      <th>GDP/capita</th>\n",
       "      <th>PD2</th>\n",
       "    </tr>\n",
       "    <tr>\n",
       "      <th>Year</th>\n",
       "      <th></th>\n",
       "      <th></th>\n",
       "      <th></th>\n",
       "      <th></th>\n",
       "      <th></th>\n",
       "      <th></th>\n",
       "      <th></th>\n",
       "    </tr>\n",
       "  </thead>\n",
       "  <tbody>\n",
       "    <tr>\n",
       "      <th>1962</th>\n",
       "      <td>6.050000e+11</td>\n",
       "      <td>NaN</td>\n",
       "      <td>19.930</td>\n",
       "      <td>9629090.0</td>\n",
       "      <td>191861.0</td>\n",
       "      <td>3153.320</td>\n",
       "      <td>19.93</td>\n",
       "    </tr>\n",
       "    <tr>\n",
       "      <th>1965</th>\n",
       "      <td>7.335000e+11</td>\n",
       "      <td>928.50</td>\n",
       "      <td>20.545</td>\n",
       "      <td>9629090.0</td>\n",
       "      <td>197787.0</td>\n",
       "      <td>3692.380</td>\n",
       "      <td>20.54</td>\n",
       "    </tr>\n",
       "    <tr>\n",
       "      <th>1967</th>\n",
       "      <td>8.620000e+11</td>\n",
       "      <td>940.35</td>\n",
       "      <td>21.160</td>\n",
       "      <td>9629090.0</td>\n",
       "      <td>203713.0</td>\n",
       "      <td>4231.440</td>\n",
       "      <td>21.16</td>\n",
       "    </tr>\n",
       "    <tr>\n",
       "      <th>1969</th>\n",
       "      <td>1.071000e+12</td>\n",
       "      <td>952.20</td>\n",
       "      <td>21.650</td>\n",
       "      <td>9629090.0</td>\n",
       "      <td>208466.5</td>\n",
       "      <td>5117.315</td>\n",
       "      <td>21.65</td>\n",
       "    </tr>\n",
       "    <tr>\n",
       "      <th>1972</th>\n",
       "      <td>1.280000e+12</td>\n",
       "      <td>980.10</td>\n",
       "      <td>22.140</td>\n",
       "      <td>9629090.0</td>\n",
       "      <td>213220.0</td>\n",
       "      <td>6003.190</td>\n",
       "      <td>22.14</td>\n",
       "    </tr>\n",
       "  </tbody>\n",
       "</table>\n",
       "</div>"
      ],
      "text/plain": [
       "               GDP     NRI      PD       Area  Population  GDP/capita    PD2\n",
       "Year                                                                        \n",
       "1962  6.050000e+11     NaN  19.930  9629090.0    191861.0    3153.320  19.93\n",
       "1965  7.335000e+11  928.50  20.545  9629090.0    197787.0    3692.380  20.54\n",
       "1967  8.620000e+11  940.35  21.160  9629090.0    203713.0    4231.440  21.16\n",
       "1969  1.071000e+12  952.20  21.650  9629090.0    208466.5    5117.315  21.65\n",
       "1972  1.280000e+12  980.10  22.140  9629090.0    213220.0    6003.190  22.14"
      ]
     },
     "execution_count": 87,
     "metadata": {},
     "output_type": "execute_result"
    }
   ],
   "source": [
    "df_us['PD2'] = (df_us['Population']*1000/df_us['Area']).round(decimals = 2)\n",
    "df_us.head()"
   ]
  },
  {
   "cell_type": "markdown",
   "metadata": {},
   "source": [
    "# Q5 US statistics:\n",
    "#### Column Mean/Average, Compare Population Density, Find min/max NRI & Handle NaN entries\n",
    "\n",
    "* 1: Calculate and print all the column averages and the column standard deviations.\n",
    "\n",
    "\n",
    "* 2: Compare the columns 'PD' and 'PD2'. Is there any year when the two columns are not equal (exclude the years with NaN entries and the year 2015 for the 'PD' column)?\n",
    "\n",
    "\n",
    "* 3: Drop column 'PD2' from the DataFrame df_us.\n",
    "\n",
    "\n",
    "* 4: Find the maximum value and minimum value of the 'NRI' column in the US (using pandas methods). What years do the min and max values occur?\n",
    "\n",
    "\n",
    "* 5: Fill some of the NaN entries in df_us by calculating the average of the values stored the year before and the year after the NaN value (i.e., one row above and one row below, Note: this only works if there are values both above and below the NaN entry). Do this for each NaN entry in all the columns. Hint, one way to do this: Try using `.shift(2)`, adding two dfs, dividing the resulting df by two, shifting the average values to the NaN rows with `.shift(-1)` and then filling the NaN with the results using `.fillna(**args**)`\n",
    "\n",
    "\n",
    "* 6: Fill the rest of the NaN values in the 'NRI' column with the mean of the other values in the column, round the results to two decimal points (hint: use DataFrame method `.fillna(**args**)`). \n",
    "\n",
    "**Printing `df_us.tail(10)`** should give you:\n",
    "\n",
    "\n",
    "<img src=\"https://www.dropbox.com/s/hv6htxtbavqf4d2/hw3.1.df_tail_3.png?dl=1&2\" width=\"600\" height=\"200\" />"
   ]
  },
  {
   "cell_type": "code",
   "execution_count": 78,
   "metadata": {
    "collapsed": false
   },
   "outputs": [
    {
     "data": {
      "text/plain": [
       "GDP           7.316417e+12\n",
       "NRI           9.720250e+02\n",
       "PD            2.644417e+01\n",
       "Area          9.663317e+06\n",
       "Population    2.557296e+05\n",
       "GDP/capita    2.558969e+04\n",
       "PD2           2.587273e+01\n",
       "dtype: float64"
      ]
     },
     "execution_count": 78,
     "metadata": {},
     "output_type": "execute_result"
    }
   ],
   "source": [
    "df_us.mean()"
   ]
  },
  {
   "cell_type": "code",
   "execution_count": 79,
   "metadata": {
    "collapsed": false
   },
   "outputs": [
    {
     "data": {
      "text/plain": [
       "GDP           6.256868e+12\n",
       "NRI           3.506886e+01\n",
       "PD            4.425996e+00\n",
       "Area          7.857100e+04\n",
       "Population    4.428103e+04\n",
       "GDP/capita    1.915782e+04\n",
       "PD2           4.151870e+00\n",
       "dtype: float64"
      ]
     },
     "execution_count": 79,
     "metadata": {},
     "output_type": "execute_result"
    }
   ],
   "source": [
    "df_us.std()"
   ]
  },
  {
   "cell_type": "code",
   "execution_count": 80,
   "metadata": {
    "collapsed": false
   },
   "outputs": [
    {
     "data": {
      "text/html": [
       "<div>\n",
       "<table border=\"1\" class=\"dataframe\">\n",
       "  <thead>\n",
       "    <tr style=\"text-align: right;\">\n",
       "      <th></th>\n",
       "      <th>GDP</th>\n",
       "      <th>NRI</th>\n",
       "      <th>PD</th>\n",
       "      <th>Area</th>\n",
       "      <th>Population</th>\n",
       "      <th>GDP/capita</th>\n",
       "      <th>PD2</th>\n",
       "    </tr>\n",
       "    <tr>\n",
       "      <th>Year</th>\n",
       "      <th></th>\n",
       "      <th></th>\n",
       "      <th></th>\n",
       "      <th></th>\n",
       "      <th></th>\n",
       "      <th></th>\n",
       "      <th></th>\n",
       "    </tr>\n",
       "  </thead>\n",
       "  <tbody>\n",
       "    <tr>\n",
       "      <th>1992</th>\n",
       "      <td>6.540000e+12</td>\n",
       "      <td>1020.0</td>\n",
       "      <td>26.78</td>\n",
       "      <td>9629090.0</td>\n",
       "      <td>257908.0</td>\n",
       "      <td>25357.88</td>\n",
       "      <td>26.78</td>\n",
       "    </tr>\n",
       "    <tr>\n",
       "      <th>2002</th>\n",
       "      <td>1.100000e+13</td>\n",
       "      <td>938.7</td>\n",
       "      <td>29.95</td>\n",
       "      <td>9632030.0</td>\n",
       "      <td>288471.0</td>\n",
       "      <td>38132.08</td>\n",
       "      <td>29.95</td>\n",
       "    </tr>\n",
       "  </tbody>\n",
       "</table>\n",
       "</div>"
      ],
      "text/plain": [
       "               GDP     NRI     PD       Area  Population  GDP/capita    PD2\n",
       "Year                                                                       \n",
       "1992  6.540000e+12  1020.0  26.78  9629090.0    257908.0    25357.88  26.78\n",
       "2002  1.100000e+13   938.7  29.95  9632030.0    288471.0    38132.08  29.95"
      ]
     },
     "execution_count": 80,
     "metadata": {},
     "output_type": "execute_result"
    }
   ],
   "source": [
    "df_us.dropna()"
   ]
  },
  {
   "cell_type": "raw",
   "metadata": {},
   "source": [
    "After I droped the rows that contains \"NaN\" entries, we obtain the table the above. However, the remainaing years share the same entries for \"PD\" and \"PD2\"."
   ]
  },
  {
   "cell_type": "code",
   "execution_count": 81,
   "metadata": {
    "collapsed": false
   },
   "outputs": [],
   "source": [
    "df_us = df_us.drop('PD2', axis = 1)"
   ]
  },
  {
   "cell_type": "code",
   "execution_count": 82,
   "metadata": {
    "collapsed": false
   },
   "outputs": [
    {
     "data": {
      "text/plain": [
       "GDP           6.540000e+12\n",
       "NRI           1.020000e+03\n",
       "PD            2.678000e+01\n",
       "Area          9.629090e+06\n",
       "Population    2.579080e+05\n",
       "GDP/capita    2.535788e+04\n",
       "Name: 1992, dtype: float64"
      ]
     },
     "execution_count": 82,
     "metadata": {},
     "output_type": "execute_result"
    }
   ],
   "source": [
    "df_us.loc[df_us['NRI'].idxmax()]"
   ]
  },
  {
   "cell_type": "code",
   "execution_count": 83,
   "metadata": {
    "collapsed": false
   },
   "outputs": [
    {
     "data": {
      "text/plain": [
       "GDP             NaN\n",
       "NRI           928.5\n",
       "PD              NaN\n",
       "Area            NaN\n",
       "Population      NaN\n",
       "GDP/capita      NaN\n",
       "Name: 1965, dtype: float64"
      ]
     },
     "execution_count": 83,
     "metadata": {},
     "output_type": "execute_result"
    }
   ],
   "source": [
    "df_us.loc[df_us['NRI'].idxmin()]"
   ]
  },
  {
   "cell_type": "raw",
   "metadata": {},
   "source": [
    "Year of NRI max: 1992\n",
    "Year of NRI min: 1965"
   ]
  },
  {
   "cell_type": "code",
   "execution_count": 84,
   "metadata": {
    "collapsed": false
   },
   "outputs": [
    {
     "data": {
      "text/html": [
       "<div>\n",
       "<table border=\"1\" class=\"dataframe\">\n",
       "  <thead>\n",
       "    <tr style=\"text-align: right;\">\n",
       "      <th></th>\n",
       "      <th>GDP</th>\n",
       "      <th>NRI</th>\n",
       "      <th>PD</th>\n",
       "      <th>Area</th>\n",
       "      <th>Population</th>\n",
       "      <th>GDP/capita</th>\n",
       "    </tr>\n",
       "    <tr>\n",
       "      <th>Year</th>\n",
       "      <th></th>\n",
       "      <th></th>\n",
       "      <th></th>\n",
       "      <th></th>\n",
       "      <th></th>\n",
       "      <th></th>\n",
       "    </tr>\n",
       "  </thead>\n",
       "  <tbody>\n",
       "    <tr>\n",
       "      <th>2002</th>\n",
       "      <td>1.100000e+13</td>\n",
       "      <td>938.7</td>\n",
       "      <td>29.950</td>\n",
       "      <td>9632030.0</td>\n",
       "      <td>288471.0</td>\n",
       "      <td>38132.08</td>\n",
       "    </tr>\n",
       "    <tr>\n",
       "      <th>2007</th>\n",
       "      <td>1.450000e+13</td>\n",
       "      <td>938.7</td>\n",
       "      <td>31.320</td>\n",
       "      <td>9632030.0</td>\n",
       "      <td>301656.0</td>\n",
       "      <td>48068.00</td>\n",
       "    </tr>\n",
       "    <tr>\n",
       "      <th>2012</th>\n",
       "      <td>1.620000e+13</td>\n",
       "      <td>938.7</td>\n",
       "      <td>32.020</td>\n",
       "      <td>9831510.0</td>\n",
       "      <td>314799.0</td>\n",
       "      <td>51461.41</td>\n",
       "    </tr>\n",
       "    <tr>\n",
       "      <th>2014</th>\n",
       "      <td>1.705000e+13</td>\n",
       "      <td>938.7</td>\n",
       "      <td>32.375</td>\n",
       "      <td>9831510.0</td>\n",
       "      <td>318286.5</td>\n",
       "      <td>53545.26</td>\n",
       "    </tr>\n",
       "    <tr>\n",
       "      <th>2015</th>\n",
       "      <td>1.790000e+13</td>\n",
       "      <td>938.7</td>\n",
       "      <td>32.730</td>\n",
       "      <td>9831510.0</td>\n",
       "      <td>321774.0</td>\n",
       "      <td>55629.11</td>\n",
       "    </tr>\n",
       "  </tbody>\n",
       "</table>\n",
       "</div>"
      ],
      "text/plain": [
       "               GDP    NRI      PD       Area  Population  GDP/capita\n",
       "Year                                                                \n",
       "2002  1.100000e+13  938.7  29.950  9632030.0    288471.0    38132.08\n",
       "2007  1.450000e+13  938.7  31.320  9632030.0    301656.0    48068.00\n",
       "2012  1.620000e+13  938.7  32.020  9831510.0    314799.0    51461.41\n",
       "2014  1.705000e+13  938.7  32.375  9831510.0    318286.5    53545.26\n",
       "2015  1.790000e+13  938.7  32.730  9831510.0    321774.0    55629.11"
      ]
     },
     "execution_count": 84,
     "metadata": {},
     "output_type": "execute_result"
    }
   ],
   "source": [
    "df_us = df_us.interpolate()\n",
    "df_us.tail()"
   ]
  },
  {
   "cell_type": "code",
   "execution_count": 86,
   "metadata": {
    "collapsed": false
   },
   "outputs": [
    {
     "data": {
      "text/html": [
       "<div>\n",
       "<table border=\"1\" class=\"dataframe\">\n",
       "  <thead>\n",
       "    <tr style=\"text-align: right;\">\n",
       "      <th></th>\n",
       "      <th>GDP</th>\n",
       "      <th>NRI</th>\n",
       "      <th>PD</th>\n",
       "      <th>Area</th>\n",
       "      <th>Population</th>\n",
       "      <th>GDP/capita</th>\n",
       "    </tr>\n",
       "    <tr>\n",
       "      <th>Year</th>\n",
       "      <th></th>\n",
       "      <th></th>\n",
       "      <th></th>\n",
       "      <th></th>\n",
       "      <th></th>\n",
       "      <th></th>\n",
       "    </tr>\n",
       "  </thead>\n",
       "  <tbody>\n",
       "    <tr>\n",
       "      <th>1984</th>\n",
       "      <td>4.105000e+12</td>\n",
       "      <td>974.60</td>\n",
       "      <td>24.895</td>\n",
       "      <td>9629090.0</td>\n",
       "      <td>239689.5</td>\n",
       "      <td>17059.72</td>\n",
       "    </tr>\n",
       "    <tr>\n",
       "      <th>1987</th>\n",
       "      <td>4.870000e+12</td>\n",
       "      <td>997.30</td>\n",
       "      <td>25.490</td>\n",
       "      <td>9629090.0</td>\n",
       "      <td>245425.0</td>\n",
       "      <td>19843.13</td>\n",
       "    </tr>\n",
       "    <tr>\n",
       "      <th>1992</th>\n",
       "      <td>6.540000e+12</td>\n",
       "      <td>1020.00</td>\n",
       "      <td>26.780</td>\n",
       "      <td>9629090.0</td>\n",
       "      <td>257908.0</td>\n",
       "      <td>25357.88</td>\n",
       "    </tr>\n",
       "    <tr>\n",
       "      <th>1996</th>\n",
       "      <td>7.575000e+12</td>\n",
       "      <td>1005.00</td>\n",
       "      <td>27.560</td>\n",
       "      <td>9629090.0</td>\n",
       "      <td>265395.5</td>\n",
       "      <td>28454.93</td>\n",
       "    </tr>\n",
       "    <tr>\n",
       "      <th>1997</th>\n",
       "      <td>8.610000e+12</td>\n",
       "      <td>971.85</td>\n",
       "      <td>28.340</td>\n",
       "      <td>9629090.0</td>\n",
       "      <td>272883.0</td>\n",
       "      <td>31551.98</td>\n",
       "    </tr>\n",
       "    <tr>\n",
       "      <th>2002</th>\n",
       "      <td>1.100000e+13</td>\n",
       "      <td>938.70</td>\n",
       "      <td>29.950</td>\n",
       "      <td>9632030.0</td>\n",
       "      <td>288471.0</td>\n",
       "      <td>38132.08</td>\n",
       "    </tr>\n",
       "    <tr>\n",
       "      <th>2007</th>\n",
       "      <td>1.450000e+13</td>\n",
       "      <td>971.88</td>\n",
       "      <td>31.320</td>\n",
       "      <td>9632030.0</td>\n",
       "      <td>301656.0</td>\n",
       "      <td>48068.00</td>\n",
       "    </tr>\n",
       "    <tr>\n",
       "      <th>2012</th>\n",
       "      <td>1.620000e+13</td>\n",
       "      <td>971.88</td>\n",
       "      <td>32.020</td>\n",
       "      <td>9831510.0</td>\n",
       "      <td>314799.0</td>\n",
       "      <td>51461.41</td>\n",
       "    </tr>\n",
       "    <tr>\n",
       "      <th>2014</th>\n",
       "      <td>1.705000e+13</td>\n",
       "      <td>971.88</td>\n",
       "      <td>32.375</td>\n",
       "      <td>9831510.0</td>\n",
       "      <td>318286.5</td>\n",
       "      <td>53545.26</td>\n",
       "    </tr>\n",
       "    <tr>\n",
       "      <th>2015</th>\n",
       "      <td>1.790000e+13</td>\n",
       "      <td>971.88</td>\n",
       "      <td>32.730</td>\n",
       "      <td>9831510.0</td>\n",
       "      <td>321774.0</td>\n",
       "      <td>55629.11</td>\n",
       "    </tr>\n",
       "  </tbody>\n",
       "</table>\n",
       "</div>"
      ],
      "text/plain": [
       "               GDP      NRI      PD       Area  Population  GDP/capita\n",
       "Year                                                                  \n",
       "1984  4.105000e+12   974.60  24.895  9629090.0    239689.5    17059.72\n",
       "1987  4.870000e+12   997.30  25.490  9629090.0    245425.0    19843.13\n",
       "1992  6.540000e+12  1020.00  26.780  9629090.0    257908.0    25357.88\n",
       "1996  7.575000e+12  1005.00  27.560  9629090.0    265395.5    28454.93\n",
       "1997  8.610000e+12   971.85  28.340  9629090.0    272883.0    31551.98\n",
       "2002  1.100000e+13   938.70  29.950  9632030.0    288471.0    38132.08\n",
       "2007  1.450000e+13   971.88  31.320  9632030.0    301656.0    48068.00\n",
       "2012  1.620000e+13   971.88  32.020  9831510.0    314799.0    51461.41\n",
       "2014  1.705000e+13   971.88  32.375  9831510.0    318286.5    53545.26\n",
       "2015  1.790000e+13   971.88  32.730  9831510.0    321774.0    55629.11"
      ]
     },
     "execution_count": 86,
     "metadata": {},
     "output_type": "execute_result"
    }
   ],
   "source": [
    "#Since we weren't supposed to change the 'NaN' values in 'NRI' for the last four rows from part 5, we'll replace those\n",
    "#values with the average of the column minus the last four rows instead.\n",
    "import math as math\n",
    "mean = df_us.iloc[0:15]['NRI'].mean()\n",
    "mean = round(mean, 2)\n",
    "df_us.set_value([2007, 2012, 2014, 2015], 'NRI', mean)\n",
    "df_us.tail(10)"
   ]
  },
  {
   "cell_type": "markdown",
   "metadata": {},
   "source": [
    "## Extra Credit 1: Simple plotting\n",
    "\n",
    "* 1: Fill NaN value for column 'Area' in 2015 with the same value as it was in 2014.\n",
    "\n",
    "\n",
    "* 2: Scatter plot NRI against year. Use `plt.scatter(x,y)` followed by `plt.show()`. Hint: Use `x=df_us.index.values` to access the 'Year' index values.\n",
    "\n",
    "\n",
    "* 3: Normalize all values in df_us. In order to do so use this formula on all columns: \n",
    "\n",
    "    `norm_value = (value - col_mean)/(max(col_value)-min(col_value))`. \n",
    "    \n",
    "    Where `value` is an arbitrary value stored in df_us, `col_mean` is the mean of the column that value belongs to, `max(col_value)` is the maximum value of the same column, and `min(col_value)` is the minimum value of that column. Store the results in a new df called `df_norm`.\n",
    "\n",
    "\n",
    "\n",
    "**`df_norm.head()` should print:**\n",
    "\n",
    "<img src=\"https://www.dropbox.com/s/io6vru0u2qcasga/hw3.dfnorm_head.png?dl=1\" width=\"600\" height=\"200\" />\n",
    "\n",
    "\n",
    "\n",
    "\n",
    "## Extra Credit 1 (continued): Line plot\n",
    "* **4:** Line plot all the column values in df_norm. The values of df_norm should be plotted on the y-axis and the indices 'Years' should be plotted on the x-axis (try using pandas method `df_norm.plot()` followed by `plt.show()`). What can you say about the results, can you find some kind of correlation between the column values?"
   ]
  },
  {
   "cell_type": "markdown",
   "metadata": {},
   "source": [
    "# Extra credit 2: Pivot Table\n",
    "\n",
    "** Note! For this question, reuse the original `df` DataFrame object created in Q2 **\n",
    "\n",
    "* 1: A pivot table is a multiindexed table, as you can see below. The two indices are 'Country' and 'Year'. Use pandas method **`pivot_table`** on your DataFrame, and specify the multi-level `index=['Area','Year']` and `columns='Variable Name'`. See [http://pandas.pydata.org/pandas-docs/stable/10min.html#pivot-tables](http://pandas.pydata.org/pandas-docs/stable/10min.html#pivot-tables)       (**Note:** Don't assign the argument `values=**arg**`, anything). Store the pivot table as `df`.\n",
    "\n",
    "\n",
    "* 2: Drop the 'Value' index-level of the pivoted DataFrame by running `df = df.xs('Value', axis=1, drop_level=True)`\n",
    "\n",
    "\n",
    "* 3: Rename the 'Area' column indicating country name to 'Country' using: `df.index.rename(names=['Country','Year'],inplace=True)`\n",
    "\n",
    "* 4: Rename the index 'United States of America' to 'USA'. (Hint: Try using the `df.rename(index={**key:value**},inplace=True)` method)\n",
    "\n",
    "\n",
    "** And as in the US example: **\n",
    "\n",
    "\n",
    "* 5: Rename the columns to `['GDP','NRI','PD','Area','Population']`.\n",
    "\n",
    "* 6: Multiply the Area for all countries by 10 (so instead of 10 ha, the unit becomes 100 ha = 1km^2)\n",
    "\n",
    "\n",
    "Print `df.tail()`, it should look like:\n",
    "\n",
    "<img src=\"https://www.dropbox.com/s/nckchy6bvtczsrs/h3.1.df_tail_2.png?dl=1&1\" width=\"600\" height=\"200\" />"
   ]
  }
 ],
 "metadata": {
  "anaconda-cloud": {},
  "kernelspec": {
   "display_name": "Python [default]",
   "language": "python",
   "name": "python3"
  },
  "language_info": {
   "codemirror_mode": {
    "name": "ipython",
    "version": 3
   },
   "file_extension": ".py",
   "mimetype": "text/x-python",
   "name": "python",
   "nbconvert_exporter": "python",
   "pygments_lexer": "ipython3",
   "version": "3.5.2"
  }
 },
 "nbformat": 4,
 "nbformat_minor": 1
}
