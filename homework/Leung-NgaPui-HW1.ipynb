{
 "cells": [
  {
   "cell_type": "markdown",
   "metadata": {},
   "source": [
    "## Data-X (IEOR 190D/290): HW 1\n",
    "### Nga Pui Leung\n",
    "#### SID: 25237110"
   ]
  },
  {
   "cell_type": "markdown",
   "metadata": {},
   "source": [
    "## Problem 1\n",
    "\n",
    "1. Create an empty Python list called a\n",
    "2. In a store all numbers between 2-46 with 0.5 increment bands (without using NumPy)\n",
    "    Hint: do you know what this line does? If not try it? a = [ x*2 for x in range(10,20)]\n",
    "3. Double every even integer element of a(i.e., 2.0, 4.0, 6.0 etc). Store the results in a.\n",
    "4. Add all numbers in a (except for the 32nd and the 51st element).\n",
    "5. Calculate the mean of a.\n",
    "6. Create a new list called a_half, containing all the .5 (half-numbers) in a.\n",
    "7. Sort aso that all integers (i.e. 2.0, 3.0 etc.)  are stored before the half-numbers (i.e. 2.5, 3.5, 4.5 etc.). The elements should also be stored in increasing order from low to high for the integer and the half-number parts of the list. Store the results in a.\n",
    "8. Print every fourth element (starting with index 0, 4 etc) of a, and also print the number of integers and half-numbers."
   ]
  },
  {
   "cell_type": "code",
   "execution_count": 1,
   "metadata": {
    "collapsed": true
   },
   "outputs": [],
   "source": [
    "#Create an empty Python lists called \"a\".\n",
    "a = []"
   ]
  },
  {
   "cell_type": "code",
   "execution_count": 175,
   "metadata": {
    "collapsed": false
   },
   "outputs": [
    {
     "data": {
      "text/plain": [
       "[2.0,\n",
       " 2.5,\n",
       " 3.0,\n",
       " 3.5,\n",
       " 4.0,\n",
       " 4.5,\n",
       " 5.0,\n",
       " 5.5,\n",
       " 6.0,\n",
       " 6.5,\n",
       " 7.0,\n",
       " 7.5,\n",
       " 8.0,\n",
       " 8.5,\n",
       " 9.0,\n",
       " 9.5,\n",
       " 10.0,\n",
       " 10.5,\n",
       " 11.0,\n",
       " 11.5,\n",
       " 12.0,\n",
       " 12.5,\n",
       " 13.0,\n",
       " 13.5,\n",
       " 14.0,\n",
       " 14.5,\n",
       " 15.0,\n",
       " 15.5,\n",
       " 16.0,\n",
       " 16.5,\n",
       " 17.0,\n",
       " 17.5,\n",
       " 18.0,\n",
       " 18.5,\n",
       " 19.0,\n",
       " 19.5,\n",
       " 20.0,\n",
       " 20.5,\n",
       " 21.0,\n",
       " 21.5,\n",
       " 22.0,\n",
       " 22.5,\n",
       " 23.0,\n",
       " 23.5,\n",
       " 24.0,\n",
       " 24.5,\n",
       " 25.0,\n",
       " 25.5,\n",
       " 26.0,\n",
       " 26.5,\n",
       " 27.0,\n",
       " 27.5,\n",
       " 28.0,\n",
       " 28.5,\n",
       " 29.0,\n",
       " 29.5,\n",
       " 30.0,\n",
       " 30.5,\n",
       " 31.0,\n",
       " 31.5,\n",
       " 32.0,\n",
       " 32.5,\n",
       " 33.0,\n",
       " 33.5,\n",
       " 34.0,\n",
       " 34.5,\n",
       " 35.0,\n",
       " 35.5,\n",
       " 36.0,\n",
       " 36.5,\n",
       " 37.0,\n",
       " 37.5,\n",
       " 38.0,\n",
       " 38.5,\n",
       " 39.0,\n",
       " 39.5,\n",
       " 40.0,\n",
       " 40.5,\n",
       " 41.0,\n",
       " 41.5,\n",
       " 42.0,\n",
       " 42.5,\n",
       " 43.0,\n",
       " 43.5,\n",
       " 44.0,\n",
       " 44.5,\n",
       " 45.0,\n",
       " 45.5,\n",
       " 46.0]"
      ]
     },
     "execution_count": 175,
     "metadata": {},
     "output_type": "execute_result"
    }
   ],
   "source": [
    "#In \"a\" store all numbers between 2-46 with 0.5 increment bands (without using NumPy)\n",
    "a = [x*0.5 for x in range(4, 93)]\n",
    "a"
   ]
  },
  {
   "cell_type": "code",
   "execution_count": 176,
   "metadata": {
    "collapsed": false
   },
   "outputs": [
    {
     "data": {
      "text/plain": [
       "[4.0,\n",
       " 2.5,\n",
       " 3.0,\n",
       " 3.5,\n",
       " 8.0,\n",
       " 4.5,\n",
       " 5.0,\n",
       " 5.5,\n",
       " 12.0,\n",
       " 6.5,\n",
       " 7.0,\n",
       " 7.5,\n",
       " 16.0,\n",
       " 8.5,\n",
       " 9.0,\n",
       " 9.5,\n",
       " 20.0,\n",
       " 10.5,\n",
       " 11.0,\n",
       " 11.5,\n",
       " 24.0,\n",
       " 12.5,\n",
       " 13.0,\n",
       " 13.5,\n",
       " 28.0,\n",
       " 14.5,\n",
       " 15.0,\n",
       " 15.5,\n",
       " 32.0,\n",
       " 16.5,\n",
       " 17.0,\n",
       " 17.5,\n",
       " 36.0,\n",
       " 18.5,\n",
       " 19.0,\n",
       " 19.5,\n",
       " 40.0,\n",
       " 20.5,\n",
       " 21.0,\n",
       " 21.5,\n",
       " 44.0,\n",
       " 22.5,\n",
       " 23.0,\n",
       " 23.5,\n",
       " 48.0,\n",
       " 24.5,\n",
       " 25.0,\n",
       " 25.5,\n",
       " 52.0,\n",
       " 26.5,\n",
       " 27.0,\n",
       " 27.5,\n",
       " 56.0,\n",
       " 28.5,\n",
       " 29.0,\n",
       " 29.5,\n",
       " 60.0,\n",
       " 30.5,\n",
       " 31.0,\n",
       " 31.5,\n",
       " 64.0,\n",
       " 32.5,\n",
       " 33.0,\n",
       " 33.5,\n",
       " 68.0,\n",
       " 34.5,\n",
       " 35.0,\n",
       " 35.5,\n",
       " 72.0,\n",
       " 36.5,\n",
       " 37.0,\n",
       " 37.5,\n",
       " 76.0,\n",
       " 38.5,\n",
       " 39.0,\n",
       " 39.5,\n",
       " 80.0,\n",
       " 40.5,\n",
       " 41.0,\n",
       " 41.5,\n",
       " 84.0,\n",
       " 42.5,\n",
       " 43.0,\n",
       " 43.5,\n",
       " 88.0,\n",
       " 44.5,\n",
       " 45.0,\n",
       " 45.5,\n",
       " 92.0]"
      ]
     },
     "execution_count": 176,
     "metadata": {},
     "output_type": "execute_result"
    }
   ],
   "source": [
    "#Double every even integer element of \"a\" (i.e., 2.0, 4.0, 6.0 etc). Store the results in \"a\".\n",
    "a = [x*2 if x%2 == 0 else x for x in a]\n",
    "a"
   ]
  },
  {
   "cell_type": "code",
   "execution_count": 177,
   "metadata": {
    "collapsed": false
   },
   "outputs": [
    {
     "data": {
      "text/plain": [
       "2641.0"
      ]
     },
     "execution_count": 177,
     "metadata": {},
     "output_type": "execute_result"
    }
   ],
   "source": [
    "#Add all numbers in \"a\" (except for the 32nd and the 51st element).\n",
    "sum(a)-a[33]-a[53]"
   ]
  },
  {
   "cell_type": "code",
   "execution_count": 178,
   "metadata": {
    "collapsed": false
   },
   "outputs": [
    {
     "data": {
      "text/plain": [
       "30.202247191011235"
      ]
     },
     "execution_count": 178,
     "metadata": {},
     "output_type": "execute_result"
    }
   ],
   "source": [
    "#Calculate the mean of \"a\".\n",
    "sum(a)/len(a)"
   ]
  },
  {
   "cell_type": "code",
   "execution_count": 179,
   "metadata": {
    "collapsed": false
   },
   "outputs": [
    {
     "data": {
      "text/plain": [
       "[2.5,\n",
       " 3.5,\n",
       " 4.5,\n",
       " 5.5,\n",
       " 6.5,\n",
       " 7.5,\n",
       " 8.5,\n",
       " 9.5,\n",
       " 10.5,\n",
       " 11.5,\n",
       " 12.5,\n",
       " 13.5,\n",
       " 14.5,\n",
       " 15.5,\n",
       " 16.5,\n",
       " 17.5,\n",
       " 18.5,\n",
       " 19.5,\n",
       " 20.5,\n",
       " 21.5,\n",
       " 22.5,\n",
       " 23.5,\n",
       " 24.5,\n",
       " 25.5,\n",
       " 26.5,\n",
       " 27.5,\n",
       " 28.5,\n",
       " 29.5,\n",
       " 30.5,\n",
       " 31.5,\n",
       " 32.5,\n",
       " 33.5,\n",
       " 34.5,\n",
       " 35.5,\n",
       " 36.5,\n",
       " 37.5,\n",
       " 38.5,\n",
       " 39.5,\n",
       " 40.5,\n",
       " 41.5,\n",
       " 42.5,\n",
       " 43.5,\n",
       " 44.5,\n",
       " 45.5]"
      ]
     },
     "execution_count": 179,
     "metadata": {},
     "output_type": "execute_result"
    }
   ],
   "source": [
    "#Create a new list called a_half, containing all the .5 (half-numbers) in \"a\".\n",
    "a_half = [num for num in a if num % 1 != 0]\n",
    "a_half"
   ]
  },
  {
   "cell_type": "code",
   "execution_count": 182,
   "metadata": {
    "collapsed": false
   },
   "outputs": [
    {
     "data": {
      "text/plain": [
       "[3.0,\n",
       " 4.0,\n",
       " 5.0,\n",
       " 7.0,\n",
       " 8.0,\n",
       " 9.0,\n",
       " 11.0,\n",
       " 12.0,\n",
       " 13.0,\n",
       " 15.0,\n",
       " 16.0,\n",
       " 17.0,\n",
       " 19.0,\n",
       " 20.0,\n",
       " 21.0,\n",
       " 23.0,\n",
       " 24.0,\n",
       " 25.0,\n",
       " 27.0,\n",
       " 28.0,\n",
       " 29.0,\n",
       " 31.0,\n",
       " 32.0,\n",
       " 33.0,\n",
       " 35.0,\n",
       " 36.0,\n",
       " 37.0,\n",
       " 39.0,\n",
       " 40.0,\n",
       " 41.0,\n",
       " 43.0,\n",
       " 44.0,\n",
       " 45.0,\n",
       " 48.0,\n",
       " 52.0,\n",
       " 56.0,\n",
       " 60.0,\n",
       " 64.0,\n",
       " 68.0,\n",
       " 72.0,\n",
       " 76.0,\n",
       " 80.0,\n",
       " 84.0,\n",
       " 88.0,\n",
       " 92.0,\n",
       " 2.5,\n",
       " 3.5,\n",
       " 4.5,\n",
       " 5.5,\n",
       " 6.5,\n",
       " 7.5,\n",
       " 8.5,\n",
       " 9.5,\n",
       " 10.5,\n",
       " 11.5,\n",
       " 12.5,\n",
       " 13.5,\n",
       " 14.5,\n",
       " 15.5,\n",
       " 16.5,\n",
       " 17.5,\n",
       " 18.5,\n",
       " 19.5,\n",
       " 20.5,\n",
       " 21.5,\n",
       " 22.5,\n",
       " 23.5,\n",
       " 24.5,\n",
       " 25.5,\n",
       " 26.5,\n",
       " 27.5,\n",
       " 28.5,\n",
       " 29.5,\n",
       " 30.5,\n",
       " 31.5,\n",
       " 32.5,\n",
       " 33.5,\n",
       " 34.5,\n",
       " 35.5,\n",
       " 36.5,\n",
       " 37.5,\n",
       " 38.5,\n",
       " 39.5,\n",
       " 40.5,\n",
       " 41.5,\n",
       " 42.5,\n",
       " 43.5,\n",
       " 44.5,\n",
       " 45.5]"
      ]
     },
     "execution_count": 182,
     "metadata": {},
     "output_type": "execute_result"
    }
   ],
   "source": [
    "#Sort \"a\" so that all integers (i.e. 2.0, 3.0 etc.) are stored before the half-numbers (i.e. 2.5, 3.5, 4.5 etc.).\n",
    "#The elements should also be stored in increasing order from low to high for the integer and the half-number\n",
    "#parts of the list. Store the results in \"a\".\n",
    "just_int = [i for i in a + a_half if (i not in a) or (i not in a_half)]\n",
    "a = sorted(just_int) + sorted(a_half)\n",
    "a"
   ]
  },
  {
   "cell_type": "code",
   "execution_count": 185,
   "metadata": {
    "collapsed": false
   },
   "outputs": [
    {
     "data": {
      "text/plain": [
       "[3.0,\n",
       " 8.0,\n",
       " 13.0,\n",
       " 19.0,\n",
       " 24.0,\n",
       " 29.0,\n",
       " 35.0,\n",
       " 40.0,\n",
       " 45.0,\n",
       " 60.0,\n",
       " 76.0,\n",
       " 92.0,\n",
       " 5.5,\n",
       " 9.5,\n",
       " 13.5,\n",
       " 17.5,\n",
       " 21.5,\n",
       " 25.5,\n",
       " 29.5,\n",
       " 33.5,\n",
       " 37.5,\n",
       " 41.5,\n",
       " 45.5]"
      ]
     },
     "execution_count": 185,
     "metadata": {},
     "output_type": "execute_result"
    }
   ],
   "source": [
    "#Print every 4th element (starting with index 0, 4 etc) of \"a\", and also print the number of integers and half-numbers.\n",
    "a[0::4]"
   ]
  },
  {
   "cell_type": "code",
   "execution_count": 186,
   "metadata": {
    "collapsed": false
   },
   "outputs": [
    {
     "data": {
      "text/plain": [
       "(45, 44)"
      ]
     },
     "execution_count": 186,
     "metadata": {},
     "output_type": "execute_result"
    }
   ],
   "source": [
    "num_int = len(a)-len(a_half)\n",
    "num_half = len(a_half)\n",
    "num_int, num_half"
   ]
  },
  {
   "cell_type": "markdown",
   "metadata": {},
   "source": [
    "## Problem 2\n",
    "\n",
    "1. Create an empty list called \"b\".\n",
    "2. In \"b\" store every word in the sentence ”I am so excited about Data-X. I feel it is important to be able to work with data. ” as an element of its own (Data-X is one word).\n",
    "3. Count the occurences of the lower-case letter ’e’ in the list \"b\".\n",
    "4. Replace every lower- or upper-case letter ’i’ in the list bwith a ’1’\n",
    "5. Append the string ”This is the end of the first HW\", to the list b, with every new word as an element of its own\n",
    "    It should look like this: ['1', 'am', 'so', 'exc1ted', 'about', 'Data-X.', '1', 'feel', '1t', '1s', '1mportant', 'to', 'be', 'able', 'to', 'work', 'with', 'data', 'This', 'is', 'the, 'end, 'of, 'the', 'first', 'HW']\n",
    "6. Print \"b\", as ONE string backwards (starting with ”WH tsrif eht ...”)"
   ]
  },
  {
   "cell_type": "code",
   "execution_count": 187,
   "metadata": {
    "collapsed": true
   },
   "outputs": [],
   "source": [
    "#Create an empty list called \"b\".\n",
    "b = []"
   ]
  },
  {
   "cell_type": "code",
   "execution_count": 188,
   "metadata": {
    "collapsed": false
   },
   "outputs": [
    {
     "data": {
      "text/plain": [
       "['I',\n",
       " 'am',\n",
       " 'so',\n",
       " 'excited',\n",
       " 'about',\n",
       " 'Data-X',\n",
       " 'I',\n",
       " 'feel',\n",
       " 'it',\n",
       " 'is',\n",
       " 'important',\n",
       " 'to',\n",
       " 'be',\n",
       " 'able',\n",
       " 'to',\n",
       " 'work',\n",
       " 'with',\n",
       " 'data']"
      ]
     },
     "execution_count": 188,
     "metadata": {},
     "output_type": "execute_result"
    }
   ],
   "source": [
    "#In \"b\" store every word in the sentence ”I am so excited about Data-X. I feel it is important to be able\n",
    "#to work with data. ” as an element of its own (Data-X is one word).\n",
    "string = \"I am so excited about Data-X. I feel it is important to be able to work with data.\"\n",
    "b = string.replace('.', '').split()\n",
    "b"
   ]
  },
  {
   "cell_type": "code",
   "execution_count": 189,
   "metadata": {
    "collapsed": false
   },
   "outputs": [
    {
     "data": {
      "text/plain": [
       "6"
      ]
     },
     "execution_count": 189,
     "metadata": {},
     "output_type": "execute_result"
    }
   ],
   "source": [
    "#Count the occurences of the lower-case letter ’e’ in the list \"b\".\n",
    "count = 0\n",
    "for word in b:\n",
    "    for letter in word:\n",
    "        if letter == 'e':\n",
    "            count += 1\n",
    "        \n",
    "count"
   ]
  },
  {
   "cell_type": "code",
   "execution_count": 190,
   "metadata": {
    "collapsed": false
   },
   "outputs": [
    {
     "data": {
      "text/plain": [
       "['1',\n",
       " 'am',\n",
       " 'so',\n",
       " 'exc1ted',\n",
       " 'about',\n",
       " 'Data-X',\n",
       " '1',\n",
       " 'feel',\n",
       " '1t',\n",
       " '1s',\n",
       " '1mportant',\n",
       " 'to',\n",
       " 'be',\n",
       " 'able',\n",
       " 'to',\n",
       " 'work',\n",
       " 'w1th',\n",
       " 'data']"
      ]
     },
     "execution_count": 190,
     "metadata": {},
     "output_type": "execute_result"
    }
   ],
   "source": [
    "#Replace every lower- or upper-case letter ’i’ in the list \"b\" with a ’1’.\n",
    "b = [word.replace('i', '1') for word in b]\n",
    "b = [word.replace('I', '1') for word in b]\n",
    "b"
   ]
  },
  {
   "cell_type": "code",
   "execution_count": 191,
   "metadata": {
    "collapsed": false
   },
   "outputs": [
    {
     "data": {
      "text/plain": [
       "['1',\n",
       " 'am',\n",
       " 'so',\n",
       " 'exc1ted',\n",
       " 'about',\n",
       " 'Data-X',\n",
       " '1',\n",
       " 'feel',\n",
       " '1t',\n",
       " '1s',\n",
       " '1mportant',\n",
       " 'to',\n",
       " 'be',\n",
       " 'able',\n",
       " 'to',\n",
       " 'work',\n",
       " 'w1th',\n",
       " 'data',\n",
       " 'This',\n",
       " 'is',\n",
       " 'the',\n",
       " 'end',\n",
       " 'of',\n",
       " 'the',\n",
       " 'first',\n",
       " 'HW']"
      ]
     },
     "execution_count": 191,
     "metadata": {},
     "output_type": "execute_result"
    }
   ],
   "source": [
    "#Append the string ”This is the end of the first HW\", to the list \"b\", with every new word as an element of its own.\n",
    "#It should look like this: ['1', 'am', 'so', 'exc1ted', 'about', 'Data-X.', '1', 'feel', '1t', '1s', '1mportant',\n",
    "#'to', 'be', 'able', 'to', 'work', 'with', 'data', 'This', 'is', 'the, 'end, 'of, 'the', 'first', 'HW']\n",
    "string2 = 'This is the end of the first HW'\n",
    "string2_list = string2.split()\n",
    "b = b + string2_list\n",
    "b"
   ]
  },
  {
   "cell_type": "code",
   "execution_count": 192,
   "metadata": {
    "collapsed": false
   },
   "outputs": [
    {
     "data": {
      "text/plain": [
       "'WH tsrif eht fo dne eht si sihT atad ht1w krow ot elba eb ot tnatropm1 s1 t1 leef 1 X-ataD tuoba det1cxe os ma 1'"
      ]
     },
     "execution_count": 192,
     "metadata": {},
     "output_type": "execute_result"
    }
   ],
   "source": [
    "#Print b, as ONE string backwards (starting with ”WH tsrif eht ...”)\n",
    "sentence = ' '.join(b)\n",
    "sentence[::-1]"
   ]
  }
 ],
 "metadata": {
  "anaconda-cloud": {},
  "kernelspec": {
   "display_name": "Python [default]",
   "language": "python",
   "name": "python3"
  },
  "language_info": {
   "codemirror_mode": {
    "name": "ipython",
    "version": 3
   },
   "file_extension": ".py",
   "mimetype": "text/x-python",
   "name": "python",
   "nbconvert_exporter": "python",
   "pygments_lexer": "ipython3",
   "version": "3.5.2"
  }
 },
 "nbformat": 4,
 "nbformat_minor": 1
}
